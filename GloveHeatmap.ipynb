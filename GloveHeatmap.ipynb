{
 "cells": [
  {
   "cell_type": "code",
   "execution_count": 49,
   "metadata": {},
   "outputs": [],
   "source": [
    "import pandas as pd\n",
    "from textblob import TextBlob\n",
    "import glob\n",
    "import re\n",
    "from nltk.corpus import stopwords\n",
    "from nltk.stem.wordnet import WordNetLemmatizer\n",
    "import sklearn\n",
    "from sklearn.metrics import accuracy_score\n",
    "from sklearn.metrics import roc_auc_score\n",
    "from sklearn.metrics import precision_score\n",
    "from sklearn.metrics import recall_score\n",
    "from sklearn.metrics import f1_score\n",
    "from sklearn.metrics import roc_curve\n",
    "from sklearn.model_selection import GridSearchCV\n",
    "from sklearn.pipeline import Pipeline\n",
    "import numpy as np\n",
    "import seaborn as sns\n",
    "from keras.preprocessing.text import Tokenizer\n",
    "from keras.preprocessing.sequence import pad_sequences\n",
    "\n",
    "from sklearn.feature_extraction.text import TfidfTransformer\n",
    "from sklearn.feature_extraction.text import CountVectorizer"
   ]
  },
  {
   "cell_type": "code",
   "execution_count": 50,
   "metadata": {},
   "outputs": [],
   "source": [
    "dataset_names={0:\"crisislex\",1:\"crisisnlp_crisismmd\",2:\"news_notNews\",3:\"Covid_WNUT\", 4:\"crisisnlp_Sandy_Japolin\", 5:\"crisisnlp_19Crisis\", 6:\"Karabakh\"}"
   ]
  },
  {
   "cell_type": "code",
   "execution_count": 52,
   "metadata": {},
   "outputs": [
    {
     "name": "stdout",
     "output_type": "stream",
     "text": [
      "./dataset_cleaning/dataset1Cleaned.pkl\n",
      "./dataset_cleaning/dataset2Cleaned.pkl\n",
      "./dataset_cleaning/dataset3Cleaned.pkl\n",
      "./dataset_cleaning/dataset4Cleaned.pkl\n",
      "./dataset_cleaning/dataset5Cleaned.pkl\n",
      "./dataset_cleaning/dataset6Cleaned.pkl\n",
      "./dataset_cleaning/dataset7Cleaned.pkl\n"
     ]
    }
   ],
   "source": [
    "all_files = glob.glob(\"./dataset_cleaning/*.pkl\")\n",
    "all_files.sort()\n",
    "datasets = []\n",
    "\n",
    "for filename in all_files:\n",
    "    print(filename)\n",
    "    df = pd.read_pickle(filename)\n",
    "    datasets.append(df)"
   ]
  },
  {
   "cell_type": "code",
   "execution_count": 53,
   "metadata": {},
   "outputs": [],
   "source": [
    "\n",
    "def text_processing(tweet):\n",
    "    \n",
    "    tweet= tweet.lower()\n",
    "    \n",
    "    #Removing hyperlinks from the tweet\n",
    "    tweet_no_links=re.sub(r'http\\S+', '', tweet)\n",
    "    \n",
    "    #Generating the list of words in the tweet (hashtags and other punctuations removed)\n",
    "    def form_sentence(tweet):\n",
    "        tweet_blob = TextBlob(tweet)\n",
    "        return ' '.join(tweet_blob.words)\n",
    "    new_tweet = form_sentence(tweet_no_links)\n",
    "    \n",
    "    #Removing stopwords and words with unusual symbols\n",
    "    def no_user_alpha(tweet):\n",
    "        tweet_list = [ele for ele in tweet.split() if ele != 'user']\n",
    "        clean_tokens = [t for t in tweet_list if re.match(r'[^\\W\\d]*$', t)]\n",
    "        clean_s = ' '.join(clean_tokens)\n",
    "        clean_mess = [word for word in clean_s.split() if word not in stopwords.words('english')]\n",
    "        return clean_mess\n",
    "    no_punc_tweet = no_user_alpha(new_tweet)\n",
    "    \n",
    "    #Normalizing the words in tweets \n",
    "    def normalization(tweet_list):\n",
    "        lem = WordNetLemmatizer()\n",
    "        normalized_tweet = []\n",
    "        for word in tweet_list:\n",
    "            normalized_text = lem.lemmatize(word,'v')\n",
    "            normalized_tweet.append(normalized_text)\n",
    "        return \" \".join(normalized_tweet)\n",
    "    \n",
    "    \n",
    "    return normalization(no_punc_tweet)"
   ]
  },
  {
   "cell_type": "code",
   "execution_count": 72,
   "metadata": {},
   "outputs": [
    {
     "name": "stdout",
     "output_type": "stream",
     "text": [
      "Processing dataset 1\n",
      "Processing dataset 2\n",
      "Processing dataset 3\n",
      "Processing dataset 4\n",
      "Processing dataset 5\n",
      "Processing dataset 6\n",
      "Processing dataset 7\n"
     ]
    }
   ],
   "source": [
    "for i,ds in enumerate(datasets):\n",
    "    print(\"Processing dataset {}\".format(i+1))\n",
    "    ds['text_processed']=ds['text'].apply(text_processing)"
   ]
  },
  {
   "cell_type": "code",
   "execution_count": 73,
   "metadata": {},
   "outputs": [],
   "source": [
    "df_merged = pd.concat(datasets)\n",
    "df_merged = df_merged.sample(frac=1).reset_index(drop=True)"
   ]
  },
  {
   "cell_type": "code",
   "execution_count": 74,
   "metadata": {},
   "outputs": [],
   "source": [
    "from sklearn.model_selection import train_test_split\n",
    "\n",
    "train_df_merged, test_df_merged= train_test_split(df_merged, test_size=0.3, random_state=42)"
   ]
  },
  {
   "cell_type": "code",
   "execution_count": 75,
   "metadata": {},
   "outputs": [
    {
     "data": {
      "text/html": [
       "<div>\n",
       "<style scoped>\n",
       "    .dataframe tbody tr th:only-of-type {\n",
       "        vertical-align: middle;\n",
       "    }\n",
       "\n",
       "    .dataframe tbody tr th {\n",
       "        vertical-align: top;\n",
       "    }\n",
       "\n",
       "    .dataframe thead th {\n",
       "        text-align: right;\n",
       "    }\n",
       "</style>\n",
       "<table border=\"1\" class=\"dataframe\">\n",
       "  <thead>\n",
       "    <tr style=\"text-align: right;\">\n",
       "      <th></th>\n",
       "      <th>id</th>\n",
       "      <th>Informativeness</th>\n",
       "      <th>text</th>\n",
       "      <th>positive_score</th>\n",
       "      <th>negative_score</th>\n",
       "      <th>emotional_devergence_score</th>\n",
       "      <th>text_processed</th>\n",
       "    </tr>\n",
       "  </thead>\n",
       "  <tbody>\n",
       "    <tr>\n",
       "      <th>43067</th>\n",
       "      <td>526475908056502273</td>\n",
       "      <td>0</td>\n",
       "      <td>#security #Job in #Roseville, MN: MACY'S IS HI...</td>\n",
       "      <td>2</td>\n",
       "      <td>-1</td>\n",
       "      <td>0.3</td>\n",
       "      <td>security job roseville mn macy hire seasonal l...</td>\n",
       "    </tr>\n",
       "    <tr>\n",
       "      <th>11196</th>\n",
       "      <td>391379645636935680</td>\n",
       "      <td>1</td>\n",
       "      <td>Fire activity has intensified around the area ...</td>\n",
       "      <td>1</td>\n",
       "      <td>-1</td>\n",
       "      <td>0.2</td>\n",
       "      <td>fire activity intensify around area bell darga...</td>\n",
       "    </tr>\n",
       "    <tr>\n",
       "      <th>2457</th>\n",
       "      <td>331397649028763648</td>\n",
       "      <td>0</td>\n",
       "      <td>56 leaders and members of #Hefajat-e-Islam hav...</td>\n",
       "      <td>1</td>\n",
       "      <td>-1</td>\n",
       "      <td>0.2</td>\n",
       "      <td>leaders members arrest dhaka bangladesh</td>\n",
       "    </tr>\n",
       "    <tr>\n",
       "      <th>55849</th>\n",
       "      <td>451560106023325696</td>\n",
       "      <td>1</td>\n",
       "      <td>And the tsunami warning horns have begun! #Chi...</td>\n",
       "      <td>2</td>\n",
       "      <td>-1</td>\n",
       "      <td>0.3</td>\n",
       "      <td>tsunami warn horn begin chileearthquake chile ...</td>\n",
       "    </tr>\n",
       "    <tr>\n",
       "      <th>34437</th>\n",
       "      <td>503663777321975808</td>\n",
       "      <td>1</td>\n",
       "      <td>VIDEO: People Describing The Napa Earthquake: ...</td>\n",
       "      <td>1</td>\n",
       "      <td>-1</td>\n",
       "      <td>0.2</td>\n",
       "      <td>video people describe napa earthquake northern...</td>\n",
       "    </tr>\n",
       "  </tbody>\n",
       "</table>\n",
       "</div>"
      ],
      "text/plain": [
       "                       id  Informativeness  \\\n",
       "43067  526475908056502273                0   \n",
       "11196  391379645636935680                1   \n",
       "2457   331397649028763648                0   \n",
       "55849  451560106023325696                1   \n",
       "34437  503663777321975808                1   \n",
       "\n",
       "                                                    text  positive_score  \\\n",
       "43067  #security #Job in #Roseville, MN: MACY'S IS HI...               2   \n",
       "11196  Fire activity has intensified around the area ...               1   \n",
       "2457   56 leaders and members of #Hefajat-e-Islam hav...               1   \n",
       "55849  And the tsunami warning horns have begun! #Chi...               2   \n",
       "34437  VIDEO: People Describing The Napa Earthquake: ...               1   \n",
       "\n",
       "       negative_score  emotional_devergence_score  \\\n",
       "43067              -1                         0.3   \n",
       "11196              -1                         0.2   \n",
       "2457               -1                         0.2   \n",
       "55849              -1                         0.3   \n",
       "34437              -1                         0.2   \n",
       "\n",
       "                                          text_processed  \n",
       "43067  security job roseville mn macy hire seasonal l...  \n",
       "11196  fire activity intensify around area bell darga...  \n",
       "2457             leaders members arrest dhaka bangladesh  \n",
       "55849  tsunami warn horn begin chileearthquake chile ...  \n",
       "34437  video people describe napa earthquake northern...  "
      ]
     },
     "execution_count": 75,
     "metadata": {},
     "output_type": "execute_result"
    }
   ],
   "source": [
    "train_df_merged.head()"
   ]
  },
  {
   "cell_type": "code",
   "execution_count": 64,
   "metadata": {},
   "outputs": [],
   "source": [
    "def create_embedding_matrix(filepath, word_index, embedding_dim):\n",
    "    vocab_size = len(word_index) + 1  # Adding again 1 because of reserved 0 index\n",
    "    embedding_matrix = np.zeros((vocab_size, embedding_dim))\n",
    "\n",
    "    with open(filepath) as f:\n",
    "        for line in f:\n",
    "            word, *vector = line.split()\n",
    "            if word in word_index:\n",
    "                idx = word_index[word] \n",
    "                embedding_matrix[idx] = np.array(\n",
    "                    vector, dtype=np.float32)[:embedding_dim]\n",
    "\n",
    "    return embedding_matrix"
   ]
  },
  {
   "cell_type": "code",
   "execution_count": 65,
   "metadata": {},
   "outputs": [],
   "source": [
    "from keras.models import Sequential\n",
    "from keras import layers\n",
    "import keras\n",
    "\n",
    "def create_keras_model(vocab_size, embedding_dim, embedding_matrix, maxlen):\n",
    "    model = Sequential()\n",
    "    model.add(layers.Embedding(vocab_size, embedding_dim, \n",
    "                               weights=[embedding_matrix], \n",
    "                               input_length=maxlen, \n",
    "                               trainable=False))\n",
    "\n",
    "    model.add(layers.GlobalMaxPool1D())\n",
    "    model.add(layers.Dense(10, activation='relu'))\n",
    "    model.add(layers.Dense(1, activation='sigmoid'))\n",
    "    model.compile(optimizer='adam',\n",
    "                  loss='binary_crossentropy',\n",
    "                  metrics=[keras.metrics.AUC()])\n",
    "    return model"
   ]
  },
  {
   "cell_type": "code",
   "execution_count": 66,
   "metadata": {},
   "outputs": [],
   "source": [
    "results_bak =results"
   ]
  },
  {
   "cell_type": "code",
   "execution_count": 76,
   "metadata": {},
   "outputs": [
    {
     "name": "stdout",
     "output_type": "stream",
     "text": [
      "Training on Dataset 1\n",
      "Creating embedding matrix\n",
      "Testing on Dataset 1\n"
     ]
    }
   ],
   "source": [
    "embedding_dim = 300\n",
    "\n",
    "results=[]\n",
    "for i,train_df in enumerate([train_df_merged]):\n",
    "\n",
    "    print(\"Training on Dataset {}\".format(i+1))\n",
    "    row=[]\n",
    "    \n",
    "    sentences_train = train_df['text_processed'].values\n",
    "    y_train = train_df['Informativeness'].values\n",
    "    \n",
    "    tokenizer = Tokenizer()\n",
    "    tokenizer.fit_on_texts(sentences_train)\n",
    "\n",
    "    X_train = tokenizer.texts_to_sequences(sentences_train)\n",
    "    \n",
    "    vocab_size = len(tokenizer.word_index) + 1  # Adding 1 because of reserved 0 index\n",
    "    \n",
    "    maxlen = len(max(X_train, key=len)) #length of the longest sentance\n",
    "\n",
    "    X_train = pad_sequences(X_train, padding='post', maxlen=maxlen)\n",
    "    \n",
    "    print(\"Creating embedding matrix\")\n",
    "    embedding_matrix = create_embedding_matrix('glove_data/glove.6B.300d.txt',tokenizer.word_index, embedding_dim)\n",
    "    \n",
    "    model=create_keras_model(vocab_size, embedding_dim, embedding_matrix, maxlen)\n",
    "    \n",
    "    \n",
    "    for j,test_df in enumerate([test_df_merged]):\n",
    "\n",
    "        print(\"Testing on Dataset {}\".format(j+1))\n",
    "        sentences_test = test_df['text_processed'].values\n",
    "        y_test = test_df['Informativeness'].values\n",
    "        \n",
    "        X_test = tokenizer.texts_to_sequences(sentences_test)\n",
    "        X_test = pad_sequences(X_test, padding='post', maxlen=maxlen)\n",
    "        \n",
    "        history = model.fit(X_train, y_train, epochs=30, verbose=0, validation_data=(X_test, y_test),batch_size=10)\n",
    "        \n",
    "        y_pred_prob = model.predict(X_test)\n",
    "        \n",
    "        row.append(roc_auc_score(y_test, y_pred_prob))\n",
    "    results.append(row)\n",
    "    \n",
    "    "
   ]
  },
  {
   "cell_type": "code",
   "execution_count": 85,
   "metadata": {},
   "outputs": [
    {
     "data": {
      "text/html": [
       "<div>\n",
       "<style scoped>\n",
       "    .dataframe tbody tr th:only-of-type {\n",
       "        vertical-align: middle;\n",
       "    }\n",
       "\n",
       "    .dataframe tbody tr th {\n",
       "        vertical-align: top;\n",
       "    }\n",
       "\n",
       "    .dataframe thead th {\n",
       "        text-align: right;\n",
       "    }\n",
       "</style>\n",
       "<table border=\"1\" class=\"dataframe\">\n",
       "  <thead>\n",
       "    <tr style=\"text-align: right;\">\n",
       "      <th></th>\n",
       "      <th>id</th>\n",
       "      <th>Informativeness</th>\n",
       "      <th>text</th>\n",
       "      <th>positive_score</th>\n",
       "      <th>negative_score</th>\n",
       "      <th>emotional_devergence_score</th>\n",
       "      <th>text_processed</th>\n",
       "    </tr>\n",
       "  </thead>\n",
       "  <tbody>\n",
       "    <tr>\n",
       "      <th>43067</th>\n",
       "      <td>526475908056502273</td>\n",
       "      <td>0</td>\n",
       "      <td>#security #Job in #Roseville, MN: MACY'S IS HI...</td>\n",
       "      <td>2</td>\n",
       "      <td>-1</td>\n",
       "      <td>0.3</td>\n",
       "      <td>security job roseville mn macy hire seasonal l...</td>\n",
       "    </tr>\n",
       "    <tr>\n",
       "      <th>11196</th>\n",
       "      <td>391379645636935680</td>\n",
       "      <td>1</td>\n",
       "      <td>Fire activity has intensified around the area ...</td>\n",
       "      <td>1</td>\n",
       "      <td>-1</td>\n",
       "      <td>0.2</td>\n",
       "      <td>fire activity intensify around area bell darga...</td>\n",
       "    </tr>\n",
       "    <tr>\n",
       "      <th>2457</th>\n",
       "      <td>331397649028763648</td>\n",
       "      <td>0</td>\n",
       "      <td>56 leaders and members of #Hefajat-e-Islam hav...</td>\n",
       "      <td>1</td>\n",
       "      <td>-1</td>\n",
       "      <td>0.2</td>\n",
       "      <td>leaders members arrest dhaka bangladesh</td>\n",
       "    </tr>\n",
       "    <tr>\n",
       "      <th>55849</th>\n",
       "      <td>451560106023325696</td>\n",
       "      <td>1</td>\n",
       "      <td>And the tsunami warning horns have begun! #Chi...</td>\n",
       "      <td>2</td>\n",
       "      <td>-1</td>\n",
       "      <td>0.3</td>\n",
       "      <td>tsunami warn horn begin chileearthquake chile ...</td>\n",
       "    </tr>\n",
       "    <tr>\n",
       "      <th>34437</th>\n",
       "      <td>503663777321975808</td>\n",
       "      <td>1</td>\n",
       "      <td>VIDEO: People Describing The Napa Earthquake: ...</td>\n",
       "      <td>1</td>\n",
       "      <td>-1</td>\n",
       "      <td>0.2</td>\n",
       "      <td>video people describe napa earthquake northern...</td>\n",
       "    </tr>\n",
       "    <tr>\n",
       "      <th>...</th>\n",
       "      <td>...</td>\n",
       "      <td>...</td>\n",
       "      <td>...</td>\n",
       "      <td>...</td>\n",
       "      <td>...</td>\n",
       "      <td>...</td>\n",
       "      <td>...</td>\n",
       "    </tr>\n",
       "    <tr>\n",
       "      <th>62570</th>\n",
       "      <td>243417254748893184</td>\n",
       "      <td>1</td>\n",
       "      <td>#worldnews Powerful quake hits Costa Rica, two...</td>\n",
       "      <td>1</td>\n",
       "      <td>-3</td>\n",
       "      <td>0.4</td>\n",
       "      <td>worldnews powerful quake hit costa rica two de...</td>\n",
       "    </tr>\n",
       "    <tr>\n",
       "      <th>38158</th>\n",
       "      <td>468554005610639360</td>\n",
       "      <td>1</td>\n",
       "      <td>RT @OutFrontCNN: First U.S. transmission of ki...</td>\n",
       "      <td>1</td>\n",
       "      <td>-2</td>\n",
       "      <td>0.3</td>\n",
       "      <td>rt outfrontcnn first transmission killer virus...</td>\n",
       "    </tr>\n",
       "    <tr>\n",
       "      <th>860</th>\n",
       "      <td>348488701770354688</td>\n",
       "      <td>1</td>\n",
       "      <td>As Calgary copes w/ record flooding, studies p...</td>\n",
       "      <td>1</td>\n",
       "      <td>-2</td>\n",
       "      <td>0.3</td>\n",
       "      <td>calgary cop w record flood study point increas...</td>\n",
       "    </tr>\n",
       "    <tr>\n",
       "      <th>15795</th>\n",
       "      <td>384946800278257664</td>\n",
       "      <td>0</td>\n",
       "      <td>RT @GEMwrld: Can you guess what is this? It is...</td>\n",
       "      <td>1</td>\n",
       "      <td>-1</td>\n",
       "      <td>0.2</td>\n",
       "      <td>rt gemwrld guess puma amp sign andy warhol ear...</td>\n",
       "    </tr>\n",
       "    <tr>\n",
       "      <th>56422</th>\n",
       "      <td>913041944128966656</td>\n",
       "      <td>1</td>\n",
       "      <td>Episcopal Relief and Development - Hurricane M...</td>\n",
       "      <td>1</td>\n",
       "      <td>-1</td>\n",
       "      <td>0.2</td>\n",
       "      <td>episcopal relief development hurricane maria</td>\n",
       "    </tr>\n",
       "  </tbody>\n",
       "</table>\n",
       "<p>45829 rows × 7 columns</p>\n",
       "</div>"
      ],
      "text/plain": [
       "                       id  Informativeness  \\\n",
       "43067  526475908056502273                0   \n",
       "11196  391379645636935680                1   \n",
       "2457   331397649028763648                0   \n",
       "55849  451560106023325696                1   \n",
       "34437  503663777321975808                1   \n",
       "...                   ...              ...   \n",
       "62570  243417254748893184                1   \n",
       "38158  468554005610639360                1   \n",
       "860    348488701770354688                1   \n",
       "15795  384946800278257664                0   \n",
       "56422  913041944128966656                1   \n",
       "\n",
       "                                                    text  positive_score  \\\n",
       "43067  #security #Job in #Roseville, MN: MACY'S IS HI...               2   \n",
       "11196  Fire activity has intensified around the area ...               1   \n",
       "2457   56 leaders and members of #Hefajat-e-Islam hav...               1   \n",
       "55849  And the tsunami warning horns have begun! #Chi...               2   \n",
       "34437  VIDEO: People Describing The Napa Earthquake: ...               1   \n",
       "...                                                  ...             ...   \n",
       "62570  #worldnews Powerful quake hits Costa Rica, two...               1   \n",
       "38158  RT @OutFrontCNN: First U.S. transmission of ki...               1   \n",
       "860    As Calgary copes w/ record flooding, studies p...               1   \n",
       "15795  RT @GEMwrld: Can you guess what is this? It is...               1   \n",
       "56422  Episcopal Relief and Development - Hurricane M...               1   \n",
       "\n",
       "       negative_score  emotional_devergence_score  \\\n",
       "43067              -1                         0.3   \n",
       "11196              -1                         0.2   \n",
       "2457               -1                         0.2   \n",
       "55849              -1                         0.3   \n",
       "34437              -1                         0.2   \n",
       "...               ...                         ...   \n",
       "62570              -3                         0.4   \n",
       "38158              -2                         0.3   \n",
       "860                -2                         0.3   \n",
       "15795              -1                         0.2   \n",
       "56422              -1                         0.2   \n",
       "\n",
       "                                          text_processed  \n",
       "43067  security job roseville mn macy hire seasonal l...  \n",
       "11196  fire activity intensify around area bell darga...  \n",
       "2457             leaders members arrest dhaka bangladesh  \n",
       "55849  tsunami warn horn begin chileearthquake chile ...  \n",
       "34437  video people describe napa earthquake northern...  \n",
       "...                                                  ...  \n",
       "62570  worldnews powerful quake hit costa rica two de...  \n",
       "38158  rt outfrontcnn first transmission killer virus...  \n",
       "860    calgary cop w record flood study point increas...  \n",
       "15795  rt gemwrld guess puma amp sign andy warhol ear...  \n",
       "56422       episcopal relief development hurricane maria  \n",
       "\n",
       "[45829 rows x 7 columns]"
      ]
     },
     "execution_count": 85,
     "metadata": {},
     "output_type": "execute_result"
    }
   ],
   "source": [
    "train_df_merged"
   ]
  },
  {
   "cell_type": "code",
   "execution_count": 82,
   "metadata": {},
   "outputs": [
    {
     "data": {
      "text/plain": [
       "0.8714062228402571"
      ]
     },
     "execution_count": 82,
     "metadata": {},
     "output_type": "execute_result"
    }
   ],
   "source": [
    "y_pred =(y_pred_prob > 0.5).astype(\"int32\")\n",
    "f1_score(y_test, y_pred)"
   ]
  },
  {
   "cell_type": "code",
   "execution_count": 78,
   "metadata": {},
   "outputs": [
    {
     "data": {
      "text/plain": [
       "[[0.860417456984544]]"
      ]
     },
     "execution_count": 78,
     "metadata": {},
     "output_type": "execute_result"
    }
   ],
   "source": [
    "results"
   ]
  },
  {
   "cell_type": "code",
   "execution_count": 83,
   "metadata": {},
   "outputs": [],
   "source": [
    "df = pd.DataFrame(results_bak[:-1])\n",
    "df.columns= map( lambda x: x,df.columns)\n",
    "df.index= map( lambda x: x,df.index)\n",
    "df = df.iloc[:,:-1]\n",
    "df.columns= map( lambda x: dataset_names[x],df.columns)\n",
    "df.index= map( lambda x: dataset_names[x],df.index)"
   ]
  },
  {
   "cell_type": "code",
   "execution_count": 84,
   "metadata": {},
   "outputs": [
    {
     "data": {
      "text/plain": [
       "Text(0.5, 1.0, 'Glove')"
      ]
     },
     "execution_count": 84,
     "metadata": {},
     "output_type": "execute_result"
    },
    {
     "data": {
      "image/png": "[encoded data removed]",
      "text/plain": [
       "<Figure size 432x288 with 2 Axes>"
      ]
     },
     "metadata": {
      "needs_background": "light"
     },
     "output_type": "display_data"
    }
   ],
   "source": [
    "import matplotlib.pyplot as plt\n",
    "sns.heatmap(df, annot=True,  vmax=1)\n",
    "plt.title(\"Glove\")"
   ]
  },
  {
   "cell_type": "code",
   "execution_count": 87,
   "metadata": {},
   "outputs": [
    {
     "data": {
      "text/plain": [
       "[[0.9277134891976089,\n",
       "  0.7291451263291326,\n",
       "  0.700152638046233,\n",
       "  0.5792738065711269,\n",
       "  0.7048463243087002,\n",
       "  0.7216943468540402,\n",
       "  0.6519293655984302],\n",
       " [0.7505459623237039,\n",
       "  0.898934242959338,\n",
       "  0.7123557961315238,\n",
       "  0.5211162046583064,\n",
       "  0.6251019687188875,\n",
       "  0.7803978422035752,\n",
       "  0.5487246566383257],\n",
       " [0.7478469207706381,\n",
       "  0.7090973649372121,\n",
       "  0.9822484557911945,\n",
       "  0.6174548055834933,\n",
       "  0.5853389857725535,\n",
       "  0.7319720076846394,\n",
       "  0.5858731196860694],\n",
       " [0.5596641347418482,\n",
       "  0.5056996667249245,\n",
       "  0.6074030823834027,\n",
       "  0.8777337836680357,\n",
       "  0.5736615602016892,\n",
       "  0.6311348634863486,\n",
       "  0.6328319162851536],\n",
       " [0.7779083631851252,\n",
       "  0.6376187907679389,\n",
       "  0.6376108100102034,\n",
       "  0.6164757565123884,\n",
       "  0.999926132896554,\n",
       "  0.709124190644871,\n",
       "  0.6083714846304775],\n",
       " [0.6931026287984292,\n",
       "  0.7746000498205056,\n",
       "  0.7072911752443853,\n",
       "  0.6224253329481686,\n",
       "  0.6284773741850531,\n",
       "  0.970610040842794,\n",
       "  0.5734466971877042],\n",
       " [0.6105016194872477,\n",
       "  0.5652707181987476,\n",
       "  0.6745693083699957,\n",
       "  0.5976306814620653,\n",
       "  0.6943058098082666,\n",
       "  0.610240326452,\n",
       "  0.9810333551340745]]"
      ]
     },
     "execution_count": 87,
     "metadata": {},
     "output_type": "execute_result"
    }
   ],
   "source": [
    "results_bak"
   ]
  },
  {
   "cell_type": "code",
   "execution_count": null,
   "metadata": {},
   "outputs": [],
   "source": []
  }
 ],
 "metadata": {
  "kernelspec": {
   "display_name": "Python 3",
   "language": "python",
   "name": "python3"
  },
  "language_info": {
   "codemirror_mode": {
    "name": "ipython",
    "version": 3
   },
   "file_extension": ".py",
   "mimetype": "text/x-python",
   "name": "python",
   "nbconvert_exporter": "python",
   "pygments_lexer": "ipython3",
   "version": "3.7.6"
  }
 },
 "nbformat": 4,
 "nbformat_minor": 4
}
