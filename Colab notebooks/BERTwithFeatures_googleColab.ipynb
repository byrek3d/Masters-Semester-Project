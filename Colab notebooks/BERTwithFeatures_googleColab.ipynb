{
  "nbformat": 4,
  "nbformat_minor": 0,
  "metadata": {
    "colab": {
      "name": "BERTwithFeatures.ipynb",
      "provenance": [],
      "collapsed_sections": []
    },
    "kernelspec": {
      "name": "python3",
      "display_name": "Python 3"
    },
    "accelerator": "GPU"
  },
  "cells": [
    {
      "cell_type": "code",
      "metadata": {
        "id": "DB3sHHF9WgRP",
        "colab": {
          "base_uri": "https://localhost:8080/"
        },
        "outputId": "fe5483c4-cc8b-4750-d4fb-9da22b76bf81"
      },
      "source": [
        "!pip install -U sentence-transformers"
      ],
      "execution_count": null,
      "outputs": [
        {
          "output_type": "stream",
          "text": [
            "Collecting sentence-transformers\n",
            "\u001b[?25l  Downloading https://files.pythonhosted.org/packages/6a/e2/84d6acfcee2d83164149778a33b6bdd1a74e1bcb59b2b2cd1b861359b339/sentence-transformers-0.4.1.2.tar.gz (64kB)\n",
            "\u001b[K     |████████████████████████████████| 71kB 9.8MB/s \n",
            "\u001b[?25hCollecting transformers<5.0.0,>=3.1.0\n",
            "\u001b[?25l  Downloading https://files.pythonhosted.org/packages/88/b1/41130a228dd656a1a31ba281598a968320283f48d42782845f6ba567f00b/transformers-4.2.2-py3-none-any.whl (1.8MB)\n",
            "\u001b[K     |████████████████████████████████| 1.8MB 22.3MB/s \n",
            "\u001b[?25hRequirement already satisfied, skipping upgrade: tqdm in /usr/local/lib/python3.6/dist-packages (from sentence-transformers) (4.41.1)\n",
            "Requirement already satisfied, skipping upgrade: torch>=1.6.0 in /usr/local/lib/python3.6/dist-packages (from sentence-transformers) (1.7.0+cu101)\n",
            "Requirement already satisfied, skipping upgrade: numpy in /usr/local/lib/python3.6/dist-packages (from sentence-transformers) (1.19.5)\n",
            "Requirement already satisfied, skipping upgrade: scikit-learn in /usr/local/lib/python3.6/dist-packages (from sentence-transformers) (0.22.2.post1)\n",
            "Requirement already satisfied, skipping upgrade: scipy in /usr/local/lib/python3.6/dist-packages (from sentence-transformers) (1.4.1)\n",
            "Requirement already satisfied, skipping upgrade: nltk in /usr/local/lib/python3.6/dist-packages (from sentence-transformers) (3.2.5)\n",
            "Collecting sentencepiece\n",
            "\u001b[?25l  Downloading https://files.pythonhosted.org/packages/14/67/e42bd1181472c95c8cda79305df848264f2a7f62740995a46945d9797b67/sentencepiece-0.1.95-cp36-cp36m-manylinux2014_x86_64.whl (1.2MB)\n",
            "\u001b[K     |████████████████████████████████| 1.2MB 49.0MB/s \n",
            "\u001b[?25hRequirement already satisfied, skipping upgrade: importlib-metadata; python_version < \"3.8\" in /usr/local/lib/python3.6/dist-packages (from transformers<5.0.0,>=3.1.0->sentence-transformers) (3.4.0)\n",
            "Collecting tokenizers==0.9.4\n",
            "\u001b[?25l  Downloading https://files.pythonhosted.org/packages/0f/1c/e789a8b12e28be5bc1ce2156cf87cb522b379be9cadc7ad8091a4cc107c4/tokenizers-0.9.4-cp36-cp36m-manylinux2010_x86_64.whl (2.9MB)\n",
            "\u001b[K     |████████████████████████████████| 2.9MB 58.1MB/s \n",
            "\u001b[?25hRequirement already satisfied, skipping upgrade: regex!=2019.12.17 in /usr/local/lib/python3.6/dist-packages (from transformers<5.0.0,>=3.1.0->sentence-transformers) (2019.12.20)\n",
            "Requirement already satisfied, skipping upgrade: packaging in /usr/local/lib/python3.6/dist-packages (from transformers<5.0.0,>=3.1.0->sentence-transformers) (20.8)\n",
            "Requirement already satisfied, skipping upgrade: filelock in /usr/local/lib/python3.6/dist-packages (from transformers<5.0.0,>=3.1.0->sentence-transformers) (3.0.12)\n",
            "Requirement already satisfied, skipping upgrade: dataclasses; python_version < \"3.7\" in /usr/local/lib/python3.6/dist-packages (from transformers<5.0.0,>=3.1.0->sentence-transformers) (0.8)\n",
            "Requirement already satisfied, skipping upgrade: requests in /usr/local/lib/python3.6/dist-packages (from transformers<5.0.0,>=3.1.0->sentence-transformers) (2.23.0)\n",
            "Collecting sacremoses\n",
            "\u001b[?25l  Downloading https://files.pythonhosted.org/packages/7d/34/09d19aff26edcc8eb2a01bed8e98f13a1537005d31e95233fd48216eed10/sacremoses-0.0.43.tar.gz (883kB)\n",
            "\u001b[K     |████████████████████████████████| 890kB 55.9MB/s \n",
            "\u001b[?25hRequirement already satisfied, skipping upgrade: future in /usr/local/lib/python3.6/dist-packages (from torch>=1.6.0->sentence-transformers) (0.16.0)\n",
            "Requirement already satisfied, skipping upgrade: typing-extensions in /usr/local/lib/python3.6/dist-packages (from torch>=1.6.0->sentence-transformers) (3.7.4.3)\n",
            "Requirement already satisfied, skipping upgrade: joblib>=0.11 in /usr/local/lib/python3.6/dist-packages (from scikit-learn->sentence-transformers) (1.0.0)\n",
            "Requirement already satisfied, skipping upgrade: six in /usr/local/lib/python3.6/dist-packages (from nltk->sentence-transformers) (1.15.0)\n",
            "Requirement already satisfied, skipping upgrade: zipp>=0.5 in /usr/local/lib/python3.6/dist-packages (from importlib-metadata; python_version < \"3.8\"->transformers<5.0.0,>=3.1.0->sentence-transformers) (3.4.0)\n",
            "Requirement already satisfied, skipping upgrade: pyparsing>=2.0.2 in /usr/local/lib/python3.6/dist-packages (from packaging->transformers<5.0.0,>=3.1.0->sentence-transformers) (2.4.7)\n",
            "Requirement already satisfied, skipping upgrade: chardet<4,>=3.0.2 in /usr/local/lib/python3.6/dist-packages (from requests->transformers<5.0.0,>=3.1.0->sentence-transformers) (3.0.4)\n",
            "Requirement already satisfied, skipping upgrade: idna<3,>=2.5 in /usr/local/lib/python3.6/dist-packages (from requests->transformers<5.0.0,>=3.1.0->sentence-transformers) (2.10)\n",
            "Requirement already satisfied, skipping upgrade: urllib3!=1.25.0,!=1.25.1,<1.26,>=1.21.1 in /usr/local/lib/python3.6/dist-packages (from requests->transformers<5.0.0,>=3.1.0->sentence-transformers) (1.24.3)\n",
            "Requirement already satisfied, skipping upgrade: certifi>=2017.4.17 in /usr/local/lib/python3.6/dist-packages (from requests->transformers<5.0.0,>=3.1.0->sentence-transformers) (2020.12.5)\n",
            "Requirement already satisfied, skipping upgrade: click in /usr/local/lib/python3.6/dist-packages (from sacremoses->transformers<5.0.0,>=3.1.0->sentence-transformers) (7.1.2)\n",
            "Building wheels for collected packages: sentence-transformers, sacremoses\n",
            "  Building wheel for sentence-transformers (setup.py) ... \u001b[?25l\u001b[?25hdone\n",
            "  Created wheel for sentence-transformers: filename=sentence_transformers-0.4.1.2-cp36-none-any.whl size=103068 sha256=b24543a4227c10251f217f6ebf133d31ed1910f0b618d9a12419ca45be6ee8d8\n",
            "  Stored in directory: /root/.cache/pip/wheels/3d/33/d1/5703dd56199c09d4a1b41e0c07fb4e7765a84d787cbdc48ac3\n",
            "  Building wheel for sacremoses (setup.py) ... \u001b[?25l\u001b[?25hdone\n",
            "  Created wheel for sacremoses: filename=sacremoses-0.0.43-cp36-none-any.whl size=893261 sha256=3922e36c40bc238bcc4535dbe9718eb485c61eb6d0eafcf141d6f0ed7a2ab520\n",
            "  Stored in directory: /root/.cache/pip/wheels/29/3c/fd/7ce5c3f0666dab31a50123635e6fb5e19ceb42ce38d4e58f45\n",
            "Successfully built sentence-transformers sacremoses\n",
            "Installing collected packages: tokenizers, sacremoses, transformers, sentencepiece, sentence-transformers\n",
            "Successfully installed sacremoses-0.0.43 sentence-transformers-0.4.1.2 sentencepiece-0.1.95 tokenizers-0.9.4 transformers-4.2.2\n"
          ],
          "name": "stdout"
        }
      ]
    },
    {
      "cell_type": "code",
      "metadata": {
        "id": "2mqk_JhLAPvf"
      },
      "source": [
        "import pandas as pd\n",
        "from textblob import TextBlob\n",
        "import glob\n",
        "import re\n",
        "from nltk.corpus import stopwords\n",
        "from nltk.stem.wordnet import WordNetLemmatizer\n",
        "import sklearn\n",
        "from sklearn.metrics import accuracy_score\n",
        "from sklearn.metrics import roc_auc_score\n",
        "from sklearn.metrics import precision_score\n",
        "from sklearn.metrics import recall_score\n",
        "from sklearn.metrics import f1_score\n",
        "from sklearn.metrics import roc_curve\n",
        "from sklearn.model_selection import GridSearchCV\n",
        "from sklearn.linear_model import RidgeClassifier\n",
        "from sklearn.pipeline import Pipeline\n",
        "import numpy as np\n",
        "import seaborn as sns\n",
        "\n",
        "from sklearn.feature_extraction.text import TfidfTransformer\n",
        "from sklearn.feature_extraction.text import CountVectorizer\n",
        "\n"
      ],
      "execution_count": null,
      "outputs": []
    },
    {
      "cell_type": "code",
      "metadata": {
        "colab": {
          "base_uri": "https://localhost:8080/"
        },
        "id": "g14kMMpBAScl",
        "outputId": "5aca7ef0-faf5-4060-a92b-db20d4f35010"
      },
      "source": [
        "import nltk\n",
        "nltk.download('punkt')\n",
        "nltk.download('stopwords')\n",
        "nltk.download('wordnet')\n"
      ],
      "execution_count": null,
      "outputs": [
        {
          "output_type": "stream",
          "text": [
            "[nltk_data] Downloading package punkt to /root/nltk_data...\n",
            "[nltk_data]   Unzipping tokenizers/punkt.zip.\n",
            "[nltk_data] Downloading package stopwords to /root/nltk_data...\n",
            "[nltk_data]   Unzipping corpora/stopwords.zip.\n",
            "[nltk_data] Downloading package wordnet to /root/nltk_data...\n",
            "[nltk_data]   Unzipping corpora/wordnet.zip.\n"
          ],
          "name": "stdout"
        },
        {
          "output_type": "execute_result",
          "data": {
            "text/plain": [
              "True"
            ]
          },
          "metadata": {
            "tags": []
          },
          "execution_count": 3
        }
      ]
    },
    {
      "cell_type": "code",
      "metadata": {
        "id": "ylA02R6r_vq-"
      },
      "source": [
        "def text_processing(tweet):\n",
        "    \n",
        "    tweet= tweet.lower()\n",
        "    \n",
        "    #Removing hyperlinks from the tweet\n",
        "    tweet_no_links=re.sub(r'http\\S+', '', tweet)\n",
        "    \n",
        "    #Generating the list of words in the tweet (hashtags and other punctuations removed)\n",
        "    def form_sentence(tweet):\n",
        "        tweet_blob = TextBlob(tweet)\n",
        "        return ' '.join(tweet_blob.words)\n",
        "    new_tweet = form_sentence(tweet_no_links)\n",
        "    \n",
        "    #Removing stopwords and words with unusual symbols\n",
        "    def no_user_alpha(tweet):\n",
        "        tweet_list = [ele for ele in tweet.split() if ele != 'user']\n",
        "        clean_tokens = [t for t in tweet_list if re.match(r'[^\\W\\d]*$', t)]\n",
        "        clean_s = ' '.join(clean_tokens)\n",
        "        clean_mess = [word for word in clean_s.split() if word not in stopwords.words('english')]\n",
        "        return clean_mess\n",
        "    no_punc_tweet = no_user_alpha(new_tweet)\n",
        "    \n",
        "    #Normalizing the words in tweets \n",
        "    def normalization(tweet_list):\n",
        "        lem = WordNetLemmatizer()\n",
        "        normalized_tweet = []\n",
        "        for word in tweet_list:\n",
        "            normalized_text = lem.lemmatize(word,'v')\n",
        "            normalized_tweet.append(normalized_text)\n",
        "        return \" \".join(normalized_tweet)\n",
        "    \n",
        "    \n",
        "    return normalization(no_punc_tweet)"
      ],
      "execution_count": null,
      "outputs": []
    },
    {
      "cell_type": "code",
      "metadata": {
        "id": "yq5ecqPNAY4e",
        "colab": {
          "base_uri": "https://localhost:8080/"
        },
        "outputId": "88f31b91-f39b-4382-f1ea-489f5f06f0d6"
      },
      "source": [
        "all_files = glob.glob(\"./dataset_cleaning/*.pkl\")\n",
        "all_files.sort()\n",
        "datasets = []\n",
        "\n",
        "for filename in all_files:\n",
        "    print(filename)\n",
        "    df = pd.read_pickle(filename)\n",
        "    datasets.append(df)\n",
        "    print(df.Informativeness.value_counts())\n"
      ],
      "execution_count": null,
      "outputs": [
        {
          "output_type": "stream",
          "text": [
            "./dataset_cleaning/dataset1Cleaned.pkl\n",
            "1    11717\n",
            "0     6437\n",
            "Name: Informativeness, dtype: int64\n",
            "./dataset_cleaning/dataset2Cleaned.pkl\n",
            "1    11365\n",
            "0     4380\n",
            "Name: Informativeness, dtype: int64\n",
            "./dataset_cleaning/dataset3Cleaned.pkl\n",
            "0    1624\n",
            "1     898\n",
            "Name: Informativeness, dtype: int64\n",
            "./dataset_cleaning/dataset4Cleaned.pkl\n",
            "0    4187\n",
            "1    3742\n",
            "Name: Informativeness, dtype: int64\n",
            "./dataset_cleaning/dataset5Cleaned.pkl\n",
            "1    535\n",
            "0    291\n",
            "Name: Informativeness, dtype: int64\n",
            "./dataset_cleaning/dataset6Cleaned.pkl\n",
            "1    17776\n",
            "0     2325\n",
            "Name: Informativeness, dtype: int64\n",
            "./dataset_cleaning/dataset7Cleaned.pkl\n",
            "0    312\n",
            "1    177\n",
            "Name: Informativeness, dtype: int64\n"
          ],
          "name": "stdout"
        }
      ]
    },
    {
      "cell_type": "code",
      "metadata": {
        "colab": {
          "base_uri": "https://localhost:8080/"
        },
        "id": "iBDhVt5KRcLl",
        "outputId": "889ce775-daa5-49f0-9a52-6d481f66d95c"
      },
      "source": [
        "for i,ds in enumerate(datasets):\n",
        "    print(\"Processing dataset {}\".format(i+1))\n",
        "    ds['text_processed']=ds['text'].apply(text_processing)"
      ],
      "execution_count": null,
      "outputs": [
        {
          "output_type": "stream",
          "text": [
            "Processing dataset 1\n",
            "Processing dataset 2\n",
            "Processing dataset 3\n",
            "Processing dataset 4\n",
            "Processing dataset 5\n",
            "Processing dataset 6\n",
            "Processing dataset 7\n"
          ],
          "name": "stdout"
        }
      ]
    },
    {
      "cell_type": "code",
      "metadata": {
        "colab": {
          "base_uri": "https://localhost:8080/"
        },
        "id": "lf0YAI2BSLf0",
        "outputId": "94d9cbc4-2833-4f5d-e189-a1184c5a7404"
      },
      "source": [
        "authors=pd.read_csv('./tweet_metadata_full.csv')\n",
        "users=pd.read_csv('./twitter_user_full.csv')\n",
        "authors.drop(columns=['Unnamed: 0'], inplace=True)\n",
        "users.drop(columns=['Unnamed: 0','created_at', 'lang', 'name', 'screen_name', 'location','access'], inplace=True)\n",
        "users.columns=['author_id', 'has_description', 'bio_has_url', 'followers_count', 'friends_count',\n",
        "       'favourites_count', 'listed_count', 'statuses_count', 'protected',\n",
        "       'verified', 'default_profile', 'default_profile_image']"
      ],
      "execution_count": null,
      "outputs": [
        {
          "output_type": "stream",
          "text": [
            "/usr/local/lib/python3.6/dist-packages/IPython/core/interactiveshell.py:2718: DtypeWarning: Columns (3) have mixed types.Specify dtype option on import or set low_memory=False.\n",
            "  interactivity=interactivity, compiler=compiler, result=result)\n"
          ],
          "name": "stderr"
        }
      ]
    },
    {
      "cell_type": "code",
      "metadata": {
        "id": "KBNgKe7NL-Kz"
      },
      "source": [
        "def count_hashtags(text):\n",
        "    return text.count('#')"
      ],
      "execution_count": null,
      "outputs": []
    },
    {
      "cell_type": "code",
      "metadata": {
        "id": "miJ9zIrfMF7g"
      },
      "source": [
        "def text_has_slang(text):\n",
        "    for i in text[:-50].split(' '):\n",
        "        for j in ['afaik','afk','asl','atm','atw','ayy','bae','bb','bbiab','bbl','bbs','bc','bf','bff','bork','brb','btw','cba','convo','cp','cya','cya','dank','dc','dem','dw','e2e','fml','FOMO','FTFY','ftl','ftw','fwiw','fyi','g2g','g4u','gf','gg','goml','gr8','gratz','gtfo','guiz','hbu','hru','ianadb','ianalb','ianap','idc','idgaf','idk','iirc','ik','ikr','ily','inb4','irl','jfc','jk','js','k','kappa','kek','kms','kthx','l8r','leet','lmao','lmk','lol','LPT','lrl','lrn2','m8','maga','mfw','mrw','nerf','ngl','nm','nmu','noob','nvm','ofc','omf','omg','omw','ooc','op','OP','orly','pepe','pleb','pleb','plz','pron','pwned','REEEEEE','rekt','rickrol','rip','rly','rms','rofl','rotflol','rtfm','rude','shank','smd','smh','soz','swag','tbf','tbh','tbt','TIFU','tf','tfw','thx','tide','TIL','tl;dr','tmw','tolo','topkek','ty','uwotm8','w00t','wb','wot','wtb','wtf','wtg','wts','wuu2','yarly','ymmv','yolo','yw']:\n",
        "            if(i==j):\n",
        "                return True\n",
        "    return False"
      ],
      "execution_count": null,
      "outputs": []
    },
    {
      "cell_type": "code",
      "metadata": {
        "id": "8PXAeaztMB1b"
      },
      "source": [
        "\n",
        "def text_has_emoji(text):\n",
        "    return any(map(text[:-50].__contains__, [':)',':(',':P',':c',':<','c:','<:',':L',':l','^_^','^.^','>_<','>.<','>_>','<_<','>.>','<.<','-.-','-_-','o_o','o.o','._.','owo','OwO',';_;','>:)',':]',':}','>:(','>:|','-.^','-_^','8)','B)','<3','xD',':3','x3','\\o','\\o/',';_;','OwO','uwu','O:)',':#',':*']))"
      ],
      "execution_count": null,
      "outputs": []
    },
    {
      "cell_type": "code",
      "metadata": {
        "id": "82_Zql49MSd0"
      },
      "source": [
        "def has_profanity(text):\n",
        "    for i in text[:-50].split(' '):\n",
        "        for j in ['acrotomophilia','anal','anilingus','anus','arsehole','ass','asshole','assmunch','auto erotic','autoerotic','babeland','baby batter','ball gag','ball gravy','ball kicking','ball licking','ball sack','ball sucking','bangbros','bareback','barely legal','barenaked','bastardo','bastinado','bbw','bdsm','beaver cleaver','beaver lips','bestiality','bi curious','big black','big breasts','big knockers','big tits','bimbos','birdlock','bitch','black cock','blonde action','blonde on blonde action','blow j','blow your l','blue waffle','blumpkin','bollocks','bondage','boner','boob','boobs','booty call','brown showers','brunette action','bukkake','bulldyke','bullet vibe','bung hole','bunghole','busty','butt','buttcheeks','butthole','camel toe','camgirl','camslut','camwhore','carpet muncher','carpetmuncher','chocolate rosebuds','circlejerk','cleveland steamer','clit','clitoris','clover clamps','clusterfuck','cock','cocks','coprolagnia','coprophilia','cornhole','cum','cumming','cunnilingus','cunt','darkie','date rape','daterape','deep throat','deepthroat','dick','dildo','dirty pillows','dirty sanchez','dog style','doggie style','doggiestyle','doggy style','doggystyle','dolcett','domination','dominatrix','dommes','donkey punch','double dong','double penetration','dp action','eat my ass','ecchi','ejaculation','erotic','erotism','escort','ethical slut','eunuch','faggot','fecal','felch','fellatio','feltch','female squirting','femdom','figging','fingering','fisting','foot fetish','footjob','frotting','fuck','fucking','fuck buttons','fudge packer','fudgepacker','futanari','g-spot','gang bang','gay sex','genitals','giant cock','girl on','girl on top','girls gone wild','goatcx','goatse','gokkun','golden shower','goo girl','goodpoop','goregasm','grope','group sex','guro','hand job','handjob','hard core','hardcore','hentai','homoerotic','honkey','hooker','hot chick','how to kill','how to murder','huge fat','humping','incest','intercourse','jack off','jail bait','jailbait','jerk off','jigaboo','jiggaboo','jiggerboo','jizz','juggs','kike','kinbaku','kinkster','kinky','knobbing','leather restraint','leather straight jacket','lemon party','lolita','lovemaking','make me come','male squirting','masturbate','menage a trois','milf','missionary position','motherfucker','mound of venus','mr hands','muff diver','muffdiving','nambla','nawashi','negro','neonazi','nig nog','nigga','nigger','nimphomania','nipple','nipples','nsfw images','nude','nudity','nympho','nymphomania','octopussy','omorashi','one cup two girls','one guy one jar','orgasm','orgy','paedophile','panties','panty','pedobear','pedophile','pegging','penis','phone sex','piece of shit','piss pig','pissing','pisspig','playboy','pleasure chest','pole smoker','ponyplay','poof','poop chute','poopchute','porn','porno','pornography','prince albert piercing','pthc','pubes','pussy','queaf','raghead','raging boner','rape','raping','rapist','rectum','reverse cowgirl','rimjob','rimming','rosy palm','rosy palm and her 5 sisters','rusty trombone','s&m','sadism','scat','schlong','scissoring','semen','sex','sexo','sexy','shaved beaver','shaved pussy','shemale','shibari','shit','shota','shrimping','slanteye','slut','smut','snatch','snowballing','sodomize','sodomy','spic','spooge','spread legs','strap on','strapon','strappado','strip club','style doggy','suck','sucks','suicide girls','sultry women','swastika','swinger','tainted love','taste my','tea bagging','threesome','throating','tied up','tight white','tit','tits','titties','titty','tongue in a','topless','tosser','towelhead','tranny','tribadism','tub girl','tubgirl','tushy','twat','twink','twinkie','two girls one cup','undressing','upskirt','urethra play','urophilia','vagina','venus mound','vibrator','violet blue','violet wand','vorarephilia','voyeur','vulva','wank','wet dream','wetback','white power','women rapping','wrapping men','wrinkled starfish','xx','xxx','yaoi','yellow showers','yiffy','zoophilia']:\n",
        "            if(i==j):\n",
        "                return True\n",
        "    return False"
      ],
      "execution_count": null,
      "outputs": []
    },
    {
      "cell_type": "code",
      "metadata": {
        "id": "oGjUrx4SMJkj"
      },
      "source": [
        "def is_RT(text):\n",
        "    for i in text[:-50].split(' '):\n",
        "        if(i == 'RT' or i.startswith('@')):\n",
        "            return True\n",
        "    return False"
      ],
      "execution_count": null,
      "outputs": []
    },
    {
      "cell_type": "code",
      "metadata": {
        "id": "IkDkpqf4WMf3"
      },
      "source": [
        "mean=['retweet_count','favorite_count','followers_count', 'friends_count', 'listed_count', 'favourites_count', 'statuses_count']\n",
        "median = ['tweet_type', 'has_description', 'bio_has_url', 'protected', 'verified','default_profile', 'default_profile_image']\n",
        "\n",
        "\n",
        "for i,ds in enumerate(datasets):\n",
        "    print(\"Processing dataset {}\".format(i+1))\n",
        "    ds = pd.merge(ds, authors, on='id', how='left')\n",
        "\n",
        "    ds.drop(ds.columns.difference(['id', 'Informativeness','text', 'text_processed', 'author_id', 'tweet_type', 'retweet_count', 'favorite_count']), 1, inplace=True)\n",
        "\n",
        "\n",
        "\n",
        "    ds = pd.merge(ds, users, on='author_id', how='left')\n",
        "\n",
        "\n",
        "    for m in mean:\n",
        "        ds[m][ds['Informativeness'] == 1] = ds[m][ds['Informativeness'] == 1].fillna((ds[m][ds['Informativeness'] == 1].mean()))\n",
        "        ds[m][ds['Informativeness'] == 0] = ds[m][ds['Informativeness'] == 0].fillna((ds[m][ds['Informativeness'] == 0].mean()))\n",
        "\n",
        "    for m in median:\n",
        "        ds[m][ds['Informativeness'] == 1] = ds[m][ds['Informativeness'] == 1].fillna((ds[m][ds['Informativeness'] == 1].value_counts().idxmax()))\n",
        "        ds[m][ds['Informativeness'] == 0] = ds[m][ds['Informativeness'] == 0].fillna((ds[m][ds['Informativeness'] == 0].value_counts().idxmax()))\n",
        "\n",
        "    ds[\"has_description\"] = ds[\"has_description\"].apply(lambda x: 0 if x is np.nan else 1)\n",
        "    ds[\"tweet_type\"] = ds[\"tweet_type\"].apply(lambda x: 0 if x =='tweet' else 1)\n",
        "    ds[\"bio_has_url\"] = ds[\"bio_has_url\"].apply(lambda x: 0 if x is np.nan else 1)\n",
        "\n",
        "    ds[\"hashtag_count\"]=ds['text'].apply(count_hashtags)\n",
        "    ds[\"emoji_present\"] = ds['text'].apply(text_has_emoji)\n",
        "    ds[\"slang_present\"] = ds['text'].apply(text_has_slang)\n",
        "    ds[\"is_RT\"] = ds['text'].apply(is_RT)\n",
        "    ds[\"has_profanity\"] = ds['text'].apply(has_profanity)\n",
        "\n",
        "\n",
        "    ds = ds.drop(columns=['author_id','text'])\n",
        "\n",
        "    datasets[i] = ds\n",
        "    "
      ],
      "execution_count": null,
      "outputs": []
    },
    {
      "cell_type": "code",
      "metadata": {
        "id": "GkHrZBPqmXlQ"
      },
      "source": [
        "# import spacy \n",
        "# nlp = spacy.load('en_core_web_sm')"
      ],
      "execution_count": null,
      "outputs": []
    },
    {
      "cell_type": "code",
      "metadata": {
        "id": "5EkFBUNYmZ6S"
      },
      "source": [
        "# def show_ents(doc): \n",
        "#     doc=nlp(doc)\n",
        "#     res =[]\n",
        "#     if doc.ents: \n",
        "#         for ent in doc.ents: \n",
        "#             res.append(ent.label_)\n",
        "#     return res"
      ],
      "execution_count": null,
      "outputs": []
    },
    {
      "cell_type": "code",
      "metadata": {
        "colab": {
          "base_uri": "https://localhost:8080/"
        },
        "id": "PalbkVCenymW",
        "outputId": "e1b8d732-c138-4597-a405-3f5967c918ab"
      },
      "source": [
        "# for i,ds in enumerate(datasets):\n",
        "#     print(\"Adding entities {}\".format(i+1))\n",
        "#     ds['entity_list']=ds['text_processed'].apply(show_ents)"
      ],
      "execution_count": null,
      "outputs": [
        {
          "output_type": "stream",
          "text": [
            "Adding entities 1\n",
            "Adding entities 2\n",
            "Adding entities 3\n",
            "Adding entities 4\n",
            "Adding entities 5\n",
            "Adding entities 6\n",
            "Adding entities 7\n"
          ],
          "name": "stdout"
        }
      ]
    },
    {
      "cell_type": "code",
      "metadata": {
        "colab": {
          "base_uri": "https://localhost:8080/"
        },
        "id": "oeXbGHxSrvdL",
        "outputId": "4bc0c35a-e768-499a-c757-eb39c8e5a3ce"
      },
      "source": [
        "# all_entities=[]\n",
        "# for i,ds in enumerate(datasets):\n",
        "#     print(\"Merging entities {}\".format(i+1))\n",
        "#     ds_entities = datasets[i].entity_list.to_list()\n",
        "#     all_entities=all_entities+[item for sublist in ds_entities for item in sublist]"
      ],
      "execution_count": null,
      "outputs": [
        {
          "output_type": "stream",
          "text": [
            "Merging entities 1\n",
            "Merging entities 2\n",
            "Merging entities 3\n",
            "Merging entities 4\n",
            "Merging entities 5\n",
            "Merging entities 6\n",
            "Merging entities 7\n"
          ],
          "name": "stdout"
        }
      ]
    },
    {
      "cell_type": "code",
      "metadata": {
        "colab": {
          "base_uri": "https://localhost:8080/"
        },
        "id": "f7RYJ5rJsJU2",
        "outputId": "21a7c56d-6b16-41fb-af99-ce1d27789b0a"
      },
      "source": [
        "# from sklearn.feature_extraction.text import CountVectorizer\n",
        "\n",
        "# # Vevotize each sentance\n",
        "# vectorizer_entity = CountVectorizer()\n",
        "# vectorizer_entity.fit(all_entities)\n"
      ],
      "execution_count": null,
      "outputs": [
        {
          "output_type": "execute_result",
          "data": {
            "text/plain": [
              "CountVectorizer(analyzer='word', binary=False, decode_error='strict',\n",
              "                dtype=<class 'numpy.int64'>, encoding='utf-8', input='content',\n",
              "                lowercase=True, max_df=1.0, max_features=None, min_df=1,\n",
              "                ngram_range=(1, 1), preprocessor=None, stop_words=None,\n",
              "                strip_accents=None, token_pattern='(?u)\\\\b\\\\w\\\\w+\\\\b',\n",
              "                tokenizer=None, vocabulary=None)"
            ]
          },
          "metadata": {
            "tags": []
          },
          "execution_count": 22
        }
      ]
    },
    {
      "cell_type": "code",
      "metadata": {
        "id": "G_HBhwVQGgSj"
      },
      "source": [
        "# context=pd.read_csv('./context_annotations.csv')\n",
        "# context =context[[\"id\",'domain_name' ,\"entity_name\"]]"
      ],
      "execution_count": null,
      "outputs": []
    },
    {
      "cell_type": "code",
      "metadata": {
        "id": "aSu_0yXwIfyW"
      },
      "source": [
        "# from sklearn.feature_extraction.text import CountVectorizer\n",
        "\n",
        "# # Vevotize each sentance\n",
        "# vectorizer_entity = CountVectorizer()\n",
        "# vectorizer_entity.fit(context['entity_name'])\n",
        "\n",
        "# vectorizer_domain = CountVectorizer()\n",
        "# vectorizer_domain.fit(context['domain_name'])"
      ],
      "execution_count": null,
      "outputs": []
    },
    {
      "cell_type": "code",
      "metadata": {
        "id": "0ICImwOaIixU"
      },
      "source": [
        "# grouped_entity = context.groupby(by= 'id')['entity_name'].apply(set)\n",
        "# grouped_domain = context.groupby(by= 'id')['domain_name'].apply(set)\n",
        "\n",
        "# grouped_entity_vectorized = grouped_entity.apply(lambda x: vectorizer_entity.transform(x).toarray().sum(axis=0))\n",
        "# grouped_domain_vectorized = grouped_domain.apply(lambda x: vectorizer_domain.transform(x).toarray().sum(axis=0))"
      ],
      "execution_count": null,
      "outputs": []
    },
    {
      "cell_type": "code",
      "metadata": {
        "id": "KXOoFaP-Inyt"
      },
      "source": [
        "# for i, ds in enumerate(datasets):\n",
        "\n",
        "#     print(\"Processing dataset: {}\".format(i+1))\n",
        "#     ds = pd.merge(ds, grouped_domain_vectorized, on='id', how='left')\n",
        "#     tostack_domain =ds['domain_name'].apply(pd.Series)\n",
        "#     tostack_domain = tostack_domain.fillna(0)\n",
        "#     ds = pd.concat([ds, tostack_domain], axis=1)\n",
        "#     ds = pd.concat([ds,pd.DataFrame(np.zeros((tostack_domain.shape[0],len(vectorizer_domain.vocabulary_)-tostack_domain.shape[1])))], axis=1)\n",
        "    \n",
        "#     ds = pd.merge(ds, grouped_entity_vectorized, on='id', how='left')\n",
        "#     tostack_entity =ds['entity_name'].apply(pd.Series)\n",
        "#     tostack_entity = tostack_entity.fillna(0)\n",
        "#     ds = pd.concat([ds, tostack_entity], axis=1)\n",
        "#     ds = pd.concat([ds,pd.DataFrame(np.zeros((tostack_entity.shape[0],len(vectorizer_entity.vocabulary_)-tostack_entity.shape[1])))], axis=1)\n",
        "    \n",
        "    \n",
        "#     ds.drop(columns=['domain_name', 'entity_name'], inplace=True)\n",
        "#     datasets[i] = ds"
      ],
      "execution_count": null,
      "outputs": []
    },
    {
      "cell_type": "code",
      "metadata": {
        "id": "uMb4tvh9K5cm"
      },
      "source": [
        "from sentence_transformers import SentenceTransformer\n",
        "st_model = SentenceTransformer('distilbert-base-nli-mean-tokens')"
      ],
      "execution_count": null,
      "outputs": []
    },
    {
      "cell_type": "code",
      "metadata": {
        "id": "f2sVUaN8QANc"
      },
      "source": [
        "## TEMPORARY\n",
        "df_merged = pd.concat(datasets[:3] + (datasets[4:6]))\n",
        "df_merged = df_merged.sample(frac=1).reset_index(drop=True)\n",
        "datasets=[df_merged, datasets[3], datasets[6]]"
      ],
      "execution_count": null,
      "outputs": []
    },
    {
      "cell_type": "code",
      "metadata": {
        "id": "d7QwR4zLQDn5"
      },
      "source": [
        "# from scipy.sparse import csr_matrix\n",
        "\n",
        "# entity_columns =[]\n",
        "# for i,ds in enumerate(datasets):\n",
        "#   cols = datasets[i].entity_list.apply(lambda x: vectorizer_entity.transform(x).toarray().sum(axis=0))\n",
        "#   entity_columns.append(csr_matrix(cols.to_list()))"
      ],
      "execution_count": null,
      "outputs": []
    },
    {
      "cell_type": "code",
      "metadata": {
        "id": "eSytvqCLPqOQ"
      },
      "source": [
        "# ## TEMPORARY\n",
        "# df_merged = pd.concat(datasets)\n",
        "# df_merged = df_merged.sample(frac=1).reset_index(drop=True)\n",
        "# from sklearn.model_selection import train_test_split\n",
        "\n",
        "# train_df_merged, test_df_merged= train_test_split(df_merged, test_size=0.3, random_state=42)\n",
        "# datasets=[train_df_merged, test_df_merged]"
      ],
      "execution_count": null,
      "outputs": []
    },
    {
      "cell_type": "code",
      "metadata": {
        "colab": {
          "base_uri": "https://localhost:8080/"
        },
        "id": "eyz6Zit1Vn-G",
        "outputId": "4e95dcf0-5152-4c4e-84f0-8d636984a9bd"
      },
      "source": [
        "bert_data =[]\n",
        "for i,ds in enumerate(datasets):\n",
        "    print(\"Calculating BERT embeddings for dataset {}\".format(i+1))\n",
        "    bert_data.append(st_model.encode(ds[\"text_processed\"].values))"
      ],
      "execution_count": null,
      "outputs": [
        {
          "output_type": "stream",
          "text": [
            "Calculating BERT embeddings for dataset 1\n",
            "Calculating BERT embeddings for dataset 2\n",
            "Calculating BERT embeddings for dataset 3\n"
          ],
          "name": "stdout"
        }
      ]
    },
    {
      "cell_type": "code",
      "metadata": {
        "colab": {
          "base_uri": "https://localhost:8080/",
          "height": 343
        },
        "id": "0QVL_toAGINK",
        "outputId": "b38c067f-91f1-4df8-de10-fdc8457b8c56"
      },
      "source": [
        "datasets[0].head()"
      ],
      "execution_count": null,
      "outputs": [
        {
          "output_type": "execute_result",
          "data": {
            "text/html": [
              "<div>\n",
              "<style scoped>\n",
              "    .dataframe tbody tr th:only-of-type {\n",
              "        vertical-align: middle;\n",
              "    }\n",
              "\n",
              "    .dataframe tbody tr th {\n",
              "        vertical-align: top;\n",
              "    }\n",
              "\n",
              "    .dataframe thead th {\n",
              "        text-align: right;\n",
              "    }\n",
              "</style>\n",
              "<table border=\"1\" class=\"dataframe\">\n",
              "  <thead>\n",
              "    <tr style=\"text-align: right;\">\n",
              "      <th></th>\n",
              "      <th>id</th>\n",
              "      <th>Informativeness</th>\n",
              "      <th>text_processed</th>\n",
              "      <th>tweet_type</th>\n",
              "      <th>retweet_count</th>\n",
              "      <th>favorite_count</th>\n",
              "      <th>has_description</th>\n",
              "      <th>bio_has_url</th>\n",
              "      <th>followers_count</th>\n",
              "      <th>friends_count</th>\n",
              "      <th>favourites_count</th>\n",
              "      <th>listed_count</th>\n",
              "      <th>statuses_count</th>\n",
              "      <th>protected</th>\n",
              "      <th>verified</th>\n",
              "      <th>default_profile</th>\n",
              "      <th>default_profile_image</th>\n",
              "      <th>hashtag_count</th>\n",
              "      <th>emoji_present</th>\n",
              "      <th>slang_present</th>\n",
              "      <th>is_RT</th>\n",
              "      <th>has_profanity</th>\n",
              "    </tr>\n",
              "  </thead>\n",
              "  <tbody>\n",
              "    <tr>\n",
              "      <th>0</th>\n",
              "      <td>399637732013518848</td>\n",
              "      <td>1</td>\n",
              "      <td>typhoon deaths climb thousands philippines one...</td>\n",
              "      <td>0</td>\n",
              "      <td>2.000000</td>\n",
              "      <td>1.000000</td>\n",
              "      <td>1</td>\n",
              "      <td>1</td>\n",
              "      <td>4.520680e+05</td>\n",
              "      <td>812.000000</td>\n",
              "      <td>3857.000000</td>\n",
              "      <td>6012.000000</td>\n",
              "      <td>220889.00000</td>\n",
              "      <td>False</td>\n",
              "      <td>True</td>\n",
              "      <td>False</td>\n",
              "      <td>False</td>\n",
              "      <td>0</td>\n",
              "      <td>False</td>\n",
              "      <td>False</td>\n",
              "      <td>False</td>\n",
              "      <td>False</td>\n",
              "    </tr>\n",
              "    <tr>\n",
              "      <th>1</th>\n",
              "      <td>922053804253634560</td>\n",
              "      <td>0</td>\n",
              "      <td>kid friendly puertorico apartamentosrocamarpue...</td>\n",
              "      <td>0</td>\n",
              "      <td>0.000000</td>\n",
              "      <td>0.000000</td>\n",
              "      <td>1</td>\n",
              "      <td>1</td>\n",
              "      <td>4.470000e+02</td>\n",
              "      <td>209.000000</td>\n",
              "      <td>0.000000</td>\n",
              "      <td>0.000000</td>\n",
              "      <td>65663.00000</td>\n",
              "      <td>False</td>\n",
              "      <td>False</td>\n",
              "      <td>True</td>\n",
              "      <td>False</td>\n",
              "      <td>2</td>\n",
              "      <td>False</td>\n",
              "      <td>False</td>\n",
              "      <td>False</td>\n",
              "      <td>False</td>\n",
              "    </tr>\n",
              "    <tr>\n",
              "      <th>2</th>\n",
              "      <td>302469278005862400</td>\n",
              "      <td>1</td>\n",
              "      <td>russianmeteor graze across atmosphere meteor t...</td>\n",
              "      <td>0</td>\n",
              "      <td>1315.000000</td>\n",
              "      <td>-1.000000</td>\n",
              "      <td>1</td>\n",
              "      <td>1</td>\n",
              "      <td>4.178232e+07</td>\n",
              "      <td>223.000000</td>\n",
              "      <td>12253.000000</td>\n",
              "      <td>93275.000000</td>\n",
              "      <td>62912.00000</td>\n",
              "      <td>False</td>\n",
              "      <td>True</td>\n",
              "      <td>False</td>\n",
              "      <td>False</td>\n",
              "      <td>1</td>\n",
              "      <td>False</td>\n",
              "      <td>False</td>\n",
              "      <td>False</td>\n",
              "      <td>False</td>\n",
              "    </tr>\n",
              "    <tr>\n",
              "      <th>3</th>\n",
              "      <td>213265103724888064</td>\n",
              "      <td>0</td>\n",
              "      <td>arm robbers get away colorado spring police sa...</td>\n",
              "      <td>0</td>\n",
              "      <td>0.000000</td>\n",
              "      <td>-1.000000</td>\n",
              "      <td>1</td>\n",
              "      <td>1</td>\n",
              "      <td>1.249000e+03</td>\n",
              "      <td>103.000000</td>\n",
              "      <td>0.000000</td>\n",
              "      <td>37.000000</td>\n",
              "      <td>57818.00000</td>\n",
              "      <td>False</td>\n",
              "      <td>False</td>\n",
              "      <td>False</td>\n",
              "      <td>False</td>\n",
              "      <td>0</td>\n",
              "      <td>False</td>\n",
              "      <td>False</td>\n",
              "      <td>False</td>\n",
              "      <td>False</td>\n",
              "    </tr>\n",
              "    <tr>\n",
              "      <th>4</th>\n",
              "      <td>451315556000747520</td>\n",
              "      <td>1</td>\n",
              "      <td>rt ms_njrealtor thoughts prayers people chile ...</td>\n",
              "      <td>0</td>\n",
              "      <td>79.638683</td>\n",
              "      <td>0.254267</td>\n",
              "      <td>1</td>\n",
              "      <td>1</td>\n",
              "      <td>2.482321e+04</td>\n",
              "      <td>1763.777452</td>\n",
              "      <td>14816.928547</td>\n",
              "      <td>189.809085</td>\n",
              "      <td>97710.14713</td>\n",
              "      <td>False</td>\n",
              "      <td>False</td>\n",
              "      <td>False</td>\n",
              "      <td>False</td>\n",
              "      <td>1</td>\n",
              "      <td>False</td>\n",
              "      <td>False</td>\n",
              "      <td>True</td>\n",
              "      <td>False</td>\n",
              "    </tr>\n",
              "  </tbody>\n",
              "</table>\n",
              "</div>"
            ],
            "text/plain": [
              "                   id  Informativeness  ...  is_RT  has_profanity\n",
              "0  399637732013518848                1  ...  False          False\n",
              "1  922053804253634560                0  ...  False          False\n",
              "2  302469278005862400                1  ...  False          False\n",
              "3  213265103724888064                0  ...  False          False\n",
              "4  451315556000747520                1  ...   True          False\n",
              "\n",
              "[5 rows x 22 columns]"
            ]
          },
          "metadata": {
            "tags": []
          },
          "execution_count": 36
        }
      ]
    },
    {
      "cell_type": "code",
      "metadata": {
        "colab": {
          "base_uri": "https://localhost:8080/"
        },
        "id": "7C-R5ChyUIcG",
        "outputId": "556ca705-fc2c-481b-98b9-4b6846579ba5"
      },
      "source": [
        "from sklearn.preprocessing import scale\n",
        "\n",
        "full_datasets=[]\n",
        "y_list =[]\n",
        "for i in range(len(datasets)):\n",
        "  print(\"Splitting dataset {}\".format(i+1))\n",
        "  y_list.append(datasets[i][\"Informativeness\"])\n",
        "  stacked = np.hstack((bert_data[i], datasets[i].drop(columns=[\"id\", \"Informativeness\", \"text_processed\"])))\n",
        "  # stacked = np.hstack([bert_data[i], datasets[i].drop(columns=[\"id\", \"Informativeness\", \"text_processed\", \"entity_list\"]),entity_columns[i].toarray()])\n",
        "  stacked_scaled = scale(stacked, with_mean= False, axis = 0)\n",
        "  full_datasets.append(stacked_scaled)\n",
        "  \n",
        "\n"
      ],
      "execution_count": null,
      "outputs": [
        {
          "output_type": "stream",
          "text": [
            "Splitting dataset 1\n",
            "Splitting dataset 2\n",
            "Splitting dataset 3\n"
          ],
          "name": "stdout"
        }
      ]
    },
    {
      "cell_type": "code",
      "metadata": {
        "id": "6JoEkE6vXvmW",
        "colab": {
          "base_uri": "https://localhost:8080/"
        },
        "outputId": "cfdbd117-9a65-4da9-d436-4508b27acada"
      },
      "source": [
        "for ds in full_datasets:\n",
        "    print(ds.shape)"
      ],
      "execution_count": null,
      "outputs": [
        {
          "output_type": "stream",
          "text": [
            "(57348, 787)\n",
            "(7929, 787)\n",
            "(489, 787)\n"
          ],
          "name": "stdout"
        }
      ]
    },
    {
      "cell_type": "code",
      "metadata": {
        "colab": {
          "base_uri": "https://localhost:8080/"
        },
        "id": "5O9jtLiTWvxc",
        "outputId": "3f4d7748-6489-44d4-9e13-b3f1a5ee2e15"
      },
      "source": [
        "results=[]\n",
        "for i,ds_train in enumerate(datasets[:1]):\n",
        "\n",
        "    print(\"Training on Dataset {}\".format(i+1))\n",
        "    row=[]\n",
        "\n",
        "    \n",
        "    X_train = full_datasets[i]\n",
        "    y_train = y_list[i]\n",
        "\n",
        "    # parameters= {\n",
        "    #     'alpha': [1e-4, 1e-3, 1e-2, 1e-1, 1e0, 1e1, 1e2, 1e3], # learning rate\n",
        "    #     'normalize': [True, False]\n",
        "\n",
        "    # }\n",
        "\n",
        "    parameters= {\n",
        "                  'loss':('hinge','log',),'max_iter': (100,1000),\n",
        "                 'alpha':(1e-1, 1e-3,1e-6), 'penalty':('l1','l2')\n",
        "                 }\n",
        "    # model = RidgeClassifier()\n",
        "\n",
        "    from sklearn.linear_model import SGDClassifier\n",
        "    model=SGDClassifier()\n",
        "    gs_clf = GridSearchCV(model, parameters,scoring='roc_auc',cv=10, n_jobs=-1, verbose=10)\n",
        "    gs_clf = gs_clf.fit(X_train, y_train)\n",
        "\n",
        "    for j,ds_test in enumerate(datasets):\n",
        "\n",
        "        print(\"testing on Dataset {}\".format(j+1))\n",
        "        \n",
        "        X_test = full_datasets[j]\n",
        "        y_test = y_list[j]\n",
        "\n",
        "\n",
        "        row.append(gs_clf.score(X_test, y_test))\n",
        "    results.append(row)"
      ],
      "execution_count": null,
      "outputs": [
        {
          "output_type": "stream",
          "text": [
            "Training on Dataset 1\n",
            "Fitting 10 folds for each of 24 candidates, totalling 240 fits\n"
          ],
          "name": "stdout"
        },
        {
          "output_type": "stream",
          "text": [
            "[Parallel(n_jobs=-1)]: Using backend LokyBackend with 2 concurrent workers.\n",
            "[Parallel(n_jobs=-1)]: Done   1 tasks      | elapsed:    4.7s\n",
            "[Parallel(n_jobs=-1)]: Done   4 tasks      | elapsed:    8.6s\n",
            "[Parallel(n_jobs=-1)]: Done   9 tasks      | elapsed:   23.2s\n",
            "[Parallel(n_jobs=-1)]: Done  14 tasks      | elapsed:   28.2s\n",
            "[Parallel(n_jobs=-1)]: Done  21 tasks      | elapsed:   35.2s\n",
            "[Parallel(n_jobs=-1)]: Done  28 tasks      | elapsed:   51.7s\n",
            "[Parallel(n_jobs=-1)]: Done  37 tasks      | elapsed:  1.1min\n",
            "[Parallel(n_jobs=-1)]: Done  46 tasks      | elapsed:  1.4min\n",
            "[Parallel(n_jobs=-1)]: Done  57 tasks      | elapsed:  1.6min\n",
            "[Parallel(n_jobs=-1)]: Done  68 tasks      | elapsed:  2.1min\n",
            "[Parallel(n_jobs=-1)]: Done  81 tasks      | elapsed:  2.5min\n",
            "[Parallel(n_jobs=-1)]: Done  94 tasks      | elapsed:  4.3min\n",
            "[Parallel(n_jobs=-1)]: Done 109 tasks      | elapsed:  6.2min\n",
            "[Parallel(n_jobs=-1)]: Done 124 tasks      | elapsed:  7.9min\n",
            "[Parallel(n_jobs=-1)]: Done 141 tasks      | elapsed:  9.5min\n",
            "[Parallel(n_jobs=-1)]: Done 158 tasks      | elapsed: 13.0min\n",
            "[Parallel(n_jobs=-1)]: Done 177 tasks      | elapsed: 16.8min\n",
            "[Parallel(n_jobs=-1)]: Done 196 tasks      | elapsed: 25.9min\n",
            "[Parallel(n_jobs=-1)]: Done 217 tasks      | elapsed: 32.0min\n",
            "[Parallel(n_jobs=-1)]: Done 240 out of 240 | elapsed: 49.7min finished\n"
          ],
          "name": "stderr"
        },
        {
          "output_type": "stream",
          "text": [
            "testing on Dataset 1\n",
            "testing on Dataset 2\n",
            "testing on Dataset 3\n"
          ],
          "name": "stdout"
        }
      ]
    },
    {
      "cell_type": "code",
      "metadata": {
        "colab": {
          "base_uri": "https://localhost:8080/"
        },
        "id": "noropWn9RvwT",
        "outputId": "4623a1c8-b135-424d-f96a-6d9558cbf023"
      },
      "source": [
        "results"
      ],
      "execution_count": null,
      "outputs": [
        {
          "output_type": "execute_result",
          "data": {
            "text/plain": [
              "[[0.886670344351628, 0.6452243569818623, 0.6928147182384472]]"
            ]
          },
          "metadata": {
            "tags": []
          },
          "execution_count": 42
        }
      ]
    },
    {
      "cell_type": "code",
      "metadata": {
        "id": "5Fg3R8LATl47"
      },
      "source": [
        "feature_names = datasets[0].drop(columns=[\"id\", \"Informativeness\", \"text_processed\"]).columns"
      ],
      "execution_count": null,
      "outputs": []
    },
    {
      "cell_type": "code",
      "metadata": {
        "id": "2YCexIEhTzEW"
      },
      "source": [
        "feature_coef = gs_clf.best_estimator_.coef_[0][-len(feature_names):]"
      ],
      "execution_count": null,
      "outputs": []
    },
    {
      "cell_type": "code",
      "metadata": {
        "colab": {
          "base_uri": "https://localhost:8080/",
          "height": 638
        },
        "id": "Az5UI2CBUFEm",
        "outputId": "a054254c-2501-4e66-fcb1-c5b4657f98f6"
      },
      "source": [
        "# feature_names = best_clf.best_estimator_[0].get_feature_names() \n",
        "# coefs = best_clf.best_estimator_[-1].coef_[0]\n",
        "coefs_with_fns = sorted(zip(feature_coef, feature_names)) \n",
        "df=pd.DataFrame(coefs_with_fns)\n",
        "df.columns='coefficient','word'\n",
        "df.sort_values(by='coefficient')"
      ],
      "execution_count": null,
      "outputs": [
        {
          "output_type": "execute_result",
          "data": {
            "text/html": [
              "<div>\n",
              "<style scoped>\n",
              "    .dataframe tbody tr th:only-of-type {\n",
              "        vertical-align: middle;\n",
              "    }\n",
              "\n",
              "    .dataframe tbody tr th {\n",
              "        vertical-align: top;\n",
              "    }\n",
              "\n",
              "    .dataframe thead th {\n",
              "        text-align: right;\n",
              "    }\n",
              "</style>\n",
              "<table border=\"1\" class=\"dataframe\">\n",
              "  <thead>\n",
              "    <tr style=\"text-align: right;\">\n",
              "      <th></th>\n",
              "      <th>coefficient</th>\n",
              "      <th>word</th>\n",
              "    </tr>\n",
              "  </thead>\n",
              "  <tbody>\n",
              "    <tr>\n",
              "      <th>0</th>\n",
              "      <td>-0.196231</td>\n",
              "      <td>hashtag_count</td>\n",
              "    </tr>\n",
              "    <tr>\n",
              "      <th>1</th>\n",
              "      <td>-0.073475</td>\n",
              "      <td>favourites_count</td>\n",
              "    </tr>\n",
              "    <tr>\n",
              "      <th>2</th>\n",
              "      <td>-0.033447</td>\n",
              "      <td>has_profanity</td>\n",
              "    </tr>\n",
              "    <tr>\n",
              "      <th>3</th>\n",
              "      <td>-0.027885</td>\n",
              "      <td>slang_present</td>\n",
              "    </tr>\n",
              "    <tr>\n",
              "      <th>4</th>\n",
              "      <td>-0.021605</td>\n",
              "      <td>favorite_count</td>\n",
              "    </tr>\n",
              "    <tr>\n",
              "      <th>5</th>\n",
              "      <td>-0.018142</td>\n",
              "      <td>is_RT</td>\n",
              "    </tr>\n",
              "    <tr>\n",
              "      <th>6</th>\n",
              "      <td>-0.010608</td>\n",
              "      <td>default_profile</td>\n",
              "    </tr>\n",
              "    <tr>\n",
              "      <th>7</th>\n",
              "      <td>-0.004776</td>\n",
              "      <td>friends_count</td>\n",
              "    </tr>\n",
              "    <tr>\n",
              "      <th>8</th>\n",
              "      <td>0.000000</td>\n",
              "      <td>protected</td>\n",
              "    </tr>\n",
              "    <tr>\n",
              "      <th>9</th>\n",
              "      <td>0.003077</td>\n",
              "      <td>retweet_count</td>\n",
              "    </tr>\n",
              "    <tr>\n",
              "      <th>10</th>\n",
              "      <td>0.004580</td>\n",
              "      <td>emoji_present</td>\n",
              "    </tr>\n",
              "    <tr>\n",
              "      <th>11</th>\n",
              "      <td>0.017047</td>\n",
              "      <td>listed_count</td>\n",
              "    </tr>\n",
              "    <tr>\n",
              "      <th>12</th>\n",
              "      <td>0.041094</td>\n",
              "      <td>default_profile_image</td>\n",
              "    </tr>\n",
              "    <tr>\n",
              "      <th>13</th>\n",
              "      <td>0.066604</td>\n",
              "      <td>followers_count</td>\n",
              "    </tr>\n",
              "    <tr>\n",
              "      <th>14</th>\n",
              "      <td>0.075192</td>\n",
              "      <td>tweet_type</td>\n",
              "    </tr>\n",
              "    <tr>\n",
              "      <th>15</th>\n",
              "      <td>0.131303</td>\n",
              "      <td>verified</td>\n",
              "    </tr>\n",
              "    <tr>\n",
              "      <th>16</th>\n",
              "      <td>0.148878</td>\n",
              "      <td>bio_has_url</td>\n",
              "    </tr>\n",
              "    <tr>\n",
              "      <th>17</th>\n",
              "      <td>0.148878</td>\n",
              "      <td>has_description</td>\n",
              "    </tr>\n",
              "    <tr>\n",
              "      <th>18</th>\n",
              "      <td>0.322990</td>\n",
              "      <td>statuses_count</td>\n",
              "    </tr>\n",
              "  </tbody>\n",
              "</table>\n",
              "</div>"
            ],
            "text/plain": [
              "    coefficient                   word\n",
              "0     -0.196231          hashtag_count\n",
              "1     -0.073475       favourites_count\n",
              "2     -0.033447          has_profanity\n",
              "3     -0.027885          slang_present\n",
              "4     -0.021605         favorite_count\n",
              "5     -0.018142                  is_RT\n",
              "6     -0.010608        default_profile\n",
              "7     -0.004776          friends_count\n",
              "8      0.000000              protected\n",
              "9      0.003077          retweet_count\n",
              "10     0.004580          emoji_present\n",
              "11     0.017047           listed_count\n",
              "12     0.041094  default_profile_image\n",
              "13     0.066604        followers_count\n",
              "14     0.075192             tweet_type\n",
              "15     0.131303               verified\n",
              "16     0.148878            bio_has_url\n",
              "17     0.148878        has_description\n",
              "18     0.322990         statuses_count"
            ]
          },
          "metadata": {
            "tags": []
          },
          "execution_count": 58
        }
      ]
    },
    {
      "cell_type": "code",
      "metadata": {
        "id": "-P450rSrTVFI"
      },
      "source": [
        "df.to_csv(\"bert_feature_importance.csv\")"
      ],
      "execution_count": null,
      "outputs": []
    },
    {
      "cell_type": "code",
      "metadata": {
        "colab": {
          "base_uri": "https://localhost:8080/"
        },
        "id": "xnztgXvCTJob",
        "outputId": "02374c24-a2cf-41cf-9f08-9256a6ec250d"
      },
      "source": [
        "len(gs_clf.best_estimator_.coef_[0])"
      ],
      "execution_count": null,
      "outputs": [
        {
          "output_type": "execute_result",
          "data": {
            "text/plain": [
              "787"
            ]
          },
          "metadata": {
            "tags": []
          },
          "execution_count": 45
        }
      ]
    },
    {
      "cell_type": "code",
      "metadata": {
        "colab": {
          "base_uri": "https://localhost:8080/"
        },
        "id": "kXdZ7uwBoO17",
        "outputId": "fe2f14b1-fa59-412e-ec4c-a09856f7d689"
      },
      "source": [
        "gs_clf.best_params_"
      ],
      "execution_count": null,
      "outputs": [
        {
          "output_type": "execute_result",
          "data": {
            "text/plain": [
              "{'alpha': 0.001, 'loss': 'log', 'max_iter': 100, 'penalty': 'l2'}"
            ]
          },
          "metadata": {
            "tags": []
          },
          "execution_count": 47
        }
      ]
    },
    {
      "cell_type": "code",
      "metadata": {
        "id": "RAlvnjjTjjLX"
      },
      "source": [
        "# [[0.8825406547817293, 0.6600696245294636, 0.6908152173913044]]"
      ],
      "execution_count": null,
      "outputs": []
    },
    {
      "cell_type": "code",
      "metadata": {
        "id": "fos42lBNZZC4"
      },
      "source": [
        "dataset_names={0:\"crisislex\",1:\"crisisnlp_crisismmd\",2:\"news_notNews\",3:\"Covid_WNUT\", 4:\"crisisnlp_Sandy_Japolin\", 5:\"crisisnlp_19Crisis\"}\n",
        "\n",
        "df = pd.DataFrame(results)\n",
        "df.columns= map( lambda x: dataset_names[x],df.columns)\n",
        "df.index= map( lambda x: dataset_names[x],df.index)"
      ],
      "execution_count": null,
      "outputs": []
    },
    {
      "cell_type": "code",
      "metadata": {
        "colab": {
          "base_uri": "https://localhost:8080/",
          "height": 299
        },
        "id": "-xcZy3SdZ0z_",
        "outputId": "df8357d2-5e9f-43b7-d69e-396933193c06"
      },
      "source": [
        "sns.heatmap(df, annot=True).set_title('Distilbert with user features and context not dropping anything')\n"
      ],
      "execution_count": null,
      "outputs": [
        {
          "output_type": "execute_result",
          "data": {
            "text/plain": [
              "Text(0.5, 1.0, 'Distilbert with user features and context not dropping anything')"
            ]
          },
          "metadata": {
            "tags": []
          },
          "execution_count": 35
        },
        {
          "output_type": "display_data",
          "data": {
            "image/png": "[encoded data removed]",
            "text/plain": [
              "<Figure size 432x288 with 2 Axes>"
            ]
          },
          "metadata": {
            "tags": [],
            "needs_background": "light"
          }
        }
      ]
    },
    {
      "cell_type": "code",
      "metadata": {
        "id": "hPDBWTkjdpbd"
      },
      "source": [
        ""
      ],
      "execution_count": null,
      "outputs": []
    }
  ]
}