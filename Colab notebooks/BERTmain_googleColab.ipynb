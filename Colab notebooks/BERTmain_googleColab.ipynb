{
  "nbformat": 4,
  "nbformat_minor": 0,
  "metadata": {
    "colab": {
      "name": "BERTmain.ipynb",
      "provenance": [],
      "collapsed_sections": []
    },
    "kernelspec": {
      "name": "python3",
      "display_name": "Python 3"
    },
    "accelerator": "GPU"
  },
  "cells": [
    {
      "cell_type": "code",
      "metadata": {
        "id": "DB3sHHF9WgRP",
        "colab": {
          "base_uri": "https://localhost:8080/"
        },
        "outputId": "cf09c455-fec0-49e0-fe42-26a91b3e3e8d"
      },
      "source": [
        "!pip install -U sentence-transformers"
      ],
      "execution_count": null,
      "outputs": [
        {
          "output_type": "stream",
          "text": [
            "Collecting sentence-transformers\n",
            "\u001b[?25l  Downloading https://files.pythonhosted.org/packages/f5/5a/6e41e8383913dd2ba923cdcd02be2e03911595f4d2f9de559ecbed80d2d3/sentence-transformers-0.3.9.tar.gz (64kB)\n",
            "\u001b[K     |████████████████████████████████| 71kB 5.8MB/s \n",
            "\u001b[?25hCollecting transformers<3.6.0,>=3.1.0\n",
            "\u001b[?25l  Downloading https://files.pythonhosted.org/packages/3a/83/e74092e7f24a08d751aa59b37a9fc572b2e4af3918cb66f7766c3affb1b4/transformers-3.5.1-py3-none-any.whl (1.3MB)\n",
            "\u001b[K     |████████████████████████████████| 1.3MB 11.3MB/s \n",
            "\u001b[?25hRequirement already satisfied, skipping upgrade: tqdm in /usr/local/lib/python3.6/dist-packages (from sentence-transformers) (4.41.1)\n",
            "Requirement already satisfied, skipping upgrade: torch>=1.6.0 in /usr/local/lib/python3.6/dist-packages (from sentence-transformers) (1.7.0+cu101)\n",
            "Requirement already satisfied, skipping upgrade: numpy in /usr/local/lib/python3.6/dist-packages (from sentence-transformers) (1.18.5)\n",
            "Requirement already satisfied, skipping upgrade: scikit-learn in /usr/local/lib/python3.6/dist-packages (from sentence-transformers) (0.22.2.post1)\n",
            "Requirement already satisfied, skipping upgrade: scipy in /usr/local/lib/python3.6/dist-packages (from sentence-transformers) (1.4.1)\n",
            "Requirement already satisfied, skipping upgrade: nltk in /usr/local/lib/python3.6/dist-packages (from sentence-transformers) (3.2.5)\n",
            "Requirement already satisfied, skipping upgrade: filelock in /usr/local/lib/python3.6/dist-packages (from transformers<3.6.0,>=3.1.0->sentence-transformers) (3.0.12)\n",
            "Collecting sacremoses\n",
            "\u001b[?25l  Downloading https://files.pythonhosted.org/packages/7d/34/09d19aff26edcc8eb2a01bed8e98f13a1537005d31e95233fd48216eed10/sacremoses-0.0.43.tar.gz (883kB)\n",
            "\u001b[K     |████████████████████████████████| 890kB 28.7MB/s \n",
            "\u001b[?25hRequirement already satisfied, skipping upgrade: regex!=2019.12.17 in /usr/local/lib/python3.6/dist-packages (from transformers<3.6.0,>=3.1.0->sentence-transformers) (2019.12.20)\n",
            "Requirement already satisfied, skipping upgrade: dataclasses; python_version < \"3.7\" in /usr/local/lib/python3.6/dist-packages (from transformers<3.6.0,>=3.1.0->sentence-transformers) (0.8)\n",
            "Requirement already satisfied, skipping upgrade: protobuf in /usr/local/lib/python3.6/dist-packages (from transformers<3.6.0,>=3.1.0->sentence-transformers) (3.12.4)\n",
            "Requirement already satisfied, skipping upgrade: requests in /usr/local/lib/python3.6/dist-packages (from transformers<3.6.0,>=3.1.0->sentence-transformers) (2.23.0)\n",
            "Collecting sentencepiece==0.1.91\n",
            "\u001b[?25l  Downloading https://files.pythonhosted.org/packages/d4/a4/d0a884c4300004a78cca907a6ff9a5e9fe4f090f5d95ab341c53d28cbc58/sentencepiece-0.1.91-cp36-cp36m-manylinux1_x86_64.whl (1.1MB)\n",
            "\u001b[K     |████████████████████████████████| 1.1MB 30.3MB/s \n",
            "\u001b[?25hRequirement already satisfied, skipping upgrade: packaging in /usr/local/lib/python3.6/dist-packages (from transformers<3.6.0,>=3.1.0->sentence-transformers) (20.4)\n",
            "Collecting tokenizers==0.9.3\n",
            "\u001b[?25l  Downloading https://files.pythonhosted.org/packages/4c/34/b39eb9994bc3c999270b69c9eea40ecc6f0e97991dba28282b9fd32d44ee/tokenizers-0.9.3-cp36-cp36m-manylinux1_x86_64.whl (2.9MB)\n",
            "\u001b[K     |████████████████████████████████| 2.9MB 51.3MB/s \n",
            "\u001b[?25hRequirement already satisfied, skipping upgrade: typing-extensions in /usr/local/lib/python3.6/dist-packages (from torch>=1.6.0->sentence-transformers) (3.7.4.3)\n",
            "Requirement already satisfied, skipping upgrade: future in /usr/local/lib/python3.6/dist-packages (from torch>=1.6.0->sentence-transformers) (0.16.0)\n",
            "Requirement already satisfied, skipping upgrade: joblib>=0.11 in /usr/local/lib/python3.6/dist-packages (from scikit-learn->sentence-transformers) (0.17.0)\n",
            "Requirement already satisfied, skipping upgrade: six in /usr/local/lib/python3.6/dist-packages (from nltk->sentence-transformers) (1.15.0)\n",
            "Requirement already satisfied, skipping upgrade: click in /usr/local/lib/python3.6/dist-packages (from sacremoses->transformers<3.6.0,>=3.1.0->sentence-transformers) (7.1.2)\n",
            "Requirement already satisfied, skipping upgrade: setuptools in /usr/local/lib/python3.6/dist-packages (from protobuf->transformers<3.6.0,>=3.1.0->sentence-transformers) (50.3.2)\n",
            "Requirement already satisfied, skipping upgrade: urllib3!=1.25.0,!=1.25.1,<1.26,>=1.21.1 in /usr/local/lib/python3.6/dist-packages (from requests->transformers<3.6.0,>=3.1.0->sentence-transformers) (1.24.3)\n",
            "Requirement already satisfied, skipping upgrade: certifi>=2017.4.17 in /usr/local/lib/python3.6/dist-packages (from requests->transformers<3.6.0,>=3.1.0->sentence-transformers) (2020.11.8)\n",
            "Requirement already satisfied, skipping upgrade: chardet<4,>=3.0.2 in /usr/local/lib/python3.6/dist-packages (from requests->transformers<3.6.0,>=3.1.0->sentence-transformers) (3.0.4)\n",
            "Requirement already satisfied, skipping upgrade: idna<3,>=2.5 in /usr/local/lib/python3.6/dist-packages (from requests->transformers<3.6.0,>=3.1.0->sentence-transformers) (2.10)\n",
            "Requirement already satisfied, skipping upgrade: pyparsing>=2.0.2 in /usr/local/lib/python3.6/dist-packages (from packaging->transformers<3.6.0,>=3.1.0->sentence-transformers) (2.4.7)\n",
            "Building wheels for collected packages: sentence-transformers, sacremoses\n",
            "  Building wheel for sentence-transformers (setup.py) ... \u001b[?25l\u001b[?25hdone\n",
            "  Created wheel for sentence-transformers: filename=sentence_transformers-0.3.9-cp36-none-any.whl size=101036 sha256=58bf0e0bfc6fc377fa4d2aeb97ac13d93cff4a1fda975c591018784280725ab3\n",
            "  Stored in directory: /root/.cache/pip/wheels/fc/89/43/f2f5bc00b03ef9724b0f6254a97eaf159a4c4ddc024b33e07a\n",
            "  Building wheel for sacremoses (setup.py) ... \u001b[?25l\u001b[?25hdone\n",
            "  Created wheel for sacremoses: filename=sacremoses-0.0.43-cp36-none-any.whl size=893257 sha256=e3f6f07eb71d406e35b20ee36d59d8897e573b17da9becf42de760a220580f8a\n",
            "  Stored in directory: /root/.cache/pip/wheels/29/3c/fd/7ce5c3f0666dab31a50123635e6fb5e19ceb42ce38d4e58f45\n",
            "Successfully built sentence-transformers sacremoses\n",
            "Installing collected packages: sacremoses, sentencepiece, tokenizers, transformers, sentence-transformers\n",
            "Successfully installed sacremoses-0.0.43 sentence-transformers-0.3.9 sentencepiece-0.1.91 tokenizers-0.9.3 transformers-3.5.1\n"
          ],
          "name": "stdout"
        }
      ]
    },
    {
      "cell_type": "code",
      "metadata": {
        "id": "2mqk_JhLAPvf"
      },
      "source": [
        "import pandas as pd\n",
        "from textblob import TextBlob\n",
        "import glob\n",
        "import re\n",
        "from nltk.corpus import stopwords\n",
        "from nltk.stem.wordnet import WordNetLemmatizer\n",
        "import sklearn\n",
        "from sklearn.metrics import accuracy_score\n",
        "from sklearn.metrics import roc_auc_score\n",
        "from sklearn.metrics import precision_score\n",
        "from sklearn.metrics import recall_score\n",
        "from sklearn.metrics import f1_score\n",
        "from sklearn.metrics import roc_curve\n",
        "from sklearn.model_selection import GridSearchCV\n",
        "from sklearn.linear_model import RidgeClassifier\n",
        "from sklearn.pipeline import Pipeline\n",
        "import numpy as np\n",
        "import seaborn as sns\n",
        "\n",
        "from sklearn.feature_extraction.text import TfidfTransformer\n",
        "from sklearn.feature_extraction.text import CountVectorizer\n",
        "\n"
      ],
      "execution_count": null,
      "outputs": []
    },
    {
      "cell_type": "code",
      "metadata": {
        "colab": {
          "base_uri": "https://localhost:8080/"
        },
        "id": "g14kMMpBAScl",
        "outputId": "099884e4-6676-44e8-8f6d-08a20042942f"
      },
      "source": [
        "import nltk\n",
        "nltk.download('punkt')\n",
        "nltk.download('stopwords')\n",
        "nltk.download('wordnet')\n"
      ],
      "execution_count": null,
      "outputs": [
        {
          "output_type": "stream",
          "text": [
            "[nltk_data] Downloading package punkt to /root/nltk_data...\n",
            "[nltk_data]   Unzipping tokenizers/punkt.zip.\n",
            "[nltk_data] Downloading package stopwords to /root/nltk_data...\n",
            "[nltk_data]   Unzipping corpora/stopwords.zip.\n",
            "[nltk_data] Downloading package wordnet to /root/nltk_data...\n",
            "[nltk_data]   Unzipping corpora/wordnet.zip.\n"
          ],
          "name": "stdout"
        },
        {
          "output_type": "execute_result",
          "data": {
            "text/plain": [
              "True"
            ]
          },
          "metadata": {
            "tags": []
          },
          "execution_count": 3
        }
      ]
    },
    {
      "cell_type": "code",
      "metadata": {
        "id": "ylA02R6r_vq-"
      },
      "source": [
        "def text_processing(tweet):\n",
        "    \n",
        "    tweet= tweet.lower()\n",
        "    \n",
        "    #Removing hyperlinks from the tweet\n",
        "    tweet_no_links=re.sub(r'http\\S+', '', tweet)\n",
        "    \n",
        "    #Generating the list of words in the tweet (hashtags and other punctuations removed)\n",
        "    def form_sentence(tweet):\n",
        "        tweet_blob = TextBlob(tweet)\n",
        "        return ' '.join(tweet_blob.words)\n",
        "    new_tweet = form_sentence(tweet_no_links)\n",
        "    \n",
        "    #Removing stopwords and words with unusual symbols\n",
        "    def no_user_alpha(tweet):\n",
        "        tweet_list = [ele for ele in tweet.split() if ele != 'user']\n",
        "        clean_tokens = [t for t in tweet_list if re.match(r'[^\\W\\d]*$', t)]\n",
        "        clean_s = ' '.join(clean_tokens)\n",
        "        clean_mess = [word for word in clean_s.split() if word not in stopwords.words('english')]\n",
        "        return clean_mess\n",
        "    no_punc_tweet = no_user_alpha(new_tweet)\n",
        "    \n",
        "    #Normalizing the words in tweets \n",
        "    def normalization(tweet_list):\n",
        "        lem = WordNetLemmatizer()\n",
        "        normalized_tweet = []\n",
        "        for word in tweet_list:\n",
        "            normalized_text = lem.lemmatize(word,'v')\n",
        "            normalized_tweet.append(normalized_text)\n",
        "        return \" \".join(normalized_tweet)\n",
        "    \n",
        "    \n",
        "    return normalization(no_punc_tweet)"
      ],
      "execution_count": null,
      "outputs": []
    },
    {
      "cell_type": "code",
      "metadata": {
        "id": "yq5ecqPNAY4e",
        "colab": {
          "base_uri": "https://localhost:8080/"
        },
        "outputId": "3f2d42b4-0e53-489c-e3f9-3a3fe2e8ac7f"
      },
      "source": [
        "all_files = glob.glob(\"./dataset_cleaning/*.pkl\")\n",
        "all_files.sort()\n",
        "training_datasets = []\n",
        "\n",
        "for filename in all_files:\n",
        "    print(filename)\n",
        "    df = pd.read_pickle(filename)\n",
        "    training_datasets.append(df)\n",
        "training_datasets = pd.concat(training_datasets)\n",
        "training_datasets = training_datasets.sample(frac=1).reset_index(drop=True)"
      ],
      "execution_count": null,
      "outputs": [
        {
          "output_type": "stream",
          "text": [
            "./dataset_cleaning/dataset1Cleaned.pkl\n",
            "./dataset_cleaning/dataset2Cleaned.pkl\n",
            "./dataset_cleaning/dataset3Cleaned.pkl\n",
            "./dataset_cleaning/dataset4Cleaned.pkl\n",
            "./dataset_cleaning/dataset5Cleaned.pkl\n",
            "./dataset_cleaning/dataset6Cleaned.pkl\n",
            "./dataset_cleaning/dataset7Cleaned.pkl\n"
          ],
          "name": "stdout"
        }
      ]
    },
    {
      "cell_type": "code",
      "metadata": {
        "id": "5-pO5Q_1kF4r"
      },
      "source": [
        "datasets = []\n",
        "datasets.append(training_datasets)\n",
        "# datasets.append(pd.read_pickle('./dataset_test/dataset4Cleaned.pkl'))\n",
        "# datasets.append(pd.read_pickle('./dataset_test/dataset7Cleaned.pkl'))\n"
      ],
      "execution_count": null,
      "outputs": []
    },
    {
      "cell_type": "code",
      "metadata": {
        "id": "h8mgWco3qJcg"
      },
      "source": [
        "#REMOVE\n",
        "datasets = []\n",
        "datasets.append(pd.read_pickle('./dataset_cleaning/dataset1Cleaned.pkl'))"
      ],
      "execution_count": null,
      "outputs": []
    },
    {
      "cell_type": "code",
      "metadata": {
        "colab": {
          "base_uri": "https://localhost:8080/"
        },
        "id": "iBDhVt5KRcLl",
        "outputId": "ca63f207-2ed7-4022-ca3e-f8e189ee8e99"
      },
      "source": [
        "for i,ds in enumerate(datasets):\n",
        "    print(\"Processing dataset {}\".format(i+1))\n",
        "    ds['text_processed']=ds['text'].apply(text_processing)"
      ],
      "execution_count": null,
      "outputs": [
        {
          "output_type": "stream",
          "text": [
            "Processing dataset 1\n"
          ],
          "name": "stdout"
        }
      ]
    },
    {
      "cell_type": "code",
      "metadata": {
        "id": "YbivdGAhLMD1"
      },
      "source": [
        "# pd.to_pickle(datasets,'./datasets_processed_text.pkl')"
      ],
      "execution_count": null,
      "outputs": []
    },
    {
      "cell_type": "code",
      "metadata": {
        "colab": {
          "base_uri": "https://localhost:8080/"
        },
        "id": "lf0YAI2BSLf0",
        "outputId": "cbc208d7-915c-4b01-e99d-851ca3721e13"
      },
      "source": [
        "authors=pd.read_csv('./tweet_metadata_full.csv')\n",
        "authors.drop_duplicates(subset=['id'], inplace=True)\n",
        "users=pd.read_csv('./twitter_user_full.csv')\n",
        "users.drop_duplicates(subset=['id'], inplace=True)\n",
        "\n",
        "authors.drop(columns=['Unnamed: 0'], inplace=True)\n",
        "users.drop(columns=[\"Unnamed: 0\",'created_at', 'lang', 'name', 'screen_name', 'location','access'], inplace=True)\n",
        "users.columns=['author_id', 'has_description', 'bio_has_url', 'followers_count', 'friends_count',\n",
        "       'favourites_count', 'listed_count', 'statuses_count', 'protected',\n",
        "       'verified', 'default_profile', 'default_profile_image']"
      ],
      "execution_count": null,
      "outputs": [
        {
          "output_type": "stream",
          "text": [
            "/usr/local/lib/python3.6/dist-packages/IPython/core/interactiveshell.py:2718: DtypeWarning: Columns (3) have mixed types.Specify dtype option on import or set low_memory=False.\n",
            "  interactivity=interactivity, compiler=compiler, result=result)\n"
          ],
          "name": "stderr"
        }
      ]
    },
    {
      "cell_type": "code",
      "metadata": {
        "colab": {
          "base_uri": "https://localhost:8080/"
        },
        "id": "IkDkpqf4WMf3",
        "outputId": "990c0811-66db-4b70-b9ab-4fd62baac697"
      },
      "source": [
        "mean=['retweet_count','favorite_count','followers_count', 'friends_count', 'listed_count', 'favourites_count', 'statuses_count']\n",
        "median = ['tweet_type', 'has_description', 'bio_has_url', 'protected', 'verified','default_profile', 'default_profile_image']\n",
        "\n",
        "\n",
        "for i,ds in enumerate(datasets):\n",
        "    print(\"Processing dataset {}\".format(i+1))\n",
        "    print(len(ds))\n",
        "    ds = pd.merge(ds, authors, on='id', how='left')\n",
        "    print(len(ds))\n",
        "    ds.drop(ds.columns.difference(['id', 'Informativeness', 'text_processed', 'author_id', 'tweet_type', 'retweet_count', 'favorite_count']), 1, inplace=True)\n",
        "\n",
        "\n",
        "\n",
        "    ds = pd.merge(ds, users, on='author_id', how='left')\n",
        "    print(len(ds))\n",
        "\n",
        "    for m in mean:\n",
        "        ds[m][ds['Informativeness'] == 1] = ds[m][ds['Informativeness'] == 1].fillna((ds[m][ds['Informativeness'] == 1].mean()))\n",
        "        ds[m][ds['Informativeness'] == 0] = ds[m][ds['Informativeness'] == 0].fillna((ds[m][ds['Informativeness'] == 0].mean()))\n",
        "    print(len(ds))\n",
        "    for m in median:\n",
        "        ds[m][ds['Informativeness'] == 1] = ds[m][ds['Informativeness'] == 1].fillna((ds[m][ds['Informativeness'] == 1].value_counts().idxmax()))\n",
        "        ds[m][ds['Informativeness'] == 0] = ds[m][ds['Informativeness'] == 0].fillna((ds[m][ds['Informativeness'] == 0].value_counts().idxmax()))\n",
        "    print(len(ds))\n",
        "    ds[\"has_description\"] = ds[\"has_description\"].apply(lambda x: 0 if x is np.nan else 1)\n",
        "    ds[\"tweet_type\"] = ds[\"tweet_type\"].apply(lambda x: 0 if x =='tweet' else 1)\n",
        "    ds[\"bio_has_url\"] = ds[\"bio_has_url\"].apply(lambda x: 0 if x is np.nan else 1)\n",
        "\n",
        "    ds = ds.drop(columns=['author_id'])\n",
        "    print(len(ds))\n",
        "\n",
        "    datasets[i] = ds\n",
        "    "
      ],
      "execution_count": null,
      "outputs": [
        {
          "output_type": "stream",
          "text": [
            "Processing dataset 1\n",
            "18159\n",
            "18159\n",
            "18159\n",
            "18159\n",
            "18159\n",
            "18159\n"
          ],
          "name": "stdout"
        },
        {
          "output_type": "stream",
          "text": [
            "/usr/local/lib/python3.6/dist-packages/ipykernel_launcher.py:18: SettingWithCopyWarning: \n",
            "A value is trying to be set on a copy of a slice from a DataFrame\n",
            "\n",
            "See the caveats in the documentation: https://pandas.pydata.org/pandas-docs/stable/user_guide/indexing.html#returning-a-view-versus-a-copy\n",
            "/usr/local/lib/python3.6/dist-packages/ipykernel_launcher.py:19: SettingWithCopyWarning: \n",
            "A value is trying to be set on a copy of a slice from a DataFrame\n",
            "\n",
            "See the caveats in the documentation: https://pandas.pydata.org/pandas-docs/stable/user_guide/indexing.html#returning-a-view-versus-a-copy\n",
            "/usr/local/lib/python3.6/dist-packages/ipykernel_launcher.py:18: SettingWithCopyWarning: \n",
            "A value is trying to be set on a copy of a slice from a DataFrame\n",
            "\n",
            "See the caveats in the documentation: https://pandas.pydata.org/pandas-docs/stable/user_guide/indexing.html#returning-a-view-versus-a-copy\n",
            "/usr/local/lib/python3.6/dist-packages/ipykernel_launcher.py:18: SettingWithCopyWarning: \n",
            "A value is trying to be set on a copy of a slice from a DataFrame\n",
            "\n",
            "See the caveats in the documentation: https://pandas.pydata.org/pandas-docs/stable/user_guide/indexing.html#returning-a-view-versus-a-copy\n",
            "/usr/local/lib/python3.6/dist-packages/ipykernel_launcher.py:18: SettingWithCopyWarning: \n",
            "A value is trying to be set on a copy of a slice from a DataFrame\n",
            "\n",
            "See the caveats in the documentation: https://pandas.pydata.org/pandas-docs/stable/user_guide/indexing.html#returning-a-view-versus-a-copy\n",
            "/usr/local/lib/python3.6/dist-packages/ipykernel_launcher.py:18: SettingWithCopyWarning: \n",
            "A value is trying to be set on a copy of a slice from a DataFrame\n",
            "\n",
            "See the caveats in the documentation: https://pandas.pydata.org/pandas-docs/stable/user_guide/indexing.html#returning-a-view-versus-a-copy\n",
            "/usr/local/lib/python3.6/dist-packages/ipykernel_launcher.py:19: SettingWithCopyWarning: \n",
            "A value is trying to be set on a copy of a slice from a DataFrame\n",
            "\n",
            "See the caveats in the documentation: https://pandas.pydata.org/pandas-docs/stable/user_guide/indexing.html#returning-a-view-versus-a-copy\n",
            "/usr/local/lib/python3.6/dist-packages/ipykernel_launcher.py:18: SettingWithCopyWarning: \n",
            "A value is trying to be set on a copy of a slice from a DataFrame\n",
            "\n",
            "See the caveats in the documentation: https://pandas.pydata.org/pandas-docs/stable/user_guide/indexing.html#returning-a-view-versus-a-copy\n",
            "/usr/local/lib/python3.6/dist-packages/ipykernel_launcher.py:18: SettingWithCopyWarning: \n",
            "A value is trying to be set on a copy of a slice from a DataFrame\n",
            "\n",
            "See the caveats in the documentation: https://pandas.pydata.org/pandas-docs/stable/user_guide/indexing.html#returning-a-view-versus-a-copy\n",
            "/usr/local/lib/python3.6/dist-packages/ipykernel_launcher.py:22: SettingWithCopyWarning: \n",
            "A value is trying to be set on a copy of a slice from a DataFrame\n",
            "\n",
            "See the caveats in the documentation: https://pandas.pydata.org/pandas-docs/stable/user_guide/indexing.html#returning-a-view-versus-a-copy\n",
            "/usr/local/lib/python3.6/dist-packages/ipykernel_launcher.py:23: SettingWithCopyWarning: \n",
            "A value is trying to be set on a copy of a slice from a DataFrame\n",
            "\n",
            "See the caveats in the documentation: https://pandas.pydata.org/pandas-docs/stable/user_guide/indexing.html#returning-a-view-versus-a-copy\n",
            "/usr/local/lib/python3.6/dist-packages/ipykernel_launcher.py:22: SettingWithCopyWarning: \n",
            "A value is trying to be set on a copy of a slice from a DataFrame\n",
            "\n",
            "See the caveats in the documentation: https://pandas.pydata.org/pandas-docs/stable/user_guide/indexing.html#returning-a-view-versus-a-copy\n",
            "/usr/local/lib/python3.6/dist-packages/ipykernel_launcher.py:23: SettingWithCopyWarning: \n",
            "A value is trying to be set on a copy of a slice from a DataFrame\n",
            "\n",
            "See the caveats in the documentation: https://pandas.pydata.org/pandas-docs/stable/user_guide/indexing.html#returning-a-view-versus-a-copy\n",
            "/usr/local/lib/python3.6/dist-packages/ipykernel_launcher.py:22: SettingWithCopyWarning: \n",
            "A value is trying to be set on a copy of a slice from a DataFrame\n",
            "\n",
            "See the caveats in the documentation: https://pandas.pydata.org/pandas-docs/stable/user_guide/indexing.html#returning-a-view-versus-a-copy\n",
            "/usr/local/lib/python3.6/dist-packages/ipykernel_launcher.py:23: SettingWithCopyWarning: \n",
            "A value is trying to be set on a copy of a slice from a DataFrame\n",
            "\n",
            "See the caveats in the documentation: https://pandas.pydata.org/pandas-docs/stable/user_guide/indexing.html#returning-a-view-versus-a-copy\n",
            "/usr/local/lib/python3.6/dist-packages/ipykernel_launcher.py:22: SettingWithCopyWarning: \n",
            "A value is trying to be set on a copy of a slice from a DataFrame\n",
            "\n",
            "See the caveats in the documentation: https://pandas.pydata.org/pandas-docs/stable/user_guide/indexing.html#returning-a-view-versus-a-copy\n",
            "/usr/local/lib/python3.6/dist-packages/ipykernel_launcher.py:22: SettingWithCopyWarning: \n",
            "A value is trying to be set on a copy of a slice from a DataFrame\n",
            "\n",
            "See the caveats in the documentation: https://pandas.pydata.org/pandas-docs/stable/user_guide/indexing.html#returning-a-view-versus-a-copy\n",
            "/usr/local/lib/python3.6/dist-packages/ipykernel_launcher.py:23: SettingWithCopyWarning: \n",
            "A value is trying to be set on a copy of a slice from a DataFrame\n",
            "\n",
            "See the caveats in the documentation: https://pandas.pydata.org/pandas-docs/stable/user_guide/indexing.html#returning-a-view-versus-a-copy\n",
            "/usr/local/lib/python3.6/dist-packages/ipykernel_launcher.py:22: SettingWithCopyWarning: \n",
            "A value is trying to be set on a copy of a slice from a DataFrame\n",
            "\n",
            "See the caveats in the documentation: https://pandas.pydata.org/pandas-docs/stable/user_guide/indexing.html#returning-a-view-versus-a-copy\n",
            "/usr/local/lib/python3.6/dist-packages/ipykernel_launcher.py:22: SettingWithCopyWarning: \n",
            "A value is trying to be set on a copy of a slice from a DataFrame\n",
            "\n",
            "See the caveats in the documentation: https://pandas.pydata.org/pandas-docs/stable/user_guide/indexing.html#returning-a-view-versus-a-copy\n",
            "/usr/local/lib/python3.6/dist-packages/ipykernel_launcher.py:23: SettingWithCopyWarning: \n",
            "A value is trying to be set on a copy of a slice from a DataFrame\n",
            "\n",
            "See the caveats in the documentation: https://pandas.pydata.org/pandas-docs/stable/user_guide/indexing.html#returning-a-view-versus-a-copy\n"
          ],
          "name": "stderr"
        }
      ]
    },
    {
      "cell_type": "code",
      "metadata": {
        "colab": {
          "base_uri": "https://localhost:8080/"
        },
        "id": "HIPJdB-cr6ro",
        "outputId": "69489034-3f62-4231-a8a4-bc563b591a01"
      },
      "source": [
        "len(datasets[0])"
      ],
      "execution_count": null,
      "outputs": [
        {
          "output_type": "execute_result",
          "data": {
            "text/plain": [
              "19308"
            ]
          },
          "metadata": {
            "tags": []
          },
          "execution_count": 45
        }
      ]
    },
    {
      "cell_type": "code",
      "metadata": {
        "id": "6IRzO767LW7j"
      },
      "source": [
        "# pd.to_pickle(datasets,'./datasets_user_merged.pkl')"
      ],
      "execution_count": null,
      "outputs": []
    },
    {
      "cell_type": "code",
      "metadata": {
        "id": "G_HBhwVQGgSj"
      },
      "source": [
        "context=pd.read_csv('./context_annotations.csv')\n",
        "context =context[[\"id\",'domain_name' ,\"entity_name\"]]"
      ],
      "execution_count": null,
      "outputs": []
    },
    {
      "cell_type": "code",
      "metadata": {
        "colab": {
          "base_uri": "https://localhost:8080/",
          "height": 204
        },
        "id": "tXA2NDm-IeYE",
        "outputId": "78fb53a0-6c86-44a5-b3a4-df4d45ac970e"
      },
      "source": [
        "context.head()"
      ],
      "execution_count": null,
      "outputs": [
        {
          "output_type": "execute_result",
          "data": {
            "text/html": [
              "<div>\n",
              "<style scoped>\n",
              "    .dataframe tbody tr th:only-of-type {\n",
              "        vertical-align: middle;\n",
              "    }\n",
              "\n",
              "    .dataframe tbody tr th {\n",
              "        vertical-align: top;\n",
              "    }\n",
              "\n",
              "    .dataframe thead th {\n",
              "        text-align: right;\n",
              "    }\n",
              "</style>\n",
              "<table border=\"1\" class=\"dataframe\">\n",
              "  <thead>\n",
              "    <tr style=\"text-align: right;\">\n",
              "      <th></th>\n",
              "      <th>id</th>\n",
              "      <th>domain_name</th>\n",
              "      <th>entity_name</th>\n",
              "    </tr>\n",
              "  </thead>\n",
              "  <tbody>\n",
              "    <tr>\n",
              "      <th>0</th>\n",
              "      <td>1006567036854599680</td>\n",
              "      <td>Video Game Conference</td>\n",
              "      <td>E3 2018</td>\n",
              "    </tr>\n",
              "    <tr>\n",
              "      <th>1</th>\n",
              "      <td>1006567036854599680</td>\n",
              "      <td>Video Game Conference</td>\n",
              "      <td>E3 2018</td>\n",
              "    </tr>\n",
              "    <tr>\n",
              "      <th>2</th>\n",
              "      <td>1006567069956083712</td>\n",
              "      <td>Brand</td>\n",
              "      <td>Nintendo</td>\n",
              "    </tr>\n",
              "    <tr>\n",
              "      <th>3</th>\n",
              "      <td>1006567069956083712</td>\n",
              "      <td>Product</td>\n",
              "      <td>Nintendo Direct</td>\n",
              "    </tr>\n",
              "    <tr>\n",
              "      <th>4</th>\n",
              "      <td>1006567069956083712</td>\n",
              "      <td>Video Game Conference</td>\n",
              "      <td>E3 2018</td>\n",
              "    </tr>\n",
              "  </tbody>\n",
              "</table>\n",
              "</div>"
            ],
            "text/plain": [
              "                    id            domain_name      entity_name\n",
              "0  1006567036854599680  Video Game Conference          E3 2018\n",
              "1  1006567036854599680  Video Game Conference          E3 2018\n",
              "2  1006567069956083712                  Brand         Nintendo\n",
              "3  1006567069956083712                Product  Nintendo Direct\n",
              "4  1006567069956083712  Video Game Conference          E3 2018"
            ]
          },
          "metadata": {
            "tags": []
          },
          "execution_count": 12
        }
      ]
    },
    {
      "cell_type": "code",
      "metadata": {
        "colab": {
          "base_uri": "https://localhost:8080/"
        },
        "id": "aSu_0yXwIfyW",
        "outputId": "5e56d195-8368-4948-82c7-37ec2f44b591"
      },
      "source": [
        "from sklearn.feature_extraction.text import CountVectorizer\n",
        "\n",
        "# Vevotize each sentance\n",
        "vectorizer_entity = CountVectorizer()\n",
        "vectorizer_entity.fit(context['entity_name'])\n",
        "\n",
        "vectorizer_domain = CountVectorizer()\n",
        "vectorizer_domain.fit(context['domain_name'])"
      ],
      "execution_count": null,
      "outputs": [
        {
          "output_type": "execute_result",
          "data": {
            "text/plain": [
              "CountVectorizer(analyzer='word', binary=False, decode_error='strict',\n",
              "                dtype=<class 'numpy.int64'>, encoding='utf-8', input='content',\n",
              "                lowercase=True, max_df=1.0, max_features=None, min_df=1,\n",
              "                ngram_range=(1, 1), preprocessor=None, stop_words=None,\n",
              "                strip_accents=None, token_pattern='(?u)\\\\b\\\\w\\\\w+\\\\b',\n",
              "                tokenizer=None, vocabulary=None)"
            ]
          },
          "metadata": {
            "tags": []
          },
          "execution_count": 13
        }
      ]
    },
    {
      "cell_type": "code",
      "metadata": {
        "id": "0ICImwOaIixU"
      },
      "source": [
        "grouped_entity = context.groupby(by= 'id')['entity_name'].apply(set)\n",
        "grouped_domain = context.groupby(by= 'id')['domain_name'].apply(set)\n",
        "\n",
        "grouped_entity_vectorized = grouped_entity.apply(lambda x: vectorizer_entity.transform(x).toarray().sum(axis=0))\n",
        "grouped_domain_vectorized = grouped_domain.apply(lambda x: vectorizer_domain.transform(x).toarray().sum(axis=0))"
      ],
      "execution_count": null,
      "outputs": []
    },
    {
      "cell_type": "code",
      "metadata": {
        "colab": {
          "base_uri": "https://localhost:8080/"
        },
        "id": "KXOoFaP-Inyt",
        "outputId": "7f9ab2a1-3a35-4196-f59e-66060684e81b"
      },
      "source": [
        "for i, ds in enumerate(datasets):\n",
        "\n",
        "    print(\"Processing dataset: {}\".format(i+1))\n",
        "    ds = pd.merge(ds, grouped_domain_vectorized, on='id', how='left')\n",
        "    tostack_domain =ds['domain_name'].apply(pd.Series)\n",
        "    tostack_domain = tostack_domain.fillna(0)\n",
        "    ds = pd.concat([ds, tostack_domain], axis=1)\n",
        "    ds = pd.concat([ds,pd.DataFrame(np.zeros((tostack_domain.shape[0],len(vectorizer_domain.vocabulary_)-tostack_domain.shape[1])))], axis=1)\n",
        "    \n",
        "    ds = pd.merge(ds, grouped_entity_vectorized, on='id', how='left')\n",
        "    tostack_entity =ds['entity_name'].apply(pd.Series)\n",
        "    tostack_entity = tostack_entity.fillna(0)\n",
        "    ds = pd.concat([ds, tostack_entity], axis=1)\n",
        "    ds = pd.concat([ds,pd.DataFrame(np.zeros((tostack_entity.shape[0],len(vectorizer_entity.vocabulary_)-tostack_entity.shape[1])))], axis=1)\n",
        "    \n",
        "    \n",
        "    ds.drop(columns=['domain_name', 'entity_name'], inplace=True)\n",
        "    datasets[i] = ds"
      ],
      "execution_count": null,
      "outputs": [
        {
          "output_type": "stream",
          "text": [
            "Processing dataset: 1\n",
            "Processing dataset: 2\n",
            "Processing dataset: 3\n",
            "Processing dataset: 4\n",
            "Processing dataset: 5\n",
            "Processing dataset: 6\n"
          ],
          "name": "stdout"
        }
      ]
    },
    {
      "cell_type": "code",
      "metadata": {
        "colab": {
          "base_uri": "https://localhost:8080/"
        },
        "id": "xpLfIv82JYSF",
        "outputId": "57ca018b-846f-432f-bb52-d36180a49dd4"
      },
      "source": [
        "for ds in datasets:\n",
        "    print(ds.shape)"
      ],
      "execution_count": null,
      "outputs": [
        {
          "output_type": "stream",
          "text": [
            "(19308, 17)\n"
          ],
          "name": "stdout"
        }
      ]
    },
    {
      "cell_type": "code",
      "metadata": {
        "id": "ZtnnZoGOLu1n"
      },
      "source": [
        "pd.to_pickle(datasets,'./datasets_context_merged.pkl')"
      ],
      "execution_count": null,
      "outputs": []
    },
    {
      "cell_type": "code",
      "metadata": {
        "id": "oUCAfy4aMH1e"
      },
      "source": [
        "datasets= pd.read_pickle('./datasets_context_merged.pkl')"
      ],
      "execution_count": null,
      "outputs": []
    },
    {
      "cell_type": "code",
      "metadata": {
        "id": "uMb4tvh9K5cm",
        "colab": {
          "base_uri": "https://localhost:8080/"
        },
        "outputId": "20321662-7fb9-4606-e4dc-b4e6d9ffe3cf"
      },
      "source": [
        "from sentence_transformers import SentenceTransformer\n",
        "st_model = SentenceTransformer('distilbert-base-nli-mean-tokens')"
      ],
      "execution_count": null,
      "outputs": [
        {
          "output_type": "stream",
          "text": [
            "100%|██████████| 245M/245M [00:16<00:00, 15.0MB/s]\n"
          ],
          "name": "stderr"
        }
      ]
    },
    {
      "cell_type": "code",
      "metadata": {
        "colab": {
          "base_uri": "https://localhost:8080/"
        },
        "id": "eyz6Zit1Vn-G",
        "outputId": "c4f37d98-ef39-401e-b9c3-3bad99a8ef04"
      },
      "source": [
        "bert_data =[]\n",
        "for i,ds in enumerate(datasets):\n",
        "    print(\"Calculating BERT embeddings for dataset {}\".format(i+1))\n",
        "    bert_data.append(st_model.encode(ds[\"text_processed\"].values))"
      ],
      "execution_count": null,
      "outputs": [
        {
          "output_type": "stream",
          "text": [
            "Calculating BERT embeddings for dataset 1\n"
          ],
          "name": "stdout"
        }
      ]
    },
    {
      "cell_type": "code",
      "metadata": {
        "id": "A7fIDFoOMbae"
      },
      "source": [
        "pd.to_pickle(bert_data,'./bert_data.pkl')"
      ],
      "execution_count": null,
      "outputs": []
    },
    {
      "cell_type": "code",
      "metadata": {
        "id": "XjFP3kUmNGkN"
      },
      "source": [
        "bert_data= pd.read_pickle('./bert_data.pkl')\n"
      ],
      "execution_count": null,
      "outputs": []
    },
    {
      "cell_type": "code",
      "metadata": {
        "colab": {
          "base_uri": "https://localhost:8080/"
        },
        "id": "7C-R5ChyUIcG",
        "outputId": "9707be89-9e03-4dce-c656-c65408327b61"
      },
      "source": [
        "from sklearn.preprocessing import scale\n",
        "\n",
        "full_datasets=[]\n",
        "y_list =[]\n",
        "for i in range(len(datasets)):\n",
        "  print(\"Splitting dataset {}\".format(i+1))\n",
        "  y_list.append(datasets[i][\"Informativeness\"])\n",
        "  stacked = np.hstack((bert_data[i], datasets[i].drop(columns=[\"id\", \"Informativeness\", \"text_processed\"])))\n",
        "  stacked_scaled = scale(stacked, with_mean= False, axis = 0)\n",
        "  full_datasets.append(stacked_scaled)\n",
        "  \n",
        "\n"
      ],
      "execution_count": null,
      "outputs": [
        {
          "output_type": "stream",
          "text": [
            "Splitting dataset 1\n"
          ],
          "name": "stdout"
        }
      ]
    },
    {
      "cell_type": "code",
      "metadata": {
        "id": "6JoEkE6vXvmW",
        "colab": {
          "base_uri": "https://localhost:8080/"
        },
        "outputId": "741a5dbc-654b-4485-967f-ece03d53f3d4"
      },
      "source": [
        "for ds in full_datasets:\n",
        "    print(ds.shape)"
      ],
      "execution_count": null,
      "outputs": [
        {
          "output_type": "stream",
          "text": [
            "(59054, 782)\n",
            "(8274, 782)\n",
            "(201, 782)\n"
          ],
          "name": "stdout"
        }
      ]
    },
    {
      "cell_type": "code",
      "metadata": {
        "id": "hy5OMJDgKMI8"
      },
      "source": [
        "# pd.to_pickle(full_datasets,'./full_datasets.pkl')\n",
        "# pd.to_pickle(y_list,'./y_list.pkl')\n",
        "\n"
      ],
      "execution_count": null,
      "outputs": []
    },
    {
      "cell_type": "code",
      "metadata": {
        "colab": {
          "base_uri": "https://localhost:8080/"
        },
        "id": "g7wP5omIdzsD",
        "outputId": "7cb0a5f3-86f7-48e0-fe48-06cddebca36b"
      },
      "source": [
        "print(len(X_train))"
      ],
      "execution_count": null,
      "outputs": [
        {
          "output_type": "stream",
          "text": [
            "827\n"
          ],
          "name": "stdout"
        }
      ]
    },
    {
      "cell_type": "code",
      "metadata": {
        "colab": {
          "base_uri": "https://localhost:8080/"
        },
        "id": "SGq0WpljegYw",
        "outputId": "731130b8-ded8-4dc0-f49a-23d10a512dc7"
      },
      "source": [
        "len(full_datasets[1])"
      ],
      "execution_count": null,
      "outputs": [
        {
          "output_type": "execute_result",
          "data": {
            "text/plain": [
              "8274"
            ]
          },
          "metadata": {
            "tags": []
          },
          "execution_count": 33
        }
      ]
    },
    {
      "cell_type": "code",
      "metadata": {
        "colab": {
          "base_uri": "https://localhost:8080/"
        },
        "id": "aT_jKugXoNVM",
        "outputId": "d7c20f7f-505d-4fd8-ac59-19a36ccd2eca"
      },
      "source": [
        "pd.read_pickle('./dataset_cleaning/dataset1Cleaned.pkl').shape"
      ],
      "execution_count": null,
      "outputs": [
        {
          "output_type": "execute_result",
          "data": {
            "text/plain": [
              "(18159, 3)"
            ]
          },
          "metadata": {
            "tags": []
          },
          "execution_count": 32
        }
      ]
    },
    {
      "cell_type": "code",
      "metadata": {
        "colab": {
          "base_uri": "https://localhost:8080/"
        },
        "id": "hZEVntZvq6h0",
        "outputId": "99bfbf17-c346-4fe4-8601-d82135c509d6"
      },
      "source": [
        "full_datasets[0].shape"
      ],
      "execution_count": null,
      "outputs": [
        {
          "output_type": "execute_result",
          "data": {
            "text/plain": [
              "(18159, 782)"
            ]
          },
          "metadata": {
            "tags": []
          },
          "execution_count": 69
        }
      ]
    },
    {
      "cell_type": "code",
      "metadata": {
        "colab": {
          "base_uri": "https://localhost:8080/"
        },
        "id": "LXMd3ijZvZ31",
        "outputId": "3ca058ce-0d88-4549-f41e-620f36c50967"
      },
      "source": [
        "len(y_test)"
      ],
      "execution_count": null,
      "outputs": [
        {
          "output_type": "execute_result",
          "data": {
            "text/plain": [
              "5448"
            ]
          },
          "metadata": {
            "tags": []
          },
          "execution_count": 82
        }
      ]
    },
    {
      "cell_type": "code",
      "metadata": {
        "colab": {
          "base_uri": "https://localhost:8080/"
        },
        "id": "sC5E7N8Kbo6q",
        "outputId": "dff79687-fc5d-4837-d78a-13c1ccaf918b"
      },
      "source": [
        "from sklearn.model_selection import train_test_split\n",
        "\n",
        "X_train, X_test, y_train, y_test = train_test_split(full_datasets[0], y_list[0], test_size=0.30, random_state=69)\n",
        "\n",
        "# X_train_disaster, X_test_disaster, y_train_disaster, y_test_disaster = train_test_split(full_datasets[0], y_list[0], test_size=0.95, random_state=22)\n",
        "\n",
        "# X_train_mixed=np.append(X_train, X_train_disaster, axis=0)\n",
        "# y_train_mixed=np.append(y_train, y_train_disaster, axis=0)\n",
        "\n",
        "# print(\"Xtrain len: {}, mixed len: {}\".format(len(X_train), len(X_train_mixed)))\n",
        "\n",
        "\n",
        "\n",
        "parameters= {\n",
        "'alpha': [1e-4, 1e-3, 1e-2, 1e-1, 1e0, 1e1, 1e2, 1e3], # learning rate\n",
        "'normalize': [True, False]\n",
        "\n",
        "}\n",
        "model = RidgeClassifier()\n",
        "gs_clf = GridSearchCV(model, parameters,scoring='f1',cv=10, n_jobs=-1, verbose=10)\n",
        "gs_clf = gs_clf.fit(X_train, y_train)\n",
        "\n",
        "print(\"non_mixed: \",gs_clf.score(X_test, y_test))\n",
        "\n",
        "# model = RidgeClassifier()\n",
        "# gs_clf = GridSearchCV(model, parameters,scoring='roc_auc',cv=10, n_jobs=-1, verbose=10)\n",
        "# gs_clf = gs_clf.fit(X_train_mixed, y_train_mixed)\n",
        "\n",
        "# print(\"Mixed: \", gs_clf.score(X_test, y_test))\n"
      ],
      "execution_count": null,
      "outputs": [
        {
          "output_type": "stream",
          "text": [
            "Fitting 10 folds for each of 16 candidates, totalling 160 fits\n"
          ],
          "name": "stdout"
        },
        {
          "output_type": "stream",
          "text": [
            "[Parallel(n_jobs=-1)]: Using backend LokyBackend with 2 concurrent workers.\n",
            "[Parallel(n_jobs=-1)]: Done   1 tasks      | elapsed:    0.7s\n",
            "[Parallel(n_jobs=-1)]: Done   4 tasks      | elapsed:    1.3s\n",
            "[Parallel(n_jobs=-1)]: Done   9 tasks      | elapsed:    3.3s\n",
            "[Parallel(n_jobs=-1)]: Done  14 tasks      | elapsed:    4.5s\n",
            "[Parallel(n_jobs=-1)]: Done  21 tasks      | elapsed:    6.9s\n",
            "[Parallel(n_jobs=-1)]: Done  28 tasks      | elapsed:    9.0s\n",
            "[Parallel(n_jobs=-1)]: Done  37 tasks      | elapsed:   11.9s\n",
            "[Parallel(n_jobs=-1)]: Done  46 tasks      | elapsed:   14.7s\n",
            "[Parallel(n_jobs=-1)]: Done  57 tasks      | elapsed:   18.1s\n",
            "[Parallel(n_jobs=-1)]: Done  68 tasks      | elapsed:   21.5s\n",
            "[Parallel(n_jobs=-1)]: Done  81 tasks      | elapsed:   25.5s\n",
            "[Parallel(n_jobs=-1)]: Done  94 tasks      | elapsed:   29.5s\n",
            "[Parallel(n_jobs=-1)]: Done 109 tasks      | elapsed:   34.1s\n",
            "[Parallel(n_jobs=-1)]: Done 124 tasks      | elapsed:   38.7s\n",
            "[Parallel(n_jobs=-1)]: Done 141 tasks      | elapsed:   43.7s\n",
            "[Parallel(n_jobs=-1)]: Done 160 out of 160 | elapsed:   49.6s finished\n"
          ],
          "name": "stderr"
        },
        {
          "output_type": "stream",
          "text": [
            "non_mixed:  0.8730950401773345\n"
          ],
          "name": "stdout"
        }
      ]
    },
    {
      "cell_type": "code",
      "metadata": {
        "colab": {
          "base_uri": "https://localhost:8080/",
          "height": 669
        },
        "id": "2h-CxymBu0zJ",
        "outputId": "574153b2-81d3-4802-a2c0-ea64a2cf3142"
      },
      "source": [
        "coefs_with_fns = sorted(zip(gs_clf.best_estimator_.decision_function(full_datasets[0]), pd.read_pickle('./dataset_cleaning/dataset1Cleaned.pkl')[\"text\"], pd.read_pickle('./dataset_cleaning/dataset1Cleaned.pkl')[\"Informativeness\"]))\n",
        "df=pd.DataFrame(coefs_with_fns)\n",
        "df.columns='coefficient','word', 'Informativeness'\n",
        "df.sort_values(by='coefficient', ascending=False).head(20)"
      ],
      "execution_count": null,
      "outputs": [
        {
          "output_type": "execute_result",
          "data": {
            "text/html": [
              "<div>\n",
              "<style scoped>\n",
              "    .dataframe tbody tr th:only-of-type {\n",
              "        vertical-align: middle;\n",
              "    }\n",
              "\n",
              "    .dataframe tbody tr th {\n",
              "        vertical-align: top;\n",
              "    }\n",
              "\n",
              "    .dataframe thead th {\n",
              "        text-align: right;\n",
              "    }\n",
              "</style>\n",
              "<table border=\"1\" class=\"dataframe\">\n",
              "  <thead>\n",
              "    <tr style=\"text-align: right;\">\n",
              "      <th></th>\n",
              "      <th>coefficient</th>\n",
              "      <th>word</th>\n",
              "      <th>Informativeness</th>\n",
              "    </tr>\n",
              "  </thead>\n",
              "  <tbody>\n",
              "    <tr>\n",
              "      <th>18158</th>\n",
              "      <td>1.966714</td>\n",
              "      <td>Authorities: Fertilizer plant explodes near Wa...</td>\n",
              "      <td>1</td>\n",
              "    </tr>\n",
              "    <tr>\n",
              "      <th>18157</th>\n",
              "      <td>1.962775</td>\n",
              "      <td>#FloodsPH: Cubao underpass now closed to traff...</td>\n",
              "      <td>1</td>\n",
              "    </tr>\n",
              "    <tr>\n",
              "      <th>18156</th>\n",
              "      <td>1.909138</td>\n",
              "      <td>Breaking News:Shots fired out here in LAX airp...</td>\n",
              "      <td>1</td>\n",
              "    </tr>\n",
              "    <tr>\n",
              "      <th>18155</th>\n",
              "      <td>1.896353</td>\n",
              "      <td>Update: Agencies report strong earthquake that...</td>\n",
              "      <td>1</td>\n",
              "    </tr>\n",
              "    <tr>\n",
              "      <th>18154</th>\n",
              "      <td>1.892496</td>\n",
              "      <td>News:  Typhoon Pablo makes landfall in Philipp...</td>\n",
              "      <td>1</td>\n",
              "    </tr>\n",
              "    <tr>\n",
              "      <th>18153</th>\n",
              "      <td>1.862204</td>\n",
              "      <td>Bangladesh factory collapse families search tr...</td>\n",
              "      <td>1</td>\n",
              "    </tr>\n",
              "    <tr>\n",
              "      <th>18152</th>\n",
              "      <td>1.848624</td>\n",
              "      <td>#sghaze: the 3-hour PSI at 290 at 9pm has exce...</td>\n",
              "      <td>1</td>\n",
              "    </tr>\n",
              "    <tr>\n",
              "      <th>18151</th>\n",
              "      <td>1.838406</td>\n",
              "      <td>JUST IN: More than 100 patients have been evac...</td>\n",
              "      <td>1</td>\n",
              "    </tr>\n",
              "    <tr>\n",
              "      <th>18150</th>\n",
              "      <td>1.815691</td>\n",
              "      <td>“@rodmagaru: Use #RescuePH for help rescue, #R...</td>\n",
              "      <td>1</td>\n",
              "    </tr>\n",
              "    <tr>\n",
              "      <th>18149</th>\n",
              "      <td>1.795567</td>\n",
              "      <td>BREAKING: #PabloPH enters PH Area of Responsib...</td>\n",
              "      <td>1</td>\n",
              "    </tr>\n",
              "    <tr>\n",
              "      <th>18148</th>\n",
              "      <td>1.792317</td>\n",
              "      <td>Large wildfire in northern Colorado prompts ev...</td>\n",
              "      <td>1</td>\n",
              "    </tr>\n",
              "    <tr>\n",
              "      <th>18147</th>\n",
              "      <td>1.787170</td>\n",
              "      <td>At least four killed in building collapse afte...</td>\n",
              "      <td>1</td>\n",
              "    </tr>\n",
              "    <tr>\n",
              "      <th>18146</th>\n",
              "      <td>1.773969</td>\n",
              "      <td>BREAKING: Law enforcement officials identify L...</td>\n",
              "      <td>1</td>\n",
              "    </tr>\n",
              "    <tr>\n",
              "      <th>18145</th>\n",
              "      <td>1.772944</td>\n",
              "      <td>Confirmed death toll after collapse of #Bangla...</td>\n",
              "      <td>1</td>\n",
              "    </tr>\n",
              "    <tr>\n",
              "      <th>18144</th>\n",
              "      <td>1.772359</td>\n",
              "      <td>#bigwet Latest BoM flood summary and warnings ...</td>\n",
              "      <td>1</td>\n",
              "    </tr>\n",
              "    <tr>\n",
              "      <th>18143</th>\n",
              "      <td>1.763081</td>\n",
              "      <td>Rescue workers search for survivors in New Yor...</td>\n",
              "      <td>1</td>\n",
              "    </tr>\n",
              "    <tr>\n",
              "      <th>18142</th>\n",
              "      <td>1.750621</td>\n",
              "      <td>#TEXAS EXPLOSION UPDATE: Local media reporting...</td>\n",
              "      <td>1</td>\n",
              "    </tr>\n",
              "    <tr>\n",
              "      <th>18141</th>\n",
              "      <td>1.735453</td>\n",
              "      <td>We’ve updated our Travel Policy due to the inc...</td>\n",
              "      <td>1</td>\n",
              "    </tr>\n",
              "    <tr>\n",
              "      <th>18140</th>\n",
              "      <td>1.734719</td>\n",
              "      <td>Number of dead in earthquake that hit central ...</td>\n",
              "      <td>1</td>\n",
              "    </tr>\n",
              "    <tr>\n",
              "      <th>18139</th>\n",
              "      <td>1.732789</td>\n",
              "      <td>RT @MMDA FLOOD UPDATES: as of 4:33 PM, \\n(MANI...</td>\n",
              "      <td>1</td>\n",
              "    </tr>\n",
              "  </tbody>\n",
              "</table>\n",
              "</div>"
            ],
            "text/plain": [
              "       coefficient  ... Informativeness\n",
              "18158     1.966714  ...               1\n",
              "18157     1.962775  ...               1\n",
              "18156     1.909138  ...               1\n",
              "18155     1.896353  ...               1\n",
              "18154     1.892496  ...               1\n",
              "18153     1.862204  ...               1\n",
              "18152     1.848624  ...               1\n",
              "18151     1.838406  ...               1\n",
              "18150     1.815691  ...               1\n",
              "18149     1.795567  ...               1\n",
              "18148     1.792317  ...               1\n",
              "18147     1.787170  ...               1\n",
              "18146     1.773969  ...               1\n",
              "18145     1.772944  ...               1\n",
              "18144     1.772359  ...               1\n",
              "18143     1.763081  ...               1\n",
              "18142     1.750621  ...               1\n",
              "18141     1.735453  ...               1\n",
              "18140     1.734719  ...               1\n",
              "18139     1.732789  ...               1\n",
              "\n",
              "[20 rows x 3 columns]"
            ]
          },
          "metadata": {
            "tags": []
          },
          "execution_count": 96
        }
      ]
    },
    {
      "cell_type": "code",
      "metadata": {
        "id": "WXVfAJbSnCL9"
      },
      "source": [
        "tot roc: 0.8665521913839828\n",
        "tot f1: 0.8767032015191392\n",
        "crisisnlp f1: 0.883"
      ],
      "execution_count": null,
      "outputs": []
    },
    {
      "cell_type": "code",
      "metadata": {
        "colab": {
          "base_uri": "https://localhost:8080/"
        },
        "id": "5O9jtLiTWvxc",
        "outputId": "b4152061-2887-4bf1-cc3b-2ea7da313415"
      },
      "source": [
        "results=[]\n",
        "for i,ds_train in enumerate(datasets[:1]):\n",
        "\n",
        "    print(\"Training on Dataset {}\".format(i+1))\n",
        "    row=[]\n",
        "\n",
        "    \n",
        "    X_train = full_datasets[i]\n",
        "    y_train = y_list[i]\n",
        "\n",
        "    parameters= {\n",
        "        'alpha': [1e-4, 1e-3, 1e-2, 1e-1, 1e0, 1e1, 1e2, 1e3], # learning rate\n",
        "        'normalize': [True, False]\n",
        "\n",
        "    }\n",
        "    model = RidgeClassifier()\n",
        "    gs_clf = GridSearchCV(model, parameters,scoring='roc_auc',cv=10, n_jobs=-1, verbose=10)\n",
        "    gs_clf = gs_clf.fit(X_train, y_train)\n",
        "\n",
        "    for j,ds_test in enumerate(datasets):\n",
        "\n",
        "        print(\"testing on Dataset {}\".format(j+1))\n",
        "        \n",
        "        X_test = full_datasets[j]\n",
        "        y_test = y_list[j]\n",
        "\n",
        "\n",
        "        row.append(gs_clf.score(X_test, y_test))\n",
        "    results.append(row)"
      ],
      "execution_count": null,
      "outputs": [
        {
          "output_type": "stream",
          "text": [
            "Training on Dataset 1\n",
            "Fitting 10 folds for each of 16 candidates, totalling 160 fits\n"
          ],
          "name": "stdout"
        },
        {
          "output_type": "stream",
          "text": [
            "[Parallel(n_jobs=-1)]: Using backend LokyBackend with 2 concurrent workers.\n",
            "[Parallel(n_jobs=-1)]: Done   1 tasks      | elapsed:    5.4s\n",
            "[Parallel(n_jobs=-1)]: Done   4 tasks      | elapsed:    9.4s\n",
            "[Parallel(n_jobs=-1)]: Done   9 tasks      | elapsed:   20.1s\n",
            "[Parallel(n_jobs=-1)]: Done  14 tasks      | elapsed:   27.4s\n",
            "[Parallel(n_jobs=-1)]: Done  21 tasks      | elapsed:   40.8s\n",
            "[Parallel(n_jobs=-1)]: Done  28 tasks      | elapsed:   52.4s\n",
            "[Parallel(n_jobs=-1)]: Done  37 tasks      | elapsed:  1.1min\n",
            "[Parallel(n_jobs=-1)]: Done  46 tasks      | elapsed:  1.4min\n",
            "[Parallel(n_jobs=-1)]: Done  57 tasks      | elapsed:  1.7min\n",
            "[Parallel(n_jobs=-1)]: Done  68 tasks      | elapsed:  2.1min\n",
            "[Parallel(n_jobs=-1)]: Done  81 tasks      | elapsed:  2.4min\n",
            "[Parallel(n_jobs=-1)]: Done  94 tasks      | elapsed:  2.8min\n",
            "[Parallel(n_jobs=-1)]: Done 109 tasks      | elapsed:  3.3min\n",
            "[Parallel(n_jobs=-1)]: Done 124 tasks      | elapsed:  3.7min\n",
            "[Parallel(n_jobs=-1)]: Done 141 tasks      | elapsed:  4.2min\n",
            "[Parallel(n_jobs=-1)]: Done 160 out of 160 | elapsed:  4.7min finished\n"
          ],
          "name": "stderr"
        },
        {
          "output_type": "stream",
          "text": [
            "testing on Dataset 1\n",
            "testing on Dataset 2\n",
            "testing on Dataset 3\n"
          ],
          "name": "stdout"
        }
      ]
    },
    {
      "cell_type": "code",
      "metadata": {
        "colab": {
          "base_uri": "https://localhost:8080/"
        },
        "id": "AeW4vjDVsSgJ",
        "outputId": "be451a5c-005e-48e4-902c-1a8714ce68c3"
      },
      "source": [
        "print(results)"
      ],
      "execution_count": null,
      "outputs": [
        {
          "output_type": "stream",
          "text": [
            "[[0.8270141840398424, 0.587855214085308, 0.6320330969267139]]\n"
          ],
          "name": "stdout"
        }
      ]
    },
    {
      "cell_type": "code",
      "metadata": {
        "id": "fos42lBNZZC4"
      },
      "source": [
        "dataset_names={0:\"crisislex\",1:\"crisisnlp_crisismmd\",2:\"news_notNews\",3:\"Covid_WNUT\", 4:\"crisisnlp_Sandy_Japolin\", 5:\"crisisnlp_19Crisis\"}\n",
        "\n",
        "df = pd.DataFrame(results)\n",
        "df.columns= map( lambda x: dataset_names[x],df.columns)\n",
        "df.index= map( lambda x: dataset_names[x],df.index)"
      ],
      "execution_count": null,
      "outputs": []
    },
    {
      "cell_type": "code",
      "metadata": {
        "colab": {
          "base_uri": "https://localhost:8080/",
          "height": 404
        },
        "id": "-xcZy3SdZ0z_",
        "outputId": "d9e8420e-8e9d-464e-bed9-c12046c1f6ed"
      },
      "source": [
        "sns.heatmap(df, annot=True).set_title('Distilbert with user features and context not dropping anything')\n"
      ],
      "execution_count": null,
      "outputs": [
        {
          "output_type": "execute_result",
          "data": {
            "text/plain": [
              "Text(0.5, 1.0, 'Distilbert with user features and context not dropping anything')"
            ]
          },
          "metadata": {
            "tags": []
          },
          "execution_count": 9
        },
        {
          "output_type": "display_data",
          "data": {
            "image/png": "[encoded data removed]",
            "text/plain": [
              "<Figure size 432x288 with 2 Axes>"
            ]
          },
          "metadata": {
            "tags": [],
            "needs_background": "light"
          }
        }
      ]
    },
    {
      "cell_type": "code",
      "metadata": {
        "id": "hPDBWTkjdpbd"
      },
      "source": [
        ""
      ],
      "execution_count": null,
      "outputs": []
    }
  ]
}