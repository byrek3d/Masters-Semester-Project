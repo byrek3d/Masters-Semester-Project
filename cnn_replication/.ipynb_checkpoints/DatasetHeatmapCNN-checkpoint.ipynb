{
 "cells": [
  {
   "cell_type": "code",
   "execution_count": 72,
   "metadata": {},
   "outputs": [],
   "source": [
    "import pandas as pd\n",
    "from textblob import TextBlob\n",
    "import glob\n",
    "import re\n",
    "from nltk.corpus import stopwords\n",
    "from nltk.stem.wordnet import WordNetLemmatizer\n",
    "import sklearn\n",
    "from sklearn.metrics import accuracy_score\n",
    "from sklearn.metrics import roc_auc_score\n",
    "from sklearn.metrics import precision_score\n",
    "from sklearn.metrics import recall_score\n",
    "from sklearn.metrics import f1_score\n",
    "from sklearn.metrics import roc_curve\n",
    "from sklearn.model_selection import GridSearchCV\n",
    "from sklearn.pipeline import Pipeline\n",
    "import numpy as np\n",
    "import seaborn as sns\n",
    "\n",
    "from sklearn.feature_extraction.text import TfidfTransformer\n",
    "from sklearn.feature_extraction.text import CountVectorizer\n",
    "\n",
    "from keras.preprocessing.text import Tokenizer\n",
    "from keras.preprocessing.sequence import pad_sequences\n",
    "from keras.utils import to_categorical\n",
    "import gensim\n",
    "from gensim.models import Word2Vec\n",
    "from gensim.utils import simple_preprocess\n",
    "from gensim.models.keyedvectors import KeyedVectors\n",
    "from keras.layers import Dense, Input, GlobalMaxPooling1D\n",
    "from keras.layers import Conv1D, MaxPooling1D, Embedding\n",
    "from keras.models import Model\n",
    "from keras.layers import Input, Dense, Embedding, Conv2D, MaxPooling2D, Dropout,concatenate\n",
    "from keras.layers.core import Reshape, Flatten\n",
    "from keras.callbacks import EarlyStopping\n",
    "from keras.optimizers import Adam\n",
    "from keras.models import Model\n",
    "from keras import regularizers\n",
    "from keras.layers import Embedding\n",
    "from sklearn.metrics import roc_auc_score"
   ]
  },
  {
   "cell_type": "code",
   "execution_count": 83,
   "metadata": {},
   "outputs": [],
   "source": [
    "dataset_names={0:\"crisislex\",1:\"crisisnlp_crisismmd\",2:\"news_notNews\",3:\"Covid_WNUT\", 4:\"crisisnlp_Sandy_Japolin\", 5:\"crisisnlp_19Crisis\", 6:\"200 from Karabakh\"}"
   ]
  },
  {
   "cell_type": "code",
   "execution_count": null,
   "metadata": {},
   "outputs": [],
   "source": []
  },
  {
   "cell_type": "code",
   "execution_count": 27,
   "metadata": {},
   "outputs": [
    {
     "name": "stdout",
     "output_type": "stream",
     "text": [
      "../dataset_cleaning/dataset1Cleaned.pkl\n",
      "../dataset_cleaning/dataset2Cleaned.pkl\n",
      "../dataset_cleaning/dataset3Cleaned.pkl\n",
      "../dataset_cleaning/dataset4Cleaned.pkl\n",
      "../dataset_cleaning/dataset5Cleaned.pkl\n",
      "../dataset_cleaning/dataset6Cleaned.pkl\n",
      "../dataset_cleaning/dataset7Cleaned.pkl\n"
     ]
    }
   ],
   "source": [
    "all_files = glob.glob(\"../dataset_cleaning/*.pkl\")\n",
    "all_files.sort()\n",
    "datasets = []\n",
    "\n",
    "for filename in all_files:\n",
    "    print(filename)\n",
    "    df = pd.read_pickle(filename)\n",
    "    datasets.append(df)\n",
    "\n"
   ]
  },
  {
   "cell_type": "code",
   "execution_count": 29,
   "metadata": {},
   "outputs": [
    {
     "data": {
      "text/plain": [
       "Index(['id', 'Informativeness', 'text', 'positive_score', 'negative_score',\n",
       "       'emotional_devergence_score'],\n",
       "      dtype='object')"
      ]
     },
     "execution_count": 29,
     "metadata": {},
     "output_type": "execute_result"
    }
   ],
   "source": [
    "datasets[0].columns"
   ]
  },
  {
   "cell_type": "code",
   "execution_count": 15,
   "metadata": {},
   "outputs": [
    {
     "name": "stderr",
     "output_type": "stream",
     "text": [
      "/opt/anaconda3/lib/python3.7/site-packages/IPython/core/interactiveshell.py:3063: DtypeWarning: Columns (3) have mixed types.Specify dtype option on import or set low_memory=False.\n",
      "  interactivity=interactivity, compiler=compiler, result=result)\n"
     ]
    }
   ],
   "source": [
    "authors=pd.read_csv('../dataset_cleaning/tj/tweet_metadata_full.csv', index_col=0)\n",
    "users=pd.read_csv('../dataset_cleaning/tj/twitter_user_full.csv',index_col=0)"
   ]
  },
  {
   "cell_type": "code",
   "execution_count": 18,
   "metadata": {},
   "outputs": [],
   "source": [
    "users.drop(columns=['created_at', 'lang', 'name', 'screen_name', 'location','access'], inplace=True)\n",
    "users.columns=['author_id', 'has_description', 'bio_has_url', 'followers_count', 'friends_count',\n",
    "       'favourites_count', 'listed_count', 'statuses_count', 'protected',\n",
    "       'verified', 'default_profile', 'default_profile_image']"
   ]
  },
  {
   "cell_type": "code",
   "execution_count": 30,
   "metadata": {},
   "outputs": [
    {
     "name": "stdout",
     "output_type": "stream",
     "text": [
      "Processing dataset 1\n"
     ]
    },
    {
     "name": "stderr",
     "output_type": "stream",
     "text": [
      "/opt/anaconda3/lib/python3.7/site-packages/ipykernel_launcher.py:18: SettingWithCopyWarning: \n",
      "A value is trying to be set on a copy of a slice from a DataFrame\n",
      "\n",
      "See the caveats in the documentation: https://pandas.pydata.org/pandas-docs/stable/user_guide/indexing.html#returning-a-view-versus-a-copy\n",
      "/opt/anaconda3/lib/python3.7/site-packages/ipykernel_launcher.py:19: SettingWithCopyWarning: \n",
      "A value is trying to be set on a copy of a slice from a DataFrame\n",
      "\n",
      "See the caveats in the documentation: https://pandas.pydata.org/pandas-docs/stable/user_guide/indexing.html#returning-a-view-versus-a-copy\n",
      "/opt/anaconda3/lib/python3.7/site-packages/ipykernel_launcher.py:18: SettingWithCopyWarning: \n",
      "A value is trying to be set on a copy of a slice from a DataFrame\n",
      "\n",
      "See the caveats in the documentation: https://pandas.pydata.org/pandas-docs/stable/user_guide/indexing.html#returning-a-view-versus-a-copy\n",
      "/opt/anaconda3/lib/python3.7/site-packages/ipykernel_launcher.py:18: SettingWithCopyWarning: \n",
      "A value is trying to be set on a copy of a slice from a DataFrame\n",
      "\n",
      "See the caveats in the documentation: https://pandas.pydata.org/pandas-docs/stable/user_guide/indexing.html#returning-a-view-versus-a-copy\n",
      "/opt/anaconda3/lib/python3.7/site-packages/ipykernel_launcher.py:18: SettingWithCopyWarning: \n",
      "A value is trying to be set on a copy of a slice from a DataFrame\n",
      "\n",
      "See the caveats in the documentation: https://pandas.pydata.org/pandas-docs/stable/user_guide/indexing.html#returning-a-view-versus-a-copy\n",
      "/opt/anaconda3/lib/python3.7/site-packages/ipykernel_launcher.py:18: SettingWithCopyWarning: \n",
      "A value is trying to be set on a copy of a slice from a DataFrame\n",
      "\n",
      "See the caveats in the documentation: https://pandas.pydata.org/pandas-docs/stable/user_guide/indexing.html#returning-a-view-versus-a-copy\n",
      "/opt/anaconda3/lib/python3.7/site-packages/ipykernel_launcher.py:19: SettingWithCopyWarning: \n",
      "A value is trying to be set on a copy of a slice from a DataFrame\n",
      "\n",
      "See the caveats in the documentation: https://pandas.pydata.org/pandas-docs/stable/user_guide/indexing.html#returning-a-view-versus-a-copy\n",
      "/opt/anaconda3/lib/python3.7/site-packages/ipykernel_launcher.py:18: SettingWithCopyWarning: \n",
      "A value is trying to be set on a copy of a slice from a DataFrame\n",
      "\n",
      "See the caveats in the documentation: https://pandas.pydata.org/pandas-docs/stable/user_guide/indexing.html#returning-a-view-versus-a-copy\n",
      "/opt/anaconda3/lib/python3.7/site-packages/ipykernel_launcher.py:22: SettingWithCopyWarning: \n",
      "A value is trying to be set on a copy of a slice from a DataFrame\n",
      "\n",
      "See the caveats in the documentation: https://pandas.pydata.org/pandas-docs/stable/user_guide/indexing.html#returning-a-view-versus-a-copy\n",
      "/opt/anaconda3/lib/python3.7/site-packages/ipykernel_launcher.py:23: SettingWithCopyWarning: \n",
      "A value is trying to be set on a copy of a slice from a DataFrame\n",
      "\n",
      "See the caveats in the documentation: https://pandas.pydata.org/pandas-docs/stable/user_guide/indexing.html#returning-a-view-versus-a-copy\n"
     ]
    },
    {
     "name": "stdout",
     "output_type": "stream",
     "text": [
      "Processing dataset 2\n"
     ]
    },
    {
     "name": "stderr",
     "output_type": "stream",
     "text": [
      "/opt/anaconda3/lib/python3.7/site-packages/ipykernel_launcher.py:18: SettingWithCopyWarning: \n",
      "A value is trying to be set on a copy of a slice from a DataFrame\n",
      "\n",
      "See the caveats in the documentation: https://pandas.pydata.org/pandas-docs/stable/user_guide/indexing.html#returning-a-view-versus-a-copy\n",
      "/opt/anaconda3/lib/python3.7/site-packages/ipykernel_launcher.py:19: SettingWithCopyWarning: \n",
      "A value is trying to be set on a copy of a slice from a DataFrame\n",
      "\n",
      "See the caveats in the documentation: https://pandas.pydata.org/pandas-docs/stable/user_guide/indexing.html#returning-a-view-versus-a-copy\n"
     ]
    },
    {
     "name": "stdout",
     "output_type": "stream",
     "text": [
      "Processing dataset 3\n",
      "Processing dataset 4\n",
      "Processing dataset 5\n",
      "Processing dataset 6\n",
      "Processing dataset 7\n"
     ]
    },
    {
     "name": "stderr",
     "output_type": "stream",
     "text": [
      "/opt/anaconda3/lib/python3.7/site-packages/ipykernel_launcher.py:19: SettingWithCopyWarning: \n",
      "A value is trying to be set on a copy of a slice from a DataFrame\n",
      "\n",
      "See the caveats in the documentation: https://pandas.pydata.org/pandas-docs/stable/user_guide/indexing.html#returning-a-view-versus-a-copy\n",
      "/opt/anaconda3/lib/python3.7/site-packages/ipykernel_launcher.py:18: SettingWithCopyWarning: \n",
      "A value is trying to be set on a copy of a slice from a DataFrame\n",
      "\n",
      "See the caveats in the documentation: https://pandas.pydata.org/pandas-docs/stable/user_guide/indexing.html#returning-a-view-versus-a-copy\n",
      "/opt/anaconda3/lib/python3.7/site-packages/ipykernel_launcher.py:18: SettingWithCopyWarning: \n",
      "A value is trying to be set on a copy of a slice from a DataFrame\n",
      "\n",
      "See the caveats in the documentation: https://pandas.pydata.org/pandas-docs/stable/user_guide/indexing.html#returning-a-view-versus-a-copy\n",
      "/opt/anaconda3/lib/python3.7/site-packages/ipykernel_launcher.py:18: SettingWithCopyWarning: \n",
      "A value is trying to be set on a copy of a slice from a DataFrame\n",
      "\n",
      "See the caveats in the documentation: https://pandas.pydata.org/pandas-docs/stable/user_guide/indexing.html#returning-a-view-versus-a-copy\n",
      "/opt/anaconda3/lib/python3.7/site-packages/ipykernel_launcher.py:18: SettingWithCopyWarning: \n",
      "A value is trying to be set on a copy of a slice from a DataFrame\n",
      "\n",
      "See the caveats in the documentation: https://pandas.pydata.org/pandas-docs/stable/user_guide/indexing.html#returning-a-view-versus-a-copy\n",
      "/opt/anaconda3/lib/python3.7/site-packages/ipykernel_launcher.py:19: SettingWithCopyWarning: \n",
      "A value is trying to be set on a copy of a slice from a DataFrame\n",
      "\n",
      "See the caveats in the documentation: https://pandas.pydata.org/pandas-docs/stable/user_guide/indexing.html#returning-a-view-versus-a-copy\n",
      "/opt/anaconda3/lib/python3.7/site-packages/ipykernel_launcher.py:18: SettingWithCopyWarning: \n",
      "A value is trying to be set on a copy of a slice from a DataFrame\n",
      "\n",
      "See the caveats in the documentation: https://pandas.pydata.org/pandas-docs/stable/user_guide/indexing.html#returning-a-view-versus-a-copy\n",
      "/opt/anaconda3/lib/python3.7/site-packages/ipykernel_launcher.py:22: SettingWithCopyWarning: \n",
      "A value is trying to be set on a copy of a slice from a DataFrame\n",
      "\n",
      "See the caveats in the documentation: https://pandas.pydata.org/pandas-docs/stable/user_guide/indexing.html#returning-a-view-versus-a-copy\n",
      "/opt/anaconda3/lib/python3.7/site-packages/ipykernel_launcher.py:23: SettingWithCopyWarning: \n",
      "A value is trying to be set on a copy of a slice from a DataFrame\n",
      "\n",
      "See the caveats in the documentation: https://pandas.pydata.org/pandas-docs/stable/user_guide/indexing.html#returning-a-view-versus-a-copy\n"
     ]
    }
   ],
   "source": [
    "mean=['retweet_count','favorite_count','followers_count', 'friends_count', 'listed_count', 'favourites_count', 'statuses_count']\n",
    "median = ['tweet_type', 'has_description', 'bio_has_url', 'protected', 'verified','default_profile', 'default_profile_image']\n",
    "\n",
    "\n",
    "for i,ds in enumerate(datasets):\n",
    "    print(\"Processing dataset {}\".format(i+1))\n",
    "    ds = pd.merge(ds, authors, on='id', how='left')\n",
    "\n",
    "    ds.drop(ds.columns.difference(['id', 'Informativeness', 'text', 'positive_score', 'negative_score',\n",
    "       'emotional_devergence_score', 'author_id', 'tweet_type', 'retweet_count', 'favorite_count']), 1, inplace=True)\n",
    "\n",
    "\n",
    "\n",
    "    ds = pd.merge(ds, users, on='author_id', how='left')\n",
    "\n",
    "\n",
    "    for m in mean:\n",
    "        ds[m][ds['Informativeness'] == 1] = ds[m][ds['Informativeness'] == 1].fillna((ds[m][ds['Informativeness'] == 1].mean()))\n",
    "        ds[m][ds['Informativeness'] == 0] = ds[m][ds['Informativeness'] == 0].fillna((ds[m][ds['Informativeness'] == 0].mean()))\n",
    "\n",
    "    for m in median:\n",
    "        ds[m][ds['Informativeness'] == 1] = ds[m][ds['Informativeness'] == 1].fillna((ds[m][ds['Informativeness'] == 1].value_counts().idxmax()))\n",
    "        ds[m][ds['Informativeness'] == 0] = ds[m][ds['Informativeness'] == 0].fillna((ds[m][ds['Informativeness'] == 0].value_counts().idxmax()))\n",
    "\n",
    "    ds[\"has_description\"] = ds[\"has_description\"].apply(lambda x: 0 if x is np.nan else 1)\n",
    "    ds[\"tweet_type\"] = ds[\"tweet_type\"].apply(lambda x: 0 if x =='tweet' else 1)\n",
    "    ds[\"bio_has_url\"] = ds[\"bio_has_url\"].apply(lambda x: 0 if x is np.nan else 1)\n",
    "#     PUT THIS BACK\n",
    "#     ds = ds.drop(columns=['id', 'author_id'])\n",
    "    ds = ds.drop(columns=[ 'author_id'])\n",
    "\n",
    "\n",
    "    datasets[i] = ds\n",
    "    \n"
   ]
  },
  {
   "cell_type": "code",
   "execution_count": 32,
   "metadata": {},
   "outputs": [
    {
     "data": {
      "text/plain": [
       "Index(['id', 'Informativeness', 'text', 'positive_score', 'negative_score',\n",
       "       'emotional_devergence_score', 'tweet_type', 'retweet_count',\n",
       "       'favorite_count', 'has_description', 'bio_has_url', 'followers_count',\n",
       "       'friends_count', 'favourites_count', 'listed_count', 'statuses_count',\n",
       "       'protected', 'verified', 'default_profile', 'default_profile_image'],\n",
       "      dtype='object')"
      ]
     },
     "execution_count": 32,
     "metadata": {},
     "output_type": "execute_result"
    }
   ],
   "source": [
    "datasets[0].columns"
   ]
  },
  {
   "cell_type": "code",
   "execution_count": 33,
   "metadata": {},
   "outputs": [],
   "source": [
    "\n",
    "def text_processing(tweet):\n",
    "    \n",
    "    tweet= tweet.lower()\n",
    "    \n",
    "    #Removing hyperlinks from the tweet\n",
    "    tweet_no_links=re.sub(r'http\\S+', '', tweet)\n",
    "    \n",
    "    #Generating the list of words in the tweet (hashtags and other punctuations removed)\n",
    "    def form_sentence(tweet):\n",
    "        tweet_blob = TextBlob(tweet)\n",
    "        return ' '.join(tweet_blob.words)\n",
    "    new_tweet = form_sentence(tweet_no_links)\n",
    "    \n",
    "    #Removing stopwords and words with unusual symbols\n",
    "    def no_user_alpha(tweet):\n",
    "        tweet_list = [ele for ele in tweet.split() if ele != 'user']\n",
    "        clean_tokens = [t for t in tweet_list if re.match(r'[^\\W\\d]*$', t)]\n",
    "        clean_s = ' '.join(clean_tokens)\n",
    "        clean_mess = [word for word in clean_s.split() if word not in stopwords.words('english')]\n",
    "        return clean_mess\n",
    "    no_punc_tweet = no_user_alpha(new_tweet)\n",
    "    \n",
    "    #Normalizing the words in tweets \n",
    "    def normalization(tweet_list):\n",
    "        lem = WordNetLemmatizer()\n",
    "        normalized_tweet = []\n",
    "        for word in tweet_list:\n",
    "            normalized_text = lem.lemmatize(word,'v')\n",
    "            normalized_tweet.append(normalized_text)\n",
    "        return \" \".join(normalized_tweet)\n",
    "    \n",
    "    \n",
    "    return normalization(no_punc_tweet)"
   ]
  },
  {
   "cell_type": "code",
   "execution_count": 34,
   "metadata": {},
   "outputs": [],
   "source": [
    "def count_hashtags(text):\n",
    "    return text.count('#')"
   ]
  },
  {
   "cell_type": "code",
   "execution_count": 35,
   "metadata": {},
   "outputs": [],
   "source": [
    "def link_present(text):\n",
    "    return int('http' in text) "
   ]
  },
  {
   "cell_type": "code",
   "execution_count": 36,
   "metadata": {},
   "outputs": [],
   "source": [
    "import emoji\n",
    "def text_has_emoji(text):\n",
    "    return any(map(text[:-50].__contains__, [':)',':(',':P',':c',':<','c:','<:',':L',':l','^_^','^.^','>_<','>.<','>_>','<_<','>.>','<.<','-.-','-_-','o_o','o.o','._.','owo','OwO',';_;','>:)',':]',':}','>:(','>:|','-.^','-_^','8)','B)','<3','xD',':3','x3','\\o','\\o/',';_;','OwO','uwu','O:)',':#',':*']))"
   ]
  },
  {
   "cell_type": "code",
   "execution_count": 37,
   "metadata": {},
   "outputs": [],
   "source": [
    "def has_instructional_words(text):\n",
    "    return any(map(text.__contains__, [\"text\", 'call', 'donate']))"
   ]
  },
  {
   "cell_type": "code",
   "execution_count": 38,
   "metadata": {},
   "outputs": [],
   "source": [
    "def has_phone_number(text):\n",
    "    return bool(re.search('\\\\d{3}-\\\\d{3}-\\\\d{4}', text))"
   ]
  },
  {
   "cell_type": "code",
   "execution_count": 39,
   "metadata": {},
   "outputs": [],
   "source": [
    "def text_has_slang(text):\n",
    "    for i in text[:-50].split(' '):\n",
    "        for j in ['afaik','afk','asl','atm','atw','ayy','bae','bb','bbiab','bbl','bbs','bc','bf','bff','bork','brb','btw','cba','convo','cp','cya','cya','dank','dc','dem','dw','e2e','fml','FOMO','FTFY','ftl','ftw','fwiw','fyi','g2g','g4u','gf','gg','goml','gr8','gratz','gtfo','guiz','hbu','hru','ianadb','ianalb','ianap','idc','idgaf','idk','iirc','ik','ikr','ily','inb4','irl','jfc','jk','js','k','kappa','kek','kms','kthx','l8r','leet','lmao','lmk','lol','LPT','lrl','lrn2','m8','maga','mfw','mrw','nerf','ngl','nm','nmu','noob','nvm','ofc','omf','omg','omw','ooc','op','OP','orly','pepe','pleb','pleb','plz','pron','pwned','REEEEEE','rekt','rickrol','rip','rly','rms','rofl','rotflol','rtfm','rude','shank','smd','smh','soz','swag','tbf','tbh','tbt','TIFU','tf','tfw','thx','tide','TIL','tl;dr','tmw','tolo','topkek','ty','uwotm8','w00t','wb','wot','wtb','wtf','wtg','wts','wuu2','yarly','ymmv','yolo','yw']:\n",
    "            if(i==j):\n",
    "                return True\n",
    "    return False"
   ]
  },
  {
   "cell_type": "code",
   "execution_count": 40,
   "metadata": {},
   "outputs": [],
   "source": [
    "def is_RT(text):\n",
    "    for i in text[:-50].split(' '):\n",
    "        if(i == 'RT'):\n",
    "            return True\n",
    "    return False"
   ]
  },
  {
   "cell_type": "code",
   "execution_count": 41,
   "metadata": {},
   "outputs": [],
   "source": [
    "def has_profanity(text):\n",
    "    for i in text[:-50].split(' '):\n",
    "        for j in ['acrotomophilia','anal','anilingus','anus','arsehole','ass','asshole','assmunch','auto erotic','autoerotic','babeland','baby batter','ball gag','ball gravy','ball kicking','ball licking','ball sack','ball sucking','bangbros','bareback','barely legal','barenaked','bastardo','bastinado','bbw','bdsm','beaver cleaver','beaver lips','bestiality','bi curious','big black','big breasts','big knockers','big tits','bimbos','birdlock','bitch','black cock','blonde action','blonde on blonde action','blow j','blow your l','blue waffle','blumpkin','bollocks','bondage','boner','boob','boobs','booty call','brown showers','brunette action','bukkake','bulldyke','bullet vibe','bung hole','bunghole','busty','butt','buttcheeks','butthole','camel toe','camgirl','camslut','camwhore','carpet muncher','carpetmuncher','chocolate rosebuds','circlejerk','cleveland steamer','clit','clitoris','clover clamps','clusterfuck','cock','cocks','coprolagnia','coprophilia','cornhole','cum','cumming','cunnilingus','cunt','darkie','date rape','daterape','deep throat','deepthroat','dick','dildo','dirty pillows','dirty sanchez','dog style','doggie style','doggiestyle','doggy style','doggystyle','dolcett','domination','dominatrix','dommes','donkey punch','double dong','double penetration','dp action','eat my ass','ecchi','ejaculation','erotic','erotism','escort','ethical slut','eunuch','faggot','fecal','felch','fellatio','feltch','female squirting','femdom','figging','fingering','fisting','foot fetish','footjob','frotting','fuck','fucking','fuck buttons','fudge packer','fudgepacker','futanari','g-spot','gang bang','gay sex','genitals','giant cock','girl on','girl on top','girls gone wild','goatcx','goatse','gokkun','golden shower','goo girl','goodpoop','goregasm','grope','group sex','guro','hand job','handjob','hard core','hardcore','hentai','homoerotic','honkey','hooker','hot chick','how to kill','how to murder','huge fat','humping','incest','intercourse','jack off','jail bait','jailbait','jerk off','jigaboo','jiggaboo','jiggerboo','jizz','juggs','kike','kinbaku','kinkster','kinky','knobbing','leather restraint','leather straight jacket','lemon party','lolita','lovemaking','make me come','male squirting','masturbate','menage a trois','milf','missionary position','motherfucker','mound of venus','mr hands','muff diver','muffdiving','nambla','nawashi','negro','neonazi','nig nog','nigga','nigger','nimphomania','nipple','nipples','nsfw images','nude','nudity','nympho','nymphomania','octopussy','omorashi','one cup two girls','one guy one jar','orgasm','orgy','paedophile','panties','panty','pedobear','pedophile','pegging','penis','phone sex','piece of shit','piss pig','pissing','pisspig','playboy','pleasure chest','pole smoker','ponyplay','poof','poop chute','poopchute','porn','porno','pornography','prince albert piercing','pthc','pubes','pussy','queaf','raghead','raging boner','rape','raping','rapist','rectum','reverse cowgirl','rimjob','rimming','rosy palm','rosy palm and her 5 sisters','rusty trombone','s&m','sadism','scat','schlong','scissoring','semen','sex','sexo','sexy','shaved beaver','shaved pussy','shemale','shibari','shit','shota','shrimping','slanteye','slut','smut','snatch','snowballing','sodomize','sodomy','spic','spooge','spread legs','strap on','strapon','strappado','strip club','style doggy','suck','sucks','suicide girls','sultry women','swastika','swinger','tainted love','taste my','tea bagging','threesome','throating','tied up','tight white','tit','tits','titties','titty','tongue in a','topless','tosser','towelhead','tranny','tribadism','tub girl','tubgirl','tushy','twat','twink','twinkie','two girls one cup','undressing','upskirt','urethra play','urophilia','vagina','venus mound','vibrator','violet blue','violet wand','vorarephilia','voyeur','vulva','wank','wet dream','wetback','white power','women rapping','wrapping men','wrinkled starfish','xx','xxx','yaoi','yellow showers','yiffy','zoophilia']:\n",
    "            if(i==j):\n",
    "                return True\n",
    "    return False\n"
   ]
  },
  {
   "cell_type": "code",
   "execution_count": 42,
   "metadata": {},
   "outputs": [],
   "source": [
    "def one_word_sentance(text):\n",
    "    return int(len(text.split(\" \"))<=3)"
   ]
  },
  {
   "cell_type": "code",
   "execution_count": 309,
   "metadata": {},
   "outputs": [
    {
     "data": {
      "text/html": [
       "<div>\n",
       "<style scoped>\n",
       "    .dataframe tbody tr th:only-of-type {\n",
       "        vertical-align: middle;\n",
       "    }\n",
       "\n",
       "    .dataframe tbody tr th {\n",
       "        vertical-align: top;\n",
       "    }\n",
       "\n",
       "    .dataframe thead th {\n",
       "        text-align: right;\n",
       "    }\n",
       "</style>\n",
       "<table border=\"1\" class=\"dataframe\">\n",
       "  <thead>\n",
       "    <tr style=\"text-align: right;\">\n",
       "      <th></th>\n",
       "      <th>id</th>\n",
       "      <th>Informativeness</th>\n",
       "      <th>text</th>\n",
       "    </tr>\n",
       "  </thead>\n",
       "  <tbody>\n",
       "    <tr>\n",
       "      <th>0</th>\n",
       "      <td>211040709124440064</td>\n",
       "      <td>0</td>\n",
       "      <td>#Intern #US #TATTOO #Wisconsin #Ohio #NC #PA #...</td>\n",
       "    </tr>\n",
       "    <tr>\n",
       "      <th>1</th>\n",
       "      <td>210864180218167296</td>\n",
       "      <td>0</td>\n",
       "      <td>Get in on the fun every Thursday with the @csi...</td>\n",
       "    </tr>\n",
       "    <tr>\n",
       "      <th>2</th>\n",
       "      <td>211157222699433985</td>\n",
       "      <td>0</td>\n",
       "      <td>Welcome to our newest STUDENTathlete- Reagan B...</td>\n",
       "    </tr>\n",
       "    <tr>\n",
       "      <th>3</th>\n",
       "      <td>211162553659830272</td>\n",
       "      <td>0</td>\n",
       "      <td>Denver Post: #Colorado governor signs bill cre...</td>\n",
       "    </tr>\n",
       "    <tr>\n",
       "      <th>4</th>\n",
       "      <td>211216962162933761</td>\n",
       "      <td>0</td>\n",
       "      <td>Pretty sure I'm going to live in Manitou Sprin...</td>\n",
       "    </tr>\n",
       "  </tbody>\n",
       "</table>\n",
       "</div>"
      ],
      "text/plain": [
       "                   id  Informativeness  \\\n",
       "0  211040709124440064                0   \n",
       "1  210864180218167296                0   \n",
       "2  211157222699433985                0   \n",
       "3  211162553659830272                0   \n",
       "4  211216962162933761                0   \n",
       "\n",
       "                                                text  \n",
       "0  #Intern #US #TATTOO #Wisconsin #Ohio #NC #PA #...  \n",
       "1  Get in on the fun every Thursday with the @csi...  \n",
       "2  Welcome to our newest STUDENTathlete- Reagan B...  \n",
       "3  Denver Post: #Colorado governor signs bill cre...  \n",
       "4  Pretty sure I'm going to live in Manitou Sprin...  "
      ]
     },
     "execution_count": 309,
     "metadata": {},
     "output_type": "execute_result"
    }
   ],
   "source": [
    "datasets[0].head()"
   ]
  },
  {
   "cell_type": "code",
   "execution_count": 43,
   "metadata": {},
   "outputs": [
    {
     "name": "stderr",
     "output_type": "stream",
     "text": [
      "/opt/anaconda3/lib/python3.7/site-packages/tqdm/std.py:703: FutureWarning: The Panel class is removed from pandas. Accessing it from the top-level namespace will also be removed in the next version\n",
      "  from pandas import Panel\n"
     ]
    },
    {
     "name": "stdout",
     "output_type": "stream",
     "text": [
      "Processing dataset 1\n"
     ]
    },
    {
     "name": "stderr",
     "output_type": "stream",
     "text": [
      "100%|██████████| 18154/18154 [01:36<00:00, 188.25it/s]\n"
     ]
    },
    {
     "name": "stdout",
     "output_type": "stream",
     "text": [
      "Processing dataset 2\n"
     ]
    },
    {
     "name": "stderr",
     "output_type": "stream",
     "text": [
      "100%|██████████| 15745/15745 [01:04<00:00, 245.23it/s]\n"
     ]
    },
    {
     "name": "stdout",
     "output_type": "stream",
     "text": [
      "Processing dataset 3\n"
     ]
    },
    {
     "name": "stderr",
     "output_type": "stream",
     "text": [
      "100%|██████████| 2522/2522 [00:13<00:00, 192.19it/s]\n"
     ]
    },
    {
     "name": "stdout",
     "output_type": "stream",
     "text": [
      "Processing dataset 4\n"
     ]
    },
    {
     "name": "stderr",
     "output_type": "stream",
     "text": [
      "100%|██████████| 7929/7929 [01:30<00:00, 87.22it/s] \n",
      "  0%|          | 0/826 [00:00<?, ?it/s]"
     ]
    },
    {
     "name": "stdout",
     "output_type": "stream",
     "text": [
      "Processing dataset 5\n"
     ]
    },
    {
     "name": "stderr",
     "output_type": "stream",
     "text": [
      "100%|██████████| 826/826 [00:04<00:00, 192.16it/s]\n"
     ]
    },
    {
     "name": "stdout",
     "output_type": "stream",
     "text": [
      "Processing dataset 6\n"
     ]
    },
    {
     "name": "stderr",
     "output_type": "stream",
     "text": [
      "100%|██████████| 20101/20101 [01:30<00:00, 221.09it/s]\n",
      "  9%|▉         | 17/194 [00:00<00:01, 164.51it/s]"
     ]
    },
    {
     "name": "stdout",
     "output_type": "stream",
     "text": [
      "Processing dataset 7\n"
     ]
    },
    {
     "name": "stderr",
     "output_type": "stream",
     "text": [
      "100%|██████████| 194/194 [00:01<00:00, 135.12it/s]\n"
     ]
    }
   ],
   "source": [
    "from tqdm import tqdm\n",
    "tqdm.pandas()\n",
    "for i,ds in enumerate(datasets):\n",
    "    print(\"Processing dataset {}\".format(i+1))\n",
    "    \n",
    "    \n",
    "    ds[\"hashtag_count\"]=ds['text'].apply(count_hashtags)\n",
    "\n",
    "    ds[\"hashtag_present\"] = ds[\"hashtag_count\"].apply(lambda x: np.sign(x))\n",
    "\n",
    "    ds[\"link_present\"]=ds['text'].apply(link_present)\n",
    "\n",
    "    ds[\"emoji_present\"] = ds['text'].apply(text_has_emoji)\n",
    "\n",
    "    ds[\"instructinal_keyword\"] = ds['text'].apply(has_instructional_words)\n",
    "\n",
    "    ds[\"contains_phone_number\"] = ds['text'].apply(has_phone_number)\n",
    "\n",
    "    ds[\"slang_present\"] = ds['text'].apply(text_has_slang)\n",
    "\n",
    "    ds[\"is_RT\"] = ds['text'].apply(is_RT)\n",
    "\n",
    "    ds[\"has_profanity\"] = ds['text'].apply(has_profanity)\n",
    "\n",
    "    ds[\"one_word_sentance\"] = ds['text'].apply(one_word_sentance)\n",
    "    \n",
    "    ds['text']=ds['text'].progress_apply(text_processing)"
   ]
  },
  {
   "cell_type": "code",
   "execution_count": 59,
   "metadata": {},
   "outputs": [
    {
     "name": "stdout",
     "output_type": "stream",
     "text": [
      "Dropping not needed columns for dataset 1\n",
      "Dropping not needed columns for dataset 2\n",
      "Dropping not needed columns for dataset 3\n",
      "Dropping not needed columns for dataset 4\n",
      "Dropping not needed columns for dataset 5\n",
      "Dropping not needed columns for dataset 6\n",
      "Dropping not needed columns for dataset 7\n"
     ]
    }
   ],
   "source": [
    "for i,ds in enumerate(datasets):\n",
    "    print(\"Dropping not needed columns for dataset {}\".format(i+1))\n",
    "    datasets[i]=ds.drop(ds.columns.difference(['Informativeness', 'text', 'positive_score', 'negative_score',\n",
    "       'emotional_devergence_score', 'followers_count', 'friends_count',\n",
    "       'favourites_count', 'listed_count', 'statuses_count', 'verified',\n",
    "       'hashtag_count', 'hashtag_present', 'link_present',\n",
    "       'emoji_present', 'instructinal_keyword', 'contains_phone_number',\n",
    "       'slang_present', 'is_RT', 'has_profanity', 'one_word_sentance']), 1)"
   ]
  },
  {
   "cell_type": "code",
   "execution_count": null,
   "metadata": {},
   "outputs": [],
   "source": []
  },
  {
   "cell_type": "code",
   "execution_count": 76,
   "metadata": {},
   "outputs": [],
   "source": [
    "word_vectors = KeyedVectors.load_word2vec_format('../word2vec_data/GoogleNews-vectors-negative300.bin', binary=True)\n",
    "\n",
    "EMBEDDING_DIM=300"
   ]
  },
  {
   "cell_type": "code",
   "execution_count": 71,
   "metadata": {},
   "outputs": [],
   "source": [
    "def build_cnn_model(X_train ):\n",
    "    sequence_length = X_train.shape[1]\n",
    "\n",
    "    filter_sizes = [3,4,5]\n",
    "    num_filters = 150\n",
    "    drop = 0.5\n",
    "\n",
    "\n",
    "\n",
    "    inputs = Input(shape=(sequence_length,))\n",
    "\n",
    "\n",
    "    meta_input = Input(shape=(19,))\n",
    "    embedding = embedding_layer(inputs)\n",
    "    reshape = Reshape((sequence_length,EMBEDDING_DIM,1))(embedding)\n",
    "\n",
    "\n",
    "    conv_0 = Conv2D(num_filters, (filter_sizes[0], EMBEDDING_DIM),activation='relu',kernel_regularizer=regularizers.l2(0.01))(reshape)\n",
    "    conv_1 = Conv2D(num_filters, (filter_sizes[1], EMBEDDING_DIM),activation='relu',kernel_regularizer=regularizers.l2(0.01))(reshape)\n",
    "    conv_2 = Conv2D(num_filters, (filter_sizes[2], EMBEDDING_DIM),activation='relu',kernel_regularizer=regularizers.l2(0.01))(reshape)\n",
    "\n",
    "    maxpool_0 = MaxPooling2D((sequence_length - filter_sizes[0] + 1, 1), strides=(1,1))(conv_0)\n",
    "    maxpool_1 = MaxPooling2D((sequence_length - filter_sizes[1] + 1, 1), strides=(1,1))(conv_1)\n",
    "    maxpool_2 = MaxPooling2D((sequence_length - filter_sizes[2] + 1, 1), strides=(1,1))(conv_2)\n",
    "\n",
    "    merged_tensor = concatenate([maxpool_0, maxpool_1, maxpool_2], axis=1)\n",
    "    flatten = Flatten()(merged_tensor)\n",
    "    reshape = Reshape((3*num_filters,))(flatten)\n",
    "    dropout = Dropout(drop)(flatten)\n",
    "    merged_tensor2 = concatenate([dropout, meta_input])\n",
    "\n",
    "    output = Dense(units=2, activation='softmax',kernel_regularizer=regularizers.l2(0.01))(merged_tensor2)\n",
    "\n",
    "\n",
    "\n",
    "    return Model([inputs , meta_input], output)"
   ]
  },
  {
   "cell_type": "code",
   "execution_count": 79,
   "metadata": {},
   "outputs": [
    {
     "name": "stdout",
     "output_type": "stream",
     "text": [
      "Training on Dataset 1\n",
      "Found 18035 unique tokens.\n",
      "Shape of X train : (18154, 26)\n",
      "Shape of label train : (18154,)\n",
      "Epoch 1/10\n",
      "19/19 [==============================] - 23s 1s/step - loss: 8753.2402 - acc: 0.5760\n",
      "Epoch 2/10\n",
      "19/19 [==============================] - 20s 1s/step - loss: 1488.1228 - acc: 0.6713\n",
      "Epoch 3/10\n",
      "19/19 [==============================] - 21s 1s/step - loss: 1225.7966 - acc: 0.6571\n",
      "Epoch 4/10\n",
      "19/19 [==============================] - 22s 1s/step - loss: 521.1308 - acc: 0.6163\n",
      "Epoch 5/10\n",
      "19/19 [==============================] - 23s 1s/step - loss: 112.2660 - acc: 0.6789\n",
      "Epoch 6/10\n",
      "19/19 [==============================] - 20s 1s/step - loss: 75.5984 - acc: 0.7467\n",
      "Epoch 7/10\n",
      "19/19 [==============================] - 19s 1s/step - loss: 62.7880 - acc: 0.7882\n",
      "Epoch 8/10\n",
      "19/19 [==============================] - 19s 1s/step - loss: 65.4439 - acc: 0.7865\n",
      "testing on Dataset 1\n",
      "testing on Dataset 2\n",
      "testing on Dataset 3\n",
      "testing on Dataset 4\n",
      "testing on Dataset 5\n",
      "testing on Dataset 6\n",
      "testing on Dataset 7\n",
      "Training on Dataset 2\n",
      "Found 18063 unique tokens.\n",
      "Shape of X train : (15745, 19)\n",
      "Shape of label train : (15745,)\n",
      "Epoch 1/10\n",
      "16/16 [==============================] - 12s 770ms/step - loss: 933.8972 - acc: 0.7112\n",
      "Epoch 2/10\n",
      "16/16 [==============================] - 12s 762ms/step - loss: 298.7405 - acc: 0.5513\n",
      "Epoch 3/10\n",
      "16/16 [==============================] - 12s 762ms/step - loss: 102.3581 - acc: 0.5736\n",
      "Epoch 4/10\n",
      "16/16 [==============================] - 13s 786ms/step - loss: 31.9010 - acc: 0.6735\n",
      "Epoch 5/10\n",
      "16/16 [==============================] - 12s 777ms/step - loss: 21.4926 - acc: 0.6431\n",
      "Epoch 6/10\n",
      "16/16 [==============================] - 12s 767ms/step - loss: 40.9866 - acc: 0.6852\n",
      "testing on Dataset 1\n",
      "testing on Dataset 2\n",
      "testing on Dataset 3\n",
      "testing on Dataset 4\n",
      "testing on Dataset 5\n",
      "testing on Dataset 6\n",
      "testing on Dataset 7\n",
      "Training on Dataset 3\n",
      "Found 5669 unique tokens.\n",
      "Shape of X train : (2522, 19)\n",
      "Shape of label train : (2522,)\n",
      "Epoch 1/10\n",
      "3/3 [==============================] - 1s 472ms/step - loss: 1118.4347 - acc: 0.5975\n",
      "Epoch 2/10\n",
      "3/3 [==============================] - 2s 511ms/step - loss: 831.9198 - acc: 0.5979\n",
      "Epoch 3/10\n",
      "3/3 [==============================] - 1s 436ms/step - loss: 652.5142 - acc: 0.6384\n",
      "Epoch 4/10\n",
      "3/3 [==============================] - 1s 414ms/step - loss: 624.9168 - acc: 0.6558\n",
      "Epoch 5/10\n",
      "3/3 [==============================] - 1s 416ms/step - loss: 583.5880 - acc: 0.6618\n",
      "Epoch 6/10\n",
      "3/3 [==============================] - 1s 420ms/step - loss: 548.2880 - acc: 0.6852\n",
      "Epoch 7/10\n",
      "3/3 [==============================] - 1s 415ms/step - loss: 516.5280 - acc: 0.6883\n",
      "Epoch 8/10\n",
      "3/3 [==============================] - 1s 413ms/step - loss: 488.6375 - acc: 0.6911\n",
      "Epoch 9/10\n",
      "3/3 [==============================] - 1s 417ms/step - loss: 452.9436 - acc: 0.6987\n",
      "Epoch 10/10\n",
      "3/3 [==============================] - 1s 428ms/step - loss: 419.3767 - acc: 0.6792\n",
      "testing on Dataset 1\n",
      "testing on Dataset 2\n",
      "testing on Dataset 3\n",
      "testing on Dataset 4\n",
      "testing on Dataset 5\n",
      "testing on Dataset 6\n",
      "testing on Dataset 7\n",
      "Training on Dataset 4\n",
      "Found 16946 unique tokens.\n",
      "Shape of X train : (7929, 464)\n",
      "Shape of label train : (7929,)\n",
      "Epoch 1/10\n",
      "8/8 [==============================] - 147s 18s/step - loss: 891.1545 - acc: 0.4757\n",
      "Epoch 2/10\n",
      "8/8 [==============================] - 144s 18s/step - loss: 346.9876 - acc: 0.5242\n",
      "Epoch 3/10\n",
      "8/8 [==============================] - 148s 19s/step - loss: 194.0637 - acc: 0.5287\n",
      "Epoch 4/10\n",
      "8/8 [==============================] - 145s 18s/step - loss: 117.9325 - acc: 0.5498\n",
      "Epoch 5/10\n",
      "8/8 [==============================] - 147s 18s/step - loss: 81.2325 - acc: 0.5452\n",
      "Epoch 6/10\n",
      "8/8 [==============================] - 150s 19s/step - loss: 47.7677 - acc: 0.5332\n",
      "Epoch 7/10\n",
      "8/8 [==============================] - 144s 18s/step - loss: 33.1192 - acc: 0.5407\n",
      "Epoch 8/10\n",
      "8/8 [==============================] - 145s 18s/step - loss: 27.5563 - acc: 0.5692\n",
      "Epoch 9/10\n",
      "8/8 [==============================] - 144s 18s/step - loss: 25.5557 - acc: 0.5754\n",
      "Epoch 10/10\n",
      "8/8 [==============================] - 144s 18s/step - loss: 22.2054 - acc: 0.6196\n",
      "testing on Dataset 1\n",
      "testing on Dataset 2\n",
      "testing on Dataset 3\n",
      "testing on Dataset 4\n",
      "testing on Dataset 5\n",
      "testing on Dataset 6\n",
      "testing on Dataset 7\n",
      "Training on Dataset 5\n",
      "Found 2260 unique tokens.\n",
      "Shape of X train : (826, 18)\n",
      "Shape of label train : (826,)\n",
      "Epoch 1/10\n",
      "1/1 [==============================] - 0s 1ms/step - loss: 182.7235 - acc: 0.0218\n",
      "Epoch 2/10\n",
      "1/1 [==============================] - 0s 930us/step - loss: 54.4637 - acc: 0.6320\n",
      "Epoch 3/10\n",
      "1/1 [==============================] - 0s 1ms/step - loss: 66.1517 - acc: 0.6477\n",
      "testing on Dataset 1\n",
      "testing on Dataset 2\n",
      "testing on Dataset 3\n",
      "testing on Dataset 4\n",
      "testing on Dataset 5\n",
      "testing on Dataset 6\n",
      "testing on Dataset 7\n",
      "Training on Dataset 6\n",
      "Found 23148 unique tokens.\n",
      "Shape of X train : (20101, 23)\n",
      "Shape of label train : (20101,)\n",
      "Epoch 1/10\n",
      "21/21 [==============================] - 22s 1s/step - loss: 2500.8560 - acc: 0.7884\n",
      "Epoch 2/10\n",
      "21/21 [==============================] - 21s 1s/step - loss: 1943.2566 - acc: 0.8418\n",
      "Epoch 3/10\n",
      "21/21 [==============================] - 21s 989ms/step - loss: 1478.0956 - acc: 0.8738\n",
      "Epoch 4/10\n",
      "21/21 [==============================] - 23s 1s/step - loss: 991.1365 - acc: 0.8774\n",
      "Epoch 5/10\n",
      "21/21 [==============================] - 20s 965ms/step - loss: 519.7790 - acc: 0.8763\n",
      "Epoch 6/10\n",
      "21/21 [==============================] - 20s 964ms/step - loss: 103.5206 - acc: 0.8659\n",
      "Epoch 7/10\n",
      "21/21 [==============================] - 20s 963ms/step - loss: 38.1261 - acc: 0.8673\n",
      "Epoch 8/10\n",
      "21/21 [==============================] - 20s 954ms/step - loss: 21.5290 - acc: 0.8906\n",
      "Epoch 9/10\n",
      "21/21 [==============================] - 20s 970ms/step - loss: 15.1402 - acc: 0.9065\n",
      "Epoch 10/10\n",
      "21/21 [==============================] - 20s 959ms/step - loss: 7.5322 - acc: 0.9387\n",
      "testing on Dataset 1\n",
      "testing on Dataset 2\n",
      "testing on Dataset 3\n",
      "testing on Dataset 4\n",
      "testing on Dataset 5\n",
      "testing on Dataset 6\n",
      "testing on Dataset 7\n",
      "Training on Dataset 7\n",
      "Found 1362 unique tokens.\n",
      "Shape of X train : (194, 31)\n",
      "Shape of label train : (194,)\n",
      "Epoch 1/10\n",
      "1/1 [==============================] - 0s 1ms/step - loss: 1101.9091 - acc: 0.7165\n",
      "Epoch 2/10\n",
      "1/1 [==============================] - 0s 984us/step - loss: 1087.7316 - acc: 0.7216\n",
      "Epoch 3/10\n",
      "1/1 [==============================] - 0s 1ms/step - loss: 1073.5428 - acc: 0.7320\n",
      "Epoch 4/10\n",
      "1/1 [==============================] - 0s 935us/step - loss: 1059.4049 - acc: 0.7216\n",
      "Epoch 5/10\n",
      "1/1 [==============================] - 0s 1ms/step - loss: 1045.2489 - acc: 0.7165\n",
      "Epoch 6/10\n",
      "1/1 [==============================] - 0s 1ms/step - loss: 1031.0935 - acc: 0.7165\n",
      "Epoch 7/10\n",
      "1/1 [==============================] - 0s 932us/step - loss: 1016.9170 - acc: 0.7165\n",
      "Epoch 8/10\n",
      "1/1 [==============================] - 0s 968us/step - loss: 1002.7400 - acc: 0.7165\n",
      "Epoch 9/10\n",
      "1/1 [==============================] - 0s 1ms/step - loss: 988.5038 - acc: 0.7010\n",
      "Epoch 10/10\n",
      "1/1 [==============================] - 0s 998us/step - loss: 974.3702 - acc: 0.7062\n",
      "testing on Dataset 1\n",
      "testing on Dataset 2\n",
      "testing on Dataset 3\n",
      "testing on Dataset 4\n",
      "testing on Dataset 5\n",
      "testing on Dataset 6\n",
      "testing on Dataset 7\n"
     ]
    }
   ],
   "source": [
    "results=[]\n",
    "for i,ds_train in enumerate(datasets):\n",
    "\n",
    "    print(\"Training on Dataset {}\".format(i+1))\n",
    "    row=[]\n",
    "\n",
    "    train=ds_train\n",
    "    texts=train.text\n",
    "    tokenizer = Tokenizer(filters='!\"#$%&()*+,-./:;<=>?@[\\\\]^_`{|}~\\t\\n\\'',\n",
    "                          lower=True)\n",
    "    tokenizer.fit_on_texts(texts)\n",
    "    sequences_train = tokenizer.texts_to_sequences(texts)\n",
    "    word_index = tokenizer.word_index\n",
    "    print('Found %s unique tokens.' % len(word_index))\n",
    "    X_train = pad_sequences(sequences_train)\n",
    "    y_train = np.asarray(train.Informativeness)\n",
    "    print('Shape of X train :', X_train.shape)\n",
    "    print('Shape of label train :', y_train.shape)\n",
    "    \n",
    "    vocabulary_size=len(word_index)+1\n",
    "    embedding_matrix = np.zeros((vocabulary_size, EMBEDDING_DIM))\n",
    "    for word, i in word_index.items():\n",
    "        try:\n",
    "            embedding_vector = word_vectors[word]\n",
    "            embedding_matrix[i] = embedding_vector\n",
    "        except KeyError:\n",
    "            embedding_matrix[i]=np.random.normal(0,np.sqrt(0.25),EMBEDDING_DIM)\n",
    "\n",
    "\n",
    "\n",
    "    embedding_layer = Embedding(vocabulary_size,\n",
    "                                EMBEDDING_DIM,\n",
    "                                weights=[embedding_matrix],\n",
    "                                trainable=True)\n",
    "    \n",
    "    model= build_cnn_model(X_train)\n",
    "\n",
    "    y_train = y_train.reshape(len(y_train), 1)\n",
    "\n",
    "    y_train_extra = np.abs(y_train-1)\n",
    "\n",
    "    X_train_meta = train.to_numpy()[:, 2:].astype('float32')\n",
    "    \n",
    "    model.compile(loss='categorical_crossentropy',\n",
    "              optimizer='adam',\n",
    "              metrics=['acc'])\n",
    "    callbacks = [EarlyStopping(monitor='loss')]\n",
    "    model.fit([X_train, X_train_meta], np.append(y_train, y_train_extra, axis=1), batch_size=1000, epochs=10, verbose=1,\n",
    "             callbacks=callbacks)  \n",
    "\n",
    "    for j,ds_test in enumerate(datasets):\n",
    "\n",
    "        print(\"testing on Dataset {}\".format(j+1))\n",
    "\n",
    "        test=ds_test\n",
    "        sequences_test=tokenizer.texts_to_sequences(test.text)\n",
    "        X_test = pad_sequences(sequences_test,maxlen=X_train.shape[1])\n",
    "        X_test_meta = test.to_numpy()[:, 2:].astype('float32')\n",
    "        y_pred=model.predict([X_test, X_test_meta])\n",
    "        y_pred_bool =(y_pred > 0.5).astype(\"int32\")\n",
    "        y_true = np.asarray(test.Informativeness).reshape(len(test),1)\n",
    "\n",
    "        row.append(roc_auc_score(y_true, y_pred_bool[:,0]))\n",
    "    results.append(row)\n",
    "\n",
    "\n"
   ]
  },
  {
   "cell_type": "code",
   "execution_count": 80,
   "metadata": {},
   "outputs": [
    {
     "data": {
      "text/plain": [
       "[[0.7458439661814209,\n",
       "  0.5750629285216368,\n",
       "  0.5857378739837844,\n",
       "  0.5283071842971239,\n",
       "  0.5235154318013938,\n",
       "  0.5485289456364991,\n",
       "  0.5638325703073904],\n",
       " [0.6172634897021014,\n",
       "  0.5770368149429375,\n",
       "  0.6075769087298539,\n",
       "  0.5185141405717757,\n",
       "  0.5034364261168385,\n",
       "  0.5341455798805688,\n",
       "  0.609744931327665],\n",
       " [0.5552142323793793,\n",
       "  0.6929119281941875,\n",
       "  0.6434921061581841,\n",
       "  0.6325637995082128,\n",
       "  0.5114879403924592,\n",
       "  0.5686774846839523,\n",
       "  0.6013734466971877],\n",
       " [0.5297814855332829,\n",
       "  0.46610397619865523,\n",
       "  0.5405251955632111,\n",
       "  0.6320456333434901,\n",
       "  0.4992163663808331,\n",
       "  0.37037854591910807,\n",
       "  0.5502289077828646],\n",
       " [0.5244338914540811,\n",
       "  0.500086834328739,\n",
       "  0.5012315270935961,\n",
       "  0.4998663816141101,\n",
       "  0.49906542056074765,\n",
       "  0.49997009378357193,\n",
       "  0.5],\n",
       " [0.6524365284450444,\n",
       "  0.5987861776221557,\n",
       "  0.6463775549387254,\n",
       "  0.5201550266872967,\n",
       "  0.6168256415197354,\n",
       "  0.8595068982704721,\n",
       "  0.6000654022236755],\n",
       " [0.5523018654064634,\n",
       "  0.634321054989383,\n",
       "  0.568510894489122,\n",
       "  0.6020051119005315,\n",
       "  0.5,\n",
       "  0.5067556352409435,\n",
       "  0.5606278613472858]]"
      ]
     },
     "execution_count": 80,
     "metadata": {},
     "output_type": "execute_result"
    }
   ],
   "source": [
    "results"
   ]
  },
  {
   "cell_type": "code",
   "execution_count": 84,
   "metadata": {},
   "outputs": [
    {
     "data": {
      "image/png": "[encoded data removed]",
      "text/plain": [
       "<Figure size 432x288 with 2 Axes>"
      ]
     },
     "metadata": {
      "needs_background": "light"
     },
     "output_type": "display_data"
    }
   ],
   "source": [
    "df = pd.DataFrame(results)\n",
    "df.columns= map( lambda x: dataset_names[x],df.columns)\n",
    "df.index= map( lambda x: dataset_names[x],df.index)\n",
    "svm=sns.heatmap(df, annot=True).set_title(\"CNN\")"
   ]
  },
  {
   "cell_type": "code",
   "execution_count": 23,
   "metadata": {},
   "outputs": [
    {
     "data": {
      "text/plain": [
       "<Figure size 432x288 with 0 Axes>"
      ]
     },
     "metadata": {},
     "output_type": "display_data"
    }
   ],
   "source": [
    "import matplotlib.pyplot as plt\n",
    "for i,result in enumerate(results_per_model):\n",
    "    df = pd.DataFrame(result)\n",
    "    df.columns= map( lambda x: dataset_names[x],df.columns)\n",
    "    df.index= map( lambda x: dataset_names[x],df.index)\n",
    "    svm=sns.heatmap(df, annot=True).set_title(model_names[i])\n",
    "    figure = svm.get_figure()    \n",
    "    figure.savefig('./heatmaps/{}.png'.format(model_names[i]), dpi=400)\n",
    "    plt.clf()"
   ]
  },
  {
   "cell_type": "code",
   "execution_count": null,
   "metadata": {},
   "outputs": [],
   "source": [
    "results= pd.read_pickle('./reslist.pkl')\n"
   ]
  },
  {
   "cell_type": "code",
   "execution_count": null,
   "metadata": {},
   "outputs": [],
   "source": [
    "res_auc=list(map( lambda x: list(map(lambda y: y['auc'],x)),results))\n"
   ]
  },
  {
   "cell_type": "code",
   "execution_count": null,
   "metadata": {},
   "outputs": [],
   "source": [
    "df = pd.DataFrame(res_auc)\n",
    "df.columns= map( lambda x: dataset_names[x],df.columns)\n",
    "df.index= map( lambda x: dataset_names[x],df.index)\n"
   ]
  },
  {
   "cell_type": "code",
   "execution_count": null,
   "metadata": {},
   "outputs": [],
   "source": [
    "sns.heatmap(df, annot=True).set_title('DistilBERT')\n"
   ]
  },
  {
   "cell_type": "code",
   "execution_count": null,
   "metadata": {},
   "outputs": [],
   "source": [
    "for i, feature_importance_dataset in enumerate(feature_importance):\n",
    "    feature_importance_dataset.to_csv('./features/{}_features.csv'.format(dataset_names[i]))"
   ]
  },
  {
   "cell_type": "code",
   "execution_count": null,
   "metadata": {},
   "outputs": [],
   "source": []
  },
  {
   "cell_type": "code",
   "execution_count": null,
   "metadata": {},
   "outputs": [],
   "source": []
  },
  {
   "cell_type": "code",
   "execution_count": null,
   "metadata": {},
   "outputs": [],
   "source": []
  }
 ],
 "metadata": {
  "kernelspec": {
   "display_name": "Python 3",
   "language": "python",
   "name": "python3"
  },
  "language_info": {
   "codemirror_mode": {
    "name": "ipython",
    "version": 3
   },
   "file_extension": ".py",
   "mimetype": "text/x-python",
   "name": "python",
   "nbconvert_exporter": "python",
   "pygments_lexer": "ipython3",
   "version": "3.7.6"
  }
 },
 "nbformat": 4,
 "nbformat_minor": 4
}
