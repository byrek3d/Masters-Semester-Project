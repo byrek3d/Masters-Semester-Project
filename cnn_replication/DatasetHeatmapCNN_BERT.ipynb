{
 "cells": [
  {
   "cell_type": "code",
   "execution_count": 1,
   "metadata": {},
   "outputs": [],
   "source": [
    "import pandas as pd\n",
    "from textblob import TextBlob\n",
    "import glob\n",
    "import re\n",
    "from nltk.corpus import stopwords\n",
    "from nltk.stem.wordnet import WordNetLemmatizer\n",
    "import sklearn\n",
    "from sklearn.metrics import accuracy_score\n",
    "from sklearn.metrics import roc_auc_score\n",
    "from sklearn.metrics import precision_score\n",
    "from sklearn.metrics import recall_score\n",
    "from sklearn.metrics import f1_score\n",
    "from sklearn.metrics import roc_curve\n",
    "from sklearn.model_selection import GridSearchCV\n",
    "from sklearn.pipeline import Pipeline\n",
    "import numpy as np\n",
    "import seaborn as sns\n",
    "\n",
    "from sklearn.feature_extraction.text import TfidfTransformer\n",
    "from sklearn.feature_extraction.text import CountVectorizer\n",
    "\n",
    "from keras.preprocessing.text import Tokenizer\n",
    "from keras.preprocessing.sequence import pad_sequences\n",
    "from keras.utils import to_categorical\n",
    "import gensim\n",
    "from gensim.models import Word2Vec\n",
    "from gensim.utils import simple_preprocess\n",
    "from gensim.models.keyedvectors import KeyedVectors\n",
    "from keras.layers import Dense, Input, GlobalMaxPooling1D\n",
    "from keras.layers import Conv1D, MaxPooling1D, Embedding\n",
    "from keras.models import Model\n",
    "from keras.layers import Input, Dense, Embedding, Conv2D, MaxPooling2D, Dropout,concatenate\n",
    "from keras.layers.core import Reshape, Flatten\n",
    "from keras.callbacks import EarlyStopping\n",
    "from keras.optimizers import Adam\n",
    "from keras.models import Model\n",
    "from keras import regularizers\n",
    "from keras.layers import Embedding\n",
    "from sklearn.metrics import roc_auc_score"
   ]
  },
  {
   "cell_type": "code",
   "execution_count": 2,
   "metadata": {},
   "outputs": [],
   "source": [
    "dataset_names={0:\"crisislex\",1:\"crisisnlp_crisismmd\",2:\"news_notNews\",3:\"Covid_WNUT\", 4:\"crisisnlp_Sandy_Japolin\", 5:\"crisisnlp_19Crisis\", 6:\"200 from Karabakh\"}"
   ]
  },
  {
   "cell_type": "code",
   "execution_count": null,
   "metadata": {},
   "outputs": [],
   "source": []
  },
  {
   "cell_type": "code",
   "execution_count": 3,
   "metadata": {},
   "outputs": [
    {
     "name": "stdout",
     "output_type": "stream",
     "text": [
      "../dataset_cleaning/dataset1Cleaned.pkl\n",
      "../dataset_cleaning/dataset2Cleaned.pkl\n",
      "../dataset_cleaning/dataset3Cleaned.pkl\n",
      "../dataset_cleaning/dataset4Cleaned.pkl\n",
      "../dataset_cleaning/dataset5Cleaned.pkl\n",
      "../dataset_cleaning/dataset6Cleaned.pkl\n",
      "../dataset_cleaning/dataset7Cleaned.pkl\n"
     ]
    }
   ],
   "source": [
    "all_files = glob.glob(\"../dataset_cleaning/*.pkl\")\n",
    "all_files.sort()\n",
    "datasets = []\n",
    "\n",
    "for filename in all_files:\n",
    "    print(filename)\n",
    "    df = pd.read_pickle(filename)\n",
    "    datasets.append(df)\n",
    "\n"
   ]
  },
  {
   "cell_type": "code",
   "execution_count": 4,
   "metadata": {},
   "outputs": [
    {
     "data": {
      "text/plain": [
       "Index(['id', 'Informativeness', 'text', 'positive_score', 'negative_score',\n",
       "       'emotional_devergence_score'],\n",
       "      dtype='object')"
      ]
     },
     "execution_count": 4,
     "metadata": {},
     "output_type": "execute_result"
    }
   ],
   "source": [
    "datasets[0].columns"
   ]
  },
  {
   "cell_type": "code",
   "execution_count": 5,
   "metadata": {},
   "outputs": [
    {
     "name": "stderr",
     "output_type": "stream",
     "text": [
      "/opt/anaconda3/lib/python3.7/site-packages/IPython/core/interactiveshell.py:3063: DtypeWarning: Columns (3) have mixed types.Specify dtype option on import or set low_memory=False.\n",
      "  interactivity=interactivity, compiler=compiler, result=result)\n"
     ]
    }
   ],
   "source": [
    "authors=pd.read_csv('../dataset_cleaning/tj/tweet_metadata_full.csv', index_col=0)\n",
    "users=pd.read_csv('../dataset_cleaning/tj/twitter_user_full.csv',index_col=0)"
   ]
  },
  {
   "cell_type": "code",
   "execution_count": 6,
   "metadata": {},
   "outputs": [],
   "source": [
    "users.drop(columns=['created_at', 'lang', 'name', 'screen_name', 'location','access'], inplace=True)\n",
    "users.columns=['author_id', 'has_description', 'bio_has_url', 'followers_count', 'friends_count',\n",
    "       'favourites_count', 'listed_count', 'statuses_count', 'protected',\n",
    "       'verified', 'default_profile', 'default_profile_image']"
   ]
  },
  {
   "cell_type": "code",
   "execution_count": 7,
   "metadata": {},
   "outputs": [
    {
     "name": "stdout",
     "output_type": "stream",
     "text": [
      "Processing dataset 1\n"
     ]
    },
    {
     "name": "stderr",
     "output_type": "stream",
     "text": [
      "/opt/anaconda3/lib/python3.7/site-packages/ipykernel_launcher.py:18: SettingWithCopyWarning: \n",
      "A value is trying to be set on a copy of a slice from a DataFrame\n",
      "\n",
      "See the caveats in the documentation: https://pandas.pydata.org/pandas-docs/stable/user_guide/indexing.html#returning-a-view-versus-a-copy\n",
      "/opt/anaconda3/lib/python3.7/site-packages/ipykernel_launcher.py:19: SettingWithCopyWarning: \n",
      "A value is trying to be set on a copy of a slice from a DataFrame\n",
      "\n",
      "See the caveats in the documentation: https://pandas.pydata.org/pandas-docs/stable/user_guide/indexing.html#returning-a-view-versus-a-copy\n",
      "/opt/anaconda3/lib/python3.7/site-packages/ipykernel_launcher.py:18: SettingWithCopyWarning: \n",
      "A value is trying to be set on a copy of a slice from a DataFrame\n",
      "\n",
      "See the caveats in the documentation: https://pandas.pydata.org/pandas-docs/stable/user_guide/indexing.html#returning-a-view-versus-a-copy\n",
      "/opt/anaconda3/lib/python3.7/site-packages/ipykernel_launcher.py:18: SettingWithCopyWarning: \n",
      "A value is trying to be set on a copy of a slice from a DataFrame\n",
      "\n",
      "See the caveats in the documentation: https://pandas.pydata.org/pandas-docs/stable/user_guide/indexing.html#returning-a-view-versus-a-copy\n",
      "/opt/anaconda3/lib/python3.7/site-packages/ipykernel_launcher.py:18: SettingWithCopyWarning: \n",
      "A value is trying to be set on a copy of a slice from a DataFrame\n",
      "\n",
      "See the caveats in the documentation: https://pandas.pydata.org/pandas-docs/stable/user_guide/indexing.html#returning-a-view-versus-a-copy\n",
      "/opt/anaconda3/lib/python3.7/site-packages/ipykernel_launcher.py:18: SettingWithCopyWarning: \n",
      "A value is trying to be set on a copy of a slice from a DataFrame\n",
      "\n",
      "See the caveats in the documentation: https://pandas.pydata.org/pandas-docs/stable/user_guide/indexing.html#returning-a-view-versus-a-copy\n",
      "/opt/anaconda3/lib/python3.7/site-packages/ipykernel_launcher.py:19: SettingWithCopyWarning: \n",
      "A value is trying to be set on a copy of a slice from a DataFrame\n",
      "\n",
      "See the caveats in the documentation: https://pandas.pydata.org/pandas-docs/stable/user_guide/indexing.html#returning-a-view-versus-a-copy\n",
      "/opt/anaconda3/lib/python3.7/site-packages/ipykernel_launcher.py:18: SettingWithCopyWarning: \n",
      "A value is trying to be set on a copy of a slice from a DataFrame\n",
      "\n",
      "See the caveats in the documentation: https://pandas.pydata.org/pandas-docs/stable/user_guide/indexing.html#returning-a-view-versus-a-copy\n",
      "/opt/anaconda3/lib/python3.7/site-packages/ipykernel_launcher.py:22: SettingWithCopyWarning: \n",
      "A value is trying to be set on a copy of a slice from a DataFrame\n",
      "\n",
      "See the caveats in the documentation: https://pandas.pydata.org/pandas-docs/stable/user_guide/indexing.html#returning-a-view-versus-a-copy\n",
      "/opt/anaconda3/lib/python3.7/site-packages/ipykernel_launcher.py:23: SettingWithCopyWarning: \n",
      "A value is trying to be set on a copy of a slice from a DataFrame\n",
      "\n",
      "See the caveats in the documentation: https://pandas.pydata.org/pandas-docs/stable/user_guide/indexing.html#returning-a-view-versus-a-copy\n"
     ]
    },
    {
     "name": "stdout",
     "output_type": "stream",
     "text": [
      "Processing dataset 2\n"
     ]
    },
    {
     "name": "stderr",
     "output_type": "stream",
     "text": [
      "/opt/anaconda3/lib/python3.7/site-packages/ipykernel_launcher.py:18: SettingWithCopyWarning: \n",
      "A value is trying to be set on a copy of a slice from a DataFrame\n",
      "\n",
      "See the caveats in the documentation: https://pandas.pydata.org/pandas-docs/stable/user_guide/indexing.html#returning-a-view-versus-a-copy\n",
      "/opt/anaconda3/lib/python3.7/site-packages/ipykernel_launcher.py:19: SettingWithCopyWarning: \n",
      "A value is trying to be set on a copy of a slice from a DataFrame\n",
      "\n",
      "See the caveats in the documentation: https://pandas.pydata.org/pandas-docs/stable/user_guide/indexing.html#returning-a-view-versus-a-copy\n"
     ]
    },
    {
     "name": "stdout",
     "output_type": "stream",
     "text": [
      "Processing dataset 3\n",
      "Processing dataset 4\n",
      "Processing dataset 5\n",
      "Processing dataset 6\n",
      "Processing dataset 7\n"
     ]
    },
    {
     "name": "stderr",
     "output_type": "stream",
     "text": [
      "/opt/anaconda3/lib/python3.7/site-packages/ipykernel_launcher.py:19: SettingWithCopyWarning: \n",
      "A value is trying to be set on a copy of a slice from a DataFrame\n",
      "\n",
      "See the caveats in the documentation: https://pandas.pydata.org/pandas-docs/stable/user_guide/indexing.html#returning-a-view-versus-a-copy\n",
      "/opt/anaconda3/lib/python3.7/site-packages/ipykernel_launcher.py:18: SettingWithCopyWarning: \n",
      "A value is trying to be set on a copy of a slice from a DataFrame\n",
      "\n",
      "See the caveats in the documentation: https://pandas.pydata.org/pandas-docs/stable/user_guide/indexing.html#returning-a-view-versus-a-copy\n",
      "/opt/anaconda3/lib/python3.7/site-packages/ipykernel_launcher.py:18: SettingWithCopyWarning: \n",
      "A value is trying to be set on a copy of a slice from a DataFrame\n",
      "\n",
      "See the caveats in the documentation: https://pandas.pydata.org/pandas-docs/stable/user_guide/indexing.html#returning-a-view-versus-a-copy\n",
      "/opt/anaconda3/lib/python3.7/site-packages/ipykernel_launcher.py:18: SettingWithCopyWarning: \n",
      "A value is trying to be set on a copy of a slice from a DataFrame\n",
      "\n",
      "See the caveats in the documentation: https://pandas.pydata.org/pandas-docs/stable/user_guide/indexing.html#returning-a-view-versus-a-copy\n",
      "/opt/anaconda3/lib/python3.7/site-packages/ipykernel_launcher.py:18: SettingWithCopyWarning: \n",
      "A value is trying to be set on a copy of a slice from a DataFrame\n",
      "\n",
      "See the caveats in the documentation: https://pandas.pydata.org/pandas-docs/stable/user_guide/indexing.html#returning-a-view-versus-a-copy\n",
      "/opt/anaconda3/lib/python3.7/site-packages/ipykernel_launcher.py:19: SettingWithCopyWarning: \n",
      "A value is trying to be set on a copy of a slice from a DataFrame\n",
      "\n",
      "See the caveats in the documentation: https://pandas.pydata.org/pandas-docs/stable/user_guide/indexing.html#returning-a-view-versus-a-copy\n",
      "/opt/anaconda3/lib/python3.7/site-packages/ipykernel_launcher.py:18: SettingWithCopyWarning: \n",
      "A value is trying to be set on a copy of a slice from a DataFrame\n",
      "\n",
      "See the caveats in the documentation: https://pandas.pydata.org/pandas-docs/stable/user_guide/indexing.html#returning-a-view-versus-a-copy\n",
      "/opt/anaconda3/lib/python3.7/site-packages/ipykernel_launcher.py:22: SettingWithCopyWarning: \n",
      "A value is trying to be set on a copy of a slice from a DataFrame\n",
      "\n",
      "See the caveats in the documentation: https://pandas.pydata.org/pandas-docs/stable/user_guide/indexing.html#returning-a-view-versus-a-copy\n",
      "/opt/anaconda3/lib/python3.7/site-packages/ipykernel_launcher.py:23: SettingWithCopyWarning: \n",
      "A value is trying to be set on a copy of a slice from a DataFrame\n",
      "\n",
      "See the caveats in the documentation: https://pandas.pydata.org/pandas-docs/stable/user_guide/indexing.html#returning-a-view-versus-a-copy\n"
     ]
    }
   ],
   "source": [
    "mean=['retweet_count','favorite_count','followers_count', 'friends_count', 'listed_count', 'favourites_count', 'statuses_count']\n",
    "median = ['tweet_type', 'has_description', 'bio_has_url', 'protected', 'verified','default_profile', 'default_profile_image']\n",
    "\n",
    "\n",
    "for i,ds in enumerate(datasets):\n",
    "    print(\"Processing dataset {}\".format(i+1))\n",
    "    ds = pd.merge(ds, authors, on='id', how='left')\n",
    "\n",
    "    ds.drop(ds.columns.difference(['id', 'Informativeness', 'text', 'positive_score', 'negative_score',\n",
    "       'emotional_devergence_score', 'author_id', 'tweet_type', 'retweet_count', 'favorite_count']), 1, inplace=True)\n",
    "\n",
    "\n",
    "\n",
    "    ds = pd.merge(ds, users, on='author_id', how='left')\n",
    "\n",
    "\n",
    "    for m in mean:\n",
    "        ds[m][ds['Informativeness'] == 1] = ds[m][ds['Informativeness'] == 1].fillna((ds[m][ds['Informativeness'] == 1].mean()))\n",
    "        ds[m][ds['Informativeness'] == 0] = ds[m][ds['Informativeness'] == 0].fillna((ds[m][ds['Informativeness'] == 0].mean()))\n",
    "\n",
    "    for m in median:\n",
    "        ds[m][ds['Informativeness'] == 1] = ds[m][ds['Informativeness'] == 1].fillna((ds[m][ds['Informativeness'] == 1].value_counts().idxmax()))\n",
    "        ds[m][ds['Informativeness'] == 0] = ds[m][ds['Informativeness'] == 0].fillna((ds[m][ds['Informativeness'] == 0].value_counts().idxmax()))\n",
    "\n",
    "    ds[\"has_description\"] = ds[\"has_description\"].apply(lambda x: 0 if x is np.nan else 1)\n",
    "    ds[\"tweet_type\"] = ds[\"tweet_type\"].apply(lambda x: 0 if x =='tweet' else 1)\n",
    "    ds[\"bio_has_url\"] = ds[\"bio_has_url\"].apply(lambda x: 0 if x is np.nan else 1)\n",
    "#     PUT THIS BACK\n",
    "#     ds = ds.drop(columns=['id', 'author_id'])\n",
    "    ds = ds.drop(columns=[ 'author_id'])\n",
    "\n",
    "\n",
    "    datasets[i] = ds\n",
    "    \n"
   ]
  },
  {
   "cell_type": "code",
   "execution_count": 8,
   "metadata": {},
   "outputs": [
    {
     "data": {
      "text/plain": [
       "Index(['id', 'Informativeness', 'text', 'positive_score', 'negative_score',\n",
       "       'emotional_devergence_score', 'tweet_type', 'retweet_count',\n",
       "       'favorite_count', 'has_description', 'bio_has_url', 'followers_count',\n",
       "       'friends_count', 'favourites_count', 'listed_count', 'statuses_count',\n",
       "       'protected', 'verified', 'default_profile', 'default_profile_image'],\n",
       "      dtype='object')"
      ]
     },
     "execution_count": 8,
     "metadata": {},
     "output_type": "execute_result"
    }
   ],
   "source": [
    "datasets[0].columns"
   ]
  },
  {
   "cell_type": "code",
   "execution_count": 9,
   "metadata": {},
   "outputs": [],
   "source": [
    "\n",
    "def text_processing(tweet):\n",
    "    \n",
    "    tweet= tweet.lower()\n",
    "    \n",
    "    #Removing hyperlinks from the tweet\n",
    "    tweet_no_links=re.sub(r'http\\S+', '', tweet)\n",
    "    \n",
    "    #Generating the list of words in the tweet (hashtags and other punctuations removed)\n",
    "    def form_sentence(tweet):\n",
    "        tweet_blob = TextBlob(tweet)\n",
    "        return ' '.join(tweet_blob.words)\n",
    "    new_tweet = form_sentence(tweet_no_links)\n",
    "    \n",
    "    #Removing stopwords and words with unusual symbols\n",
    "    def no_user_alpha(tweet):\n",
    "        tweet_list = [ele for ele in tweet.split() if ele != 'user']\n",
    "        clean_tokens = [t for t in tweet_list if re.match(r'[^\\W\\d]*$', t)]\n",
    "        clean_s = ' '.join(clean_tokens)\n",
    "        clean_mess = [word for word in clean_s.split() if word not in stopwords.words('english')]\n",
    "        return clean_mess\n",
    "    no_punc_tweet = no_user_alpha(new_tweet)\n",
    "    \n",
    "    #Normalizing the words in tweets \n",
    "    def normalization(tweet_list):\n",
    "        lem = WordNetLemmatizer()\n",
    "        normalized_tweet = []\n",
    "        for word in tweet_list:\n",
    "            normalized_text = lem.lemmatize(word,'v')\n",
    "            normalized_tweet.append(normalized_text)\n",
    "        return \" \".join(normalized_tweet)\n",
    "    \n",
    "    \n",
    "    return normalization(no_punc_tweet)"
   ]
  },
  {
   "cell_type": "code",
   "execution_count": 10,
   "metadata": {},
   "outputs": [],
   "source": [
    "def count_hashtags(text):\n",
    "    return text.count('#')"
   ]
  },
  {
   "cell_type": "code",
   "execution_count": 11,
   "metadata": {},
   "outputs": [],
   "source": [
    "def link_present(text):\n",
    "    return int('http' in text) "
   ]
  },
  {
   "cell_type": "code",
   "execution_count": 12,
   "metadata": {},
   "outputs": [],
   "source": [
    "import emoji\n",
    "def text_has_emoji(text):\n",
    "    return any(map(text[:-50].__contains__, [':)',':(',':P',':c',':<','c:','<:',':L',':l','^_^','^.^','>_<','>.<','>_>','<_<','>.>','<.<','-.-','-_-','o_o','o.o','._.','owo','OwO',';_;','>:)',':]',':}','>:(','>:|','-.^','-_^','8)','B)','<3','xD',':3','x3','\\o','\\o/',';_;','OwO','uwu','O:)',':#',':*']))"
   ]
  },
  {
   "cell_type": "code",
   "execution_count": 13,
   "metadata": {},
   "outputs": [],
   "source": [
    "def has_instructional_words(text):\n",
    "    return any(map(text.__contains__, [\"text\", 'call', 'donate']))"
   ]
  },
  {
   "cell_type": "code",
   "execution_count": 14,
   "metadata": {},
   "outputs": [],
   "source": [
    "def has_phone_number(text):\n",
    "    return bool(re.search('\\\\d{3}-\\\\d{3}-\\\\d{4}', text))"
   ]
  },
  {
   "cell_type": "code",
   "execution_count": 15,
   "metadata": {},
   "outputs": [],
   "source": [
    "def text_has_slang(text):\n",
    "    for i in text[:-50].split(' '):\n",
    "        for j in ['afaik','afk','asl','atm','atw','ayy','bae','bb','bbiab','bbl','bbs','bc','bf','bff','bork','brb','btw','cba','convo','cp','cya','cya','dank','dc','dem','dw','e2e','fml','FOMO','FTFY','ftl','ftw','fwiw','fyi','g2g','g4u','gf','gg','goml','gr8','gratz','gtfo','guiz','hbu','hru','ianadb','ianalb','ianap','idc','idgaf','idk','iirc','ik','ikr','ily','inb4','irl','jfc','jk','js','k','kappa','kek','kms','kthx','l8r','leet','lmao','lmk','lol','LPT','lrl','lrn2','m8','maga','mfw','mrw','nerf','ngl','nm','nmu','noob','nvm','ofc','omf','omg','omw','ooc','op','OP','orly','pepe','pleb','pleb','plz','pron','pwned','REEEEEE','rekt','rickrol','rip','rly','rms','rofl','rotflol','rtfm','rude','shank','smd','smh','soz','swag','tbf','tbh','tbt','TIFU','tf','tfw','thx','tide','TIL','tl;dr','tmw','tolo','topkek','ty','uwotm8','w00t','wb','wot','wtb','wtf','wtg','wts','wuu2','yarly','ymmv','yolo','yw']:\n",
    "            if(i==j):\n",
    "                return True\n",
    "    return False"
   ]
  },
  {
   "cell_type": "code",
   "execution_count": 16,
   "metadata": {},
   "outputs": [],
   "source": [
    "def is_RT(text):\n",
    "    for i in text[:-50].split(' '):\n",
    "        if(i == 'RT'):\n",
    "            return True\n",
    "    return False"
   ]
  },
  {
   "cell_type": "code",
   "execution_count": 17,
   "metadata": {},
   "outputs": [],
   "source": [
    "def has_profanity(text):\n",
    "    for i in text[:-50].split(' '):\n",
    "        for j in ['acrotomophilia','anal','anilingus','anus','arsehole','ass','asshole','assmunch','auto erotic','autoerotic','babeland','baby batter','ball gag','ball gravy','ball kicking','ball licking','ball sack','ball sucking','bangbros','bareback','barely legal','barenaked','bastardo','bastinado','bbw','bdsm','beaver cleaver','beaver lips','bestiality','bi curious','big black','big breasts','big knockers','big tits','bimbos','birdlock','bitch','black cock','blonde action','blonde on blonde action','blow j','blow your l','blue waffle','blumpkin','bollocks','bondage','boner','boob','boobs','booty call','brown showers','brunette action','bukkake','bulldyke','bullet vibe','bung hole','bunghole','busty','butt','buttcheeks','butthole','camel toe','camgirl','camslut','camwhore','carpet muncher','carpetmuncher','chocolate rosebuds','circlejerk','cleveland steamer','clit','clitoris','clover clamps','clusterfuck','cock','cocks','coprolagnia','coprophilia','cornhole','cum','cumming','cunnilingus','cunt','darkie','date rape','daterape','deep throat','deepthroat','dick','dildo','dirty pillows','dirty sanchez','dog style','doggie style','doggiestyle','doggy style','doggystyle','dolcett','domination','dominatrix','dommes','donkey punch','double dong','double penetration','dp action','eat my ass','ecchi','ejaculation','erotic','erotism','escort','ethical slut','eunuch','faggot','fecal','felch','fellatio','feltch','female squirting','femdom','figging','fingering','fisting','foot fetish','footjob','frotting','fuck','fucking','fuck buttons','fudge packer','fudgepacker','futanari','g-spot','gang bang','gay sex','genitals','giant cock','girl on','girl on top','girls gone wild','goatcx','goatse','gokkun','golden shower','goo girl','goodpoop','goregasm','grope','group sex','guro','hand job','handjob','hard core','hardcore','hentai','homoerotic','honkey','hooker','hot chick','how to kill','how to murder','huge fat','humping','incest','intercourse','jack off','jail bait','jailbait','jerk off','jigaboo','jiggaboo','jiggerboo','jizz','juggs','kike','kinbaku','kinkster','kinky','knobbing','leather restraint','leather straight jacket','lemon party','lolita','lovemaking','make me come','male squirting','masturbate','menage a trois','milf','missionary position','motherfucker','mound of venus','mr hands','muff diver','muffdiving','nambla','nawashi','negro','neonazi','nig nog','nigga','nigger','nimphomania','nipple','nipples','nsfw images','nude','nudity','nympho','nymphomania','octopussy','omorashi','one cup two girls','one guy one jar','orgasm','orgy','paedophile','panties','panty','pedobear','pedophile','pegging','penis','phone sex','piece of shit','piss pig','pissing','pisspig','playboy','pleasure chest','pole smoker','ponyplay','poof','poop chute','poopchute','porn','porno','pornography','prince albert piercing','pthc','pubes','pussy','queaf','raghead','raging boner','rape','raping','rapist','rectum','reverse cowgirl','rimjob','rimming','rosy palm','rosy palm and her 5 sisters','rusty trombone','s&m','sadism','scat','schlong','scissoring','semen','sex','sexo','sexy','shaved beaver','shaved pussy','shemale','shibari','shit','shota','shrimping','slanteye','slut','smut','snatch','snowballing','sodomize','sodomy','spic','spooge','spread legs','strap on','strapon','strappado','strip club','style doggy','suck','sucks','suicide girls','sultry women','swastika','swinger','tainted love','taste my','tea bagging','threesome','throating','tied up','tight white','tit','tits','titties','titty','tongue in a','topless','tosser','towelhead','tranny','tribadism','tub girl','tubgirl','tushy','twat','twink','twinkie','two girls one cup','undressing','upskirt','urethra play','urophilia','vagina','venus mound','vibrator','violet blue','violet wand','vorarephilia','voyeur','vulva','wank','wet dream','wetback','white power','women rapping','wrapping men','wrinkled starfish','xx','xxx','yaoi','yellow showers','yiffy','zoophilia']:\n",
    "            if(i==j):\n",
    "                return True\n",
    "    return False\n"
   ]
  },
  {
   "cell_type": "code",
   "execution_count": 18,
   "metadata": {},
   "outputs": [],
   "source": [
    "def one_word_sentance(text):\n",
    "    return int(len(text.split(\" \"))<=3)"
   ]
  },
  {
   "cell_type": "code",
   "execution_count": 19,
   "metadata": {},
   "outputs": [
    {
     "data": {
      "text/html": [
       "<div>\n",
       "<style scoped>\n",
       "    .dataframe tbody tr th:only-of-type {\n",
       "        vertical-align: middle;\n",
       "    }\n",
       "\n",
       "    .dataframe tbody tr th {\n",
       "        vertical-align: top;\n",
       "    }\n",
       "\n",
       "    .dataframe thead th {\n",
       "        text-align: right;\n",
       "    }\n",
       "</style>\n",
       "<table border=\"1\" class=\"dataframe\">\n",
       "  <thead>\n",
       "    <tr style=\"text-align: right;\">\n",
       "      <th></th>\n",
       "      <th>id</th>\n",
       "      <th>Informativeness</th>\n",
       "      <th>text</th>\n",
       "      <th>positive_score</th>\n",
       "      <th>negative_score</th>\n",
       "      <th>emotional_devergence_score</th>\n",
       "      <th>tweet_type</th>\n",
       "      <th>retweet_count</th>\n",
       "      <th>favorite_count</th>\n",
       "      <th>has_description</th>\n",
       "      <th>bio_has_url</th>\n",
       "      <th>followers_count</th>\n",
       "      <th>friends_count</th>\n",
       "      <th>favourites_count</th>\n",
       "      <th>listed_count</th>\n",
       "      <th>statuses_count</th>\n",
       "      <th>protected</th>\n",
       "      <th>verified</th>\n",
       "      <th>default_profile</th>\n",
       "      <th>default_profile_image</th>\n",
       "    </tr>\n",
       "  </thead>\n",
       "  <tbody>\n",
       "    <tr>\n",
       "      <th>0</th>\n",
       "      <td>211040709124440064</td>\n",
       "      <td>0</td>\n",
       "      <td>#Intern #US #TATTOO #Wisconsin #Ohio #NC #PA #...</td>\n",
       "      <td>1</td>\n",
       "      <td>-1</td>\n",
       "      <td>0.2</td>\n",
       "      <td>0</td>\n",
       "      <td>0</td>\n",
       "      <td>-1</td>\n",
       "      <td>1</td>\n",
       "      <td>1</td>\n",
       "      <td>62</td>\n",
       "      <td>19</td>\n",
       "      <td>0</td>\n",
       "      <td>0.0</td>\n",
       "      <td>402</td>\n",
       "      <td>False</td>\n",
       "      <td>False</td>\n",
       "      <td>True</td>\n",
       "      <td>True</td>\n",
       "    </tr>\n",
       "    <tr>\n",
       "      <th>1</th>\n",
       "      <td>210864180218167296</td>\n",
       "      <td>0</td>\n",
       "      <td>Get in on the fun every Thursday with the @csi...</td>\n",
       "      <td>2</td>\n",
       "      <td>-1</td>\n",
       "      <td>0.3</td>\n",
       "      <td>0</td>\n",
       "      <td>2</td>\n",
       "      <td>-1</td>\n",
       "      <td>1</td>\n",
       "      <td>1</td>\n",
       "      <td>454</td>\n",
       "      <td>35</td>\n",
       "      <td>2</td>\n",
       "      <td>28.0</td>\n",
       "      <td>3327</td>\n",
       "      <td>False</td>\n",
       "      <td>False</td>\n",
       "      <td>False</td>\n",
       "      <td>False</td>\n",
       "    </tr>\n",
       "    <tr>\n",
       "      <th>2</th>\n",
       "      <td>211157222699433985</td>\n",
       "      <td>0</td>\n",
       "      <td>Welcome to our newest STUDENTathlete- Reagan B...</td>\n",
       "      <td>2</td>\n",
       "      <td>-1</td>\n",
       "      <td>0.3</td>\n",
       "      <td>0</td>\n",
       "      <td>0</td>\n",
       "      <td>0</td>\n",
       "      <td>1</td>\n",
       "      <td>1</td>\n",
       "      <td>1</td>\n",
       "      <td>1</td>\n",
       "      <td>0</td>\n",
       "      <td>0.0</td>\n",
       "      <td>422</td>\n",
       "      <td>False</td>\n",
       "      <td>False</td>\n",
       "      <td>True</td>\n",
       "      <td>True</td>\n",
       "    </tr>\n",
       "    <tr>\n",
       "      <th>3</th>\n",
       "      <td>211162553659830272</td>\n",
       "      <td>0</td>\n",
       "      <td>Denver Post: #Colorado governor signs bill cre...</td>\n",
       "      <td>1</td>\n",
       "      <td>-1</td>\n",
       "      <td>0.2</td>\n",
       "      <td>0</td>\n",
       "      <td>0</td>\n",
       "      <td>-1</td>\n",
       "      <td>1</td>\n",
       "      <td>1</td>\n",
       "      <td>1965</td>\n",
       "      <td>188</td>\n",
       "      <td>0</td>\n",
       "      <td>181.0</td>\n",
       "      <td>4392</td>\n",
       "      <td>False</td>\n",
       "      <td>False</td>\n",
       "      <td>False</td>\n",
       "      <td>False</td>\n",
       "    </tr>\n",
       "    <tr>\n",
       "      <th>4</th>\n",
       "      <td>211216962162933761</td>\n",
       "      <td>0</td>\n",
       "      <td>Pretty sure I'm going to live in Manitou Sprin...</td>\n",
       "      <td>3</td>\n",
       "      <td>-1</td>\n",
       "      <td>0.4</td>\n",
       "      <td>0</td>\n",
       "      <td>0</td>\n",
       "      <td>-1</td>\n",
       "      <td>1</td>\n",
       "      <td>1</td>\n",
       "      <td>227</td>\n",
       "      <td>203</td>\n",
       "      <td>23</td>\n",
       "      <td>2.0</td>\n",
       "      <td>3687</td>\n",
       "      <td>False</td>\n",
       "      <td>False</td>\n",
       "      <td>True</td>\n",
       "      <td>False</td>\n",
       "    </tr>\n",
       "  </tbody>\n",
       "</table>\n",
       "</div>"
      ],
      "text/plain": [
       "                   id  Informativeness  \\\n",
       "0  211040709124440064                0   \n",
       "1  210864180218167296                0   \n",
       "2  211157222699433985                0   \n",
       "3  211162553659830272                0   \n",
       "4  211216962162933761                0   \n",
       "\n",
       "                                                text  positive_score  \\\n",
       "0  #Intern #US #TATTOO #Wisconsin #Ohio #NC #PA #...               1   \n",
       "1  Get in on the fun every Thursday with the @csi...               2   \n",
       "2  Welcome to our newest STUDENTathlete- Reagan B...               2   \n",
       "3  Denver Post: #Colorado governor signs bill cre...               1   \n",
       "4  Pretty sure I'm going to live in Manitou Sprin...               3   \n",
       "\n",
       "   negative_score  emotional_devergence_score  tweet_type  retweet_count  \\\n",
       "0              -1                         0.2           0              0   \n",
       "1              -1                         0.3           0              2   \n",
       "2              -1                         0.3           0              0   \n",
       "3              -1                         0.2           0              0   \n",
       "4              -1                         0.4           0              0   \n",
       "\n",
       "   favorite_count  has_description  bio_has_url  followers_count  \\\n",
       "0              -1                1            1               62   \n",
       "1              -1                1            1              454   \n",
       "2               0                1            1                1   \n",
       "3              -1                1            1             1965   \n",
       "4              -1                1            1              227   \n",
       "\n",
       "   friends_count  favourites_count  listed_count  statuses_count protected  \\\n",
       "0             19                 0           0.0             402     False   \n",
       "1             35                 2          28.0            3327     False   \n",
       "2              1                 0           0.0             422     False   \n",
       "3            188                 0         181.0            4392     False   \n",
       "4            203                23           2.0            3687     False   \n",
       "\n",
       "  verified default_profile default_profile_image  \n",
       "0    False            True                  True  \n",
       "1    False           False                 False  \n",
       "2    False            True                  True  \n",
       "3    False           False                 False  \n",
       "4    False            True                 False  "
      ]
     },
     "execution_count": 19,
     "metadata": {},
     "output_type": "execute_result"
    }
   ],
   "source": [
    "datasets[0].head()"
   ]
  },
  {
   "cell_type": "code",
   "execution_count": 20,
   "metadata": {},
   "outputs": [
    {
     "name": "stderr",
     "output_type": "stream",
     "text": [
      "/opt/anaconda3/lib/python3.7/site-packages/tqdm/std.py:703: FutureWarning: The Panel class is removed from pandas. Accessing it from the top-level namespace will also be removed in the next version\n",
      "  from pandas import Panel\n"
     ]
    },
    {
     "name": "stdout",
     "output_type": "stream",
     "text": [
      "Processing dataset 1\n"
     ]
    },
    {
     "name": "stderr",
     "output_type": "stream",
     "text": [
      "100%|██████████| 18154/18154 [00:52<00:00, 344.57it/s]\n"
     ]
    },
    {
     "name": "stdout",
     "output_type": "stream",
     "text": [
      "Processing dataset 2\n"
     ]
    },
    {
     "name": "stderr",
     "output_type": "stream",
     "text": [
      "100%|██████████| 15745/15745 [00:40<00:00, 392.32it/s]\n"
     ]
    },
    {
     "name": "stdout",
     "output_type": "stream",
     "text": [
      "Processing dataset 3\n"
     ]
    },
    {
     "name": "stderr",
     "output_type": "stream",
     "text": [
      "100%|██████████| 2522/2522 [00:11<00:00, 221.73it/s]\n"
     ]
    },
    {
     "name": "stdout",
     "output_type": "stream",
     "text": [
      "Processing dataset 4\n"
     ]
    },
    {
     "name": "stderr",
     "output_type": "stream",
     "text": [
      "100%|██████████| 7929/7929 [00:54<00:00, 144.20it/s]\n",
      "  4%|▍         | 37/826 [00:00<00:02, 362.50it/s]"
     ]
    },
    {
     "name": "stdout",
     "output_type": "stream",
     "text": [
      "Processing dataset 5\n"
     ]
    },
    {
     "name": "stderr",
     "output_type": "stream",
     "text": [
      "100%|██████████| 826/826 [00:02<00:00, 336.22it/s]\n"
     ]
    },
    {
     "name": "stdout",
     "output_type": "stream",
     "text": [
      "Processing dataset 6\n"
     ]
    },
    {
     "name": "stderr",
     "output_type": "stream",
     "text": [
      "100%|██████████| 20101/20101 [01:02<00:00, 322.18it/s]\n",
      " 10%|▉         | 19/194 [00:00<00:00, 186.48it/s]"
     ]
    },
    {
     "name": "stdout",
     "output_type": "stream",
     "text": [
      "Processing dataset 7\n"
     ]
    },
    {
     "name": "stderr",
     "output_type": "stream",
     "text": [
      "100%|██████████| 194/194 [00:01<00:00, 189.39it/s]\n"
     ]
    }
   ],
   "source": [
    "from tqdm import tqdm\n",
    "tqdm.pandas()\n",
    "for i,ds in enumerate(datasets):\n",
    "    print(\"Processing dataset {}\".format(i+1))\n",
    "    \n",
    "    \n",
    "    ds[\"hashtag_count\"]=ds['text'].apply(count_hashtags)\n",
    "\n",
    "    ds[\"hashtag_present\"] = ds[\"hashtag_count\"].apply(lambda x: np.sign(x))\n",
    "\n",
    "    ds[\"link_present\"]=ds['text'].apply(link_present)\n",
    "\n",
    "    ds[\"emoji_present\"] = ds['text'].apply(text_has_emoji)\n",
    "\n",
    "    ds[\"instructinal_keyword\"] = ds['text'].apply(has_instructional_words)\n",
    "\n",
    "    ds[\"contains_phone_number\"] = ds['text'].apply(has_phone_number)\n",
    "\n",
    "    ds[\"slang_present\"] = ds['text'].apply(text_has_slang)\n",
    "\n",
    "    ds[\"is_RT\"] = ds['text'].apply(is_RT)\n",
    "\n",
    "    ds[\"has_profanity\"] = ds['text'].apply(has_profanity)\n",
    "\n",
    "    ds[\"one_word_sentance\"] = ds['text'].apply(one_word_sentance)\n",
    "    \n",
    "    ds['text']=ds['text'].progress_apply(text_processing)"
   ]
  },
  {
   "cell_type": "code",
   "execution_count": 21,
   "metadata": {},
   "outputs": [
    {
     "name": "stdout",
     "output_type": "stream",
     "text": [
      "Dropping not needed columns for dataset 1\n",
      "Dropping not needed columns for dataset 2\n",
      "Dropping not needed columns for dataset 3\n",
      "Dropping not needed columns for dataset 4\n",
      "Dropping not needed columns for dataset 5\n",
      "Dropping not needed columns for dataset 6\n",
      "Dropping not needed columns for dataset 7\n"
     ]
    }
   ],
   "source": [
    "for i,ds in enumerate(datasets):\n",
    "    print(\"Dropping not needed columns for dataset {}\".format(i+1))\n",
    "    datasets[i]=ds.drop(ds.columns.difference(['Informativeness', 'text', 'positive_score', 'negative_score',\n",
    "       'emotional_devergence_score', 'followers_count', 'friends_count',\n",
    "       'favourites_count', 'listed_count', 'statuses_count', 'verified',\n",
    "       'hashtag_count', 'hashtag_present', 'link_present',\n",
    "       'emoji_present', 'instructinal_keyword', 'contains_phone_number',\n",
    "       'slang_present', 'is_RT', 'has_profanity', 'one_word_sentance']), 1)"
   ]
  },
  {
   "cell_type": "code",
   "execution_count": null,
   "metadata": {},
   "outputs": [],
   "source": []
  },
  {
   "cell_type": "code",
   "execution_count": 22,
   "metadata": {},
   "outputs": [
    {
     "name": "stderr",
     "output_type": "stream",
     "text": [
      "wandb: WARNING W&B installed but not logged in.  Run `wandb login` or set the WANDB_API_KEY env variable.\n"
     ]
    }
   ],
   "source": [
    "from sentence_transformers import SentenceTransformer\n",
    "st_model = SentenceTransformer('distilbert-base-nli-mean-tokens')\n",
    "\n",
    "EMBEDDING_DIM=768"
   ]
  },
  {
   "cell_type": "code",
   "execution_count": 23,
   "metadata": {},
   "outputs": [],
   "source": [
    "def build_cnn_model(X_train ):\n",
    "    sequence_length = X_train.shape[1]\n",
    "\n",
    "    filter_sizes = [3,4,5]\n",
    "    num_filters = 150\n",
    "    drop = 0.5\n",
    "\n",
    "\n",
    "\n",
    "    inputs = Input(shape=(sequence_length,))\n",
    "\n",
    "\n",
    "    meta_input = Input(shape=(19,))\n",
    "    embedding = embedding_layer(inputs)\n",
    "    reshape = Reshape((sequence_length,EMBEDDING_DIM,1))(embedding)\n",
    "\n",
    "\n",
    "    conv_0 = Conv2D(num_filters, (filter_sizes[0], EMBEDDING_DIM),activation='relu',kernel_regularizer=regularizers.l2(0.01))(reshape)\n",
    "    conv_1 = Conv2D(num_filters, (filter_sizes[1], EMBEDDING_DIM),activation='relu',kernel_regularizer=regularizers.l2(0.01))(reshape)\n",
    "    conv_2 = Conv2D(num_filters, (filter_sizes[2], EMBEDDING_DIM),activation='relu',kernel_regularizer=regularizers.l2(0.01))(reshape)\n",
    "\n",
    "    maxpool_0 = MaxPooling2D((sequence_length - filter_sizes[0] + 1, 1), strides=(1,1))(conv_0)\n",
    "    maxpool_1 = MaxPooling2D((sequence_length - filter_sizes[1] + 1, 1), strides=(1,1))(conv_1)\n",
    "    maxpool_2 = MaxPooling2D((sequence_length - filter_sizes[2] + 1, 1), strides=(1,1))(conv_2)\n",
    "\n",
    "    merged_tensor = concatenate([maxpool_0, maxpool_1, maxpool_2], axis=1)\n",
    "    flatten = Flatten()(merged_tensor)\n",
    "    reshape = Reshape((3*num_filters,))(flatten)\n",
    "    dropout = Dropout(drop)(flatten)\n",
    "    merged_tensor2 = concatenate([dropout, meta_input])\n",
    "\n",
    "    output = Dense(units=2, activation='softmax',kernel_regularizer=regularizers.l2(0.01))(merged_tensor2)\n",
    "\n",
    "\n",
    "\n",
    "    return Model([inputs , meta_input], output)"
   ]
  },
  {
   "cell_type": "code",
   "execution_count": 24,
   "metadata": {},
   "outputs": [
    {
     "name": "stdout",
     "output_type": "stream",
     "text": [
      "----Training on Dataset 1----\n",
      "Found 18035 unique tokens.\n",
      "Shape of X train : (18154, 26)\n",
      "Shape of label train : (18154,)\n",
      "Computing embedding matrix\n",
      "Epoch 1/10\n",
      "19/19 [==============================] - 84s 4s/step - loss: 30663.0723 - acc: 0.5547\n",
      "Epoch 2/10\n",
      "19/19 [==============================] - 90s 5s/step - loss: 2622.2881 - acc: 0.6250\n",
      "Epoch 3/10\n",
      "19/19 [==============================] - 93s 5s/step - loss: 2168.0896 - acc: 0.6230\n",
      "Epoch 4/10\n",
      "19/19 [==============================] - 93s 5s/step - loss: 1643.3083 - acc: 0.6389\n",
      "Epoch 5/10\n",
      "19/19 [==============================] - 93s 5s/step - loss: 892.8536 - acc: 0.6493\n",
      "Epoch 6/10\n",
      "19/19 [==============================] - 81s 4s/step - loss: 234.2279 - acc: 0.7026\n",
      "Epoch 7/10\n",
      "19/19 [==============================] - 78s 4s/step - loss: 73.4936 - acc: 0.7507\n",
      "Epoch 8/10\n",
      "19/19 [==============================] - 91s 5s/step - loss: 52.3903 - acc: 0.7689\n",
      "Epoch 9/10\n",
      "19/19 [==============================] - 74s 4s/step - loss: 45.1125 - acc: 0.7810\n",
      "Epoch 10/10\n",
      "19/19 [==============================] - 70s 4s/step - loss: 37.2288 - acc: 0.7805\n",
      "testing on Dataset 1\n",
      "testing on Dataset 2\n",
      "testing on Dataset 3\n",
      "testing on Dataset 4\n",
      "testing on Dataset 5\n",
      "testing on Dataset 6\n",
      "testing on Dataset 7\n",
      "----Training on Dataset 2----\n",
      "Found 18063 unique tokens.\n",
      "Shape of X train : (15745, 19)\n",
      "Shape of label train : (15745,)\n",
      "Computing embedding matrix\n",
      "Epoch 1/10\n",
      "16/16 [==============================] - 47s 3s/step - loss: 4685.9521 - acc: 0.6091\n",
      "Epoch 2/10\n",
      "16/16 [==============================] - 50s 3s/step - loss: 2624.4043 - acc: 0.5984\n",
      "Epoch 3/10\n",
      "16/16 [==============================] - 46s 3s/step - loss: 864.3016 - acc: 0.5385\n",
      "Epoch 4/10\n",
      "16/16 [==============================] - 47s 3s/step - loss: 428.2118 - acc: 0.6312\n",
      "Epoch 5/10\n",
      "16/16 [==============================] - 46s 3s/step - loss: 151.5113 - acc: 0.6125\n",
      "Epoch 6/10\n",
      "16/16 [==============================] - 46s 3s/step - loss: 41.2685 - acc: 0.7153\n",
      "Epoch 7/10\n",
      "16/16 [==============================] - 46s 3s/step - loss: 33.5524 - acc: 0.7009\n",
      "Epoch 8/10\n",
      "16/16 [==============================] - 48s 3s/step - loss: 32.6897 - acc: 0.7202\n",
      "Epoch 9/10\n",
      "16/16 [==============================] - 47s 3s/step - loss: 17.5756 - acc: 0.7510\n",
      "Epoch 10/10\n",
      "16/16 [==============================] - 46s 3s/step - loss: 16.8647 - acc: 0.7463\n",
      "testing on Dataset 1\n",
      "testing on Dataset 2\n",
      "testing on Dataset 3\n",
      "testing on Dataset 4\n",
      "testing on Dataset 5\n",
      "testing on Dataset 6\n",
      "testing on Dataset 7\n",
      "----Training on Dataset 3----\n",
      "Found 5669 unique tokens.\n",
      "Shape of X train : (2522, 19)\n",
      "Shape of label train : (2522,)\n",
      "Computing embedding matrix\n",
      "Epoch 1/10\n",
      "3/3 [==============================] - 5s 2s/step - loss: 3253.4685 - acc: 0.3660\n",
      "Epoch 2/10\n",
      "3/3 [==============================] - 5s 2s/step - loss: 2968.7798 - acc: 0.3894\n",
      "Epoch 3/10\n",
      "3/3 [==============================] - 5s 2s/step - loss: 2685.1836 - acc: 0.4231\n",
      "Epoch 4/10\n",
      "3/3 [==============================] - 4s 1s/step - loss: 2465.0544 - acc: 0.4350\n",
      "Epoch 5/10\n",
      "3/3 [==============================] - 5s 2s/step - loss: 2231.6443 - acc: 0.4540\n",
      "Epoch 6/10\n",
      "3/3 [==============================] - 5s 2s/step - loss: 1978.6068 - acc: 0.4758\n",
      "Epoch 7/10\n",
      "3/3 [==============================] - 5s 2s/step - loss: 1764.4148 - acc: 0.4968\n",
      "Epoch 8/10\n",
      "3/3 [==============================] - 5s 2s/step - loss: 1554.7867 - acc: 0.5143\n",
      "Epoch 9/10\n",
      "3/3 [==============================] - 5s 2s/step - loss: 1350.9135 - acc: 0.5329\n",
      "Epoch 10/10\n",
      "3/3 [==============================] - 5s 2s/step - loss: 1157.5431 - acc: 0.5476\n",
      "testing on Dataset 1\n",
      "testing on Dataset 2\n",
      "testing on Dataset 3\n",
      "testing on Dataset 4\n",
      "testing on Dataset 5\n",
      "testing on Dataset 6\n",
      "testing on Dataset 7\n",
      "----Training on Dataset 4----\n",
      "Found 16946 unique tokens.\n",
      "Shape of X train : (7929, 464)\n",
      "Shape of label train : (7929,)\n",
      "Computing embedding matrix\n",
      "Epoch 1/10\n",
      "8/8 [==============================] - 403s 50s/step - loss: 5309.1338 - acc: 0.4979\n",
      "Epoch 2/10\n",
      "8/8 [==============================] - 390s 49s/step - loss: 4363.8286 - acc: 0.4848\n",
      "Epoch 3/10\n",
      "8/8 [==============================] - 407s 51s/step - loss: 3763.1841 - acc: 0.5123\n",
      "Epoch 4/10\n",
      "8/8 [==============================] - 402s 50s/step - loss: 3389.4009 - acc: 0.5668\n",
      "Epoch 5/10\n",
      "8/8 [==============================] - 408s 51s/step - loss: 2962.0703 - acc: 0.5663\n",
      "Epoch 6/10\n",
      "8/8 [==============================] - 392s 49s/step - loss: 2490.0210 - acc: 0.4922\n",
      "Epoch 7/10\n",
      "8/8 [==============================] - 393s 49s/step - loss: 2050.2617 - acc: 0.5258\n",
      "Epoch 8/10\n",
      "8/8 [==============================] - 396s 50s/step - loss: 1607.7811 - acc: 0.5392\n",
      "Epoch 9/10\n",
      "8/8 [==============================] - 400s 50s/step - loss: 1167.9204 - acc: 0.5189\n",
      "Epoch 10/10\n",
      "8/8 [==============================] - 398s 50s/step - loss: 716.6051 - acc: 0.5247\n",
      "testing on Dataset 1\n",
      "testing on Dataset 2\n",
      "testing on Dataset 3\n",
      "testing on Dataset 4\n",
      "testing on Dataset 5\n",
      "testing on Dataset 6\n",
      "testing on Dataset 7\n",
      "----Training on Dataset 5----\n",
      "Found 2260 unique tokens.\n",
      "Shape of X train : (826, 18)\n",
      "Shape of label train : (826,)\n",
      "Computing embedding matrix\n",
      "Epoch 1/10\n",
      "1/1 [==============================] - 0s 1ms/step - loss: 2145.8506 - acc: 0.6477\n",
      "Epoch 2/10\n",
      "1/1 [==============================] - 0s 1ms/step - loss: 2094.7261 - acc: 0.6465\n",
      "Epoch 3/10\n",
      "1/1 [==============================] - 0s 1ms/step - loss: 2043.5513 - acc: 0.6453\n",
      "Epoch 4/10\n",
      "1/1 [==============================] - 0s 1ms/step - loss: 1992.0686 - acc: 0.6453\n",
      "Epoch 5/10\n",
      "1/1 [==============================] - 0s 1ms/step - loss: 1939.8013 - acc: 0.6453\n",
      "Epoch 6/10\n",
      "1/1 [==============================] - 0s 1ms/step - loss: 1887.5413 - acc: 0.6453\n",
      "Epoch 7/10\n",
      "1/1 [==============================] - 0s 917us/step - loss: 1834.0737 - acc: 0.6453\n",
      "Epoch 8/10\n",
      "1/1 [==============================] - 0s 1ms/step - loss: 1780.8430 - acc: 0.6453\n",
      "Epoch 9/10\n",
      "1/1 [==============================] - 0s 1ms/step - loss: 1727.0200 - acc: 0.6453\n",
      "Epoch 10/10\n",
      "1/1 [==============================] - 0s 1ms/step - loss: 1672.3934 - acc: 0.6453\n",
      "testing on Dataset 1\n",
      "testing on Dataset 2\n",
      "testing on Dataset 3\n",
      "testing on Dataset 4\n",
      "testing on Dataset 5\n",
      "testing on Dataset 6\n",
      "testing on Dataset 7\n",
      "----Training on Dataset 6----\n",
      "Found 23148 unique tokens.\n",
      "Shape of X train : (20101, 23)\n",
      "Shape of label train : (20101,)\n",
      "Computing embedding matrix\n",
      "Epoch 1/10\n",
      "21/21 [==============================] - 70s 3s/step - loss: 4296.2251 - acc: 0.3507\n",
      "Epoch 2/10\n",
      "21/21 [==============================] - 65s 3s/step - loss: 1818.7078 - acc: 0.7415\n",
      "Epoch 3/10\n",
      "21/21 [==============================] - 66s 3s/step - loss: 949.3235 - acc: 0.8195\n",
      "Epoch 4/10\n",
      "21/21 [==============================] - 66s 3s/step - loss: 632.5880 - acc: 0.8829\n",
      "Epoch 5/10\n",
      "21/21 [==============================] - 67s 3s/step - loss: 465.4366 - acc: 0.8662\n",
      "Epoch 6/10\n",
      "21/21 [==============================] - 66s 3s/step - loss: 338.9297 - acc: 0.7886\n",
      "Epoch 7/10\n",
      "21/21 [==============================] - 66s 3s/step - loss: 229.4809 - acc: 0.8054\n",
      "Epoch 8/10\n",
      "21/21 [==============================] - 66s 3s/step - loss: 129.3479 - acc: 0.8196\n",
      "Epoch 9/10\n",
      "21/21 [==============================] - 66s 3s/step - loss: 60.8014 - acc: 0.8339\n",
      "Epoch 10/10\n",
      "21/21 [==============================] - 67s 3s/step - loss: 19.0719 - acc: 0.8410\n",
      "testing on Dataset 1\n",
      "testing on Dataset 2\n",
      "testing on Dataset 3\n",
      "testing on Dataset 4\n",
      "testing on Dataset 5\n",
      "testing on Dataset 6\n",
      "testing on Dataset 7\n",
      "----Training on Dataset 7----\n",
      "Found 1362 unique tokens.\n",
      "Shape of X train : (194, 31)\n",
      "Shape of label train : (194,)\n",
      "Computing embedding matrix\n",
      "Epoch 1/10\n",
      "1/1 [==============================] - 0s 1ms/step - loss: 560.9747 - acc: 0.7165\n",
      "Epoch 2/10\n",
      "1/1 [==============================] - 0s 931us/step - loss: 545.3110 - acc: 0.6804\n",
      "Epoch 3/10\n",
      "1/1 [==============================] - 0s 1ms/step - loss: 530.8911 - acc: 0.6649\n",
      "Epoch 4/10\n",
      "1/1 [==============================] - 0s 1ms/step - loss: 516.4689 - acc: 0.6753\n",
      "Epoch 5/10\n",
      "1/1 [==============================] - 0s 1ms/step - loss: 502.8545 - acc: 0.6649\n",
      "Epoch 6/10\n",
      "1/1 [==============================] - 0s 913us/step - loss: 489.2763 - acc: 0.6649\n",
      "Epoch 7/10\n",
      "1/1 [==============================] - 0s 1ms/step - loss: 475.3973 - acc: 0.6546\n",
      "Epoch 8/10\n",
      "1/1 [==============================] - 0s 918us/step - loss: 461.7081 - acc: 0.6598\n",
      "Epoch 9/10\n",
      "1/1 [==============================] - 0s 965us/step - loss: 447.7100 - acc: 0.6701\n",
      "Epoch 10/10\n",
      "1/1 [==============================] - 0s 1ms/step - loss: 434.0875 - acc: 0.6546\n",
      "testing on Dataset 1\n",
      "testing on Dataset 2\n",
      "testing on Dataset 3\n",
      "testing on Dataset 4\n",
      "testing on Dataset 5\n",
      "testing on Dataset 6\n",
      "testing on Dataset 7\n"
     ]
    }
   ],
   "source": [
    "results=[]\n",
    "for i,ds_train in enumerate(datasets):\n",
    "\n",
    "    print(\"----Training on Dataset {}----\".format(i+1))\n",
    "    row=[]\n",
    "\n",
    "    train=ds_train\n",
    "    texts=train.text\n",
    "    tokenizer = Tokenizer(filters='!\"#$%&()*+,-./:;<=>?@[\\\\]^_`{|}~\\t\\n\\'',\n",
    "                          lower=True)\n",
    "    tokenizer.fit_on_texts(texts)\n",
    "    sequences_train = tokenizer.texts_to_sequences(texts)\n",
    "    word_index = tokenizer.word_index\n",
    "    print('Found %s unique tokens.' % len(word_index))\n",
    "    X_train = pad_sequences(sequences_train)\n",
    "    y_train = np.asarray(train.Informativeness)\n",
    "    print('Shape of X train :', X_train.shape)\n",
    "    print('Shape of label train :', y_train.shape)\n",
    "    print(\"Computing embedding matrix\")\n",
    "    vocabulary_size=len(word_index)+1\n",
    "    embedding_matrix = np.zeros((vocabulary_size, EMBEDDING_DIM))\n",
    "    for word, i in word_index.items():\n",
    "        try:\n",
    "            embedding_vector = st_model.encode(word)\n",
    "            embedding_matrix[i] = embedding_vector\n",
    "        except KeyError:\n",
    "            embedding_matrix[i]=np.random.normal(0,np.sqrt(0.25),EMBEDDING_DIM)\n",
    "\n",
    "\n",
    "\n",
    "    embedding_layer = Embedding(vocabulary_size,\n",
    "                                EMBEDDING_DIM,\n",
    "                                weights=[embedding_matrix],\n",
    "                                trainable=True)\n",
    "    \n",
    "    model= build_cnn_model(X_train)\n",
    "\n",
    "    y_train = y_train.reshape(len(y_train), 1)\n",
    "\n",
    "    y_train_extra = np.abs(y_train-1)\n",
    "\n",
    "    X_train_meta = train.to_numpy()[:, 2:].astype('float32')\n",
    "    \n",
    "    model.compile(loss='categorical_crossentropy',\n",
    "              optimizer='adam',\n",
    "              metrics=['acc'])\n",
    "    callbacks = [EarlyStopping(monitor='loss')]\n",
    "    model.fit([X_train, X_train_meta], np.append(y_train, y_train_extra, axis=1), batch_size=1000, epochs=10, verbose=1,\n",
    "             callbacks=callbacks)  \n",
    "\n",
    "    for j,ds_test in enumerate(datasets):\n",
    "\n",
    "        print(\"testing on Dataset {}\".format(j+1))\n",
    "\n",
    "        test=ds_test\n",
    "        sequences_test=tokenizer.texts_to_sequences(test.text)\n",
    "        X_test = pad_sequences(sequences_test,maxlen=X_train.shape[1])\n",
    "        X_test_meta = test.to_numpy()[:, 2:].astype('float32')\n",
    "        y_pred=model.predict([X_test, X_test_meta])\n",
    "        y_pred_bool =(y_pred > 0.5).astype(\"int32\")\n",
    "        y_true = np.asarray(test.Informativeness).reshape(len(test),1)\n",
    "\n",
    "        row.append(roc_auc_score(y_true, y_pred_bool[:,0]))\n",
    "    results.append(row)\n",
    "\n",
    "\n"
   ]
  },
  {
   "cell_type": "code",
   "execution_count": 25,
   "metadata": {},
   "outputs": [
    {
     "data": {
      "text/plain": [
       "[[0.793500145029995,\n",
       "  0.5795199050999724,\n",
       "  0.6669939767628116,\n",
       "  0.542677623097733,\n",
       "  0.5798214343064522,\n",
       "  0.5895309369646642,\n",
       "  0.650817527795945],\n",
       " [0.6696190063290143,\n",
       "  0.6672564771679453,\n",
       "  0.6905376754034691,\n",
       "  0.5099985932891211,\n",
       "  0.7046407810643286,\n",
       "  0.6936604386245077,\n",
       "  0.6121648136036625],\n",
       " [0.5933802839739939,\n",
       "  0.495516807389506,\n",
       "  0.5592175277299308,\n",
       "  0.5181944712688238,\n",
       "  0.5028326428364969,\n",
       "  0.4748494889811562,\n",
       "  0.555134074558535],\n",
       " [0.4498098301896777,\n",
       "  0.48998422015842114,\n",
       "  0.44439682600634145,\n",
       "  0.5101624329817791,\n",
       "  0.4988855702219224,\n",
       "  0.5160559120428171,\n",
       "  0.45794637017658596],\n",
       " [0.49818167906217803,\n",
       "  0.48679420113422006,\n",
       "  0.48367815177680007,\n",
       "  0.49305436503534583,\n",
       "  0.49984905417991454,\n",
       "  0.483018386516071,\n",
       "  0.4970568999345978],\n",
       " [0.5618121193260951,\n",
       "  0.544978273840016,\n",
       "  0.5802049162342151,\n",
       "  0.4865231800295052,\n",
       "  0.5936763336223785,\n",
       "  0.627998787782004,\n",
       "  0.5305428384565075],\n",
       " [0.5287723414109899,\n",
       "  0.6275645004791206,\n",
       "  0.5559789406124173,\n",
       "  0.603328403037219,\n",
       "  0.5009345794392523,\n",
       "  0.5150546949856276,\n",
       "  0.6104643557880968]]"
      ]
     },
     "execution_count": 25,
     "metadata": {},
     "output_type": "execute_result"
    }
   ],
   "source": [
    "results"
   ]
  },
  {
   "cell_type": "code",
   "execution_count": 26,
   "metadata": {},
   "outputs": [
    {
     "data": {
      "image/png": "[encoded data removed]",
      "text/plain": [
       "<Figure size 432x288 with 2 Axes>"
      ]
     },
     "metadata": {
      "needs_background": "light"
     },
     "output_type": "display_data"
    }
   ],
   "source": [
    "df = pd.DataFrame(results)\n",
    "df.columns= map( lambda x: dataset_names[x],df.columns)\n",
    "df.index= map( lambda x: dataset_names[x],df.index)\n",
    "svm=sns.heatmap(df, annot=True).set_title(\"CNN using DistilBERT\")"
   ]
  }
 ],
 "metadata": {
  "kernelspec": {
   "display_name": "Python 3",
   "language": "python",
   "name": "python3"
  },
  "language_info": {
   "codemirror_mode": {
    "name": "ipython",
    "version": 3
   },
   "file_extension": ".py",
   "mimetype": "text/x-python",
   "name": "python",
   "nbconvert_exporter": "python",
   "pygments_lexer": "ipython3",
   "version": "3.7.6"
  }
 },
 "nbformat": 4,
 "nbformat_minor": 4
}
