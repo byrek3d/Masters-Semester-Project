{
 "cells": [
  {
   "cell_type": "code",
   "execution_count": 2,
   "metadata": {
    "colab": {},
    "colab_type": "code",
    "executionInfo": {
     "elapsed": 374,
     "status": "ok",
     "timestamp": 1600856181231,
     "user": {
      "displayName": "byrek",
      "photoUrl": "https://lh3.googleusercontent.com/a-/AOh14GhAvHM_OBXbApiIG8MkYPz0OhB3fW-xzyqHesPi-w=s64",
      "userId": "17956107666140341860"
     },
     "user_tz": -120
    },
    "id": "IdCF_BuqdrFc"
   },
   "outputs": [],
   "source": [
    "import pandas as pd\n",
    "from textblob import TextBlob\n",
    "import glob\n",
    "import re\n",
    "from nltk.corpus import stopwords\n",
    "from nltk.stem.wordnet import WordNetLemmatizer\n",
    "import sklearn\n",
    "from sklearn.metrics import roc_auc_score\n",
    "from sklearn.metrics import precision_score\n",
    "from sklearn.metrics import recall_score\n",
    "from sklearn.metrics import f1_score\n",
    "from sklearn.metrics import roc_curve"
   ]
  },
  {
   "cell_type": "markdown",
   "metadata": {
    "colab_type": "text",
    "id": "PuwW_15sLSBu"
   },
   "source": [
    "### Load datasets"
   ]
  },
  {
   "cell_type": "code",
   "execution_count": 3,
   "metadata": {},
   "outputs": [
    {
     "name": "stdout",
     "output_type": "stream",
     "text": [
      "Number of train features: 49408 \n",
      "Number of test features: 15738\n"
     ]
    }
   ],
   "source": [
    "all_files = glob.glob(\"./dataset_cleaning/*.pkl\")\n",
    "test_filename= \"./dataset_cleaning/dataset2Cleaned.pkl\"\n",
    "li = []\n",
    "\n",
    "for filename in all_files:\n",
    "    \n",
    "    if(filename != test_filename):\n",
    "\n",
    "        df = pd.read_pickle(filename)\n",
    "        li.append(df)\n",
    "\n",
    "train_df = pd.concat(li, axis=0, ignore_index=True)\n",
    "test_df = pd.read_pickle(test_filename)\n",
    "\n",
    "print(\"Number of train features: {} \\nNumber of test features: {}\".format(len(train_df), len(test_df)))"
   ]
  },
  {
   "cell_type": "code",
   "execution_count": 4,
   "metadata": {},
   "outputs": [
    {
     "data": {
      "text/html": [
       "<div>\n",
       "<style scoped>\n",
       "    .dataframe tbody tr th:only-of-type {\n",
       "        vertical-align: middle;\n",
       "    }\n",
       "\n",
       "    .dataframe tbody tr th {\n",
       "        vertical-align: top;\n",
       "    }\n",
       "\n",
       "    .dataframe thead th {\n",
       "        text-align: right;\n",
       "    }\n",
       "</style>\n",
       "<table border=\"1\" class=\"dataframe\">\n",
       "  <thead>\n",
       "    <tr style=\"text-align: right;\">\n",
       "      <th></th>\n",
       "      <th>Informativeness</th>\n",
       "      <th>text</th>\n",
       "    </tr>\n",
       "  </thead>\n",
       "  <tbody>\n",
       "    <tr>\n",
       "      <th>0</th>\n",
       "      <td>0</td>\n",
       "      <td>#Intern #US #TATTOO #Wisconsin #Ohio #NC #PA #...</td>\n",
       "    </tr>\n",
       "    <tr>\n",
       "      <th>1</th>\n",
       "      <td>0</td>\n",
       "      <td>Get in on the fun every Thursday with the @csi...</td>\n",
       "    </tr>\n",
       "    <tr>\n",
       "      <th>2</th>\n",
       "      <td>0</td>\n",
       "      <td>Welcome to our newest STUDENTathlete- Reagan B...</td>\n",
       "    </tr>\n",
       "    <tr>\n",
       "      <th>3</th>\n",
       "      <td>0</td>\n",
       "      <td>Denver Post: #Colorado governor signs bill cre...</td>\n",
       "    </tr>\n",
       "    <tr>\n",
       "      <th>4</th>\n",
       "      <td>0</td>\n",
       "      <td>Pretty sure I'm going to live in Manitou Sprin...</td>\n",
       "    </tr>\n",
       "  </tbody>\n",
       "</table>\n",
       "</div>"
      ],
      "text/plain": [
       "   Informativeness                                               text\n",
       "0                0  #Intern #US #TATTOO #Wisconsin #Ohio #NC #PA #...\n",
       "1                0  Get in on the fun every Thursday with the @csi...\n",
       "2                0  Welcome to our newest STUDENTathlete- Reagan B...\n",
       "3                0  Denver Post: #Colorado governor signs bill cre...\n",
       "4                0  Pretty sure I'm going to live in Manitou Sprin..."
      ]
     },
     "execution_count": 4,
     "metadata": {},
     "output_type": "execute_result"
    }
   ],
   "source": [
    "train_df.head()"
   ]
  },
  {
   "cell_type": "code",
   "execution_count": 5,
   "metadata": {},
   "outputs": [
    {
     "data": {
      "text/html": [
       "<div>\n",
       "<style scoped>\n",
       "    .dataframe tbody tr th:only-of-type {\n",
       "        vertical-align: middle;\n",
       "    }\n",
       "\n",
       "    .dataframe tbody tr th {\n",
       "        vertical-align: top;\n",
       "    }\n",
       "\n",
       "    .dataframe thead th {\n",
       "        text-align: right;\n",
       "    }\n",
       "</style>\n",
       "<table border=\"1\" class=\"dataframe\">\n",
       "  <thead>\n",
       "    <tr style=\"text-align: right;\">\n",
       "      <th></th>\n",
       "      <th>Informativeness</th>\n",
       "      <th>text</th>\n",
       "    </tr>\n",
       "  </thead>\n",
       "  <tbody>\n",
       "    <tr>\n",
       "      <th>0</th>\n",
       "      <td>1</td>\n",
       "      <td>RT @Gizmodo: Wildfires raging through Northern...</td>\n",
       "    </tr>\n",
       "    <tr>\n",
       "      <th>1</th>\n",
       "      <td>1</td>\n",
       "      <td>PHOTOS: Deadly wildfires rage in California ht...</td>\n",
       "    </tr>\n",
       "    <tr>\n",
       "      <th>2</th>\n",
       "      <td>1</td>\n",
       "      <td>RT @Cal_OES: PLS SHARE: Weâ€™re capturing wild...</td>\n",
       "    </tr>\n",
       "    <tr>\n",
       "      <th>4</th>\n",
       "      <td>1</td>\n",
       "      <td>RT @TIME: California's raging wildfires as you...</td>\n",
       "    </tr>\n",
       "    <tr>\n",
       "      <th>5</th>\n",
       "      <td>1</td>\n",
       "      <td>Wildfires Threaten Californiaâ€™s First Legal ...</td>\n",
       "    </tr>\n",
       "  </tbody>\n",
       "</table>\n",
       "</div>"
      ],
      "text/plain": [
       "   Informativeness                                               text\n",
       "0                1  RT @Gizmodo: Wildfires raging through Northern...\n",
       "1                1  PHOTOS: Deadly wildfires rage in California ht...\n",
       "2                1  RT @Cal_OES: PLS SHARE: Weâ€™re capturing wild...\n",
       "4                1  RT @TIME: California's raging wildfires as you...\n",
       "5                1  Wildfires Threaten Californiaâ€™s First Legal ..."
      ]
     },
     "execution_count": 5,
     "metadata": {},
     "output_type": "execute_result"
    }
   ],
   "source": [
    "test_df.head()"
   ]
  },
  {
   "cell_type": "code",
   "execution_count": 6,
   "metadata": {},
   "outputs": [
    {
     "data": {
      "text/plain": [
       "1    34583\n",
       "0    14825\n",
       "Name: Informativeness, dtype: int64"
      ]
     },
     "execution_count": 6,
     "metadata": {},
     "output_type": "execute_result"
    }
   ],
   "source": [
    "train_df[\"Informativeness\"].value_counts()"
   ]
  },
  {
   "cell_type": "code",
   "execution_count": 7,
   "metadata": {},
   "outputs": [
    {
     "data": {
      "text/plain": [
       "1    11357\n",
       "0     4381\n",
       "Name: Informativeness, dtype: int64"
      ]
     },
     "execution_count": 7,
     "metadata": {},
     "output_type": "execute_result"
    }
   ],
   "source": [
    "test_df[\"Informativeness\"].value_counts()"
   ]
  },
  {
   "cell_type": "code",
   "execution_count": 8,
   "metadata": {},
   "outputs": [],
   "source": [
    "train_df.drop_duplicates(subset=[\"text\"], keep=\"first\", inplace=True)\n",
    "test_df.drop_duplicates(subset=[\"text\"], keep=\"first\", inplace=True)"
   ]
  },
  {
   "cell_type": "markdown",
   "metadata": {},
   "source": [
    "### Process the text"
   ]
  },
  {
   "cell_type": "code",
   "execution_count": 9,
   "metadata": {},
   "outputs": [],
   "source": [
    "\n",
    "def text_processing(tweet):\n",
    "    \n",
    "    tweet= tweet.lower()\n",
    "    \n",
    "    #Removing hyperlinks from the tweet\n",
    "    tweet_no_links=re.sub(r'http\\S+', '', tweet)\n",
    "    \n",
    "    #Generating the list of words in the tweet (hashtags and other punctuations removed)\n",
    "    def form_sentence(tweet):\n",
    "        tweet_blob = TextBlob(tweet)\n",
    "        return ' '.join(tweet_blob.words)\n",
    "    new_tweet = form_sentence(tweet_no_links)\n",
    "    \n",
    "    #Removing stopwords and words with unusual symbols\n",
    "    def no_user_alpha(tweet):\n",
    "        tweet_list = [ele for ele in tweet.split() if ele != 'user']\n",
    "        clean_tokens = [t for t in tweet_list if re.match(r'[^\\W\\d]*$', t)]\n",
    "        clean_s = ' '.join(clean_tokens)\n",
    "        clean_mess = [word for word in clean_s.split() if word not in stopwords.words('english')]\n",
    "        return clean_mess\n",
    "    no_punc_tweet = no_user_alpha(new_tweet)\n",
    "    \n",
    "    #Normalizing the words in tweets \n",
    "    def normalization(tweet_list):\n",
    "        lem = WordNetLemmatizer()\n",
    "        normalized_tweet = []\n",
    "        for word in tweet_list:\n",
    "            normalized_text = lem.lemmatize(word,'v')\n",
    "            normalized_tweet.append(normalized_text)\n",
    "        return \" \".join(normalized_tweet)\n",
    "    \n",
    "    \n",
    "    return normalization(no_punc_tweet)"
   ]
  },
  {
   "cell_type": "code",
   "execution_count": 10,
   "metadata": {},
   "outputs": [],
   "source": [
    "train_df['text_processed']=train_df['text'].apply(text_processing)"
   ]
  },
  {
   "cell_type": "code",
   "execution_count": 11,
   "metadata": {},
   "outputs": [],
   "source": [
    "test_df['text_processed']=test_df['text'].apply(text_processing)"
   ]
  },
  {
   "cell_type": "code",
   "execution_count": 12,
   "metadata": {},
   "outputs": [
    {
     "name": "stderr",
     "output_type": "stream",
     "text": [
      "/opt/anaconda3/lib/python3.7/site-packages/ipykernel_launcher.py:1: FutureWarning: Passing a negative integer is deprecated in version 1.0 and will not be supported in future version. Instead, use None to not limit the column width.\n",
      "  \"\"\"Entry point for launching an IPython kernel.\n"
     ]
    },
    {
     "data": {
      "text/plain": [
       "Informativeness    0                                                                                                                   \n",
       "text               Denver Post: #Colorado governor signs bill creating rules for public access to ballots http://t.co/Hmp1wQ8P #opengov\n",
       "text_processed     denver post colorado governor sign bill create rule public access ballot opengov                                    \n",
       "Name: 3, dtype: object"
      ]
     },
     "execution_count": 12,
     "metadata": {},
     "output_type": "execute_result"
    }
   ],
   "source": [
    "pd.set_option('display.max_colwidth', -1)\n",
    "train_df.iloc[3]"
   ]
  },
  {
   "cell_type": "code",
   "execution_count": 13,
   "metadata": {},
   "outputs": [],
   "source": [
    "#Randomise order of train dataset\n",
    "train_df = sklearn.utils.shuffle(train_df)"
   ]
  },
  {
   "cell_type": "markdown",
   "metadata": {},
   "source": [
    "## Baseline model"
   ]
  },
  {
   "cell_type": "markdown",
   "metadata": {},
   "source": [
    "Split data into X and Y, as well as train/test sets"
   ]
  },
  {
   "cell_type": "code",
   "execution_count": 14,
   "metadata": {},
   "outputs": [],
   "source": [
    "# from sklearn.model_selection import train_test_split\n",
    "\n",
    "\n",
    "\n",
    "# sentences = main_df['text'].values\n",
    "# y = main_df['Informativeness'].values\n",
    "\n",
    "# sentences_train, sentences_test, y_train, y_test = train_test_split(\n",
    "#    sentences, y, test_size=0.25, random_state=1000)\n"
   ]
  },
  {
   "cell_type": "code",
   "execution_count": 15,
   "metadata": {},
   "outputs": [],
   "source": [
    "sentences_train = train_df['text_processed'].values\n",
    "sentences_test = test_df['text_processed'].values\n",
    "\n",
    "y_train = train_df['Informativeness'].values\n",
    "y_test = test_df['Informativeness'].values\n",
    "\n",
    "\n"
   ]
  },
  {
   "cell_type": "code",
   "execution_count": 16,
   "metadata": {},
   "outputs": [
    {
     "data": {
      "text/plain": [
       "array(['engineer daydream crash new york daily news',\n",
       "       'rt meher_j afp uno unesco unicef shame pak govt earthquake effectees surround dco offc awaran people cry',\n",
       "       'rt let pray chile prayforchile lt', ..., 'fuck place laxshooting',\n",
       "       'rt ebola patient commercial flight night report symptoms fever',\n",
       "       'colombia president duque announce march nationwide isolation measure would effect tuesday march april measure intend slow spread coronavirus colombia traveladvice'],\n",
       "      dtype=object)"
      ]
     },
     "execution_count": 16,
     "metadata": {},
     "output_type": "execute_result"
    }
   ],
   "source": [
    "sentences_train"
   ]
  },
  {
   "cell_type": "markdown",
   "metadata": {},
   "source": [
    "Vectorize sentances using CountVectorizer"
   ]
  },
  {
   "cell_type": "code",
   "execution_count": 17,
   "metadata": {},
   "outputs": [],
   "source": [
    "from sklearn.feature_extraction.text import CountVectorizer\n",
    "\n",
    "# Vevotize each sentance\n",
    "vectorizer = CountVectorizer()\n",
    "vectorizer.fit(sentences_train)\n",
    "\n",
    "# Too look at the vocabulary encoding\n",
    "# vectorizer.vocabulary_\n",
    "\n",
    "X_train = vectorizer.transform(sentences_train)\n",
    "X_test  = vectorizer.transform(sentences_test)"
   ]
  },
  {
   "cell_type": "code",
   "execution_count": 43,
   "metadata": {},
   "outputs": [],
   "source": [
    "\n",
    "# {k: v for k, v in sorted(vectorizer.vocabulary_.items(), key=lambda item: item[1])}"
   ]
  },
  {
   "cell_type": "markdown",
   "metadata": {},
   "source": [
    "Evaluate using Logistic Regression"
   ]
  },
  {
   "cell_type": "code",
   "execution_count": 17,
   "metadata": {},
   "outputs": [
    {
     "name": "stdout",
     "output_type": "stream",
     "text": [
      "Accuracy: 0.696403609098996\n"
     ]
    }
   ],
   "source": [
    "from sklearn.linear_model import LogisticRegression\n",
    "\n",
    "classifier = LogisticRegression(max_iter=10000)\n",
    "classifier.fit(X_train, y_train)\n",
    "score = classifier.score(X_test, y_test)\n",
    "\n",
    "print(\"Accuracy:\", score)"
   ]
  },
  {
   "cell_type": "code",
   "execution_count": 18,
   "metadata": {},
   "outputs": [
    {
     "name": "stdout",
     "output_type": "stream",
     "text": [
      "Precision: 0.8345367639581003 \n",
      "Recall:0.7225499691820023 \n",
      "F1 Score: 0.7745162812647475 \n",
      "AUC: 0.7398428082136923\n"
     ]
    }
   ],
   "source": [
    "y_pred = classifier.predict(X_test)\n",
    "y_pred_prob=classifier.predict_proba(X_test)[:,1]\n",
    "\n",
    "precision_LR = precision_score(y_test, y_pred)\n",
    "recall_LR = recall_score(y_test, y_pred)\n",
    "f1_LR= f1_score(y_test, y_pred)\n",
    "roc_LR = roc_auc_score(y_test, y_pred_prob)\n",
    "\n",
    "fpr_LR, tpr_LR, thresholds_LR = roc_curve(y_test, y_pred_prob)\n",
    "\n",
    "print(\"Precision: {} \\nRecall:{} \\nF1 Score: {} \\nAUC: {}\".format(precision_LR, recall_LR, f1_LR, roc_LR))"
   ]
  },
  {
   "cell_type": "markdown",
   "metadata": {},
   "source": [
    "# Using embeddings (Glove)"
   ]
  },
  {
   "cell_type": "code",
   "execution_count": 19,
   "metadata": {},
   "outputs": [
    {
     "name": "stdout",
     "output_type": "stream",
     "text": [
      "oh hear joe diffie announce coronavirus friday pass away today\n",
      "[580, 218, 1980, 206, 4, 308, 348, 301, 28]\n"
     ]
    }
   ],
   "source": [
    "# This time don't vectorize, but tokenize. Same idea but runs better with Keras and tokenizer assings\n",
    "# index 1 to most frequent word and so on. While vecotrizer makes each sentcance to a vector of the same\n",
    "# size (the vocabulary size) and assigns count of how many time a word appears\n",
    "\n",
    "from keras.preprocessing.text import Tokenizer\n",
    "\n",
    "tokenizer = Tokenizer(num_words=5000)\n",
    "tokenizer.fit_on_texts(sentences_train)\n",
    "\n",
    "X_train = tokenizer.texts_to_sequences(sentences_train)\n",
    "X_test = tokenizer.texts_to_sequences(sentences_test)\n",
    "\n",
    "vocab_size = len(tokenizer.word_index) + 1  # Adding 1 because of reserved 0 index\n",
    "\n",
    "print(sentences_train[1])\n",
    "print(X_train[1])\n",
    "\n"
   ]
  },
  {
   "cell_type": "code",
   "execution_count": 20,
   "metadata": {},
   "outputs": [
    {
     "name": "stdout",
     "output_type": "stream",
     "text": [
      "[3220  648 2547 2066  201 2548 1556    0    0    0    0    0    0    0\n",
      "    0    0    0    0    0    0    0    0    0    0    0    0    0    0\n",
      "    0    0    0    0    0    0    0    0    0    0    0    0    0    0\n",
      "    0    0    0    0    0    0    0    0    0    0    0    0    0    0\n",
      "    0    0    0    0    0    0    0    0    0    0    0    0    0    0\n",
      "    0    0    0    0    0    0    0    0    0    0    0    0    0    0\n",
      "    0    0    0    0    0    0    0    0    0    0    0    0    0    0\n",
      "    0    0    0    0    0    0    0    0    0    0    0    0    0    0\n",
      "    0    0    0    0    0    0    0    0    0    0    0    0    0    0\n",
      "    0    0    0    0    0    0    0    0    0    0    0    0    0    0\n",
      "    0    0    0    0    0    0    0    0    0    0    0    0    0    0\n",
      "    0    0    0    0    0    0    0    0    0    0    0    0    0    0\n",
      "    0    0    0    0    0    0    0    0    0    0    0    0    0    0\n",
      "    0    0    0    0    0    0    0    0    0    0    0    0    0    0\n",
      "    0    0    0    0    0    0    0    0    0    0    0    0    0    0\n",
      "    0    0    0    0    0    0    0    0    0    0    0    0    0    0\n",
      "    0    0    0    0    0    0    0    0    0    0    0    0    0    0\n",
      "    0    0    0    0    0    0    0    0    0    0    0    0    0    0\n",
      "    0    0    0    0    0    0    0    0    0    0    0    0    0    0\n",
      "    0    0    0    0    0    0    0    0    0    0    0    0    0    0\n",
      "    0    0    0    0    0    0    0    0    0    0    0    0    0    0\n",
      "    0    0    0    0    0    0    0    0    0    0    0    0    0    0\n",
      "    0    0    0    0    0    0    0    0    0    0    0    0    0    0\n",
      "    0    0    0    0    0    0    0    0    0    0    0    0    0    0\n",
      "    0    0    0    0    0    0    0    0    0    0    0    0    0    0\n",
      "    0    0    0    0    0    0    0    0    0    0    0    0    0    0\n",
      "    0    0    0    0    0    0    0    0    0    0    0    0    0    0\n",
      "    0    0    0    0    0    0    0    0    0    0    0    0    0    0\n",
      "    0    0    0    0    0    0    0    0    0    0    0    0    0    0\n",
      "    0    0    0    0    0    0    0    0    0    0    0]\n"
     ]
    }
   ],
   "source": [
    "# Pad with trailing 0 every tokenized sentance so that they have the same length (the length of the longest sentance)\n",
    "\n",
    "from keras.preprocessing.sequence import pad_sequences\n",
    "\n",
    "maxlen = len(max(X_train, key=len)) #length of the longest sentance\n",
    "\n",
    "X_train = pad_sequences(X_train, padding='post', maxlen=maxlen)\n",
    "X_test = pad_sequences(X_test, padding='post', maxlen=maxlen)\n",
    "\n",
    "print(X_train[0, :])"
   ]
  },
  {
   "cell_type": "code",
   "execution_count": 21,
   "metadata": {},
   "outputs": [],
   "source": [
    "import numpy as np\n",
    "\n",
    "def create_embedding_matrix(filepath, word_index, embedding_dim):\n",
    "    vocab_size = len(word_index) + 1  # Adding again 1 because of reserved 0 index\n",
    "    embedding_matrix = np.zeros((vocab_size, embedding_dim))\n",
    "\n",
    "    with open(filepath) as f:\n",
    "        for line in f:\n",
    "            word, *vector = line.split()\n",
    "            if word in word_index:\n",
    "                idx = word_index[word] \n",
    "                embedding_matrix[idx] = np.array(\n",
    "                    vector, dtype=np.float32)[:embedding_dim]\n",
    "\n",
    "    return embedding_matrix"
   ]
  },
  {
   "cell_type": "markdown",
   "metadata": {},
   "source": [
    "Load pretrained data"
   ]
  },
  {
   "cell_type": "code",
   "execution_count": 22,
   "metadata": {
    "scrolled": true
   },
   "outputs": [],
   "source": [
    "# Download here: https://nlp.stanford.edu/projects/glove/\n",
    "\n",
    "embedding_dim = 300\n",
    "embedding_matrix = create_embedding_matrix(\n",
    "    'glove_data/glove.6B.300d.txt',\n",
    "    tokenizer.word_index, embedding_dim)\n",
    "\n"
   ]
  },
  {
   "cell_type": "markdown",
   "metadata": {},
   "source": [
    "Percantage of vocabulary covered in the pretrained model"
   ]
  },
  {
   "cell_type": "code",
   "execution_count": 23,
   "metadata": {},
   "outputs": [
    {
     "data": {
      "text/plain": [
       "0.5506530883329643"
      ]
     },
     "execution_count": 23,
     "metadata": {},
     "output_type": "execute_result"
    }
   ],
   "source": [
    "nonzero_elements = np.count_nonzero(np.count_nonzero(embedding_matrix, axis=1))\n",
    "nonzero_elements / vocab_size"
   ]
  },
  {
   "cell_type": "code",
   "execution_count": 24,
   "metadata": {},
   "outputs": [
    {
     "name": "stdout",
     "output_type": "stream",
     "text": [
      "Model: \"sequential\"\n",
      "_________________________________________________________________\n",
      "Layer (type)                 Output Shape              Param #   \n",
      "=================================================================\n",
      "embedding (Embedding)        (None, 417, 300)          13551000  \n",
      "_________________________________________________________________\n",
      "global_max_pooling1d (Global (None, 300)               0         \n",
      "_________________________________________________________________\n",
      "dense (Dense)                (None, 10)                3010      \n",
      "_________________________________________________________________\n",
      "dense_1 (Dense)              (None, 1)                 11        \n",
      "=================================================================\n",
      "Total params: 13,554,021\n",
      "Trainable params: 3,021\n",
      "Non-trainable params: 13,551,000\n",
      "_________________________________________________________________\n"
     ]
    }
   ],
   "source": [
    "from keras.models import Sequential\n",
    "from keras import layers\n",
    "\n",
    "model = Sequential()\n",
    "model.add(layers.Embedding(vocab_size, embedding_dim, \n",
    "                           weights=[embedding_matrix], \n",
    "                           input_length=maxlen, \n",
    "                           trainable=False))\n",
    "\n",
    "model.add(layers.GlobalMaxPool1D())\n",
    "model.add(layers.Dense(10, activation='relu'))\n",
    "model.add(layers.Dense(1, activation='sigmoid'))\n",
    "model.compile(optimizer='adam',\n",
    "              loss='binary_crossentropy',\n",
    "              metrics=['accuracy'])\n",
    "model.summary()\n"
   ]
  },
  {
   "cell_type": "code",
   "execution_count": 25,
   "metadata": {},
   "outputs": [
    {
     "name": "stdout",
     "output_type": "stream",
     "text": [
      "Epoch 1/30\n",
      "4935/4935 [==============================] - 15s 3ms/step - loss: 0.4708 - accuracy: 0.7740 - val_loss: 0.5164 - val_accuracy: 0.7531\n",
      "Epoch 2/30\n",
      "4935/4935 [==============================] - 17s 3ms/step - loss: 0.4373 - accuracy: 0.7927 - val_loss: 0.5240 - val_accuracy: 0.7500\n",
      "Epoch 3/30\n",
      "4935/4935 [==============================] - 15s 3ms/step - loss: 0.4270 - accuracy: 0.7962 - val_loss: 0.5122 - val_accuracy: 0.7536\n",
      "Epoch 4/30\n",
      "4935/4935 [==============================] - 15s 3ms/step - loss: 0.4197 - accuracy: 0.8027 - val_loss: 0.5096 - val_accuracy: 0.7542\n",
      "Epoch 5/30\n",
      "4935/4935 [==============================] - 15s 3ms/step - loss: 0.4147 - accuracy: 0.8065 - val_loss: 0.5294 - val_accuracy: 0.7488\n",
      "Epoch 6/30\n",
      "4935/4935 [==============================] - 15s 3ms/step - loss: 0.4088 - accuracy: 0.8072 - val_loss: 0.5073 - val_accuracy: 0.7558\n",
      "Epoch 7/30\n",
      "4935/4935 [==============================] - 15s 3ms/step - loss: 0.4036 - accuracy: 0.8132 - val_loss: 0.5244 - val_accuracy: 0.7470\n",
      "Epoch 8/30\n",
      "4935/4935 [==============================] - 15s 3ms/step - loss: 0.3982 - accuracy: 0.8167 - val_loss: 0.5244 - val_accuracy: 0.7495\n",
      "Epoch 9/30\n",
      "4935/4935 [==============================] - 15s 3ms/step - loss: 0.3939 - accuracy: 0.8179 - val_loss: 0.5274 - val_accuracy: 0.7396\n",
      "Epoch 10/30\n",
      "4935/4935 [==============================] - 15s 3ms/step - loss: 0.3887 - accuracy: 0.8230 - val_loss: 0.5583 - val_accuracy: 0.7174\n",
      "Epoch 11/30\n",
      "4935/4935 [==============================] - 15s 3ms/step - loss: 0.3835 - accuracy: 0.8264 - val_loss: 0.5281 - val_accuracy: 0.7395\n",
      "Epoch 12/30\n",
      "4935/4935 [==============================] - 15s 3ms/step - loss: 0.3801 - accuracy: 0.8272 - val_loss: 0.5891 - val_accuracy: 0.7177\n",
      "Epoch 13/30\n",
      "4935/4935 [==============================] - 15s 3ms/step - loss: 0.3770 - accuracy: 0.8292 - val_loss: 0.5512 - val_accuracy: 0.7193\n",
      "Epoch 14/30\n",
      "4935/4935 [==============================] - 15s 3ms/step - loss: 0.3742 - accuracy: 0.8303 - val_loss: 0.5263 - val_accuracy: 0.7496\n",
      "Epoch 15/30\n",
      "4935/4935 [==============================] - 15s 3ms/step - loss: 0.3718 - accuracy: 0.8309 - val_loss: 0.5273 - val_accuracy: 0.7517\n",
      "Epoch 16/30\n",
      "4935/4935 [==============================] - 15s 3ms/step - loss: 0.3702 - accuracy: 0.8322 - val_loss: 0.5786 - val_accuracy: 0.7066\n",
      "Epoch 17/30\n",
      "4935/4935 [==============================] - 15s 3ms/step - loss: 0.3688 - accuracy: 0.8328 - val_loss: 0.5635 - val_accuracy: 0.7218\n",
      "Epoch 18/30\n",
      "4935/4935 [==============================] - 15s 3ms/step - loss: 0.3658 - accuracy: 0.8346 - val_loss: 0.5877 - val_accuracy: 0.7052\n",
      "Epoch 19/30\n",
      "4935/4935 [==============================] - 15s 3ms/step - loss: 0.3644 - accuracy: 0.8346 - val_loss: 0.6110 - val_accuracy: 0.6916\n",
      "Epoch 20/30\n",
      "4935/4935 [==============================] - 15s 3ms/step - loss: 0.3635 - accuracy: 0.8352 - val_loss: 0.5441 - val_accuracy: 0.7422\n",
      "Epoch 21/30\n",
      "4935/4935 [==============================] - 16s 3ms/step - loss: 0.3618 - accuracy: 0.8361 - val_loss: 0.5797 - val_accuracy: 0.7124\n",
      "Epoch 22/30\n",
      "4935/4935 [==============================] - 16s 3ms/step - loss: 0.3622 - accuracy: 0.8351 - val_loss: 0.5371 - val_accuracy: 0.7483\n",
      "Epoch 23/30\n",
      "4935/4935 [==============================] - 15s 3ms/step - loss: 0.3605 - accuracy: 0.8368 - val_loss: 0.5463 - val_accuracy: 0.7380\n",
      "Epoch 24/30\n",
      "4935/4935 [==============================] - 15s 3ms/step - loss: 0.3585 - accuracy: 0.8378 - val_loss: 0.5437 - val_accuracy: 0.7507\n",
      "Epoch 25/30\n",
      "4935/4935 [==============================] - 15s 3ms/step - loss: 0.3576 - accuracy: 0.8387 - val_loss: 0.5894 - val_accuracy: 0.7079\n",
      "Epoch 26/30\n",
      "4935/4935 [==============================] - 15s 3ms/step - loss: 0.3574 - accuracy: 0.8387 - val_loss: 0.5498 - val_accuracy: 0.7338\n",
      "Epoch 27/30\n",
      "4935/4935 [==============================] - 16s 3ms/step - loss: 0.3562 - accuracy: 0.8393 - val_loss: 0.5406 - val_accuracy: 0.7443\n",
      "Epoch 28/30\n",
      "4935/4935 [==============================] - 15s 3ms/step - loss: 0.3552 - accuracy: 0.8395 - val_loss: 0.5394 - val_accuracy: 0.7437\n",
      "Epoch 29/30\n",
      "4935/4935 [==============================] - 16s 3ms/step - loss: 0.3549 - accuracy: 0.8393 - val_loss: 0.5414 - val_accuracy: 0.7507\n",
      "Epoch 30/30\n",
      "4935/4935 [==============================] - 15s 3ms/step - loss: 0.3547 - accuracy: 0.8408 - val_loss: 0.5536 - val_accuracy: 0.7352\n",
      "Training Accuracy: 0.8444935083389282\n",
      "Testing Accuracy:  0.7352268099784851\n"
     ]
    }
   ],
   "source": [
    "history = model.fit(X_train, y_train,\n",
    "                    epochs=30,\n",
    "                    verbose=1,\n",
    "                    validation_data=(X_test, y_test),\n",
    "                    batch_size=10)\n",
    "loss, accuracy = model.evaluate(X_train, y_train, verbose=False)\n",
    "print(\"Training Accuracy: {}\".format(accuracy))\n",
    "loss, accuracy = model.evaluate(X_test, y_test, verbose=False)\n",
    "print(\"Testing Accuracy:  {}\".format(accuracy))\n",
    "# plot_history(history)"
   ]
  },
  {
   "cell_type": "code",
   "execution_count": 26,
   "metadata": {},
   "outputs": [
    {
     "name": "stdout",
     "output_type": "stream",
     "text": [
      "Precision: 0.8122285912801807 \n",
      "Recall:0.823456898828916 \n",
      "F1 Score: 0.8178042061999913 \n",
      "AUC: 0.7482949508388269\n"
     ]
    }
   ],
   "source": [
    "y_pred =(model.predict(X_test) > 0.5).astype(\"int32\")\n",
    "y_pred_prob = model.predict(X_test)\n",
    "\n",
    "precision_Glove_Untrainable = precision_score(y_test, y_pred)\n",
    "recall_Glove_Untrainable = recall_score(y_test, y_pred)\n",
    "f1_Glove_Untrainable= f1_score(y_test, y_pred)\n",
    "roc_Glove_Untrainable = roc_auc_score(y_test, y_pred_prob)\n",
    "\n",
    "fpr_Glove_Untrainable, tpr_Glove_Untrainable, thresholds_Glove_Untrainable = roc_curve(y_test, y_pred_prob)\n",
    "\n",
    "print(\"Precision: {} \\nRecall:{} \\nF1 Score: {} \\nAUC: {}\".format(precision_Glove_Untrainable, recall_Glove_Untrainable, f1_Glove_Untrainable, roc_Glove_Untrainable))\n"
   ]
  },
  {
   "cell_type": "code",
   "execution_count": 27,
   "metadata": {},
   "outputs": [
    {
     "data": {
      "image/png": "[encoded data removed]",
      "text/plain": [
       "<Figure size 720x360 with 2 Axes>"
      ]
     },
     "metadata": {
      "needs_background": "light"
     },
     "output_type": "display_data"
    }
   ],
   "source": [
    "from plot_keras_history import plot_history\n",
    "import matplotlib.pyplot as plt\n",
    "\n",
    "\n",
    "plot_history(history.history)\n",
    "plt.show()\n",
    "plt.close()"
   ]
  },
  {
   "cell_type": "markdown",
   "metadata": {},
   "source": [
    "### Do the same thing with glove, but this time all parameters are trainable (takes much longer to run)"
   ]
  },
  {
   "cell_type": "code",
   "execution_count": 28,
   "metadata": {
    "scrolled": true
   },
   "outputs": [
    {
     "name": "stdout",
     "output_type": "stream",
     "text": [
      "Model: \"sequential_1\"\n",
      "_________________________________________________________________\n",
      "Layer (type)                 Output Shape              Param #   \n",
      "=================================================================\n",
      "embedding_1 (Embedding)      (None, 417, 300)          13551000  \n",
      "_________________________________________________________________\n",
      "global_max_pooling1d_1 (Glob (None, 300)               0         \n",
      "_________________________________________________________________\n",
      "dense_2 (Dense)              (None, 10)                3010      \n",
      "_________________________________________________________________\n",
      "dense_3 (Dense)              (None, 1)                 11        \n",
      "=================================================================\n",
      "Total params: 13,554,021\n",
      "Trainable params: 13,554,021\n",
      "Non-trainable params: 0\n",
      "_________________________________________________________________\n"
     ]
    }
   ],
   "source": [
    "from keras.models import Sequential\n",
    "from keras import layers\n",
    "\n",
    "model = Sequential()\n",
    "model.add(layers.Embedding(vocab_size, embedding_dim, \n",
    "                           weights=[embedding_matrix], \n",
    "                           input_length=maxlen, \n",
    "                           trainable=True))\n",
    "\n",
    "model.add(layers.GlobalMaxPool1D())\n",
    "model.add(layers.Dense(10, activation='relu'))\n",
    "model.add(layers.Dense(1, activation='sigmoid'))\n",
    "model.compile(optimizer='adam',\n",
    "              loss='binary_crossentropy',\n",
    "              metrics=['accuracy'])\n",
    "model.summary()"
   ]
  },
  {
   "cell_type": "code",
   "execution_count": 29,
   "metadata": {},
   "outputs": [
    {
     "name": "stdout",
     "output_type": "stream",
     "text": [
      "Epoch 1/20\n",
      "4935/4935 [==============================] - 594s 120ms/step - loss: 0.3853 - accuracy: 0.8233 - val_loss: 0.5129 - val_accuracy: 0.7559\n",
      "Epoch 2/20\n",
      "4935/4935 [==============================] - 589s 119ms/step - loss: 0.2742 - accuracy: 0.8856 - val_loss: 0.5472 - val_accuracy: 0.7373\n",
      "Epoch 3/20\n",
      "4935/4935 [==============================] - 588s 119ms/step - loss: 0.2097 - accuracy: 0.9145 - val_loss: 0.6779 - val_accuracy: 0.6957\n",
      "Epoch 4/20\n",
      "4935/4935 [==============================] - 589s 119ms/step - loss: 0.1491 - accuracy: 0.9442 - val_loss: 0.7604 - val_accuracy: 0.7033\n",
      "Epoch 5/20\n",
      "4935/4935 [==============================] - 588s 119ms/step - loss: 0.0974 - accuracy: 0.9639 - val_loss: 0.9591 - val_accuracy: 0.7039\n",
      "Epoch 6/20\n",
      "4935/4935 [==============================] - 593s 120ms/step - loss: 0.0604 - accuracy: 0.9784 - val_loss: 1.1103 - val_accuracy: 0.7163\n",
      "Epoch 7/20\n",
      "4935/4935 [==============================] - 590s 119ms/step - loss: 0.0392 - accuracy: 0.9858 - val_loss: 1.5773 - val_accuracy: 0.6168\n",
      "Epoch 8/20\n",
      "4935/4935 [==============================] - 591s 120ms/step - loss: 0.0284 - accuracy: 0.9892 - val_loss: 1.4896 - val_accuracy: 0.7080\n",
      "Epoch 9/20\n",
      "4935/4935 [==============================] - 592s 120ms/step - loss: 0.0222 - accuracy: 0.9911 - val_loss: 1.7999 - val_accuracy: 0.6730\n",
      "Epoch 10/20\n",
      "4935/4935 [==============================] - 589s 119ms/step - loss: 0.0182 - accuracy: 0.9923 - val_loss: 1.7166 - val_accuracy: 0.7073\n",
      "Epoch 11/20\n",
      "4935/4935 [==============================] - 590s 120ms/step - loss: 0.0169 - accuracy: 0.9931 - val_loss: 1.9614 - val_accuracy: 0.6445\n",
      "Epoch 12/20\n",
      "4935/4935 [==============================] - 698s 141ms/step - loss: 0.0146 - accuracy: 0.9939 - val_loss: 1.8481 - val_accuracy: 0.6994\n",
      "Epoch 13/20\n",
      "4935/4935 [==============================] - 735s 149ms/step - loss: 0.0137 - accuracy: 0.9937 - val_loss: 1.9693 - val_accuracy: 0.6997\n",
      "Epoch 14/20\n",
      "4935/4935 [==============================] - 654s 132ms/step - loss: 0.0127 - accuracy: 0.9945 - val_loss: 1.8993 - val_accuracy: 0.6759\n",
      "Epoch 15/20\n",
      "4935/4935 [==============================] - 742s 150ms/step - loss: 0.0113 - accuracy: 0.9947 - val_loss: 1.7157 - val_accuracy: 0.7048\n",
      "Epoch 16/20\n",
      "4935/4935 [==============================] - 744s 151ms/step - loss: 0.0119 - accuracy: 0.9944 - val_loss: 1.8411 - val_accuracy: 0.6909\n",
      "Epoch 17/20\n",
      "4935/4935 [==============================] - 603s 122ms/step - loss: 0.0104 - accuracy: 0.9948 - val_loss: 2.2180 - val_accuracy: 0.6973\n",
      "Epoch 18/20\n",
      "4935/4935 [==============================] - 598s 121ms/step - loss: 0.0100 - accuracy: 0.9948 - val_loss: 2.3333 - val_accuracy: 0.6897\n",
      "Epoch 19/20\n",
      "4935/4935 [==============================] - 594s 120ms/step - loss: 0.0093 - accuracy: 0.9953 - val_loss: 1.9701 - val_accuracy: 0.6389\n",
      "Epoch 20/20\n",
      "4935/4935 [==============================] - 599s 121ms/step - loss: 0.0086 - accuracy: 0.9954 - val_loss: 2.3652 - val_accuracy: 0.6939\n",
      "Training Accuracy: 0.9958250522613525\n",
      "Testing Accuracy:  0.6938619613647461\n"
     ]
    },
    {
     "data": {
      "image/png": "[encoded data removed]",
      "text/plain": [
       "<Figure size 720x360 with 2 Axes>"
      ]
     },
     "metadata": {
      "needs_background": "light"
     },
     "output_type": "display_data"
    }
   ],
   "source": [
    "history = model.fit(X_train, y_train,\n",
    "                    epochs=20,\n",
    "                    verbose=1,\n",
    "                    validation_data=(X_test, y_test),\n",
    "                    batch_size=10)\n",
    "loss, accuracy = model.evaluate(X_train, y_train, verbose=False)\n",
    "print(\"Training Accuracy: {}\".format(accuracy))\n",
    "loss, accuracy = model.evaluate(X_test, y_test, verbose=False)\n",
    "print(\"Testing Accuracy:  {}\".format(accuracy))\n",
    "plot_history(history.history)"
   ]
  },
  {
   "cell_type": "code",
   "execution_count": 30,
   "metadata": {},
   "outputs": [
    {
     "name": "stdout",
     "output_type": "stream",
     "text": [
      "Precision: 0.7945230159445095 \n",
      "Recall:0.7766135423087083 \n",
      "F1 Score: 0.7854662035800161 \n",
      "AUC: 0.6877936651091889\n"
     ]
    }
   ],
   "source": [
    "y_pred =(model.predict(X_test) > 0.5).astype(\"int32\")\n",
    "y_pred_prob = model.predict(X_test)\n",
    "\n",
    "precision_Glove = precision_score(y_test, y_pred)\n",
    "recall_Glove = recall_score(y_test, y_pred)\n",
    "f1_Glove = f1_score(y_test, y_pred)\n",
    "roc_Glove = roc_auc_score(y_test, y_pred_prob)\n",
    "\n",
    "fpr_Glove, tpr_Glove, thresholds_Glove= roc_curve(y_test, y_pred_prob)\n",
    "\n",
    "print(\"Precision: {} \\nRecall:{} \\nF1 Score: {} \\nAUC: {}\".format(precision_Glove, recall_Glove, f1_Glove, roc_Glove))\n"
   ]
  },
  {
   "cell_type": "code",
   "execution_count": null,
   "metadata": {},
   "outputs": [],
   "source": []
  },
  {
   "cell_type": "code",
   "execution_count": 31,
   "metadata": {},
   "outputs": [
    {
     "data": {
      "image/png": "[encoded data removed]",
      "text/plain": [
       "<Figure size 432x288 with 1 Axes>"
      ]
     },
     "metadata": {
      "needs_background": "light"
     },
     "output_type": "display_data"
    }
   ],
   "source": [
    "plt.figure(1)\n",
    "plt.plot([0, 1], [0, 1], 'k--')\n",
    "plt.plot(fpr_Glove, tpr_Glove, label='Glove Trainable (area = {:.3f})'.format(roc_Glove))\n",
    "plt.plot(fpr_Glove_Untrainable, tpr_Glove_Untrainable, label='Glove Untrainable (area = {:.3f})'.format(roc_Glove_Untrainable))\n",
    "plt.plot(fpr_LR, tpr_LR, label='Logistic Regression (area = {:.3f})'.format(roc_LR))\n",
    "# plt.plot(fpr_rf, tpr_rf, label='RF (area = {:.3f})'.format(auc_rf))\n",
    "plt.xlabel('False positive rate')\n",
    "plt.ylabel('True positive rate')\n",
    "plt.title('ROC curve')\n",
    "plt.legend(loc='best')\n",
    "plt.show()\n",
    "# Zoom in view of the upper left corner.\n",
    "# plt.figure(2)\n",
    "# plt.xlim(0, 0.2)\n",
    "# plt.ylim(0.8, 1)\n",
    "# plt.plot([0, 1], [0, 1], 'k--')\n",
    "# plt.plot(fpr_keras, tpr_keras, label='Keras (area = {:.3f})'.format(auc_keras))\n",
    "# # plt.plot(fpr_rf, tpr_rf, label='RF (area = {:.3f})'.format(auc_rf))\n",
    "# plt.xlabel('False positive rate')\n",
    "# plt.ylabel('True positive rate')\n",
    "# plt.title('ROC curve (zoomed in at top left)')\n",
    "# plt.legend(loc='best')\n",
    "# plt.show()"
   ]
  },
  {
   "cell_type": "code",
   "execution_count": null,
   "metadata": {},
   "outputs": [],
   "source": []
  },
  {
   "cell_type": "code",
   "execution_count": null,
   "metadata": {},
   "outputs": [],
   "source": []
  }
 ],
 "metadata": {
  "colab": {
   "authorship_tag": "ABX9TyO1PgzWEyCJpMQ1B3Nl/qH0",
   "collapsed_sections": [],
   "name": "glove.ipynb",
   "provenance": []
  },
  "kernelspec": {
   "display_name": "Python 3",
   "language": "python",
   "name": "python3"
  },
  "language_info": {
   "codemirror_mode": {
    "name": "ipython",
    "version": 3
   },
   "file_extension": ".py",
   "mimetype": "text/x-python",
   "name": "python",
   "nbconvert_exporter": "python",
   "pygments_lexer": "ipython3",
   "version": "3.7.6"
  }
 },
 "nbformat": 4,
 "nbformat_minor": 1
}
