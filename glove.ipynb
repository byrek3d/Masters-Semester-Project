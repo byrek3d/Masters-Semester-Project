{
 "cells": [
  {
   "cell_type": "code",
   "execution_count": 43,
   "metadata": {
    "colab": {},
    "colab_type": "code",
    "executionInfo": {
     "elapsed": 374,
     "status": "ok",
     "timestamp": 1600856181231,
     "user": {
      "displayName": "byrek",
      "photoUrl": "https://lh3.googleusercontent.com/a-/AOh14GhAvHM_OBXbApiIG8MkYPz0OhB3fW-xzyqHesPi-w=s64",
      "userId": "17956107666140341860"
     },
     "user_tz": -120
    },
    "id": "IdCF_BuqdrFc"
   },
   "outputs": [],
   "source": [
    "import pandas as pd\n",
    "from textblob import TextBlob\n",
    "import glob\n",
    "import re\n",
    "from nltk.corpus import stopwords\n",
    "from nltk.stem.wordnet import WordNetLemmatizer\n",
    "import sklearn\n",
    "from sklearn.metrics import roc_auc_score\n",
    "from sklearn.metrics import precision_score\n",
    "from sklearn.metrics import recall_score\n",
    "from sklearn.metrics import f1_score\n",
    "from sklearn.metrics import roc_curve"
   ]
  },
  {
   "cell_type": "markdown",
   "metadata": {
    "colab_type": "text",
    "id": "PuwW_15sLSBu"
   },
   "source": [
    "### Load datasets"
   ]
  },
  {
   "cell_type": "code",
   "execution_count": 22,
   "metadata": {},
   "outputs": [
    {
     "name": "stdout",
     "output_type": "stream",
     "text": [
      "Number of train features: 47118 \n",
      "Number of test features: 18028\n"
     ]
    }
   ],
   "source": [
    "all_files = glob.glob(\"./dataset_cleaning/*.pkl\")\n",
    "test_filename= \"./dataset_cleaning/dataset2Cleaned.pkl\"\n",
    "li = []\n",
    "\n",
    "for filename in all_files:\n",
    "    \n",
    "    if(filename != test_filename):\n",
    "\n",
    "        df = pd.read_pickle(filename)\n",
    "        li.append(df)\n",
    "\n",
    "train_df = pd.concat(li, axis=0, ignore_index=True)\n",
    "test_df = pd.read_pickle(test_filename)\n",
    "\n",
    "print(\"Number of train features: {} \\nNumber of test features: {}\".format(len(train_df), len(test_df)))"
   ]
  },
  {
   "cell_type": "code",
   "execution_count": 23,
   "metadata": {},
   "outputs": [
    {
     "data": {
      "text/html": [
       "<div>\n",
       "<style scoped>\n",
       "    .dataframe tbody tr th:only-of-type {\n",
       "        vertical-align: middle;\n",
       "    }\n",
       "\n",
       "    .dataframe tbody tr th {\n",
       "        vertical-align: top;\n",
       "    }\n",
       "\n",
       "    .dataframe thead th {\n",
       "        text-align: right;\n",
       "    }\n",
       "</style>\n",
       "<table border=\"1\" class=\"dataframe\">\n",
       "  <thead>\n",
       "    <tr style=\"text-align: right;\">\n",
       "      <th></th>\n",
       "      <th>Informativeness</th>\n",
       "      <th>text</th>\n",
       "    </tr>\n",
       "  </thead>\n",
       "  <tbody>\n",
       "    <tr>\n",
       "      <th>0</th>\n",
       "      <td>1</td>\n",
       "      <td>Official death toll from #covid19 in the Unite...</td>\n",
       "    </tr>\n",
       "    <tr>\n",
       "      <th>1</th>\n",
       "      <td>1</td>\n",
       "      <td>Dearest Mr. President @USER 1,169 coronavirus ...</td>\n",
       "    </tr>\n",
       "    <tr>\n",
       "      <th>2</th>\n",
       "      <td>1</td>\n",
       "      <td>Latest Updates March 20 ⚠️5274 new cases and 3...</td>\n",
       "    </tr>\n",
       "    <tr>\n",
       "      <th>3</th>\n",
       "      <td>1</td>\n",
       "      <td>真把公主不当干部 BREAKING: 21 people on Grand Princess...</td>\n",
       "    </tr>\n",
       "    <tr>\n",
       "      <th>4</th>\n",
       "      <td>0</td>\n",
       "      <td>OKLAHOMA CITY — The State Department of Educat...</td>\n",
       "    </tr>\n",
       "  </tbody>\n",
       "</table>\n",
       "</div>"
      ],
      "text/plain": [
       "   Informativeness                                               text\n",
       "0                1  Official death toll from #covid19 in the Unite...\n",
       "1                1  Dearest Mr. President @USER 1,169 coronavirus ...\n",
       "2                1  Latest Updates March 20 ⚠️5274 new cases and 3...\n",
       "3                1  真把公主不当干部 BREAKING: 21 people on Grand Princess...\n",
       "4                0  OKLAHOMA CITY — The State Department of Educat..."
      ]
     },
     "execution_count": 23,
     "metadata": {},
     "output_type": "execute_result"
    }
   ],
   "source": [
    "train_df.head()"
   ]
  },
  {
   "cell_type": "code",
   "execution_count": 24,
   "metadata": {},
   "outputs": [
    {
     "data": {
      "text/html": [
       "<div>\n",
       "<style scoped>\n",
       "    .dataframe tbody tr th:only-of-type {\n",
       "        vertical-align: middle;\n",
       "    }\n",
       "\n",
       "    .dataframe tbody tr th {\n",
       "        vertical-align: top;\n",
       "    }\n",
       "\n",
       "    .dataframe thead th {\n",
       "        text-align: right;\n",
       "    }\n",
       "</style>\n",
       "<table border=\"1\" class=\"dataframe\">\n",
       "  <thead>\n",
       "    <tr style=\"text-align: right;\">\n",
       "      <th></th>\n",
       "      <th>Informativeness</th>\n",
       "      <th>text</th>\n",
       "    </tr>\n",
       "  </thead>\n",
       "  <tbody>\n",
       "    <tr>\n",
       "      <th>0</th>\n",
       "      <td>0</td>\n",
       "      <td>#Intern #US #TATTOO #Wisconsin #Ohio #NC #PA #...</td>\n",
       "    </tr>\n",
       "    <tr>\n",
       "      <th>1</th>\n",
       "      <td>0</td>\n",
       "      <td>Get in on the fun every Thursday with the @csi...</td>\n",
       "    </tr>\n",
       "    <tr>\n",
       "      <th>2</th>\n",
       "      <td>0</td>\n",
       "      <td>Welcome to our newest STUDENTathlete- Reagan B...</td>\n",
       "    </tr>\n",
       "    <tr>\n",
       "      <th>3</th>\n",
       "      <td>0</td>\n",
       "      <td>Denver Post: #Colorado governor signs bill cre...</td>\n",
       "    </tr>\n",
       "    <tr>\n",
       "      <th>4</th>\n",
       "      <td>0</td>\n",
       "      <td>Pretty sure I'm going to live in Manitou Sprin...</td>\n",
       "    </tr>\n",
       "  </tbody>\n",
       "</table>\n",
       "</div>"
      ],
      "text/plain": [
       "   Informativeness                                               text\n",
       "0                0  #Intern #US #TATTOO #Wisconsin #Ohio #NC #PA #...\n",
       "1                0  Get in on the fun every Thursday with the @csi...\n",
       "2                0  Welcome to our newest STUDENTathlete- Reagan B...\n",
       "3                0  Denver Post: #Colorado governor signs bill cre...\n",
       "4                0  Pretty sure I'm going to live in Manitou Sprin..."
      ]
     },
     "execution_count": 24,
     "metadata": {},
     "output_type": "execute_result"
    }
   ],
   "source": [
    "test_df.head()"
   ]
  },
  {
   "cell_type": "code",
   "execution_count": 25,
   "metadata": {},
   "outputs": [
    {
     "data": {
      "text/plain": [
       "1    34323\n",
       "0    12795\n",
       "Name: Informativeness, dtype: int64"
      ]
     },
     "execution_count": 25,
     "metadata": {},
     "output_type": "execute_result"
    }
   ],
   "source": [
    "train_df[\"Informativeness\"].value_counts()"
   ]
  },
  {
   "cell_type": "code",
   "execution_count": 26,
   "metadata": {},
   "outputs": [
    {
     "data": {
      "text/plain": [
       "1    11617\n",
       "0     6411\n",
       "Name: Informativeness, dtype: int64"
      ]
     },
     "execution_count": 26,
     "metadata": {},
     "output_type": "execute_result"
    }
   ],
   "source": [
    "test_df[\"Informativeness\"].value_counts()"
   ]
  },
  {
   "cell_type": "code",
   "execution_count": 27,
   "metadata": {},
   "outputs": [],
   "source": [
    "train_df.drop_duplicates(subset=[\"text\"], keep=\"first\", inplace=True)\n",
    "test_df.drop_duplicates(subset=[\"text\"], keep=\"first\", inplace=True)"
   ]
  },
  {
   "cell_type": "markdown",
   "metadata": {},
   "source": [
    "### Process the text"
   ]
  },
  {
   "cell_type": "code",
   "execution_count": 74,
   "metadata": {},
   "outputs": [],
   "source": [
    "\n",
    "def text_processing(tweet):\n",
    "    \n",
    "    tweet= tweet.lower()\n",
    "    \n",
    "    #Removing hyperlinks from the tweet\n",
    "    tweet_no_links=re.sub(r'http\\S+', '', tweet)\n",
    "    \n",
    "    #Generating the list of words in the tweet (hashtags and other punctuations removed)\n",
    "    def form_sentence(tweet):\n",
    "        tweet_blob = TextBlob(tweet)\n",
    "        return ' '.join(tweet_blob.words)\n",
    "    new_tweet = form_sentence(tweet_no_links)\n",
    "    \n",
    "    #Removing stopwords and words with unusual symbols\n",
    "    def no_user_alpha(tweet):\n",
    "        tweet_list = [ele for ele in tweet.split() if ele != 'user']\n",
    "        clean_tokens = [t for t in tweet_list if re.match(r'[^\\W\\d]*$', t)]\n",
    "        clean_s = ' '.join(clean_tokens)\n",
    "        clean_mess = [word for word in clean_s.split() if word not in stopwords.words('english')]\n",
    "        return clean_mess\n",
    "    no_punc_tweet = no_user_alpha(new_tweet)\n",
    "    \n",
    "    #Normalizing the words in tweets \n",
    "    def normalization(tweet_list):\n",
    "        lem = WordNetLemmatizer()\n",
    "        normalized_tweet = []\n",
    "        for word in tweet_list:\n",
    "            normalized_text = lem.lemmatize(word,'v')\n",
    "            normalized_tweet.append(normalized_text)\n",
    "        return \" \".join(normalized_tweet)\n",
    "    \n",
    "    \n",
    "    return normalization(no_punc_tweet)"
   ]
  },
  {
   "cell_type": "code",
   "execution_count": 75,
   "metadata": {},
   "outputs": [],
   "source": [
    "train_df['text_processed']=train_df['text'].apply(text_processing)"
   ]
  },
  {
   "cell_type": "code",
   "execution_count": 76,
   "metadata": {},
   "outputs": [],
   "source": [
    "test_df['text_processed']=test_df['text'].apply(text_processing)"
   ]
  },
  {
   "cell_type": "code",
   "execution_count": 77,
   "metadata": {},
   "outputs": [
    {
     "name": "stderr",
     "output_type": "stream",
     "text": [
      "/opt/anaconda3/lib/python3.7/site-packages/ipykernel_launcher.py:1: FutureWarning: Passing a negative integer is deprecated in version 1.0 and will not be supported in future version. Instead, use None to not limit the column width.\n",
      "  \"\"\"Entry point for launching an IPython kernel.\n"
     ]
    },
    {
     "data": {
      "text/plain": [
       "Informativeness    0                                                                                                                                                                                                                                                                                       \n",
       "text               Scott Morrison. The ‘too late’ man. Too late with climate change.. too late with bushfires.. too late with recession.. too late with coronavirus.. In each case it’s the Science he refuses to understand.. #ScottyFomMarketing #auspol Oz🔥in the middle of #ScottsLittleRapture HTTPURL\n",
       "text_processed     scott morrison late man late climate change late bushfires late recession late coronavirus case science refuse understand scottyfommarketing auspol middle scottslittlerapture                                                                                                          \n",
       "Name: 3413, dtype: object"
      ]
     },
     "execution_count": 77,
     "metadata": {},
     "output_type": "execute_result"
    }
   ],
   "source": [
    "pd.set_option('display.max_colwidth', -1)\n",
    "train_df.iloc[3]"
   ]
  },
  {
   "cell_type": "code",
   "execution_count": 78,
   "metadata": {},
   "outputs": [],
   "source": [
    "#Randomise order of train dataset\n",
    "train_df = sklearn.utils.shuffle(train_df)"
   ]
  },
  {
   "cell_type": "markdown",
   "metadata": {},
   "source": [
    "## Baseline model"
   ]
  },
  {
   "cell_type": "markdown",
   "metadata": {},
   "source": [
    "Split data into X and Y, as well as train/test sets"
   ]
  },
  {
   "cell_type": "code",
   "execution_count": 79,
   "metadata": {},
   "outputs": [],
   "source": [
    "# from sklearn.model_selection import train_test_split\n",
    "\n",
    "\n",
    "\n",
    "# sentences = main_df['text'].values\n",
    "# y = main_df['Informativeness'].values\n",
    "\n",
    "# sentences_train, sentences_test, y_train, y_test = train_test_split(\n",
    "#    sentences, y, test_size=0.25, random_state=1000)\n"
   ]
  },
  {
   "cell_type": "code",
   "execution_count": 80,
   "metadata": {},
   "outputs": [],
   "source": [
    "sentences_train = train_df['text_processed'].values\n",
    "sentences_test = test_df['text_processed'].values\n",
    "\n",
    "y_train = train_df['Informativeness'].values\n",
    "y_test = test_df['Informativeness'].values\n",
    "\n",
    "\n"
   ]
  },
  {
   "cell_type": "code",
   "execution_count": 81,
   "metadata": {},
   "outputs": [
    {
     "data": {
      "text/plain": [
       "array(['scottish government power test coronavirus case number test allow scotland control westminster government',\n",
       "       'monsoon kill hundreds india nepal dozens people kill flood nort finance uk usa',\n",
       "       'hurry go samsclub walmart donate harvey double ur donation till sept',\n",
       "       ...,\n",
       "       'fight stigma coronavirus new case confirm ireland health preservation protection emergency measure public interest act sign law president ireland',\n",
       "       'losses california quake could top billion',\n",
       "       'stay safe everyone rubyph prayforvisayas prayforthephilippines'],\n",
       "      dtype=object)"
      ]
     },
     "execution_count": 81,
     "metadata": {},
     "output_type": "execute_result"
    }
   ],
   "source": [
    "sentences_train"
   ]
  },
  {
   "cell_type": "markdown",
   "metadata": {},
   "source": [
    "Vectorize sentances using CountVectorizer"
   ]
  },
  {
   "cell_type": "code",
   "execution_count": 82,
   "metadata": {},
   "outputs": [],
   "source": [
    "from sklearn.feature_extraction.text import CountVectorizer\n",
    "\n",
    "# Vevotize each sentance\n",
    "vectorizer = CountVectorizer()\n",
    "vectorizer.fit(sentences_train)\n",
    "\n",
    "# Too look at the vocabulary encoding\n",
    "# vectorizer.vocabulary_\n",
    "\n",
    "X_train = vectorizer.transform(sentences_train)\n",
    "X_test  = vectorizer.transform(sentences_test)"
   ]
  },
  {
   "cell_type": "markdown",
   "metadata": {},
   "source": [
    "Evaluate using Logistic Regression"
   ]
  },
  {
   "cell_type": "code",
   "execution_count": 83,
   "metadata": {},
   "outputs": [
    {
     "name": "stdout",
     "output_type": "stream",
     "text": [
      "Accuracy: 0.6819821319571611\n"
     ]
    }
   ],
   "source": [
    "from sklearn.linear_model import LogisticRegression\n",
    "\n",
    "classifier = LogisticRegression(max_iter=10000)\n",
    "classifier.fit(X_train, y_train)\n",
    "score = classifier.score(X_test, y_test)\n",
    "\n",
    "print(\"Accuracy:\", score)"
   ]
  },
  {
   "cell_type": "code",
   "execution_count": 84,
   "metadata": {},
   "outputs": [
    {
     "name": "stdout",
     "output_type": "stream",
     "text": [
      "Precision: 0.748144399460189 \n",
      "Recall:0.7636676711149376 \n",
      "F1 Score: 0.7558263388862853 \n",
      "AUC: 0.7132514462267605\n"
     ]
    }
   ],
   "source": [
    "y_pred = classifier.predict(X_test)\n",
    "y_pred_prob=classifier.predict_proba(X_test)[:,1]\n",
    "\n",
    "precision_LR = precision_score(y_test, y_pred)\n",
    "recall_LR = recall_score(y_test, y_pred)\n",
    "f1_LR= f1_score(y_test, y_pred)\n",
    "roc_LR = roc_auc_score(y_test, y_pred_prob)\n",
    "\n",
    "fpr_LR, tpr_LR, thresholds_LR = roc_curve(y_test, y_pred_prob)\n",
    "\n",
    "print(\"Precision: {} \\nRecall:{} \\nF1 Score: {} \\nAUC: {}\".format(precision_LR, recall_LR, f1_LR, roc_LR))"
   ]
  },
  {
   "cell_type": "markdown",
   "metadata": {},
   "source": [
    "# Using embeddings (Glove)"
   ]
  },
  {
   "cell_type": "code",
   "execution_count": 85,
   "metadata": {},
   "outputs": [
    {
     "name": "stdout",
     "output_type": "stream",
     "text": [
      "monsoon kill hundreds india nepal dozens people kill flood nort finance uk usa\n",
      "[259, 34, 321, 21, 11, 324, 10, 34, 9, 1894, 199, 166]\n"
     ]
    }
   ],
   "source": [
    "# This time don't vectorize, but tokenize. Same idea but runs better with Keras and tokenizer assings\n",
    "# index 1 to most frequent word and so on. While vecotrizer makes each sentcance to a vector of the same\n",
    "# size (the vocabulary size) and assigns count of how many time a word appears\n",
    "\n",
    "from keras.preprocessing.text import Tokenizer\n",
    "\n",
    "tokenizer = Tokenizer(num_words=5000)\n",
    "tokenizer.fit_on_texts(sentences_train)\n",
    "\n",
    "X_train = tokenizer.texts_to_sequences(sentences_train)\n",
    "X_test = tokenizer.texts_to_sequences(sentences_test)\n",
    "\n",
    "vocab_size = len(tokenizer.word_index) + 1  # Adding 1 because of reserved 0 index\n",
    "\n",
    "print(sentences_train[1])\n",
    "print(X_train[1])\n",
    "\n"
   ]
  },
  {
   "cell_type": "code",
   "execution_count": 86,
   "metadata": {},
   "outputs": [
    {
     "name": "stdout",
     "output_type": "stream",
     "text": [
      "[4519  197  150   18    4    6   77   18  681 1785  257  197    0    0\n",
      "    0    0    0    0    0    0    0    0    0    0    0    0    0    0\n",
      "    0    0    0    0    0    0    0    0    0    0    0    0    0    0\n",
      "    0    0    0    0    0    0    0    0    0    0    0    0    0    0\n",
      "    0    0    0    0    0    0    0    0    0    0    0    0    0    0\n",
      "    0    0    0    0    0    0    0    0    0    0    0    0    0    0\n",
      "    0    0    0    0    0    0    0    0    0    0    0    0    0    0\n",
      "    0    0    0    0    0    0    0    0    0    0    0    0    0    0\n",
      "    0    0    0    0    0    0    0    0    0    0    0    0    0    0\n",
      "    0    0    0    0    0    0    0    0    0    0    0    0    0    0\n",
      "    0    0    0    0    0    0    0    0    0    0    0    0    0    0\n",
      "    0    0    0    0    0    0    0    0    0    0    0    0    0    0\n",
      "    0    0    0    0    0    0    0    0    0    0    0    0    0    0\n",
      "    0    0    0    0    0    0    0    0    0    0    0    0    0    0\n",
      "    0    0    0    0    0    0    0    0    0    0    0    0    0    0\n",
      "    0    0    0    0    0    0    0    0    0    0    0    0    0    0\n",
      "    0    0    0    0    0    0    0    0    0    0    0    0    0    0\n",
      "    0    0    0    0    0    0    0    0    0    0    0    0    0    0\n",
      "    0    0    0    0    0    0    0    0    0    0    0    0    0    0\n",
      "    0    0    0    0    0    0    0    0    0    0    0    0    0    0\n",
      "    0    0    0    0    0    0    0    0    0    0    0    0    0    0\n",
      "    0    0    0    0    0    0    0    0    0    0    0    0    0    0\n",
      "    0    0    0    0    0    0    0    0    0    0    0    0    0    0\n",
      "    0    0    0    0    0    0    0    0    0    0    0    0    0    0\n",
      "    0    0    0    0    0    0    0    0    0    0    0    0    0    0\n",
      "    0    0    0    0    0    0    0    0    0    0    0    0    0    0\n",
      "    0    0    0    0    0    0    0    0    0    0    0    0    0    0\n",
      "    0    0    0    0    0    0    0    0    0    0    0    0    0    0\n",
      "    0    0    0    0    0    0    0    0    0    0    0    0    0    0\n",
      "    0    0    0    0    0    0    0    0    0]\n"
     ]
    }
   ],
   "source": [
    "# Pad with trailing 0 every tokenized sentance so that they have the same length (the length of the longest sentance)\n",
    "\n",
    "from keras.preprocessing.sequence import pad_sequences\n",
    "\n",
    "maxlen = len(max(X_train, key=len)) #length of the longest sentance\n",
    "\n",
    "X_train = pad_sequences(X_train, padding='post', maxlen=maxlen)\n",
    "X_test = pad_sequences(X_test, padding='post', maxlen=maxlen)\n",
    "\n",
    "print(X_train[0, :])"
   ]
  },
  {
   "cell_type": "code",
   "execution_count": 87,
   "metadata": {},
   "outputs": [],
   "source": [
    "import numpy as np\n",
    "\n",
    "def create_embedding_matrix(filepath, word_index, embedding_dim):\n",
    "    vocab_size = len(word_index) + 1  # Adding again 1 because of reserved 0 index\n",
    "    embedding_matrix = np.zeros((vocab_size, embedding_dim))\n",
    "\n",
    "    with open(filepath) as f:\n",
    "        for line in f:\n",
    "            word, *vector = line.split()\n",
    "            if word in word_index:\n",
    "                idx = word_index[word] \n",
    "                embedding_matrix[idx] = np.array(\n",
    "                    vector, dtype=np.float32)[:embedding_dim]\n",
    "\n",
    "    return embedding_matrix"
   ]
  },
  {
   "cell_type": "markdown",
   "metadata": {},
   "source": [
    "Load pretrained data"
   ]
  },
  {
   "cell_type": "code",
   "execution_count": 88,
   "metadata": {
    "scrolled": true
   },
   "outputs": [],
   "source": [
    "# Download here: https://nlp.stanford.edu/projects/glove/\n",
    "\n",
    "embedding_dim = 300\n",
    "embedding_matrix = create_embedding_matrix(\n",
    "    'glove_data/glove.6B.300d.txt',\n",
    "    tokenizer.word_index, embedding_dim)\n",
    "\n"
   ]
  },
  {
   "cell_type": "markdown",
   "metadata": {},
   "source": [
    "Percantage of vocabulary covered in the pretrained model"
   ]
  },
  {
   "cell_type": "code",
   "execution_count": 89,
   "metadata": {},
   "outputs": [
    {
     "data": {
      "text/plain": [
       "0.5508195997970304"
      ]
     },
     "execution_count": 89,
     "metadata": {},
     "output_type": "execute_result"
    }
   ],
   "source": [
    "nonzero_elements = np.count_nonzero(np.count_nonzero(embedding_matrix, axis=1))\n",
    "nonzero_elements / vocab_size"
   ]
  },
  {
   "cell_type": "code",
   "execution_count": 90,
   "metadata": {},
   "outputs": [
    {
     "name": "stdout",
     "output_type": "stream",
     "text": [
      "Model: \"sequential_1\"\n",
      "_________________________________________________________________\n",
      "Layer (type)                 Output Shape              Param #   \n",
      "=================================================================\n",
      "embedding_1 (Embedding)      (None, 415, 300)          13598100  \n",
      "_________________________________________________________________\n",
      "global_max_pooling1d_1 (Glob (None, 300)               0         \n",
      "_________________________________________________________________\n",
      "dense_2 (Dense)              (None, 10)                3010      \n",
      "_________________________________________________________________\n",
      "dense_3 (Dense)              (None, 1)                 11        \n",
      "=================================================================\n",
      "Total params: 13,601,121\n",
      "Trainable params: 3,021\n",
      "Non-trainable params: 13,598,100\n",
      "_________________________________________________________________\n"
     ]
    }
   ],
   "source": [
    "from keras.models import Sequential\n",
    "from keras import layers\n",
    "\n",
    "model = Sequential()\n",
    "model.add(layers.Embedding(vocab_size, embedding_dim, \n",
    "                           weights=[embedding_matrix], \n",
    "                           input_length=maxlen, \n",
    "                           trainable=False))\n",
    "\n",
    "model.add(layers.GlobalMaxPool1D())\n",
    "model.add(layers.Dense(10, activation='relu'))\n",
    "model.add(layers.Dense(1, activation='sigmoid'))\n",
    "model.compile(optimizer='adam',\n",
    "              loss='binary_crossentropy',\n",
    "              metrics=['accuracy'])\n",
    "model.summary()\n"
   ]
  },
  {
   "cell_type": "code",
   "execution_count": 91,
   "metadata": {},
   "outputs": [
    {
     "name": "stdout",
     "output_type": "stream",
     "text": [
      "Epoch 1/30\n",
      "4706/4706 [==============================] - 14s 3ms/step - loss: 0.4400 - accuracy: 0.7965 - val_loss: 0.6241 - val_accuracy: 0.6914\n",
      "Epoch 2/30\n",
      "4706/4706 [==============================] - 14s 3ms/step - loss: 0.4102 - accuracy: 0.8134 - val_loss: 0.6390 - val_accuracy: 0.6869\n",
      "Epoch 3/30\n",
      "4706/4706 [==============================] - 15s 3ms/step - loss: 0.4018 - accuracy: 0.8173 - val_loss: 0.6432 - val_accuracy: 0.6886\n",
      "Epoch 4/30\n",
      "4706/4706 [==============================] - 15s 3ms/step - loss: 0.3972 - accuracy: 0.8201 - val_loss: 0.6073 - val_accuracy: 0.7007\n",
      "Epoch 5/30\n",
      "4706/4706 [==============================] - 14s 3ms/step - loss: 0.3932 - accuracy: 0.8233 - val_loss: 0.6242 - val_accuracy: 0.6985\n",
      "Epoch 6/30\n",
      "4706/4706 [==============================] - 14s 3ms/step - loss: 0.3902 - accuracy: 0.8246 - val_loss: 0.6383 - val_accuracy: 0.6901\n",
      "Epoch 7/30\n",
      "4706/4706 [==============================] - 14s 3ms/step - loss: 0.3889 - accuracy: 0.8253 - val_loss: 0.6401 - val_accuracy: 0.6836\n",
      "Epoch 8/30\n",
      "4706/4706 [==============================] - 14s 3ms/step - loss: 0.3866 - accuracy: 0.8253 - val_loss: 0.6333 - val_accuracy: 0.6914\n",
      "Epoch 9/30\n",
      "4706/4706 [==============================] - 14s 3ms/step - loss: 0.3846 - accuracy: 0.8255 - val_loss: 0.6709 - val_accuracy: 0.6611\n",
      "Epoch 10/30\n",
      "4706/4706 [==============================] - 14s 3ms/step - loss: 0.3830 - accuracy: 0.8273 - val_loss: 0.6488 - val_accuracy: 0.6726\n",
      "Epoch 11/30\n",
      "4706/4706 [==============================] - 15s 3ms/step - loss: 0.3806 - accuracy: 0.8289 - val_loss: 0.6316 - val_accuracy: 0.6905\n",
      "Epoch 12/30\n",
      "4706/4706 [==============================] - 19s 4ms/step - loss: 0.3798 - accuracy: 0.8293 - val_loss: 0.6735 - val_accuracy: 0.6638\n",
      "Epoch 13/30\n",
      "4706/4706 [==============================] - 15s 3ms/step - loss: 0.3782 - accuracy: 0.8308 - val_loss: 0.6368 - val_accuracy: 0.6769\n",
      "Epoch 14/30\n",
      "4706/4706 [==============================] - 18s 4ms/step - loss: 0.3764 - accuracy: 0.8307 - val_loss: 0.6870 - val_accuracy: 0.6856\n",
      "Epoch 15/30\n",
      "4706/4706 [==============================] - 15s 3ms/step - loss: 0.3736 - accuracy: 0.8344 - val_loss: 0.6525 - val_accuracy: 0.6843\n",
      "Epoch 16/30\n",
      "4706/4706 [==============================] - 18s 4ms/step - loss: 0.3716 - accuracy: 0.8338 - val_loss: 0.6467 - val_accuracy: 0.6911\n",
      "Epoch 17/30\n",
      "4706/4706 [==============================] - 18s 4ms/step - loss: 0.3695 - accuracy: 0.8347 - val_loss: 0.6487 - val_accuracy: 0.6903\n",
      "Epoch 18/30\n",
      "4706/4706 [==============================] - 17s 4ms/step - loss: 0.3682 - accuracy: 0.8348 - val_loss: 0.6444 - val_accuracy: 0.6933\n",
      "Epoch 19/30\n",
      "4706/4706 [==============================] - 18s 4ms/step - loss: 0.3665 - accuracy: 0.8364 - val_loss: 0.6607 - val_accuracy: 0.6774\n",
      "Epoch 20/30\n",
      "4706/4706 [==============================] - 16s 3ms/step - loss: 0.3649 - accuracy: 0.8381 - val_loss: 0.6566 - val_accuracy: 0.6843\n",
      "Epoch 21/30\n",
      "4706/4706 [==============================] - 15s 3ms/step - loss: 0.3630 - accuracy: 0.8390 - val_loss: 0.6638 - val_accuracy: 0.6811\n",
      "Epoch 22/30\n",
      "4706/4706 [==============================] - 14s 3ms/step - loss: 0.3619 - accuracy: 0.8390 - val_loss: 0.6590 - val_accuracy: 0.6873\n",
      "Epoch 23/30\n",
      "4706/4706 [==============================] - 14s 3ms/step - loss: 0.3608 - accuracy: 0.8404 - val_loss: 0.6923 - val_accuracy: 0.6815\n",
      "Epoch 24/30\n",
      "4706/4706 [==============================] - 14s 3ms/step - loss: 0.3599 - accuracy: 0.8406 - val_loss: 0.6768 - val_accuracy: 0.6811\n",
      "Epoch 25/30\n",
      "4706/4706 [==============================] - 14s 3ms/step - loss: 0.3578 - accuracy: 0.8422 - val_loss: 0.6659 - val_accuracy: 0.6940\n",
      "Epoch 26/30\n",
      "4706/4706 [==============================] - 15s 3ms/step - loss: 0.3585 - accuracy: 0.8412 - val_loss: 0.6749 - val_accuracy: 0.6769\n",
      "Epoch 27/30\n",
      "4706/4706 [==============================] - 21s 4ms/step - loss: 0.3574 - accuracy: 0.8417 - val_loss: 0.6895 - val_accuracy: 0.6543\n",
      "Epoch 28/30\n",
      "4706/4706 [==============================] - 22s 5ms/step - loss: 0.3563 - accuracy: 0.8426 - val_loss: 0.6755 - val_accuracy: 0.6849\n",
      "Epoch 29/30\n",
      "4706/4706 [==============================] - 19s 4ms/step - loss: 0.3554 - accuracy: 0.8428 - val_loss: 0.6824 - val_accuracy: 0.6869\n",
      "Epoch 30/30\n",
      "4706/4706 [==============================] - 24s 5ms/step - loss: 0.3557 - accuracy: 0.8432 - val_loss: 0.6883 - val_accuracy: 0.6713\n",
      "Training Accuracy: 0.8469581007957458\n",
      "Testing Accuracy:  0.6713278889656067\n"
     ]
    }
   ],
   "source": [
    "history = model.fit(X_train, y_train,\n",
    "                    epochs=30,\n",
    "                    verbose=1,\n",
    "                    validation_data=(X_test, y_test),\n",
    "                    batch_size=10)\n",
    "loss, accuracy = model.evaluate(X_train, y_train, verbose=False)\n",
    "print(\"Training Accuracy: {}\".format(accuracy))\n",
    "loss, accuracy = model.evaluate(X_test, y_test, verbose=False)\n",
    "print(\"Testing Accuracy:  {}\".format(accuracy))\n",
    "# plot_history(history)"
   ]
  },
  {
   "cell_type": "code",
   "execution_count": 92,
   "metadata": {},
   "outputs": [
    {
     "name": "stdout",
     "output_type": "stream",
     "text": [
      "Precision: 0.7425017041581459 \n",
      "Recall:0.7502367628067155 \n",
      "F1 Score: 0.7463491927540576 \n",
      "AUC: 0.7030554585274325\n"
     ]
    }
   ],
   "source": [
    "y_pred =(model.predict(X_test) > 0.5).astype(\"int32\")\n",
    "y_pred_prob = model.predict(X_test)\n",
    "\n",
    "precision_Glove_Untrainable = precision_score(y_test, y_pred)\n",
    "recall_Glove_Untrainable = recall_score(y_test, y_pred)\n",
    "f1_Glove_Untrainable= f1_score(y_test, y_pred)\n",
    "roc_Glove_Untrainable = roc_auc_score(y_test, y_pred_prob)\n",
    "\n",
    "fpr_Glove_Untrainable, tpr_Glove_Untrainable, thresholds_Glove_Untrainable = roc_curve(y_test, y_pred_prob)\n",
    "\n",
    "print(\"Precision: {} \\nRecall:{} \\nF1 Score: {} \\nAUC: {}\".format(precision_Glove_Untrainable, recall_Glove_Untrainable, f1_Glove_Untrainable, roc_Glove_Untrainable))\n"
   ]
  },
  {
   "cell_type": "code",
   "execution_count": 93,
   "metadata": {},
   "outputs": [
    {
     "data": {
      "image/png": "[encoded data removed]",
      "text/plain": [
       "<Figure size 720x360 with 2 Axes>"
      ]
     },
     "metadata": {
      "needs_background": "light"
     },
     "output_type": "display_data"
    }
   ],
   "source": [
    "from plot_keras_history import plot_history\n",
    "import matplotlib.pyplot as plt\n",
    "\n",
    "\n",
    "plot_history(history.history)\n",
    "plt.show()\n",
    "plt.close()"
   ]
  },
  {
   "cell_type": "markdown",
   "metadata": {},
   "source": [
    "### Do the same thing with glove, but this time all parameters are trainable (takes much longer to run)"
   ]
  },
  {
   "cell_type": "code",
   "execution_count": 94,
   "metadata": {
    "scrolled": true
   },
   "outputs": [
    {
     "name": "stdout",
     "output_type": "stream",
     "text": [
      "Model: \"sequential_2\"\n",
      "_________________________________________________________________\n",
      "Layer (type)                 Output Shape              Param #   \n",
      "=================================================================\n",
      "embedding_2 (Embedding)      (None, 415, 300)          13598100  \n",
      "_________________________________________________________________\n",
      "global_max_pooling1d_2 (Glob (None, 300)               0         \n",
      "_________________________________________________________________\n",
      "dense_4 (Dense)              (None, 10)                3010      \n",
      "_________________________________________________________________\n",
      "dense_5 (Dense)              (None, 1)                 11        \n",
      "=================================================================\n",
      "Total params: 13,601,121\n",
      "Trainable params: 13,601,121\n",
      "Non-trainable params: 0\n",
      "_________________________________________________________________\n"
     ]
    }
   ],
   "source": [
    "from keras.models import Sequential\n",
    "from keras import layers\n",
    "\n",
    "model = Sequential()\n",
    "model.add(layers.Embedding(vocab_size, embedding_dim, \n",
    "                           weights=[embedding_matrix], \n",
    "                           input_length=maxlen, \n",
    "                           trainable=True))\n",
    "\n",
    "model.add(layers.GlobalMaxPool1D())\n",
    "model.add(layers.Dense(10, activation='relu'))\n",
    "model.add(layers.Dense(1, activation='sigmoid'))\n",
    "model.compile(optimizer='adam',\n",
    "              loss='binary_crossentropy',\n",
    "              metrics=['accuracy'])\n",
    "model.summary()"
   ]
  },
  {
   "cell_type": "code",
   "execution_count": 95,
   "metadata": {},
   "outputs": [
    {
     "name": "stdout",
     "output_type": "stream",
     "text": [
      "Epoch 1/20\n",
      "4706/4706 [==============================] - 649s 138ms/step - loss: 0.3820 - accuracy: 0.8281 - val_loss: 0.6173 - val_accuracy: 0.7053\n",
      "Epoch 2/20\n",
      "4706/4706 [==============================] - 622s 132ms/step - loss: 0.2846 - accuracy: 0.8817 - val_loss: 0.6882 - val_accuracy: 0.7040\n",
      "Epoch 3/20\n",
      "4706/4706 [==============================] - 581s 123ms/step - loss: 0.2242 - accuracy: 0.9106 - val_loss: 0.7631 - val_accuracy: 0.6951\n",
      "Epoch 4/20\n",
      "4706/4706 [==============================] - 625s 133ms/step - loss: 0.1651 - accuracy: 0.9377 - val_loss: 0.9112 - val_accuracy: 0.6861\n",
      "Epoch 5/20\n",
      "4706/4706 [==============================] - 648s 138ms/step - loss: 0.1080 - accuracy: 0.9633 - val_loss: 1.0709 - val_accuracy: 0.6927\n",
      "Epoch 6/20\n",
      "4706/4706 [==============================] - 564s 120ms/step - loss: 0.0632 - accuracy: 0.9803 - val_loss: 1.3577 - val_accuracy: 0.6755\n",
      "Epoch 7/20\n",
      "4706/4706 [==============================] - 594s 126ms/step - loss: 0.0381 - accuracy: 0.9884 - val_loss: 1.4584 - val_accuracy: 0.6810\n",
      "Epoch 8/20\n",
      "4706/4706 [==============================] - 568s 121ms/step - loss: 0.0255 - accuracy: 0.9926 - val_loss: 1.7159 - val_accuracy: 0.6858\n",
      "Epoch 9/20\n",
      "4706/4706 [==============================] - 568s 121ms/step - loss: 0.0190 - accuracy: 0.9942 - val_loss: 1.9912 - val_accuracy: 0.6803\n",
      "Epoch 10/20\n",
      "4706/4706 [==============================] - 565s 120ms/step - loss: 0.0149 - accuracy: 0.9955 - val_loss: 1.9407 - val_accuracy: 0.6775\n",
      "Epoch 11/20\n",
      "4706/4706 [==============================] - 564s 120ms/step - loss: 0.0109 - accuracy: 0.9966 - val_loss: 2.3686 - val_accuracy: 0.6851\n",
      "Epoch 12/20\n",
      "4706/4706 [==============================] - 563s 120ms/step - loss: 0.0107 - accuracy: 0.9967 - val_loss: 2.3762 - val_accuracy: 0.6871\n",
      "Epoch 13/20\n",
      "4706/4706 [==============================] - 567s 121ms/step - loss: 0.0095 - accuracy: 0.9971 - val_loss: 2.3545 - val_accuracy: 0.6725\n",
      "Epoch 14/20\n",
      "4706/4706 [==============================] - 565s 120ms/step - loss: 0.0082 - accuracy: 0.9974 - val_loss: 2.4934 - val_accuracy: 0.6812\n",
      "Epoch 15/20\n",
      "4706/4706 [==============================] - 565s 120ms/step - loss: 0.0080 - accuracy: 0.9973 - val_loss: 2.6403 - val_accuracy: 0.6845\n",
      "Epoch 16/20\n",
      "4706/4706 [==============================] - 577s 123ms/step - loss: 0.0072 - accuracy: 0.9977 - val_loss: 2.7184 - val_accuracy: 0.6753\n",
      "Epoch 17/20\n",
      "4706/4706 [==============================] - 590s 125ms/step - loss: 0.0068 - accuracy: 0.9977 - val_loss: 2.7134 - val_accuracy: 0.6815\n",
      "Epoch 18/20\n",
      "4706/4706 [==============================] - 591s 126ms/step - loss: 0.0065 - accuracy: 0.9978 - val_loss: 2.6272 - val_accuracy: 0.6890\n",
      "Epoch 19/20\n",
      "4706/4706 [==============================] - 622s 132ms/step - loss: 0.0059 - accuracy: 0.9979 - val_loss: 2.7716 - val_accuracy: 0.6795\n",
      "Epoch 20/20\n",
      "4706/4706 [==============================] - 634s 135ms/step - loss: 0.0055 - accuracy: 0.9980 - val_loss: 2.5224 - val_accuracy: 0.6814\n",
      "Training Accuracy: 0.9987674951553345\n",
      "Testing Accuracy:  0.6813717484474182\n"
     ]
    },
    {
     "data": {
      "image/png": "[encoded data removed]",
      "text/plain": [
       "<Figure size 720x360 with 2 Axes>"
      ]
     },
     "metadata": {
      "needs_background": "light"
     },
     "output_type": "display_data"
    }
   ],
   "source": [
    "history = model.fit(X_train, y_train,\n",
    "                    epochs=20,\n",
    "                    verbose=1,\n",
    "                    validation_data=(X_test, y_test),\n",
    "                    batch_size=10)\n",
    "loss, accuracy = model.evaluate(X_train, y_train, verbose=False)\n",
    "print(\"Training Accuracy: {}\".format(accuracy))\n",
    "loss, accuracy = model.evaluate(X_test, y_test, verbose=False)\n",
    "print(\"Testing Accuracy:  {}\".format(accuracy))\n",
    "plot_history(history.history)"
   ]
  },
  {
   "cell_type": "code",
   "execution_count": 96,
   "metadata": {},
   "outputs": [
    {
     "name": "stdout",
     "output_type": "stream",
     "text": [
      "Precision: 0.7062583409426143 \n",
      "Recall:0.8656909169177788 \n",
      "F1 Score: 0.7778895249883956 \n",
      "AUC: 0.680835007376452\n"
     ]
    }
   ],
   "source": [
    "y_pred =(model.predict(X_test) > 0.5).astype(\"int32\")\n",
    "y_pred_prob = model.predict(X_test)\n",
    "\n",
    "precision_Glove = precision_score(y_test, y_pred)\n",
    "recall_Glove = recall_score(y_test, y_pred)\n",
    "f1_Glove = f1_score(y_test, y_pred)\n",
    "roc_Glove = roc_auc_score(y_test, y_pred_prob)\n",
    "\n",
    "fpr_Glove, tpr_Glove, thresholds_Glove= roc_curve(y_test, y_pred_prob)\n",
    "\n",
    "print(\"Precision: {} \\nRecall:{} \\nF1 Score: {} \\nAUC: {}\".format(precision_Glove, recall_Glove, f1_Glove, roc_Glove))\n"
   ]
  },
  {
   "cell_type": "code",
   "execution_count": null,
   "metadata": {},
   "outputs": [],
   "source": []
  },
  {
   "cell_type": "code",
   "execution_count": 97,
   "metadata": {},
   "outputs": [
    {
     "data": {
      "image/png": "[encoded data removed]",
      "text/plain": [
       "<Figure size 432x288 with 1 Axes>"
      ]
     },
     "metadata": {
      "needs_background": "light"
     },
     "output_type": "display_data"
    }
   ],
   "source": [
    "plt.figure(1)\n",
    "plt.plot([0, 1], [0, 1], 'k--')\n",
    "plt.plot(fpr_Glove, tpr_Glove, label='Glove Trainable (area = {:.3f})'.format(roc_Glove))\n",
    "plt.plot(fpr_Glove_Untrainable, tpr_Glove_Untrainable, label='Glove Untrainable (area = {:.3f})'.format(roc_Glove_Untrainable))\n",
    "plt.plot(fpr_LR, tpr_LR, label='Logistic Regression (area = {:.3f})'.format(roc_LR))\n",
    "# plt.plot(fpr_rf, tpr_rf, label='RF (area = {:.3f})'.format(auc_rf))\n",
    "plt.xlabel('False positive rate')\n",
    "plt.ylabel('True positive rate')\n",
    "plt.title('ROC curve')\n",
    "plt.legend(loc='best')\n",
    "plt.show()\n",
    "# Zoom in view of the upper left corner.\n",
    "# plt.figure(2)\n",
    "# plt.xlim(0, 0.2)\n",
    "# plt.ylim(0.8, 1)\n",
    "# plt.plot([0, 1], [0, 1], 'k--')\n",
    "# plt.plot(fpr_keras, tpr_keras, label='Keras (area = {:.3f})'.format(auc_keras))\n",
    "# # plt.plot(fpr_rf, tpr_rf, label='RF (area = {:.3f})'.format(auc_rf))\n",
    "# plt.xlabel('False positive rate')\n",
    "# plt.ylabel('True positive rate')\n",
    "# plt.title('ROC curve (zoomed in at top left)')\n",
    "# plt.legend(loc='best')\n",
    "# plt.show()"
   ]
  },
  {
   "cell_type": "code",
   "execution_count": null,
   "metadata": {},
   "outputs": [],
   "source": []
  },
  {
   "cell_type": "code",
   "execution_count": null,
   "metadata": {},
   "outputs": [],
   "source": []
  }
 ],
 "metadata": {
  "colab": {
   "authorship_tag": "ABX9TyO1PgzWEyCJpMQ1B3Nl/qH0",
   "collapsed_sections": [],
   "name": "glove.ipynb",
   "provenance": []
  },
  "kernelspec": {
   "display_name": "Python 3",
   "language": "python",
   "name": "python3"
  },
  "language_info": {
   "codemirror_mode": {
    "name": "ipython",
    "version": 3
   },
   "file_extension": ".py",
   "mimetype": "text/x-python",
   "name": "python",
   "nbconvert_exporter": "python",
   "pygments_lexer": "ipython3",
   "version": "3.7.6"
  }
 },
 "nbformat": 4,
 "nbformat_minor": 1
}
