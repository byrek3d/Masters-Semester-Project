{
 "cells": [
  {
   "cell_type": "code",
   "execution_count": null,
   "metadata": {
    "colab": {},
    "colab_type": "code",
    "executionInfo": {
     "elapsed": 374,
     "status": "ok",
     "timestamp": 1600856181231,
     "user": {
      "displayName": "byrek",
      "photoUrl": "https://lh3.googleusercontent.com/a-/AOh14GhAvHM_OBXbApiIG8MkYPz0OhB3fW-xzyqHesPi-w=s64",
      "userId": "17956107666140341860"
     },
     "user_tz": -120
    },
    "id": "IdCF_BuqdrFc"
   },
   "outputs": [],
   "source": [
    "import pandas as pd\n",
    "from textblob import TextBlob\n",
    "\n",
    "import re\n",
    "from nltk.corpus import stopwords\n",
    "from nltk.stem.wordnet import WordNetLemmatizer\n",
    "from sklearn.metrics import roc_auc_score\n",
    "from sklearn.metrics import precision_score\n",
    "from sklearn.metrics import recall_score\n",
    "from sklearn.metrics import f1_score\n",
    "from sklearn.metrics import roc_curve"
   ]
  },
  {
   "cell_type": "markdown",
   "metadata": {
    "colab_type": "text",
    "id": "PuwW_15sLSBu"
   },
   "source": [
    "### Load datasets"
   ]
  },
  {
   "cell_type": "code",
   "execution_count": 2,
   "metadata": {
    "colab": {},
    "colab_type": "code",
    "executionInfo": {
     "elapsed": 2291,
     "status": "ok",
     "timestamp": 1600867928299,
     "user": {
      "displayName": "byrek",
      "photoUrl": "https://lh3.googleusercontent.com/a-/AOh14GhAvHM_OBXbApiIG8MkYPz0OhB3fW-xzyqHesPi-w=s64",
      "userId": "17956107666140341860"
     },
     "user_tz": -120
    },
    "id": "v-q7E5pUaOfq"
   },
   "outputs": [],
   "source": [
    "\n",
    "main_df = pd.read_pickle(\"./dataset_no_extra.pkl\")\n",
    "new_df = pd.read_pickle(\"./new_data.pkl\")\n",
    "\n",
    "\n",
    "# main_df = pd.read_pickle(\"./dataset_without_extra.pkl\")"
   ]
  },
  {
   "cell_type": "code",
   "execution_count": 6,
   "metadata": {},
   "outputs": [],
   "source": [
    "# Remove informative data from new dataset\n",
    "new_df=new_df[new_df[\"Informativeness\"]==0]"
   ]
  },
  {
   "cell_type": "code",
   "execution_count": 7,
   "metadata": {},
   "outputs": [
    {
     "data": {
      "text/html": [
       "<div>\n",
       "<style scoped>\n",
       "    .dataframe tbody tr th:only-of-type {\n",
       "        vertical-align: middle;\n",
       "    }\n",
       "\n",
       "    .dataframe tbody tr th {\n",
       "        vertical-align: top;\n",
       "    }\n",
       "\n",
       "    .dataframe thead th {\n",
       "        text-align: right;\n",
       "    }\n",
       "</style>\n",
       "<table border=\"1\" class=\"dataframe\">\n",
       "  <thead>\n",
       "    <tr style=\"text-align: right;\">\n",
       "      <th></th>\n",
       "      <th>Information Source</th>\n",
       "      <th>Information Type</th>\n",
       "      <th>Informativeness</th>\n",
       "      <th>orig_id</th>\n",
       "      <th>annotated_id</th>\n",
       "      <th>text</th>\n",
       "      <th>event</th>\n",
       "      <th>user_id</th>\n",
       "      <th>created_at</th>\n",
       "      <th>retweet_count</th>\n",
       "      <th>...</th>\n",
       "      <th>user_tweet_count</th>\n",
       "      <th>user_friend_count</th>\n",
       "      <th>user_description</th>\n",
       "      <th>default_profile_image</th>\n",
       "      <th>is_verified_user</th>\n",
       "      <th>user_location</th>\n",
       "      <th>user_join_date</th>\n",
       "      <th>user_url</th>\n",
       "      <th>reply_to_user</th>\n",
       "      <th>reply_to_tweet</th>\n",
       "    </tr>\n",
       "  </thead>\n",
       "  <tbody>\n",
       "    <tr>\n",
       "      <th>0</th>\n",
       "      <td>Not labeled</td>\n",
       "      <td>Not labeled</td>\n",
       "      <td>Not related</td>\n",
       "      <td>211040709124440064</td>\n",
       "      <td>211040709124440064</td>\n",
       "      <td>#Intern #US #TATTOO #Wisconsin #Ohio #NC #PA #...</td>\n",
       "      <td>2012_Colorado_wildfires</td>\n",
       "      <td>601864285</td>\n",
       "      <td>2012-06-08T10:23:20.000Z</td>\n",
       "      <td>0</td>\n",
       "      <td>...</td>\n",
       "      <td>402</td>\n",
       "      <td>19</td>\n",
       "      <td>Traveling http://goo.gl/97yT2</td>\n",
       "      <td>True</td>\n",
       "      <td>False</td>\n",
       "      <td>None</td>\n",
       "      <td>Thu Jun 07 13:14:27 +0000 2012</td>\n",
       "      <td>None</td>\n",
       "      <td>NaN</td>\n",
       "      <td>NaN</td>\n",
       "    </tr>\n",
       "    <tr>\n",
       "      <th>1</th>\n",
       "      <td>Not labeled</td>\n",
       "      <td>Not labeled</td>\n",
       "      <td>Not related</td>\n",
       "      <td>210864180218167296</td>\n",
       "      <td>211111710294163457</td>\n",
       "      <td>Get in on the fun every Thursday with the @csi...</td>\n",
       "      <td>2012_Colorado_wildfires</td>\n",
       "      <td>245545247</td>\n",
       "      <td>2012-06-07T22:41:52.000Z</td>\n",
       "      <td>2</td>\n",
       "      <td>...</td>\n",
       "      <td>3327</td>\n",
       "      <td>35</td>\n",
       "      <td>Director of Marketing &amp; Promotions for the Col...</td>\n",
       "      <td>False</td>\n",
       "      <td>False</td>\n",
       "      <td>Coloado Springs, CO</td>\n",
       "      <td>Mon Jan 31 23:05:46 +0000 2011</td>\n",
       "      <td>http://www.csindy.com/colorado/Home</td>\n",
       "      <td>NaN</td>\n",
       "      <td>NaN</td>\n",
       "    </tr>\n",
       "    <tr>\n",
       "      <th>2</th>\n",
       "      <td>Not labeled</td>\n",
       "      <td>Not labeled</td>\n",
       "      <td>Not related</td>\n",
       "      <td>211157222699433985</td>\n",
       "      <td>211157222699433985</td>\n",
       "      <td>Welcome to our newest STUDENTathlete- Reagan B...</td>\n",
       "      <td>2012_Colorado_wildfires</td>\n",
       "      <td>487854217</td>\n",
       "      <td>2012-06-08T18:06:19.000Z</td>\n",
       "      <td>0</td>\n",
       "      <td>...</td>\n",
       "      <td>268</td>\n",
       "      <td>2</td>\n",
       "      <td></td>\n",
       "      <td>True</td>\n",
       "      <td>False</td>\n",
       "      <td></td>\n",
       "      <td>Thu Feb 09 20:26:05 +0000 2012</td>\n",
       "      <td>None</td>\n",
       "      <td>NaN</td>\n",
       "      <td>NaN</td>\n",
       "    </tr>\n",
       "    <tr>\n",
       "      <th>3</th>\n",
       "      <td>Not labeled</td>\n",
       "      <td>Not labeled</td>\n",
       "      <td>Not related</td>\n",
       "      <td>211162553659830272</td>\n",
       "      <td>211162553659830272</td>\n",
       "      <td>Denver Post: #Colorado governor signs bill cre...</td>\n",
       "      <td>2012_Colorado_wildfires</td>\n",
       "      <td>17602802</td>\n",
       "      <td>2012-06-08T18:27:30.000Z</td>\n",
       "      <td>0</td>\n",
       "      <td>...</td>\n",
       "      <td>4392</td>\n",
       "      <td>188</td>\n",
       "      <td>The Reporters Committee for Freedom of the Pre...</td>\n",
       "      <td>False</td>\n",
       "      <td>False</td>\n",
       "      <td>Arlington, VA</td>\n",
       "      <td>Mon Nov 24 22:14:23 +0000 2008</td>\n",
       "      <td>http://www.rcfp.org</td>\n",
       "      <td>NaN</td>\n",
       "      <td>NaN</td>\n",
       "    </tr>\n",
       "    <tr>\n",
       "      <th>4</th>\n",
       "      <td>Not labeled</td>\n",
       "      <td>Not labeled</td>\n",
       "      <td>Not related</td>\n",
       "      <td>211216962162933761</td>\n",
       "      <td>211216962162933761</td>\n",
       "      <td>Pretty sure I'm going to live in Manitou Sprin...</td>\n",
       "      <td>2012_Colorado_wildfires</td>\n",
       "      <td>348495572</td>\n",
       "      <td>2012-06-08T22:03:42.000Z</td>\n",
       "      <td>0</td>\n",
       "      <td>...</td>\n",
       "      <td>3687</td>\n",
       "      <td>203</td>\n",
       "      <td>free-spirited, ever thinking, world citizen</td>\n",
       "      <td>False</td>\n",
       "      <td>False</td>\n",
       "      <td>Chillwater, OK</td>\n",
       "      <td>Thu Aug 04 14:41:31 +0000 2011</td>\n",
       "      <td>None</td>\n",
       "      <td>NaN</td>\n",
       "      <td>NaN</td>\n",
       "    </tr>\n",
       "  </tbody>\n",
       "</table>\n",
       "<p>5 rows × 28 columns</p>\n",
       "</div>"
      ],
      "text/plain": [
       "  Information Source Information Type Informativeness             orig_id  \\\n",
       "0        Not labeled      Not labeled     Not related  211040709124440064   \n",
       "1        Not labeled      Not labeled     Not related  210864180218167296   \n",
       "2        Not labeled      Not labeled     Not related  211157222699433985   \n",
       "3        Not labeled      Not labeled     Not related  211162553659830272   \n",
       "4        Not labeled      Not labeled     Not related  211216962162933761   \n",
       "\n",
       "         annotated_id                                               text  \\\n",
       "0  211040709124440064  #Intern #US #TATTOO #Wisconsin #Ohio #NC #PA #...   \n",
       "1  211111710294163457  Get in on the fun every Thursday with the @csi...   \n",
       "2  211157222699433985  Welcome to our newest STUDENTathlete- Reagan B...   \n",
       "3  211162553659830272  Denver Post: #Colorado governor signs bill cre...   \n",
       "4  211216962162933761  Pretty sure I'm going to live in Manitou Sprin...   \n",
       "\n",
       "                     event    user_id                created_at  \\\n",
       "0  2012_Colorado_wildfires  601864285  2012-06-08T10:23:20.000Z   \n",
       "1  2012_Colorado_wildfires  245545247  2012-06-07T22:41:52.000Z   \n",
       "2  2012_Colorado_wildfires  487854217  2012-06-08T18:06:19.000Z   \n",
       "3  2012_Colorado_wildfires   17602802  2012-06-08T18:27:30.000Z   \n",
       "4  2012_Colorado_wildfires  348495572  2012-06-08T22:03:42.000Z   \n",
       "\n",
       "   retweet_count  ...  user_tweet_count user_friend_count  \\\n",
       "0              0  ...               402                19   \n",
       "1              2  ...              3327                35   \n",
       "2              0  ...               268                 2   \n",
       "3              0  ...              4392               188   \n",
       "4              0  ...              3687               203   \n",
       "\n",
       "                                    user_description default_profile_image  \\\n",
       "0                      Traveling http://goo.gl/97yT2                  True   \n",
       "1  Director of Marketing & Promotions for the Col...                 False   \n",
       "2                                                                     True   \n",
       "3  The Reporters Committee for Freedom of the Pre...                 False   \n",
       "4        free-spirited, ever thinking, world citizen                 False   \n",
       "\n",
       "  is_verified_user        user_location                  user_join_date  \\\n",
       "0            False                 None  Thu Jun 07 13:14:27 +0000 2012   \n",
       "1            False  Coloado Springs, CO  Mon Jan 31 23:05:46 +0000 2011   \n",
       "2            False                       Thu Feb 09 20:26:05 +0000 2012   \n",
       "3            False        Arlington, VA  Mon Nov 24 22:14:23 +0000 2008   \n",
       "4            False       Chillwater, OK  Thu Aug 04 14:41:31 +0000 2011   \n",
       "\n",
       "                              user_url  reply_to_user  reply_to_tweet  \n",
       "0                                 None            NaN             NaN  \n",
       "1  http://www.csindy.com/colorado/Home            NaN             NaN  \n",
       "2                                 None            NaN             NaN  \n",
       "3                  http://www.rcfp.org            NaN             NaN  \n",
       "4                                 None            NaN             NaN  \n",
       "\n",
       "[5 rows x 28 columns]"
      ]
     },
     "execution_count": 7,
     "metadata": {},
     "output_type": "execute_result"
    }
   ],
   "source": [
    "main_df.head()"
   ]
  },
  {
   "cell_type": "code",
   "execution_count": 8,
   "metadata": {},
   "outputs": [
    {
     "data": {
      "text/plain": [
       "Index(['Information Source', 'Information Type', 'Informativeness', 'orig_id',\n",
       "       'annotated_id', 'text', 'event', 'user_id', 'created_at',\n",
       "       'retweet_count', 'favorite_count', 'user_mentions', 'hashtags', 'urls',\n",
       "       'user_handle', 'user_name', 'user_follower_count',\n",
       "       'user_favorite_count', 'user_tweet_count', 'user_friend_count',\n",
       "       'user_description', 'default_profile_image', 'is_verified_user',\n",
       "       'user_location', 'user_join_date', 'user_url', 'reply_to_user',\n",
       "       'reply_to_tweet'],\n",
       "      dtype='object')"
      ]
     },
     "execution_count": 8,
     "metadata": {},
     "output_type": "execute_result"
    }
   ],
   "source": [
    "main_df.columns"
   ]
  },
  {
   "cell_type": "code",
   "execution_count": 9,
   "metadata": {},
   "outputs": [
    {
     "data": {
      "text/plain": [
       "Related and informative          15314\n",
       "Related - but not informative     6857\n",
       "Not related                       2619\n",
       "Not applicable                     457\n",
       "Name: Informativeness, dtype: int64"
      ]
     },
     "execution_count": 9,
     "metadata": {},
     "output_type": "execute_result"
    }
   ],
   "source": [
    "main_df[\"Informativeness\"].value_counts()"
   ]
  },
  {
   "cell_type": "markdown",
   "metadata": {
    "colab_type": "text",
    "id": "e3o-pmvgLW4N"
   },
   "source": [
    "### Remove all features except the text, and make labels only relevant/not relevant"
   ]
  },
  {
   "cell_type": "code",
   "execution_count": 10,
   "metadata": {
    "colab": {},
    "colab_type": "code",
    "executionInfo": {
     "elapsed": 704,
     "status": "ok",
     "timestamp": 1600867951466,
     "user": {
      "displayName": "byrek",
      "photoUrl": "https://lh3.googleusercontent.com/a-/AOh14GhAvHM_OBXbApiIG8MkYPz0OhB3fW-xzyqHesPi-w=s64",
      "userId": "17956107666140341860"
     },
     "user_tz": -120
    },
    "id": "RQDQXUm7do-p"
   },
   "outputs": [],
   "source": [
    "main_df.drop(main_df.columns.difference(['Informativeness','text']), 1, inplace=True)\n",
    "main_df['Informativeness']=main_df['Informativeness'].map(lambda x: 1 if(x=='Related and informative' ) else 0)\n",
    "# main_df['Informativeness']=main_df['Informativeness'].map(lambda x: 1 if(x=='Related and informative' or x=='Related - but not informative') else 0)"
   ]
  },
  {
   "cell_type": "code",
   "execution_count": 11,
   "metadata": {},
   "outputs": [],
   "source": [
    "main_df= pd.concat([main_df, new_df])"
   ]
  },
  {
   "cell_type": "code",
   "execution_count": 12,
   "metadata": {},
   "outputs": [
    {
     "data": {
      "text/plain": [
       "1    15314\n",
       "0    14488\n",
       "Name: Informativeness, dtype: int64"
      ]
     },
     "execution_count": 12,
     "metadata": {},
     "output_type": "execute_result"
    }
   ],
   "source": [
    "main_df['Informativeness'].value_counts()"
   ]
  },
  {
   "cell_type": "code",
   "execution_count": 13,
   "metadata": {},
   "outputs": [],
   "source": [
    "main_df.drop_duplicates(inplace=True)"
   ]
  },
  {
   "cell_type": "code",
   "execution_count": 14,
   "metadata": {
    "colab": {
     "base_uri": "https://localhost:8080/",
     "height": 68
    },
    "colab_type": "code",
    "executionInfo": {
     "elapsed": 582,
     "status": "ok",
     "timestamp": 1600867961781,
     "user": {
      "displayName": "byrek",
      "photoUrl": "https://lh3.googleusercontent.com/a-/AOh14GhAvHM_OBXbApiIG8MkYPz0OhB3fW-xzyqHesPi-w=s64",
      "userId": "17956107666140341860"
     },
     "user_tz": -120
    },
    "id": "1mMGuj33eCRp",
    "outputId": "c9bcea2a-e7cc-4859-e3bf-21f9bf0ec20a"
   },
   "outputs": [
    {
     "data": {
      "text/plain": [
       "1    15193\n",
       "0    14450\n",
       "Name: Informativeness, dtype: int64"
      ]
     },
     "execution_count": 14,
     "metadata": {},
     "output_type": "execute_result"
    }
   ],
   "source": [
    "main_df['Informativeness'].value_counts()"
   ]
  },
  {
   "cell_type": "code",
   "execution_count": 15,
   "metadata": {
    "scrolled": true
   },
   "outputs": [
    {
     "data": {
      "text/plain": [
       "29643"
      ]
     },
     "execution_count": 15,
     "metadata": {},
     "output_type": "execute_result"
    }
   ],
   "source": [
    "len(main_df)"
   ]
  },
  {
   "cell_type": "markdown",
   "metadata": {
    "colab_type": "text",
    "id": "0nFcMtumLOZh"
   },
   "source": [
    "### Keep only english tweets"
   ]
  },
  {
   "cell_type": "code",
   "execution_count": 16,
   "metadata": {
    "colab": {},
    "colab_type": "code",
    "executionInfo": {
     "elapsed": 578,
     "status": "ok",
     "timestamp": 1600868015501,
     "user": {
      "displayName": "byrek",
      "photoUrl": "https://lh3.googleusercontent.com/a-/AOh14GhAvHM_OBXbApiIG8MkYPz0OhB3fW-xzyqHesPi-w=s64",
      "userId": "17956107666140341860"
     },
     "user_tz": -120
    },
    "id": "Aoc4b7EeK1Fz"
   },
   "outputs": [],
   "source": [
    "def is_english(text):\n",
    "\n",
    "    try:\n",
    "          language = detect(text)\n",
    "    except:\n",
    "          #These will be removed\n",
    "          print(\"This row throws and error:\", text)\n",
    "          return False;\n",
    "    if(language=='en'):\n",
    "      return True;\n",
    "    else:\n",
    "      return False;"
   ]
  },
  {
   "cell_type": "code",
   "execution_count": 17,
   "metadata": {
    "colab": {
     "base_uri": "https://localhost:8080/",
     "height": 105
    },
    "colab_type": "code",
    "id": "yQ-8xqV_K_eT",
    "outputId": "beca08d6-7ec5-4aeb-b49a-de335cf600bb"
   },
   "outputs": [],
   "source": [
    "main_df=main_df[main_df.apply(lambda x: is_english(x['text']), axis=1)]"
   ]
  },
  {
   "cell_type": "code",
   "execution_count": 18,
   "metadata": {},
   "outputs": [
    {
     "data": {
      "text/plain": [
       "22419"
      ]
     },
     "execution_count": 18,
     "metadata": {},
     "output_type": "execute_result"
    }
   ],
   "source": [
    "len(main_df)"
   ]
  },
  {
   "cell_type": "markdown",
   "metadata": {},
   "source": [
    "### Process the text"
   ]
  },
  {
   "cell_type": "code",
   "execution_count": 19,
   "metadata": {},
   "outputs": [
    {
     "data": {
      "text/plain": [
       "11620"
      ]
     },
     "execution_count": 19,
     "metadata": {},
     "output_type": "execute_result"
    }
   ],
   "source": [
    "len(main_df[main_df[\"Informativeness\"]==1])"
   ]
  },
  {
   "cell_type": "code",
   "execution_count": 20,
   "metadata": {},
   "outputs": [
    {
     "data": {
      "text/plain": [
       "10799"
      ]
     },
     "execution_count": 20,
     "metadata": {},
     "output_type": "execute_result"
    }
   ],
   "source": [
    "len(main_df[main_df[\"Informativeness\"]==0])"
   ]
  },
  {
   "cell_type": "code",
   "execution_count": 21,
   "metadata": {},
   "outputs": [],
   "source": [
    "\n",
    "def text_processing(tweet):\n",
    "    \n",
    "    #Removing hyperlinks from the tweet\n",
    "    tweet_no_links=re.sub(r'http\\S+', '', tweet)\n",
    "    \n",
    "    #Generating the list of words in the tweet (hashtags and other punctuations removed)\n",
    "    def form_sentence(tweet):\n",
    "        tweet_blob = TextBlob(tweet)\n",
    "        return ' '.join(tweet_blob.words)\n",
    "    new_tweet = form_sentence(tweet_no_links)\n",
    "    \n",
    "    #Removing stopwords and words with unusual symbols\n",
    "    def no_user_alpha(tweet):\n",
    "        tweet_list = [ele for ele in tweet.split() if ele != 'user']\n",
    "        clean_tokens = [t for t in tweet_list if re.match(r'[^\\W\\d]*$', t)]\n",
    "        clean_s = ' '.join(clean_tokens)\n",
    "        clean_mess = [word for word in clean_s.split() if word.lower() not in stopwords.words('english')]\n",
    "        return clean_mess\n",
    "    no_punc_tweet = no_user_alpha(new_tweet)\n",
    "    \n",
    "    #Normalizing the words in tweets \n",
    "    def normalization(tweet_list):\n",
    "        lem = WordNetLemmatizer()\n",
    "        normalized_tweet = []\n",
    "        for word in tweet_list:\n",
    "            normalized_text = lem.lemmatize(word,'v')\n",
    "            normalized_tweet.append(normalized_text)\n",
    "        return \" \".join(normalized_tweet)\n",
    "    \n",
    "    \n",
    "    return normalization(no_punc_tweet)"
   ]
  },
  {
   "cell_type": "code",
   "execution_count": 22,
   "metadata": {},
   "outputs": [],
   "source": [
    "main_df['text']=main_df['text'].apply(text_processing)"
   ]
  },
  {
   "cell_type": "code",
   "execution_count": 23,
   "metadata": {},
   "outputs": [
    {
     "data": {
      "text/plain": [
       "'EPN Tragedies Brought Army Citizens Closer mexicoearthquake news Mexico'"
      ]
     },
     "execution_count": 23,
     "metadata": {},
     "output_type": "execute_result"
    }
   ],
   "source": [
    "main_df.iloc[-3].text"
   ]
  },
  {
   "cell_type": "markdown",
   "metadata": {},
   "source": [
    "## Baseline model"
   ]
  },
  {
   "cell_type": "markdown",
   "metadata": {},
   "source": [
    "Split data into X and Y, as well as train/test sets"
   ]
  },
  {
   "cell_type": "code",
   "execution_count": 24,
   "metadata": {},
   "outputs": [],
   "source": [
    "from sklearn.model_selection import train_test_split\n",
    "\n",
    "\n",
    "\n",
    "sentences = main_df['text'].values\n",
    "y = main_df['Informativeness'].values\n",
    "\n",
    "sentences_train, sentences_test, y_train, y_test = train_test_split(\n",
    "   sentences, y, test_size=0.25, random_state=1000)\n"
   ]
  },
  {
   "cell_type": "markdown",
   "metadata": {},
   "source": [
    "Vectorize sentances using CountVectorizer"
   ]
  },
  {
   "cell_type": "code",
   "execution_count": 25,
   "metadata": {},
   "outputs": [],
   "source": [
    "from sklearn.feature_extraction.text import CountVectorizer\n",
    "\n",
    "# Vevotize each sentance\n",
    "vectorizer = CountVectorizer()\n",
    "vectorizer.fit(sentences_train)\n",
    "\n",
    "# Too look at the vocabulary encoding\n",
    "# vectorizer.vocabulary_\n",
    "\n",
    "X_train = vectorizer.transform(sentences_train)\n",
    "X_test  = vectorizer.transform(sentences_test)"
   ]
  },
  {
   "cell_type": "markdown",
   "metadata": {},
   "source": [
    "Evaluate using Logistic Regression"
   ]
  },
  {
   "cell_type": "code",
   "execution_count": 26,
   "metadata": {},
   "outputs": [
    {
     "name": "stdout",
     "output_type": "stream",
     "text": [
      "Accuracy: 0.8788581623550401\n"
     ]
    }
   ],
   "source": [
    "from sklearn.linear_model import LogisticRegression\n",
    "\n",
    "classifier = LogisticRegression(max_iter=10000)\n",
    "classifier.fit(X_train, y_train)\n",
    "score = classifier.score(X_test, y_test)\n",
    "\n",
    "print(\"Accuracy:\", score)"
   ]
  },
  {
   "cell_type": "code",
   "execution_count": 27,
   "metadata": {},
   "outputs": [
    {
     "name": "stdout",
     "output_type": "stream",
     "text": [
      "Precision: 0.8752989408951144 \n",
      "Recall:0.8908205841446454 \n",
      "F1 Score: 0.8829915560916766 \n",
      "AUC: 0.9494897436537759\n"
     ]
    }
   ],
   "source": [
    "y_pred = classifier.predict(X_test)\n",
    "y_pred_prob=classifier.predict_proba(X_test)[:,1]\n",
    "\n",
    "precision_LR = precision_score(y_test, y_pred)\n",
    "recall_LR = recall_score(y_test, y_pred)\n",
    "f1_LR= f1_score(y_test, y_pred)\n",
    "roc_LR = roc_auc_score(y_test, y_pred_prob)\n",
    "\n",
    "fpr_LR, tpr_LR, thresholds_LR = roc_curve(y_test, y_pred_prob)\n",
    "\n",
    "print(\"Precision: {} \\nRecall:{} \\nF1 Score: {} \\nAUC: {}\".format(precision_LR, recall_LR, f1_LR, roc_LR))"
   ]
  },
  {
   "cell_type": "code",
   "execution_count": 28,
   "metadata": {},
   "outputs": [],
   "source": [
    "# from sklearn.metrics import classification_report\n",
    "# print(classification_report(y_test,y_pred))"
   ]
  },
  {
   "cell_type": "markdown",
   "metadata": {},
   "source": [
    "# Using embeddings (Glove)"
   ]
  },
  {
   "cell_type": "code",
   "execution_count": 29,
   "metadata": {},
   "outputs": [
    {
     "name": "stdout",
     "output_type": "stream",
     "text": [
      "Four million people think affect Typhoon Haiyan Philippines\n",
      "[282, 586, 8, 189, 39, 13, 76, 10]\n"
     ]
    }
   ],
   "source": [
    "# This time don't vectorize, but tokenize. Same idea but runs better with Keras and tokenizer assings\n",
    "# index 1 to most frequent word and so on. While vecotrizer makes each sentcance to a vector of the same\n",
    "# size (the vocabulary size) and assigns count of how many time a word appears\n",
    "\n",
    "from keras.preprocessing.text import Tokenizer\n",
    "\n",
    "tokenizer = Tokenizer(num_words=5000)\n",
    "tokenizer.fit_on_texts(sentences_train)\n",
    "\n",
    "X_train = tokenizer.texts_to_sequences(sentences_train)\n",
    "X_test = tokenizer.texts_to_sequences(sentences_test)\n",
    "\n",
    "vocab_size = len(tokenizer.word_index) + 1  # Adding 1 because of reserved 0 index\n",
    "\n",
    "print(sentences_train[1])\n",
    "print(X_train[1])\n",
    "\n"
   ]
  },
  {
   "cell_type": "code",
   "execution_count": 30,
   "metadata": {},
   "outputs": [
    {
     "name": "stdout",
     "output_type": "stream",
     "text": [
      "[  42  165  123   35 3583 2291   54    0    0    0    0    0    0    0\n",
      "    0    0    0    0    0]\n"
     ]
    }
   ],
   "source": [
    "# Pad with trailing 0 every tokenized sentance so that they have the same length (the length of the longest sentance)\n",
    "\n",
    "from keras.preprocessing.sequence import pad_sequences\n",
    "\n",
    "maxlen = len(max(X_train, key=len)) #length of the longest sentance\n",
    "\n",
    "X_train = pad_sequences(X_train, padding='post', maxlen=maxlen)\n",
    "X_test = pad_sequences(X_test, padding='post', maxlen=maxlen)\n",
    "\n",
    "print(X_train[0, :])"
   ]
  },
  {
   "cell_type": "code",
   "execution_count": 31,
   "metadata": {},
   "outputs": [],
   "source": [
    "import numpy as np\n",
    "\n",
    "def create_embedding_matrix(filepath, word_index, embedding_dim):\n",
    "    vocab_size = len(word_index) + 1  # Adding again 1 because of reserved 0 index\n",
    "    embedding_matrix = np.zeros((vocab_size, embedding_dim))\n",
    "\n",
    "    with open(filepath) as f:\n",
    "        for line in f:\n",
    "            word, *vector = line.split()\n",
    "            if word in word_index:\n",
    "                idx = word_index[word] \n",
    "                embedding_matrix[idx] = np.array(\n",
    "                    vector, dtype=np.float32)[:embedding_dim]\n",
    "\n",
    "    return embedding_matrix"
   ]
  },
  {
   "cell_type": "markdown",
   "metadata": {},
   "source": [
    "Load pretrained data"
   ]
  },
  {
   "cell_type": "code",
   "execution_count": 34,
   "metadata": {
    "scrolled": true
   },
   "outputs": [],
   "source": [
    "# Download here: https://nlp.stanford.edu/projects/glove/\n",
    "\n",
    "embedding_dim = 300\n",
    "embedding_matrix = create_embedding_matrix(\n",
    "    'glove_data/glove.6B.300d.txt',\n",
    "    tokenizer.word_index, embedding_dim)\n",
    "\n"
   ]
  },
  {
   "cell_type": "markdown",
   "metadata": {},
   "source": [
    "Percantage of vocabulary covered in the pretrained model"
   ]
  },
  {
   "cell_type": "code",
   "execution_count": 35,
   "metadata": {},
   "outputs": [
    {
     "data": {
      "text/plain": [
       "0.6640093330740813"
      ]
     },
     "execution_count": 35,
     "metadata": {},
     "output_type": "execute_result"
    }
   ],
   "source": [
    "nonzero_elements = np.count_nonzero(np.count_nonzero(embedding_matrix, axis=1))\n",
    "nonzero_elements / vocab_size"
   ]
  },
  {
   "cell_type": "code",
   "execution_count": 36,
   "metadata": {},
   "outputs": [
    {
     "name": "stdout",
     "output_type": "stream",
     "text": [
      "Model: \"sequential\"\n",
      "_________________________________________________________________\n",
      "Layer (type)                 Output Shape              Param #   \n",
      "=================================================================\n",
      "embedding (Embedding)        (None, 19, 300)           6171600   \n",
      "_________________________________________________________________\n",
      "global_max_pooling1d (Global (None, 300)               0         \n",
      "_________________________________________________________________\n",
      "dense (Dense)                (None, 10)                3010      \n",
      "_________________________________________________________________\n",
      "dense_1 (Dense)              (None, 1)                 11        \n",
      "=================================================================\n",
      "Total params: 6,174,621\n",
      "Trainable params: 3,021\n",
      "Non-trainable params: 6,171,600\n",
      "_________________________________________________________________\n"
     ]
    }
   ],
   "source": [
    "from keras.models import Sequential\n",
    "from keras import layers\n",
    "\n",
    "model = Sequential()\n",
    "model.add(layers.Embedding(vocab_size, embedding_dim, \n",
    "                           weights=[embedding_matrix], \n",
    "                           input_length=maxlen, \n",
    "                           trainable=False))\n",
    "\n",
    "model.add(layers.GlobalMaxPool1D())\n",
    "model.add(layers.Dense(10, activation='relu'))\n",
    "model.add(layers.Dense(1, activation='sigmoid'))\n",
    "model.compile(optimizer='adam',\n",
    "              loss='binary_crossentropy',\n",
    "              metrics=['accuracy'])\n",
    "model.summary()\n"
   ]
  },
  {
   "cell_type": "code",
   "execution_count": 37,
   "metadata": {},
   "outputs": [
    {
     "name": "stdout",
     "output_type": "stream",
     "text": [
      "Epoch 1/30\n",
      "1682/1682 [==============================] - 3s 2ms/step - loss: 0.5198 - accuracy: 0.7450 - val_loss: 0.4419 - val_accuracy: 0.7964\n",
      "Epoch 2/30\n",
      "1682/1682 [==============================] - 3s 2ms/step - loss: 0.4422 - accuracy: 0.7959 - val_loss: 0.4362 - val_accuracy: 0.7989\n",
      "Epoch 3/30\n",
      "1682/1682 [==============================] - 3s 2ms/step - loss: 0.4257 - accuracy: 0.8049 - val_loss: 0.4601 - val_accuracy: 0.7806\n",
      "Epoch 4/30\n",
      "1682/1682 [==============================] - 3s 2ms/step - loss: 0.4206 - accuracy: 0.8069 - val_loss: 0.4162 - val_accuracy: 0.8012\n",
      "Epoch 5/30\n",
      "1682/1682 [==============================] - 3s 2ms/step - loss: 0.4177 - accuracy: 0.8098 - val_loss: 0.4071 - val_accuracy: 0.8107\n",
      "Epoch 6/30\n",
      "1682/1682 [==============================] - 3s 2ms/step - loss: 0.4131 - accuracy: 0.8106 - val_loss: 0.4162 - val_accuracy: 0.8130\n",
      "Epoch 7/30\n",
      "1682/1682 [==============================] - 3s 2ms/step - loss: 0.4108 - accuracy: 0.8124 - val_loss: 0.4074 - val_accuracy: 0.8075\n",
      "Epoch 8/30\n",
      "1682/1682 [==============================] - 3s 2ms/step - loss: 0.4066 - accuracy: 0.8138 - val_loss: 0.4083 - val_accuracy: 0.8120\n",
      "Epoch 9/30\n",
      "1682/1682 [==============================] - 3s 2ms/step - loss: 0.4097 - accuracy: 0.8101 - val_loss: 0.4406 - val_accuracy: 0.7964\n",
      "Epoch 10/30\n",
      "1682/1682 [==============================] - 3s 2ms/step - loss: 0.4069 - accuracy: 0.8135 - val_loss: 0.4131 - val_accuracy: 0.8130\n",
      "Epoch 11/30\n",
      "1682/1682 [==============================] - 3s 2ms/step - loss: 0.4038 - accuracy: 0.8162 - val_loss: 0.4171 - val_accuracy: 0.8061\n",
      "Epoch 12/30\n",
      "1682/1682 [==============================] - 3s 2ms/step - loss: 0.4027 - accuracy: 0.8160 - val_loss: 0.4081 - val_accuracy: 0.8102\n",
      "Epoch 13/30\n",
      "1682/1682 [==============================] - 3s 2ms/step - loss: 0.4006 - accuracy: 0.8165 - val_loss: 0.4031 - val_accuracy: 0.8120\n",
      "Epoch 14/30\n",
      "1682/1682 [==============================] - 3s 2ms/step - loss: 0.3999 - accuracy: 0.8191 - val_loss: 0.4030 - val_accuracy: 0.8086\n",
      "Epoch 15/30\n",
      "1682/1682 [==============================] - 3s 2ms/step - loss: 0.3982 - accuracy: 0.8167 - val_loss: 0.4165 - val_accuracy: 0.8064\n",
      "Epoch 16/30\n",
      "1682/1682 [==============================] - 3s 2ms/step - loss: 0.3952 - accuracy: 0.8193 - val_loss: 0.3986 - val_accuracy: 0.8137\n",
      "Epoch 17/30\n",
      "1682/1682 [==============================] - 3s 2ms/step - loss: 0.3933 - accuracy: 0.8207 - val_loss: 0.4112 - val_accuracy: 0.8077\n",
      "Epoch 18/30\n",
      "1682/1682 [==============================] - 3s 2ms/step - loss: 0.3886 - accuracy: 0.8213 - val_loss: 0.4051 - val_accuracy: 0.8111\n",
      "Epoch 19/30\n",
      "1682/1682 [==============================] - 3s 2ms/step - loss: 0.3876 - accuracy: 0.8230 - val_loss: 0.4002 - val_accuracy: 0.8125\n",
      "Epoch 20/30\n",
      "1682/1682 [==============================] - 3s 2ms/step - loss: 0.3832 - accuracy: 0.8235 - val_loss: 0.4096 - val_accuracy: 0.8096\n",
      "Epoch 21/30\n",
      "1682/1682 [==============================] - 3s 2ms/step - loss: 0.3789 - accuracy: 0.8276 - val_loss: 0.3919 - val_accuracy: 0.8184\n",
      "Epoch 22/30\n",
      "1682/1682 [==============================] - 3s 2ms/step - loss: 0.3756 - accuracy: 0.8290 - val_loss: 0.4067 - val_accuracy: 0.8095\n",
      "Epoch 23/30\n",
      "1682/1682 [==============================] - 3s 2ms/step - loss: 0.3733 - accuracy: 0.8290 - val_loss: 0.3959 - val_accuracy: 0.8136\n",
      "Epoch 24/30\n",
      "1682/1682 [==============================] - 3s 2ms/step - loss: 0.3693 - accuracy: 0.8330 - val_loss: 0.3900 - val_accuracy: 0.8239\n",
      "Epoch 25/30\n",
      "1682/1682 [==============================] - 3s 2ms/step - loss: 0.3649 - accuracy: 0.8345 - val_loss: 0.3845 - val_accuracy: 0.8268\n",
      "Epoch 26/30\n",
      "1682/1682 [==============================] - 3s 2ms/step - loss: 0.3632 - accuracy: 0.8342 - val_loss: 0.3855 - val_accuracy: 0.8221\n",
      "Epoch 27/30\n",
      "1682/1682 [==============================] - 3s 2ms/step - loss: 0.3589 - accuracy: 0.8387 - val_loss: 0.3830 - val_accuracy: 0.8269\n",
      "Epoch 28/30\n",
      "1682/1682 [==============================] - 3s 2ms/step - loss: 0.3561 - accuracy: 0.8390 - val_loss: 0.3832 - val_accuracy: 0.8271\n",
      "Epoch 29/30\n",
      "1682/1682 [==============================] - 3s 2ms/step - loss: 0.3545 - accuracy: 0.8428 - val_loss: 0.3851 - val_accuracy: 0.8278\n",
      "Epoch 30/30\n",
      "1682/1682 [==============================] - 3s 2ms/step - loss: 0.3500 - accuracy: 0.8417 - val_loss: 0.4137 - val_accuracy: 0.8155\n",
      "Training Accuracy: 0.8329368233680725\n",
      "Testing Accuracy:  0.8155218362808228\n"
     ]
    }
   ],
   "source": [
    "history = model.fit(X_train, y_train,\n",
    "                    epochs=30,\n",
    "                    verbose=1,\n",
    "                    validation_data=(X_test, y_test),\n",
    "                    batch_size=10)\n",
    "loss, accuracy = model.evaluate(X_train, y_train, verbose=False)\n",
    "print(\"Training Accuracy: {}\".format(accuracy))\n",
    "loss, accuracy = model.evaluate(X_test, y_test, verbose=False)\n",
    "print(\"Testing Accuracy:  {}\".format(accuracy))\n",
    "# plot_history(history)"
   ]
  },
  {
   "cell_type": "code",
   "execution_count": 38,
   "metadata": {},
   "outputs": [
    {
     "name": "stdout",
     "output_type": "stream",
     "text": [
      "Precision: 0.8771498771498771 \n",
      "Recall:0.7447844228094576 \n",
      "F1 Score: 0.8055660022564873 \n",
      "AUC: 0.9090468827322667\n"
     ]
    }
   ],
   "source": [
    "y_pred =(model.predict(X_test) > 0.5).astype(\"int32\")\n",
    "y_pred_prob = model.predict(X_test)\n",
    "\n",
    "precision_Glove_Untrainable = precision_score(y_test, y_pred)\n",
    "recall_Glove_Untrainable = recall_score(y_test, y_pred)\n",
    "f1_Glove_Untrainable= f1_score(y_test, y_pred)\n",
    "roc_Glove_Untrainable = roc_auc_score(y_test, y_pred_prob)\n",
    "\n",
    "fpr_Glove_Untrainable, tpr_Glove_Untrainable, thresholds_Glove_Untrainable = roc_curve(y_test, y_pred_prob)\n",
    "\n",
    "print(\"Precision: {} \\nRecall:{} \\nF1 Score: {} \\nAUC: {}\".format(precision_Glove_Untrainable, recall_Glove_Untrainable, f1_Glove_Untrainable, roc_Glove_Untrainable))\n"
   ]
  },
  {
   "cell_type": "code",
   "execution_count": 39,
   "metadata": {},
   "outputs": [
    {
     "data": {
      "image/png": "[encoded data removed]",
      "text/plain": [
       "<Figure size 720x360 with 2 Axes>"
      ]
     },
     "metadata": {
      "needs_background": "light"
     },
     "output_type": "display_data"
    }
   ],
   "source": [
    "from plot_keras_history import plot_history\n",
    "import matplotlib.pyplot as plt\n",
    "\n",
    "\n",
    "plot_history(history.history)\n",
    "plt.show()\n",
    "plt.close()"
   ]
  },
  {
   "cell_type": "markdown",
   "metadata": {},
   "source": [
    "### Do the same thing with glove, but this time all parameters are trainable (takes much longer to run)"
   ]
  },
  {
   "cell_type": "code",
   "execution_count": 40,
   "metadata": {
    "scrolled": true
   },
   "outputs": [
    {
     "name": "stdout",
     "output_type": "stream",
     "text": [
      "Model: \"sequential_1\"\n",
      "_________________________________________________________________\n",
      "Layer (type)                 Output Shape              Param #   \n",
      "=================================================================\n",
      "embedding_1 (Embedding)      (None, 19, 300)           6171600   \n",
      "_________________________________________________________________\n",
      "global_max_pooling1d_1 (Glob (None, 300)               0         \n",
      "_________________________________________________________________\n",
      "dense_2 (Dense)              (None, 10)                3010      \n",
      "_________________________________________________________________\n",
      "dense_3 (Dense)              (None, 1)                 11        \n",
      "=================================================================\n",
      "Total params: 6,174,621\n",
      "Trainable params: 6,174,621\n",
      "Non-trainable params: 0\n",
      "_________________________________________________________________\n"
     ]
    }
   ],
   "source": [
    "from keras.models import Sequential\n",
    "from keras import layers\n",
    "\n",
    "model = Sequential()\n",
    "model.add(layers.Embedding(vocab_size, embedding_dim, \n",
    "                           weights=[embedding_matrix], \n",
    "                           input_length=maxlen, \n",
    "                           trainable=True))\n",
    "\n",
    "model.add(layers.GlobalMaxPool1D())\n",
    "model.add(layers.Dense(10, activation='relu'))\n",
    "model.add(layers.Dense(1, activation='sigmoid'))\n",
    "model.compile(optimizer='adam',\n",
    "              loss='binary_crossentropy',\n",
    "              metrics=['accuracy'])\n",
    "model.summary()"
   ]
  },
  {
   "cell_type": "code",
   "execution_count": 41,
   "metadata": {},
   "outputs": [
    {
     "name": "stdout",
     "output_type": "stream",
     "text": [
      "Epoch 1/20\n",
      "1682/1682 [==============================] - 121s 72ms/step - loss: 0.3968 - accuracy: 0.8140 - val_loss: 0.3407 - val_accuracy: 0.8464\n",
      "Epoch 2/20\n",
      "1682/1682 [==============================] - 117s 70ms/step - loss: 0.2341 - accuracy: 0.9034 - val_loss: 0.2895 - val_accuracy: 0.8748\n",
      "Epoch 3/20\n",
      "1682/1682 [==============================] - 110s 65ms/step - loss: 0.1537 - accuracy: 0.9400 - val_loss: 0.3353 - val_accuracy: 0.8651\n",
      "Epoch 4/20\n",
      "1682/1682 [==============================] - 113s 67ms/step - loss: 0.0948 - accuracy: 0.9663 - val_loss: 0.3718 - val_accuracy: 0.8690\n",
      "Epoch 5/20\n",
      "1682/1682 [==============================] - 112s 67ms/step - loss: 0.0552 - accuracy: 0.9823 - val_loss: 0.4227 - val_accuracy: 0.8660\n",
      "Epoch 6/20\n",
      "1682/1682 [==============================] - 113s 67ms/step - loss: 0.0329 - accuracy: 0.9902 - val_loss: 0.4903 - val_accuracy: 0.8619\n",
      "Epoch 7/20\n",
      "1682/1682 [==============================] - 115s 68ms/step - loss: 0.0230 - accuracy: 0.9928 - val_loss: 0.5416 - val_accuracy: 0.8640\n",
      "Epoch 8/20\n",
      "1682/1682 [==============================] - 115s 68ms/step - loss: 0.0207 - accuracy: 0.9937 - val_loss: 0.6013 - val_accuracy: 0.8587\n",
      "Epoch 9/20\n",
      "1682/1682 [==============================] - 117s 70ms/step - loss: 0.0167 - accuracy: 0.9951 - val_loss: 0.6300 - val_accuracy: 0.8608\n",
      "Epoch 10/20\n",
      "1682/1682 [==============================] - 116s 69ms/step - loss: 0.0166 - accuracy: 0.9954 - val_loss: 0.6545 - val_accuracy: 0.8523\n",
      "Epoch 11/20\n",
      "1682/1682 [==============================] - 117s 70ms/step - loss: 0.0133 - accuracy: 0.9963 - val_loss: 0.6761 - val_accuracy: 0.8530\n",
      "Epoch 12/20\n",
      "1682/1682 [==============================] - 117s 69ms/step - loss: 0.0144 - accuracy: 0.9955 - val_loss: 0.6700 - val_accuracy: 0.8573\n",
      "Epoch 13/20\n",
      "1682/1682 [==============================] - 116s 69ms/step - loss: 0.0145 - accuracy: 0.9960 - val_loss: 0.6378 - val_accuracy: 0.8573\n",
      "Epoch 14/20\n",
      "1682/1682 [==============================] - 116s 69ms/step - loss: 0.0133 - accuracy: 0.9960 - val_loss: 0.6751 - val_accuracy: 0.8537\n",
      "Epoch 15/20\n",
      "1682/1682 [==============================] - 118s 70ms/step - loss: 0.0116 - accuracy: 0.9963 - val_loss: 0.6932 - val_accuracy: 0.8537\n",
      "Epoch 16/20\n",
      "1682/1682 [==============================] - 98s 58ms/step - loss: 0.0137 - accuracy: 0.9958 - val_loss: 0.6520 - val_accuracy: 0.8583\n",
      "Epoch 17/20\n",
      "1682/1682 [==============================] - 97s 58ms/step - loss: 0.0109 - accuracy: 0.9964 - val_loss: 0.6480 - val_accuracy: 0.8525\n",
      "Epoch 18/20\n",
      "1682/1682 [==============================] - 94s 56ms/step - loss: 0.0113 - accuracy: 0.9965 - val_loss: 0.5900 - val_accuracy: 0.8523\n",
      "Epoch 19/20\n",
      "1682/1682 [==============================] - 94s 56ms/step - loss: 0.0113 - accuracy: 0.9960 - val_loss: 0.6450 - val_accuracy: 0.8539\n",
      "Epoch 20/20\n",
      "1682/1682 [==============================] - 96s 57ms/step - loss: 0.0097 - accuracy: 0.9970 - val_loss: 0.7410 - val_accuracy: 0.8510\n",
      "Training Accuracy: 0.9975615739822388\n",
      "Testing Accuracy:  0.8510258793830872\n"
     ]
    },
    {
     "data": {
      "image/png": "[encoded data removed]",
      "text/plain": [
       "<Figure size 720x360 with 2 Axes>"
      ]
     },
     "metadata": {
      "needs_background": "light"
     },
     "output_type": "display_data"
    }
   ],
   "source": [
    "history = model.fit(X_train, y_train,\n",
    "                    epochs=20,\n",
    "                    verbose=1,\n",
    "                    validation_data=(X_test, y_test),\n",
    "                    batch_size=10)\n",
    "loss, accuracy = model.evaluate(X_train, y_train, verbose=False)\n",
    "print(\"Training Accuracy: {}\".format(accuracy))\n",
    "loss, accuracy = model.evaluate(X_test, y_test, verbose=False)\n",
    "print(\"Testing Accuracy:  {}\".format(accuracy))\n",
    "plot_history(history.history)"
   ]
  },
  {
   "cell_type": "code",
   "execution_count": 42,
   "metadata": {},
   "outputs": [
    {
     "name": "stdout",
     "output_type": "stream",
     "text": [
      "Precision: 0.8312236286919831 \n",
      "Recall:0.8904728789986092 \n",
      "F1 Score: 0.8598287728722511 \n",
      "AUC: 0.9350044288130731\n"
     ]
    }
   ],
   "source": [
    "y_pred =(model.predict(X_test) > 0.5).astype(\"int32\")\n",
    "y_pred_prob = model.predict(X_test)\n",
    "\n",
    "precision_Glove = precision_score(y_test, y_pred)\n",
    "recall_Glove = recall_score(y_test, y_pred)\n",
    "f1_Glove = f1_score(y_test, y_pred)\n",
    "roc_Glove = roc_auc_score(y_test, y_pred_prob)\n",
    "\n",
    "fpr_Glove, tpr_Glove, thresholds_Glove= roc_curve(y_test, y_pred_prob)\n",
    "\n",
    "print(\"Precision: {} \\nRecall:{} \\nF1 Score: {} \\nAUC: {}\".format(precision_Glove, recall_Glove, f1_Glove, roc_Glove))\n"
   ]
  },
  {
   "cell_type": "code",
   "execution_count": null,
   "metadata": {},
   "outputs": [],
   "source": []
  },
  {
   "cell_type": "code",
   "execution_count": 43,
   "metadata": {},
   "outputs": [
    {
     "data": {
      "image/png": "[encoded data removed]",
      "text/plain": [
       "<Figure size 432x288 with 1 Axes>"
      ]
     },
     "metadata": {
      "needs_background": "light"
     },
     "output_type": "display_data"
    }
   ],
   "source": [
    "plt.figure(1)\n",
    "plt.plot([0, 1], [0, 1], 'k--')\n",
    "plt.plot(fpr_Glove, tpr_Glove, label='Glove Trainable (area = {:.3f})'.format(roc_Glove))\n",
    "plt.plot(fpr_Glove_Untrainable, tpr_Glove_Untrainable, label='Glove Untrainable (area = {:.3f})'.format(roc_Glove_Untrainable))\n",
    "plt.plot(fpr_LR, tpr_LR, label='Logistic Regression (area = {:.3f})'.format(roc_LR))\n",
    "# plt.plot(fpr_rf, tpr_rf, label='RF (area = {:.3f})'.format(auc_rf))\n",
    "plt.xlabel('False positive rate')\n",
    "plt.ylabel('True positive rate')\n",
    "plt.title('ROC curve')\n",
    "plt.legend(loc='best')\n",
    "plt.show()\n",
    "# Zoom in view of the upper left corner.\n",
    "# plt.figure(2)\n",
    "# plt.xlim(0, 0.2)\n",
    "# plt.ylim(0.8, 1)\n",
    "# plt.plot([0, 1], [0, 1], 'k--')\n",
    "# plt.plot(fpr_keras, tpr_keras, label='Keras (area = {:.3f})'.format(auc_keras))\n",
    "# # plt.plot(fpr_rf, tpr_rf, label='RF (area = {:.3f})'.format(auc_rf))\n",
    "# plt.xlabel('False positive rate')\n",
    "# plt.ylabel('True positive rate')\n",
    "# plt.title('ROC curve (zoomed in at top left)')\n",
    "# plt.legend(loc='best')\n",
    "# plt.show()"
   ]
  },
  {
   "cell_type": "code",
   "execution_count": null,
   "metadata": {},
   "outputs": [],
   "source": []
  },
  {
   "cell_type": "code",
   "execution_count": null,
   "metadata": {},
   "outputs": [],
   "source": []
  }
 ],
 "metadata": {
  "colab": {
   "authorship_tag": "ABX9TyO1PgzWEyCJpMQ1B3Nl/qH0",
   "collapsed_sections": [],
   "name": "glove.ipynb",
   "provenance": []
  },
  "kernelspec": {
   "display_name": "Python 3",
   "language": "python",
   "name": "python3"
  },
  "language_info": {
   "codemirror_mode": {
    "name": "ipython",
    "version": 3
   },
   "file_extension": ".py",
   "mimetype": "text/x-python",
   "name": "python",
   "nbconvert_exporter": "python",
   "pygments_lexer": "ipython3",
   "version": "3.7.6"
  }
 },
 "nbformat": 4,
 "nbformat_minor": 1
}
