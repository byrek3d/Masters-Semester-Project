{
 "cells": [
  {
   "cell_type": "code",
   "execution_count": 1,
   "metadata": {},
   "outputs": [],
   "source": [
    "import pandas as pd\n",
    "from textblob import TextBlob\n",
    "import glob\n",
    "import re\n",
    "from nltk.corpus import stopwords\n",
    "from nltk.stem.wordnet import WordNetLemmatizer\n",
    "import sklearn\n",
    "from sklearn.metrics import accuracy_score\n",
    "from sklearn.metrics import roc_auc_score\n",
    "from sklearn.metrics import precision_score\n",
    "from sklearn.metrics import recall_score\n",
    "from sklearn.metrics import f1_score\n",
    "from sklearn.metrics import roc_curve\n",
    "from sklearn.model_selection import GridSearchCV\n",
    "from sklearn.pipeline import Pipeline\n",
    "import numpy as np\n",
    "import seaborn as sns\n",
    "\n",
    "from sklearn.feature_extraction.text import TfidfTransformer\n",
    "from sklearn.feature_extraction.text import CountVectorizer"
   ]
  },
  {
   "cell_type": "code",
   "execution_count": 2,
   "metadata": {},
   "outputs": [
    {
     "name": "stdout",
     "output_type": "stream",
     "text": [
      "./dataset_cleaning/dataset1Cleaned.pkl\n",
      "./dataset_cleaning/dataset2Cleaned.pkl\n",
      "./dataset_cleaning/dataset3Cleaned.pkl\n",
      "./dataset_cleaning/dataset4Cleaned.pkl\n",
      "./dataset_cleaning/dataset5Cleaned.pkl\n",
      "./dataset_cleaning/dataset6Cleaned.pkl\n"
     ]
    }
   ],
   "source": [
    "all_files = glob.glob(\"./dataset_cleaning/*.pkl\")\n",
    "all_files.sort()\n",
    "datasets = []\n",
    "\n",
    "for filename in all_files:\n",
    "    print(filename)\n",
    "    df = pd.read_pickle(filename)\n",
    "    datasets.append(df)\n",
    "\n"
   ]
  },
  {
   "cell_type": "code",
   "execution_count": 3,
   "metadata": {},
   "outputs": [],
   "source": [
    "\n",
    "def text_processing(tweet):\n",
    "    \n",
    "    tweet= tweet.lower()\n",
    "    \n",
    "    #Removing hyperlinks from the tweet\n",
    "    tweet_no_links=re.sub(r'http\\S+', '', tweet)\n",
    "    \n",
    "    #Generating the list of words in the tweet (hashtags and other punctuations removed)\n",
    "    def form_sentence(tweet):\n",
    "        tweet_blob = TextBlob(tweet)\n",
    "        return ' '.join(tweet_blob.words)\n",
    "    new_tweet = form_sentence(tweet_no_links)\n",
    "    \n",
    "    #Removing stopwords and words with unusual symbols\n",
    "    def no_user_alpha(tweet):\n",
    "        tweet_list = [ele for ele in tweet.split() if ele != 'user']\n",
    "        clean_tokens = [t for t in tweet_list if re.match(r'[^\\W\\d]*$', t)]\n",
    "        clean_s = ' '.join(clean_tokens)\n",
    "        clean_mess = [word for word in clean_s.split() if word not in stopwords.words('english')]\n",
    "        return clean_mess\n",
    "    no_punc_tweet = no_user_alpha(new_tweet)\n",
    "    \n",
    "    #Normalizing the words in tweets \n",
    "    def normalization(tweet_list):\n",
    "        lem = WordNetLemmatizer()\n",
    "        normalized_tweet = []\n",
    "        for word in tweet_list:\n",
    "            normalized_text = lem.lemmatize(word,'v')\n",
    "            normalized_tweet.append(normalized_text)\n",
    "        return \" \".join(normalized_tweet)\n",
    "    \n",
    "    \n",
    "    return normalization(no_punc_tweet)"
   ]
  },
  {
   "cell_type": "code",
   "execution_count": 4,
   "metadata": {},
   "outputs": [
    {
     "data": {
      "text/html": [
       "<div>\n",
       "<style scoped>\n",
       "    .dataframe tbody tr th:only-of-type {\n",
       "        vertical-align: middle;\n",
       "    }\n",
       "\n",
       "    .dataframe tbody tr th {\n",
       "        vertical-align: top;\n",
       "    }\n",
       "\n",
       "    .dataframe thead th {\n",
       "        text-align: right;\n",
       "    }\n",
       "</style>\n",
       "<table border=\"1\" class=\"dataframe\">\n",
       "  <thead>\n",
       "    <tr style=\"text-align: right;\">\n",
       "      <th></th>\n",
       "      <th>Informativeness</th>\n",
       "      <th>text</th>\n",
       "    </tr>\n",
       "  </thead>\n",
       "  <tbody>\n",
       "    <tr>\n",
       "      <th>0</th>\n",
       "      <td>0</td>\n",
       "      <td>#Intern #US #TATTOO #Wisconsin #Ohio #NC #PA #...</td>\n",
       "    </tr>\n",
       "    <tr>\n",
       "      <th>1</th>\n",
       "      <td>0</td>\n",
       "      <td>Get in on the fun every Thursday with the @csi...</td>\n",
       "    </tr>\n",
       "    <tr>\n",
       "      <th>2</th>\n",
       "      <td>0</td>\n",
       "      <td>Welcome to our newest STUDENTathlete- Reagan B...</td>\n",
       "    </tr>\n",
       "    <tr>\n",
       "      <th>3</th>\n",
       "      <td>0</td>\n",
       "      <td>Denver Post: #Colorado governor signs bill cre...</td>\n",
       "    </tr>\n",
       "    <tr>\n",
       "      <th>4</th>\n",
       "      <td>0</td>\n",
       "      <td>Pretty sure I'm going to live in Manitou Sprin...</td>\n",
       "    </tr>\n",
       "  </tbody>\n",
       "</table>\n",
       "</div>"
      ],
      "text/plain": [
       "   Informativeness                                               text\n",
       "0                0  #Intern #US #TATTOO #Wisconsin #Ohio #NC #PA #...\n",
       "1                0  Get in on the fun every Thursday with the @csi...\n",
       "2                0  Welcome to our newest STUDENTathlete- Reagan B...\n",
       "3                0  Denver Post: #Colorado governor signs bill cre...\n",
       "4                0  Pretty sure I'm going to live in Manitou Sprin..."
      ]
     },
     "execution_count": 4,
     "metadata": {},
     "output_type": "execute_result"
    }
   ],
   "source": [
    "datasets[0].head()"
   ]
  },
  {
   "cell_type": "code",
   "execution_count": 5,
   "metadata": {},
   "outputs": [
    {
     "name": "stdout",
     "output_type": "stream",
     "text": [
      "Processing dataset 1\n",
      "Processing dataset 2\n",
      "Processing dataset 3\n",
      "Processing dataset 4\n",
      "Processing dataset 5\n",
      "Processing dataset 6\n"
     ]
    }
   ],
   "source": [
    "for i,ds in enumerate(datasets):\n",
    "    print(\"Processing dataset {}\".format(i+1))\n",
    "    ds['text_processed']=ds['text'].apply(text_processing)"
   ]
  },
  {
   "cell_type": "code",
   "execution_count": 6,
   "metadata": {},
   "outputs": [],
   "source": [
    "from sklearn.linear_model import SGDClassifier\n",
    "\n",
    "\n",
    "text_clf_svm = Pipeline([('vect', CountVectorizer()), ('tfidf', TfidfTransformer()),\n",
    "                         ('clf-svm', SGDClassifier( penalty='l2', random_state=42))])\n",
    "\n",
    "parameters_svm = {'vect__ngram_range': [(1, 1), (1, 2)], 'tfidf__use_idf': (True, False),'clf-svm__alpha': (1e-5, 1e-3),\n",
    "                  'clf-svm__loss':('hinge','log','perceptron'),'clf-svm__max_iter': (10, 100)}\n",
    "gs_clf_svm = GridSearchCV(text_clf_svm, parameters_svm,scoring='roc_auc', n_jobs=-1, verbose=10)"
   ]
  },
  {
   "cell_type": "code",
   "execution_count": 26,
   "metadata": {},
   "outputs": [
    {
     "name": "stdout",
     "output_type": "stream",
     "text": [
      "Training on Dataset 1\n",
      "Fitting 5 folds for each of 48 candidates, totalling 240 fits\n"
     ]
    },
    {
     "name": "stderr",
     "output_type": "stream",
     "text": [
      "[Parallel(n_jobs=-1)]: Using backend LokyBackend with 4 concurrent workers.\n",
      "[Parallel(n_jobs=-1)]: Done   5 tasks      | elapsed:    3.8s\n",
      "[Parallel(n_jobs=-1)]: Done  10 tasks      | elapsed:    5.3s\n",
      "[Parallel(n_jobs=-1)]: Done  17 tasks      | elapsed:    7.4s\n",
      "[Parallel(n_jobs=-1)]: Done  24 tasks      | elapsed:    8.7s\n",
      "[Parallel(n_jobs=-1)]: Done  33 tasks      | elapsed:   10.9s\n",
      "[Parallel(n_jobs=-1)]: Done  42 tasks      | elapsed:   13.1s\n",
      "[Parallel(n_jobs=-1)]: Done  53 tasks      | elapsed:   16.2s\n",
      "[Parallel(n_jobs=-1)]: Done  64 tasks      | elapsed:   19.1s\n",
      "[Parallel(n_jobs=-1)]: Done  77 tasks      | elapsed:   23.2s\n",
      "[Parallel(n_jobs=-1)]: Done  90 tasks      | elapsed:   26.6s\n",
      "[Parallel(n_jobs=-1)]: Done 105 tasks      | elapsed:   29.7s\n",
      "[Parallel(n_jobs=-1)]: Done 120 tasks      | elapsed:   34.4s\n",
      "[Parallel(n_jobs=-1)]: Done 137 tasks      | elapsed:   39.7s\n",
      "[Parallel(n_jobs=-1)]: Done 154 tasks      | elapsed:   43.0s\n",
      "[Parallel(n_jobs=-1)]: Done 173 tasks      | elapsed:   48.0s\n",
      "[Parallel(n_jobs=-1)]: Done 192 tasks      | elapsed:   52.2s\n",
      "[Parallel(n_jobs=-1)]: Done 213 tasks      | elapsed:   56.9s\n",
      "[Parallel(n_jobs=-1)]: Done 240 out of 240 | elapsed:  1.0min finished\n",
      "/opt/anaconda3/lib/python3.7/site-packages/sklearn/linear_model/_stochastic_gradient.py:573: ConvergenceWarning: Maximum number of iteration reached before convergence. Consider increasing max_iter to improve the fit.\n",
      "  ConvergenceWarning)\n"
     ]
    },
    {
     "name": "stdout",
     "output_type": "stream",
     "text": [
      "testing on Dataset 1\n",
      "testing on Dataset 2\n",
      "testing on Dataset 3\n",
      "testing on Dataset 4\n",
      "testing on Dataset 5\n",
      "testing on Dataset 6\n",
      "Training on Dataset 2\n",
      "Fitting 5 folds for each of 48 candidates, totalling 240 fits\n"
     ]
    },
    {
     "name": "stderr",
     "output_type": "stream",
     "text": [
      "[Parallel(n_jobs=-1)]: Using backend LokyBackend with 4 concurrent workers.\n",
      "[Parallel(n_jobs=-1)]: Done   5 tasks      | elapsed:    0.9s\n",
      "[Parallel(n_jobs=-1)]: Done  10 tasks      | elapsed:    2.1s\n",
      "[Parallel(n_jobs=-1)]: Done  17 tasks      | elapsed:    3.6s\n",
      "[Parallel(n_jobs=-1)]: Done  24 tasks      | elapsed:    4.5s\n",
      "[Parallel(n_jobs=-1)]: Done  33 tasks      | elapsed:    6.4s\n",
      "[Parallel(n_jobs=-1)]: Done  42 tasks      | elapsed:    8.3s\n",
      "[Parallel(n_jobs=-1)]: Done  53 tasks      | elapsed:   10.4s\n",
      "[Parallel(n_jobs=-1)]: Done  64 tasks      | elapsed:   12.4s\n",
      "[Parallel(n_jobs=-1)]: Done  77 tasks      | elapsed:   15.3s\n",
      "[Parallel(n_jobs=-1)]: Done  90 tasks      | elapsed:   17.7s\n",
      "[Parallel(n_jobs=-1)]: Done 105 tasks      | elapsed:   20.1s\n",
      "[Parallel(n_jobs=-1)]: Done 120 tasks      | elapsed:   26.1s\n",
      "[Parallel(n_jobs=-1)]: Done 137 tasks      | elapsed:   31.1s\n",
      "[Parallel(n_jobs=-1)]: Done 154 tasks      | elapsed:   35.5s\n",
      "[Parallel(n_jobs=-1)]: Done 173 tasks      | elapsed:   43.3s\n",
      "[Parallel(n_jobs=-1)]: Done 192 tasks      | elapsed:   50.6s\n",
      "[Parallel(n_jobs=-1)]: Done 213 tasks      | elapsed:   59.5s\n",
      "[Parallel(n_jobs=-1)]: Done 240 out of 240 | elapsed:  1.1min finished\n"
     ]
    },
    {
     "name": "stdout",
     "output_type": "stream",
     "text": [
      "testing on Dataset 1\n",
      "testing on Dataset 2\n",
      "testing on Dataset 3\n",
      "testing on Dataset 4\n",
      "testing on Dataset 5\n",
      "testing on Dataset 6\n",
      "Training on Dataset 3\n",
      "Fitting 5 folds for each of 48 candidates, totalling 240 fits\n"
     ]
    },
    {
     "name": "stderr",
     "output_type": "stream",
     "text": [
      "[Parallel(n_jobs=-1)]: Using backend LokyBackend with 4 concurrent workers.\n",
      "[Parallel(n_jobs=-1)]: Batch computation too fast (0.0830s.) Setting batch_size=2.\n",
      "[Parallel(n_jobs=-1)]: Done   5 tasks      | elapsed:    0.2s\n",
      "[Parallel(n_jobs=-1)]: Done  12 tasks      | elapsed:    0.5s\n",
      "[Parallel(n_jobs=-1)]: Done  26 tasks      | elapsed:    1.1s\n",
      "[Parallel(n_jobs=-1)]: Done  40 tasks      | elapsed:    1.6s\n",
      "[Parallel(n_jobs=-1)]: Done  58 tasks      | elapsed:    2.1s\n",
      "[Parallel(n_jobs=-1)]: Done  76 tasks      | elapsed:    2.8s\n",
      "[Parallel(n_jobs=-1)]: Done  98 tasks      | elapsed:    3.5s\n",
      "[Parallel(n_jobs=-1)]: Done 120 tasks      | elapsed:    4.3s\n",
      "[Parallel(n_jobs=-1)]: Done 146 tasks      | elapsed:    5.1s\n",
      "[Parallel(n_jobs=-1)]: Done 172 tasks      | elapsed:    6.0s\n",
      "[Parallel(n_jobs=-1)]: Done 202 tasks      | elapsed:    7.2s\n",
      "[Parallel(n_jobs=-1)]: Done 240 out of 240 | elapsed:    8.8s finished\n",
      "/opt/anaconda3/lib/python3.7/site-packages/sklearn/linear_model/_stochastic_gradient.py:573: ConvergenceWarning: Maximum number of iteration reached before convergence. Consider increasing max_iter to improve the fit.\n",
      "  ConvergenceWarning)\n"
     ]
    },
    {
     "name": "stdout",
     "output_type": "stream",
     "text": [
      "testing on Dataset 1\n",
      "testing on Dataset 2\n",
      "testing on Dataset 3\n",
      "testing on Dataset 4\n",
      "testing on Dataset 5\n",
      "testing on Dataset 6\n",
      "Training on Dataset 4\n",
      "Fitting 5 folds for each of 48 candidates, totalling 240 fits\n"
     ]
    },
    {
     "name": "stderr",
     "output_type": "stream",
     "text": [
      "[Parallel(n_jobs=-1)]: Using backend LokyBackend with 4 concurrent workers.\n",
      "[Parallel(n_jobs=-1)]: Done   5 tasks      | elapsed:    1.0s\n",
      "[Parallel(n_jobs=-1)]: Done  10 tasks      | elapsed:    2.5s\n",
      "[Parallel(n_jobs=-1)]: Done  17 tasks      | elapsed:    4.8s\n",
      "[Parallel(n_jobs=-1)]: Done  24 tasks      | elapsed:    6.0s\n",
      "[Parallel(n_jobs=-1)]: Done  33 tasks      | elapsed:    8.0s\n",
      "[Parallel(n_jobs=-1)]: Done  42 tasks      | elapsed:   10.4s\n",
      "[Parallel(n_jobs=-1)]: Done  53 tasks      | elapsed:   12.6s\n",
      "[Parallel(n_jobs=-1)]: Done  64 tasks      | elapsed:   15.0s\n",
      "[Parallel(n_jobs=-1)]: Done  77 tasks      | elapsed:   18.2s\n",
      "[Parallel(n_jobs=-1)]: Done  90 tasks      | elapsed:   21.7s\n",
      "[Parallel(n_jobs=-1)]: Done 105 tasks      | elapsed:   25.1s\n",
      "[Parallel(n_jobs=-1)]: Done 120 tasks      | elapsed:   29.3s\n",
      "[Parallel(n_jobs=-1)]: Done 137 tasks      | elapsed:   33.4s\n",
      "[Parallel(n_jobs=-1)]: Done 154 tasks      | elapsed:   36.7s\n",
      "[Parallel(n_jobs=-1)]: Done 173 tasks      | elapsed:   40.9s\n",
      "[Parallel(n_jobs=-1)]: Done 192 tasks      | elapsed:   44.7s\n",
      "[Parallel(n_jobs=-1)]: Done 213 tasks      | elapsed:   49.1s\n",
      "[Parallel(n_jobs=-1)]: Done 240 out of 240 | elapsed:   56.8s finished\n"
     ]
    },
    {
     "name": "stdout",
     "output_type": "stream",
     "text": [
      "testing on Dataset 1\n",
      "testing on Dataset 2\n",
      "testing on Dataset 3\n",
      "testing on Dataset 4\n",
      "testing on Dataset 5\n",
      "testing on Dataset 6\n",
      "Training on Dataset 5\n",
      "Fitting 5 folds for each of 48 candidates, totalling 240 fits\n"
     ]
    },
    {
     "name": "stderr",
     "output_type": "stream",
     "text": [
      "[Parallel(n_jobs=-1)]: Using backend LokyBackend with 4 concurrent workers.\n",
      "[Parallel(n_jobs=-1)]: Batch computation too fast (0.0446s.) Setting batch_size=2.\n",
      "[Parallel(n_jobs=-1)]: Done   5 tasks      | elapsed:    0.1s\n",
      "[Parallel(n_jobs=-1)]: Batch computation too fast (0.1480s.) Setting batch_size=4.\n",
      "[Parallel(n_jobs=-1)]: Done  12 tasks      | elapsed:    0.3s\n",
      "[Parallel(n_jobs=-1)]: Done  28 tasks      | elapsed:    0.6s\n",
      "[Parallel(n_jobs=-1)]: Done  56 tasks      | elapsed:    1.0s\n",
      "[Parallel(n_jobs=-1)]: Done  92 tasks      | elapsed:    1.5s\n",
      "[Parallel(n_jobs=-1)]: Done 128 tasks      | elapsed:    2.1s\n",
      "[Parallel(n_jobs=-1)]: Done 172 tasks      | elapsed:    2.7s\n",
      "[Parallel(n_jobs=-1)]: Done 216 tasks      | elapsed:    3.3s\n",
      "[Parallel(n_jobs=-1)]: Done 240 out of 240 | elapsed:    3.7s finished\n"
     ]
    },
    {
     "name": "stdout",
     "output_type": "stream",
     "text": [
      "testing on Dataset 1\n",
      "testing on Dataset 2\n",
      "testing on Dataset 3\n",
      "testing on Dataset 4\n",
      "testing on Dataset 5\n",
      "testing on Dataset 6\n",
      "Training on Dataset 6\n",
      "Fitting 5 folds for each of 48 candidates, totalling 240 fits\n"
     ]
    },
    {
     "name": "stderr",
     "output_type": "stream",
     "text": [
      "[Parallel(n_jobs=-1)]: Using backend LokyBackend with 4 concurrent workers.\n",
      "[Parallel(n_jobs=-1)]: Done   5 tasks      | elapsed:    1.8s\n",
      "[Parallel(n_jobs=-1)]: Done  10 tasks      | elapsed:    3.8s\n",
      "[Parallel(n_jobs=-1)]: Done  17 tasks      | elapsed:    6.3s\n",
      "[Parallel(n_jobs=-1)]: Done  24 tasks      | elapsed:    8.2s\n",
      "[Parallel(n_jobs=-1)]: Done  33 tasks      | elapsed:   14.4s\n",
      "[Parallel(n_jobs=-1)]: Done  42 tasks      | elapsed:   19.9s\n",
      "[Parallel(n_jobs=-1)]: Done  53 tasks      | elapsed:   24.6s\n",
      "[Parallel(n_jobs=-1)]: Done  64 tasks      | elapsed:   29.0s\n",
      "[Parallel(n_jobs=-1)]: Done  77 tasks      | elapsed:   38.5s\n",
      "[Parallel(n_jobs=-1)]: Done  90 tasks      | elapsed:   45.5s\n",
      "[Parallel(n_jobs=-1)]: Done 105 tasks      | elapsed:   50.7s\n",
      "[Parallel(n_jobs=-1)]: Done 120 tasks      | elapsed:   57.0s\n",
      "[Parallel(n_jobs=-1)]: Done 137 tasks      | elapsed:  1.1min\n",
      "[Parallel(n_jobs=-1)]: Done 154 tasks      | elapsed:  1.2min\n",
      "[Parallel(n_jobs=-1)]: Done 173 tasks      | elapsed:  1.3min\n",
      "[Parallel(n_jobs=-1)]: Done 192 tasks      | elapsed:  1.4min\n",
      "[Parallel(n_jobs=-1)]: Done 213 tasks      | elapsed:  1.6min\n",
      "[Parallel(n_jobs=-1)]: Done 240 out of 240 | elapsed:  1.7min finished\n"
     ]
    },
    {
     "name": "stdout",
     "output_type": "stream",
     "text": [
      "testing on Dataset 1\n",
      "testing on Dataset 2\n",
      "testing on Dataset 3\n",
      "testing on Dataset 4\n",
      "testing on Dataset 5\n",
      "testing on Dataset 6\n"
     ]
    }
   ],
   "source": [
    "results=[]\n",
    "feature_importance=[]\n",
    "\n",
    "for i,ds_train in enumerate(datasets):\n",
    "\n",
    "    print(\"Training on Dataset {}\".format(i+1))\n",
    "    row=[]\n",
    "    X_train = ds_train['text_processed'].values\n",
    "    y_train = ds_train['Informativeness'].values\n",
    "    \n",
    "    gs_clf_svm = gs_clf_svm.fit(X_train, y_train)\n",
    "    \n",
    "    feature_names = gs_clf_svm.best_estimator_[0].get_feature_names() \n",
    "    coefs = gs_clf_svm.best_estimator_[-1].coef_[0]\n",
    "    \n",
    "    coefs_with_fns = sorted(zip(coefs, feature_names)) \n",
    "    df=pd.DataFrame(coefs_with_fns)\n",
    "    df.columns='coefficient','word'\n",
    "    df.sort_values(by='coefficient')\n",
    "    feature_importance.append(df)\n",
    "    \n",
    "    for j,ds_test in enumerate(datasets):\n",
    "        \n",
    "        print(\"testing on Dataset {}\".format(j+1))\n",
    "        X_test = ds_test['text_processed'].values\n",
    "        y_test = ds_test['Informativeness'].values\n",
    "        \n",
    "        row.append(gs_clf_svm.score(X_test, y_test))\n",
    "    results.append(row)\n",
    "    "
   ]
  },
  {
   "cell_type": "code",
   "execution_count": 27,
   "metadata": {},
   "outputs": [],
   "source": [
    "df = pd.DataFrame(results)\n",
    "df.columns= map( lambda x: x+1,df.columns)\n",
    "df.index= map( lambda x: x+1,df.index)"
   ]
  },
  {
   "cell_type": "code",
   "execution_count": 28,
   "metadata": {},
   "outputs": [
    {
     "data": {
      "text/plain": [
       "<matplotlib.axes._subplots.AxesSubplot at 0x1a208baf90>"
      ]
     },
     "execution_count": 28,
     "metadata": {},
     "output_type": "execute_result"
    },
    {
     "data": {
      "image/png": "[encoded data removed]",
      "text/plain": [
       "<Figure size 432x288 with 2 Axes>"
      ]
     },
     "metadata": {
      "needs_background": "light"
     },
     "output_type": "display_data"
    }
   ],
   "source": [
    "sns.heatmap(df, annot=True)\n"
   ]
  },
  {
   "cell_type": "code",
   "execution_count": 33,
   "metadata": {},
   "outputs": [
    {
     "name": "stdout",
     "output_type": "stream",
     "text": [
      "       coefficient           word\n",
      "0        -2.649343           pray\n",
      "1        -2.231199        prayers\n",
      "2        -2.118380       thoughts\n",
      "3        -2.038216  prayforboston\n",
      "4        -1.904493  russianmeteor\n",
      "...            ...            ...\n",
      "18004     0.979222        suspect\n",
      "18005     0.980826        typhoon\n",
      "18006     1.171556          flood\n",
      "18007     1.194530            psi\n",
      "18008     1.237053       collapse\n",
      "\n",
      "[18009 rows x 2 columns]\n",
      "       coefficient         word\n",
      "0        -6.371314         mora\n",
      "1        -5.258818          hug\n",
      "2        -4.820831        steve\n",
      "3        -4.475976       reason\n",
      "4        -4.267734         dear\n",
      "...            ...          ...\n",
      "18062     5.292642    magnitude\n",
      "18063     5.557513      destroy\n",
      "18064     5.638777    donations\n",
      "18065     6.393180  devastation\n",
      "18066     7.442023      cyclone\n",
      "\n",
      "[18067 rows x 2 columns]\n",
      "      coefficient              word\n",
      "0       -2.519918            things\n",
      "1       -2.328253          internet\n",
      "2       -2.190676  prayforstockholm\n",
      "3       -1.408372    nintendodirect\n",
      "4       -1.066067             thank\n",
      "...           ...               ...\n",
      "5622     1.416139               hiv\n",
      "5623     1.420283             italy\n",
      "5624     1.472512             storm\n",
      "5625     1.566313            harvey\n",
      "5626     1.835654          tropical\n",
      "\n",
      "[5627 rows x 2 columns]\n",
      "        coefficient           word\n",
      "0         -6.752346    informative\n",
      "1         -5.240722            use\n",
      "2         -4.756781           help\n",
      "3         -4.616206         impact\n",
      "4         -4.383429          would\n",
      "...             ...            ...\n",
      "121459    13.885796       positive\n",
      "121460    14.215141         deaths\n",
      "121461    14.378187  test positive\n",
      "121462    15.127188            die\n",
      "121463    16.300322           case\n",
      "\n",
      "[121464 rows x 2 columns]\n",
      "      coefficient   word\n",
      "0       -1.648100   hope\n",
      "1       -1.579696   love\n",
      "2       -1.522670  would\n",
      "3       -1.380065     ca\n",
      "4       -1.272204     go\n",
      "...           ...    ...\n",
      "2233     1.405697    new\n",
      "2234     1.572665  flood\n",
      "2235     1.692275  close\n",
      "2236     1.693127    via\n",
      "2237     2.467878    nyc\n",
      "\n",
      "[2238 rows x 2 columns]\n",
      "        coefficient            word\n",
      "0         -0.852766          san rt\n",
      "1         -0.845155  quake southern\n",
      "2         -0.816802    flood punjab\n",
      "3         -0.792496      verge napa\n",
      "4         -0.756030       wsw healy\n",
      "...             ...             ...\n",
      "132751     0.960131    prayforchile\n",
      "132752     1.112501           nepal\n",
      "132753     1.125373           ebola\n",
      "132754     1.245692      earthquake\n",
      "132755     1.413179           flood\n",
      "\n",
      "[132756 rows x 2 columns]\n"
     ]
    }
   ],
   "source": [
    "for feature_importance_dataset in feature_importance:\n",
    "    print(feature_importance_dataset)"
   ]
  },
  {
   "cell_type": "code",
   "execution_count": null,
   "metadata": {},
   "outputs": [],
   "source": []
  },
  {
   "cell_type": "code",
   "execution_count": null,
   "metadata": {},
   "outputs": [],
   "source": []
  }
 ],
 "metadata": {
  "kernelspec": {
   "display_name": "Python 3",
   "language": "python",
   "name": "python3"
  },
  "language_info": {
   "codemirror_mode": {
    "name": "ipython",
    "version": 3
   },
   "file_extension": ".py",
   "mimetype": "text/x-python",
   "name": "python",
   "nbconvert_exporter": "python",
   "pygments_lexer": "ipython3",
   "version": "3.7.6"
  }
 },
 "nbformat": 4,
 "nbformat_minor": 4
}
