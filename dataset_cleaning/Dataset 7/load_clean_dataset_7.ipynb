{
 "cells": [
  {
   "cell_type": "code",
   "execution_count": 10,
   "metadata": {},
   "outputs": [],
   "source": [
    "import pandas as pd\n",
    "from langdetect import detect\n",
    "import glob"
   ]
  },
  {
   "cell_type": "code",
   "execution_count": 41,
   "metadata": {},
   "outputs": [],
   "source": [
    "df=pd.read_csv('./tweet_text_karabakh.csv')"
   ]
  },
  {
   "cell_type": "code",
   "execution_count": 42,
   "metadata": {},
   "outputs": [
    {
     "data": {
      "text/html": [
       "<div>\n",
       "<style scoped>\n",
       "    .dataframe tbody tr th:only-of-type {\n",
       "        vertical-align: middle;\n",
       "    }\n",
       "\n",
       "    .dataframe tbody tr th {\n",
       "        vertical-align: top;\n",
       "    }\n",
       "\n",
       "    .dataframe thead th {\n",
       "        text-align: right;\n",
       "    }\n",
       "</style>\n",
       "<table border=\"1\" class=\"dataframe\">\n",
       "  <thead>\n",
       "    <tr style=\"text-align: right;\">\n",
       "      <th></th>\n",
       "      <th>id</th>\n",
       "      <th>lang</th>\n",
       "      <th>text</th>\n",
       "    </tr>\n",
       "  </thead>\n",
       "  <tbody>\n",
       "    <tr>\n",
       "      <th>0</th>\n",
       "      <td>1309386738058571776</td>\n",
       "      <td>en</td>\n",
       "      <td>#PMIKOnceMoreAtUNGA President Erdogan has once...</td>\n",
       "    </tr>\n",
       "    <tr>\n",
       "      <th>1</th>\n",
       "      <td>1310149718509580293</td>\n",
       "      <td>en</td>\n",
       "      <td>🇬🇷🇦🇲 We are Brothers, against our common enemy...</td>\n",
       "    </tr>\n",
       "    <tr>\n",
       "      <th>2</th>\n",
       "      <td>1310176513082482689</td>\n",
       "      <td>en</td>\n",
       "      <td>@jul105 You are 90 years kill more Women and c...</td>\n",
       "    </tr>\n",
       "    <tr>\n",
       "      <th>3</th>\n",
       "      <td>1311183944222756864</td>\n",
       "      <td>en</td>\n",
       "      <td>You can help #Artsakh by sending money to  @Ar...</td>\n",
       "    </tr>\n",
       "    <tr>\n",
       "      <th>4</th>\n",
       "      <td>1311210278130978816</td>\n",
       "      <td>en</td>\n",
       "      <td>@KimKardashian Thank you so much,Kim! ❤️💙🧡 #ՀԱ...</td>\n",
       "    </tr>\n",
       "  </tbody>\n",
       "</table>\n",
       "</div>"
      ],
      "text/plain": [
       "                    id lang                                               text\n",
       "0  1309386738058571776   en  #PMIKOnceMoreAtUNGA President Erdogan has once...\n",
       "1  1310149718509580293   en  🇬🇷🇦🇲 We are Brothers, against our common enemy...\n",
       "2  1310176513082482689   en  @jul105 You are 90 years kill more Women and c...\n",
       "3  1311183944222756864   en  You can help #Artsakh by sending money to  @Ar...\n",
       "4  1311210278130978816   en  @KimKardashian Thank you so much,Kim! ❤️💙🧡 #ՀԱ..."
      ]
     },
     "execution_count": 42,
     "metadata": {},
     "output_type": "execute_result"
    }
   ],
   "source": [
    "df.head()"
   ]
  },
  {
   "cell_type": "code",
   "execution_count": 43,
   "metadata": {},
   "outputs": [],
   "source": [
    "df = df.sample(frac=1).reset_index(drop=True)"
   ]
  },
  {
   "cell_type": "code",
   "execution_count": 44,
   "metadata": {},
   "outputs": [],
   "source": [
    "df[\"Informativeness\"]=0"
   ]
  },
  {
   "cell_type": "code",
   "execution_count": 45,
   "metadata": {},
   "outputs": [
    {
     "data": {
      "text/html": [
       "<div>\n",
       "<style scoped>\n",
       "    .dataframe tbody tr th:only-of-type {\n",
       "        vertical-align: middle;\n",
       "    }\n",
       "\n",
       "    .dataframe tbody tr th {\n",
       "        vertical-align: top;\n",
       "    }\n",
       "\n",
       "    .dataframe thead th {\n",
       "        text-align: right;\n",
       "    }\n",
       "</style>\n",
       "<table border=\"1\" class=\"dataframe\">\n",
       "  <thead>\n",
       "    <tr style=\"text-align: right;\">\n",
       "      <th></th>\n",
       "      <th>id</th>\n",
       "      <th>lang</th>\n",
       "      <th>text</th>\n",
       "      <th>Informativeness</th>\n",
       "    </tr>\n",
       "  </thead>\n",
       "  <tbody>\n",
       "    <tr>\n",
       "      <th>0</th>\n",
       "      <td>1320973229423427586</td>\n",
       "      <td>en</td>\n",
       "      <td>Pashinyan implements genocide against #Armenia...</td>\n",
       "      <td>0</td>\n",
       "    </tr>\n",
       "    <tr>\n",
       "      <th>1</th>\n",
       "      <td>1310913600400297986</td>\n",
       "      <td>en</td>\n",
       "      <td>The enemy’s helicopter destruction. [Defence A...</td>\n",
       "      <td>0</td>\n",
       "    </tr>\n",
       "    <tr>\n",
       "      <th>2</th>\n",
       "      <td>1322982119526846464</td>\n",
       "      <td>en</td>\n",
       "      <td>Right now #Azerbaijan is burning down forests ...</td>\n",
       "      <td>0</td>\n",
       "    </tr>\n",
       "    <tr>\n",
       "      <th>3</th>\n",
       "      <td>1318599799537618945</td>\n",
       "      <td>en</td>\n",
       "      <td>@KhalilovEtibar @NikolPashinyan Only Armenians...</td>\n",
       "      <td>0</td>\n",
       "    </tr>\n",
       "    <tr>\n",
       "      <th>4</th>\n",
       "      <td>1310895599718461441</td>\n",
       "      <td>en</td>\n",
       "      <td>@SadhguruJV 🇦🇲 Facing serious problems in #Art...</td>\n",
       "      <td>0</td>\n",
       "    </tr>\n",
       "  </tbody>\n",
       "</table>\n",
       "</div>"
      ],
      "text/plain": [
       "                    id lang  \\\n",
       "0  1320973229423427586   en   \n",
       "1  1310913600400297986   en   \n",
       "2  1322982119526846464   en   \n",
       "3  1318599799537618945   en   \n",
       "4  1310895599718461441   en   \n",
       "\n",
       "                                                text  Informativeness  \n",
       "0  Pashinyan implements genocide against #Armenia...                0  \n",
       "1  The enemy’s helicopter destruction. [Defence A...                0  \n",
       "2  Right now #Azerbaijan is burning down forests ...                0  \n",
       "3  @KhalilovEtibar @NikolPashinyan Only Armenians...                0  \n",
       "4  @SadhguruJV 🇦🇲 Facing serious problems in #Art...                0  "
      ]
     },
     "execution_count": 45,
     "metadata": {},
     "output_type": "execute_result"
    }
   ],
   "source": [
    "df.head()"
   ]
  },
  {
   "cell_type": "code",
   "execution_count": 46,
   "metadata": {},
   "outputs": [],
   "source": [
    "df.to_csv('./tweet_text_shuffled.csv')"
   ]
  },
  {
   "cell_type": "code",
   "execution_count": 12,
   "metadata": {},
   "outputs": [
    {
     "data": {
      "text/plain": [
       "259889"
      ]
     },
     "execution_count": 12,
     "metadata": {},
     "output_type": "execute_result"
    }
   ],
   "source": [
    "len(df)"
   ]
  },
  {
   "cell_type": "code",
   "execution_count": 30,
   "metadata": {},
   "outputs": [],
   "source": [
    "shuffled = pd.read_csv('./tweet_text_shuffled.csv')"
   ]
  },
  {
   "cell_type": "code",
   "execution_count": 36,
   "metadata": {},
   "outputs": [],
   "source": [
    "shuffled = shuffled[shuffled[\"lang\"]=='en']"
   ]
  },
  {
   "cell_type": "code",
   "execution_count": 37,
   "metadata": {},
   "outputs": [
    {
     "data": {
      "text/html": [
       "<div>\n",
       "<style scoped>\n",
       "    .dataframe tbody tr th:only-of-type {\n",
       "        vertical-align: middle;\n",
       "    }\n",
       "\n",
       "    .dataframe tbody tr th {\n",
       "        vertical-align: top;\n",
       "    }\n",
       "\n",
       "    .dataframe thead th {\n",
       "        text-align: right;\n",
       "    }\n",
       "</style>\n",
       "<table border=\"1\" class=\"dataframe\">\n",
       "  <thead>\n",
       "    <tr style=\"text-align: right;\">\n",
       "      <th></th>\n",
       "      <th>Unnamed: 0</th>\n",
       "      <th>id</th>\n",
       "      <th>lang</th>\n",
       "      <th>text</th>\n",
       "      <th>Informativeness</th>\n",
       "    </tr>\n",
       "  </thead>\n",
       "  <tbody>\n",
       "    <tr>\n",
       "      <th>0</th>\n",
       "      <td>0</td>\n",
       "      <td>821881702133862400</td>\n",
       "      <td>en</td>\n",
       "      <td>@GRUBBZ_415 @AntonioBrown well one of em. At l...</td>\n",
       "      <td>0</td>\n",
       "    </tr>\n",
       "    <tr>\n",
       "      <th>1</th>\n",
       "      <td>1</td>\n",
       "      <td>1244072467770949640</td>\n",
       "      <td>en</td>\n",
       "      <td>@CNN Yup embolden the military then begin to d...</td>\n",
       "      <td>0</td>\n",
       "    </tr>\n",
       "    <tr>\n",
       "      <th>2</th>\n",
       "      <td>2</td>\n",
       "      <td>933749385988632576</td>\n",
       "      <td>en</td>\n",
       "      <td>\"As Americans, we have many things for which t...</td>\n",
       "      <td>0</td>\n",
       "    </tr>\n",
       "    <tr>\n",
       "      <th>3</th>\n",
       "      <td>3</td>\n",
       "      <td>409714328141848577</td>\n",
       "      <td>en</td>\n",
       "      <td>\"I find that the harder I work, the more luck ...</td>\n",
       "      <td>0</td>\n",
       "    </tr>\n",
       "    <tr>\n",
       "      <th>4</th>\n",
       "      <td>4</td>\n",
       "      <td>1109913014587793408</td>\n",
       "      <td>en</td>\n",
       "      <td>Any chance that after the #RussiaCollusionHoax...</td>\n",
       "      <td>0</td>\n",
       "    </tr>\n",
       "    <tr>\n",
       "      <th>...</th>\n",
       "      <td>...</td>\n",
       "      <td>...</td>\n",
       "      <td>...</td>\n",
       "      <td>...</td>\n",
       "      <td>...</td>\n",
       "    </tr>\n",
       "    <tr>\n",
       "      <th>259880</th>\n",
       "      <td>259880</td>\n",
       "      <td>870293764274757632</td>\n",
       "      <td>en</td>\n",
       "      <td>Well... that was unexpected 🤔🤔🤔  😭😭😭 https://t...</td>\n",
       "      <td>0</td>\n",
       "    </tr>\n",
       "    <tr>\n",
       "      <th>259882</th>\n",
       "      <td>259882</td>\n",
       "      <td>391363584359288832</td>\n",
       "      <td>en</td>\n",
       "      <td>Here we go!  24 hour design blitz for good!  T...</td>\n",
       "      <td>0</td>\n",
       "    </tr>\n",
       "    <tr>\n",
       "      <th>259883</th>\n",
       "      <td>259883</td>\n",
       "      <td>1255657263194398720</td>\n",
       "      <td>en</td>\n",
       "      <td>@dbongino Thats just some scary shit, that the...</td>\n",
       "      <td>0</td>\n",
       "    </tr>\n",
       "    <tr>\n",
       "      <th>259886</th>\n",
       "      <td>259886</td>\n",
       "      <td>712799685321367554</td>\n",
       "      <td>en</td>\n",
       "      <td>Download this app for free get answers to comm...</td>\n",
       "      <td>0</td>\n",
       "    </tr>\n",
       "    <tr>\n",
       "      <th>259888</th>\n",
       "      <td>259888</td>\n",
       "      <td>1115369331649544192</td>\n",
       "      <td>en</td>\n",
       "      <td>British Women’s Comment On Facebook Could Mean...</td>\n",
       "      <td>0</td>\n",
       "    </tr>\n",
       "  </tbody>\n",
       "</table>\n",
       "<p>188768 rows × 5 columns</p>\n",
       "</div>"
      ],
      "text/plain": [
       "        Unnamed: 0                   id lang  \\\n",
       "0                0   821881702133862400   en   \n",
       "1                1  1244072467770949640   en   \n",
       "2                2   933749385988632576   en   \n",
       "3                3   409714328141848577   en   \n",
       "4                4  1109913014587793408   en   \n",
       "...            ...                  ...  ...   \n",
       "259880      259880   870293764274757632   en   \n",
       "259882      259882   391363584359288832   en   \n",
       "259883      259883  1255657263194398720   en   \n",
       "259886      259886   712799685321367554   en   \n",
       "259888      259888  1115369331649544192   en   \n",
       "\n",
       "                                                     text  Informativeness  \n",
       "0       @GRUBBZ_415 @AntonioBrown well one of em. At l...                0  \n",
       "1       @CNN Yup embolden the military then begin to d...                0  \n",
       "2       \"As Americans, we have many things for which t...                0  \n",
       "3       \"I find that the harder I work, the more luck ...                0  \n",
       "4       Any chance that after the #RussiaCollusionHoax...                0  \n",
       "...                                                   ...              ...  \n",
       "259880  Well... that was unexpected 🤔🤔🤔  😭😭😭 https://t...                0  \n",
       "259882  Here we go!  24 hour design blitz for good!  T...                0  \n",
       "259883  @dbongino Thats just some scary shit, that the...                0  \n",
       "259886  Download this app for free get answers to comm...                0  \n",
       "259888  British Women’s Comment On Facebook Could Mean...                0  \n",
       "\n",
       "[188768 rows x 5 columns]"
      ]
     },
     "execution_count": 37,
     "metadata": {},
     "output_type": "execute_result"
    }
   ],
   "source": [
    "shuffled"
   ]
  },
  {
   "cell_type": "code",
   "execution_count": 38,
   "metadata": {},
   "outputs": [],
   "source": [
    "# shuffled.to_csv('./tweet_text_shuffled.csv')"
   ]
  },
  {
   "cell_type": "code",
   "execution_count": 40,
   "metadata": {},
   "outputs": [
    {
     "data": {
      "text/plain": [
       "0    188754\n",
       "1        14\n",
       "Name: Informativeness, dtype: int64"
      ]
     },
     "execution_count": 40,
     "metadata": {},
     "output_type": "execute_result"
    }
   ],
   "source": [
    "shuffled.Informativeness.value_counts()"
   ]
  },
  {
   "cell_type": "code",
   "execution_count": null,
   "metadata": {},
   "outputs": [],
   "source": []
  },
  {
   "cell_type": "code",
   "execution_count": 12,
   "metadata": {},
   "outputs": [],
   "source": [
    "main_df=pd.read_csv('./karabakh_tweet_text_shuffled_500.csv')"
   ]
  },
  {
   "cell_type": "code",
   "execution_count": 13,
   "metadata": {},
   "outputs": [
    {
     "data": {
      "text/html": [
       "<div>\n",
       "<style scoped>\n",
       "    .dataframe tbody tr th:only-of-type {\n",
       "        vertical-align: middle;\n",
       "    }\n",
       "\n",
       "    .dataframe tbody tr th {\n",
       "        vertical-align: top;\n",
       "    }\n",
       "\n",
       "    .dataframe thead th {\n",
       "        text-align: right;\n",
       "    }\n",
       "</style>\n",
       "<table border=\"1\" class=\"dataframe\">\n",
       "  <thead>\n",
       "    <tr style=\"text-align: right;\">\n",
       "      <th></th>\n",
       "      <th>id</th>\n",
       "      <th>text</th>\n",
       "      <th>Informativeness</th>\n",
       "    </tr>\n",
       "  </thead>\n",
       "  <tbody>\n",
       "    <tr>\n",
       "      <th>0</th>\n",
       "      <td>1320973229423427586</td>\n",
       "      <td>Pashinyan implements genocide against #Armenia...</td>\n",
       "      <td>0</td>\n",
       "    </tr>\n",
       "    <tr>\n",
       "      <th>1</th>\n",
       "      <td>1310913600400297986</td>\n",
       "      <td>The enemy’s helicopter destruction. [Defence A...</td>\n",
       "      <td>0</td>\n",
       "    </tr>\n",
       "    <tr>\n",
       "      <th>2</th>\n",
       "      <td>1322982119526846464</td>\n",
       "      <td>Right now #Azerbaijan is burning down forests ...</td>\n",
       "      <td>0</td>\n",
       "    </tr>\n",
       "    <tr>\n",
       "      <th>3</th>\n",
       "      <td>1318599799537618945</td>\n",
       "      <td>@KhalilovEtibar @NikolPashinyan Only Armenians...</td>\n",
       "      <td>0</td>\n",
       "    </tr>\n",
       "    <tr>\n",
       "      <th>4</th>\n",
       "      <td>1310895599718461441</td>\n",
       "      <td>@SadhguruJV 🇦🇲 Facing serious problems in #Art...</td>\n",
       "      <td>1</td>\n",
       "    </tr>\n",
       "  </tbody>\n",
       "</table>\n",
       "</div>"
      ],
      "text/plain": [
       "                    id                                               text  \\\n",
       "0  1320973229423427586  Pashinyan implements genocide against #Armenia...   \n",
       "1  1310913600400297986  The enemy’s helicopter destruction. [Defence A...   \n",
       "2  1322982119526846464  Right now #Azerbaijan is burning down forests ...   \n",
       "3  1318599799537618945  @KhalilovEtibar @NikolPashinyan Only Armenians...   \n",
       "4  1310895599718461441  @SadhguruJV 🇦🇲 Facing serious problems in #Art...   \n",
       "\n",
       "   Informativeness  \n",
       "0                0  \n",
       "1                0  \n",
       "2                0  \n",
       "3                0  \n",
       "4                1  "
      ]
     },
     "execution_count": 13,
     "metadata": {},
     "output_type": "execute_result"
    }
   ],
   "source": [
    "main_df.head()"
   ]
  },
  {
   "cell_type": "code",
   "execution_count": 14,
   "metadata": {},
   "outputs": [
    {
     "data": {
      "text/plain": [
       "str"
      ]
     },
     "execution_count": 14,
     "metadata": {},
     "output_type": "execute_result"
    }
   ],
   "source": [
    "type(main_df.loc[0].text)"
   ]
  },
  {
   "cell_type": "code",
   "execution_count": 15,
   "metadata": {},
   "outputs": [],
   "source": [
    "main_df=main_df[[\"id\",\"Informativeness\",\"text\"]]"
   ]
  },
  {
   "cell_type": "code",
   "execution_count": 16,
   "metadata": {},
   "outputs": [],
   "source": [
    "main_df=main_df[:500]"
   ]
  },
  {
   "cell_type": "code",
   "execution_count": 17,
   "metadata": {},
   "outputs": [],
   "source": [
    "### Keep only english tweets\n",
    "\n",
    "def is_english(text):\n",
    "\n",
    "    try:\n",
    "          language = detect(text)\n",
    "    except:\n",
    "          #These will be removed\n",
    "          print(\"This row throws and error:\", text)\n",
    "          return False;\n",
    "    if(language=='en'):\n",
    "      return True;\n",
    "    else:\n",
    "      return False;\n",
    "\n",
    "main_df=main_df[main_df.apply(lambda x: is_english(x['text']), axis=1)]"
   ]
  },
  {
   "cell_type": "code",
   "execution_count": 18,
   "metadata": {},
   "outputs": [],
   "source": [
    "main_df_annotated = main_df[:500]"
   ]
  },
  {
   "cell_type": "code",
   "execution_count": 9,
   "metadata": {},
   "outputs": [],
   "source": [
    "main_df_annotated.to_pickle(\"./../dataset7Cleaned.pkl\")"
   ]
  },
  {
   "cell_type": "code",
   "execution_count": null,
   "metadata": {},
   "outputs": [],
   "source": []
  },
  {
   "cell_type": "code",
   "execution_count": null,
   "metadata": {},
   "outputs": [],
   "source": []
  },
  {
   "cell_type": "code",
   "execution_count": 3,
   "metadata": {},
   "outputs": [],
   "source": [
    "main_df=pd.read_pickle(\"./../dataset7Cleaned.pkl\")"
   ]
  },
  {
   "cell_type": "code",
   "execution_count": 19,
   "metadata": {},
   "outputs": [
    {
     "name": "stdout",
     "output_type": "stream",
     "text": [
      "[(1, -3)]\n"
     ]
    }
   ],
   "source": [
    "from sentistrength import PySentiStr\n",
    "senti = PySentiStr()\n",
    "senti.setSentiStrengthPath('/Users/gerald/Workspaces/MA3/Semester Project/sula_master/SentiStrenght_files/SentiStrength.jar') # Note: Provide absolute path instead of relative path\n",
    "senti.setSentiStrengthLanguageFolderPath('/Users/gerald/Workspaces/MA3/Semester Project/sula_master/SentiStrenght_files/SentStrength_Data_Sept2011/')\n",
    "result = senti.getSentiment('stupid idiot', score='dual')\n",
    "print(result)\n",
    "\n",
    "def get_sentiment_score(x):\n",
    "    result = senti.getSentiment(x[\"text\"], score='dual')[0]\n",
    "    x[\"positive_score\"]=result[0]\n",
    "    x[\"negative_score\"]=result[1]\n",
    "    x[\"emotional_devergence_score\"]=(result[0]-result[1])/10.0\n",
    "    \n",
    "    return x"
   ]
  },
  {
   "cell_type": "code",
   "execution_count": 20,
   "metadata": {},
   "outputs": [
    {
     "name": "stderr",
     "output_type": "stream",
     "text": [
      "/opt/anaconda3/lib/python3.7/site-packages/tqdm/std.py:701: FutureWarning: The Panel class is removed from pandas. Accessing it from the top-level namespace will also be removed in the next version\n",
      "  from pandas import Panel\n",
      "100%|██████████| 489/489 [03:21<00:00,  2.43it/s]\n"
     ]
    }
   ],
   "source": [
    "from tqdm import tqdm\n",
    "tqdm.pandas()\n",
    "main_df = main_df.progress_apply(get_sentiment_score, axis=1)\n",
    "main_df.to_pickle(\"./../dataset7Cleaned.pkl\")"
   ]
  },
  {
   "cell_type": "code",
   "execution_count": null,
   "metadata": {},
   "outputs": [],
   "source": [
    "main_df.head()"
   ]
  }
 ],
 "metadata": {
  "kernelspec": {
   "display_name": "Python 3",
   "language": "python",
   "name": "python3"
  },
  "language_info": {
   "codemirror_mode": {
    "name": "ipython",
    "version": 3
   },
   "file_extension": ".py",
   "mimetype": "text/x-python",
   "name": "python",
   "nbconvert_exporter": "python",
   "pygments_lexer": "ipython3",
   "version": "3.7.6"
  }
 },
 "nbformat": 4,
 "nbformat_minor": 4
}
