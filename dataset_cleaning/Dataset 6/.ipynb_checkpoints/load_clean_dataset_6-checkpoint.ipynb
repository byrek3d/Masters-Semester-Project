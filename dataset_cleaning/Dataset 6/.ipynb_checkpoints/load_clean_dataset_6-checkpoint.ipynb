{
 "cells": [
  {
   "cell_type": "code",
   "execution_count": 1,
   "metadata": {},
   "outputs": [],
   "source": [
    "import pandas as pd\n",
    "from langdetect import detect\n",
    "import glob\n"
   ]
  },
  {
   "cell_type": "code",
   "execution_count": 2,
   "metadata": {},
   "outputs": [],
   "source": [
    "all_files = glob.glob(\"./original_data_paid_workers/*.tsv\")\n",
    "\n",
    "li = []\n",
    "\n",
    "for filename in all_files:\n",
    "\n",
    "    df = pd.read_table(filename, index_col=None, header=0, sep='\\t')\n",
    "    li.append(df)\n",
    "\n",
    "frame = pd.concat(li, axis=0, ignore_index=True)"
   ]
  },
  {
   "cell_type": "code",
   "execution_count": 3,
   "metadata": {},
   "outputs": [
    {
     "data": {
      "text/html": [
       "<div>\n",
       "<style scoped>\n",
       "    .dataframe tbody tr th:only-of-type {\n",
       "        vertical-align: middle;\n",
       "    }\n",
       "\n",
       "    .dataframe tbody tr th {\n",
       "        vertical-align: top;\n",
       "    }\n",
       "\n",
       "    .dataframe thead th {\n",
       "        text-align: right;\n",
       "    }\n",
       "</style>\n",
       "<table border=\"1\" class=\"dataframe\">\n",
       "  <thead>\n",
       "    <tr style=\"text-align: right;\">\n",
       "      <th></th>\n",
       "      <th>tweet_id</th>\n",
       "      <th>tweet_text</th>\n",
       "      <th>label</th>\n",
       "    </tr>\n",
       "  </thead>\n",
       "  <tbody>\n",
       "    <tr>\n",
       "      <th>0</th>\n",
       "      <td>'511962276383825920'</td>\n",
       "      <td>Prayers for Cabo: Hurricane Odile Roars Throug...</td>\n",
       "      <td>sympathy_and_emotional_support</td>\n",
       "    </tr>\n",
       "    <tr>\n",
       "      <th>1</th>\n",
       "      <td>'511733855871438848'</td>\n",
       "      <td>Sammy Hagar's Home Damaged in Hurricane: Sammy...</td>\n",
       "      <td>infrastructure_and_utilities_damage</td>\n",
       "    </tr>\n",
       "    <tr>\n",
       "      <th>2</th>\n",
       "      <td>'511493520952393728'</td>\n",
       "      <td>Residents, Tourists Sent to Shelters as Hurric...</td>\n",
       "      <td>displaced_people_and_evacuations</td>\n",
       "    </tr>\n",
       "    <tr>\n",
       "      <th>3</th>\n",
       "      <td>'511547268701646848'</td>\n",
       "      <td>Our thoughts go out to all of our friends in L...</td>\n",
       "      <td>sympathy_and_emotional_support</td>\n",
       "    </tr>\n",
       "    <tr>\n",
       "      <th>4</th>\n",
       "      <td>'511710044044677121'</td>\n",
       "      <td>Does anyone have information on emergency serv...</td>\n",
       "      <td>other_useful_information</td>\n",
       "    </tr>\n",
       "    <tr>\n",
       "      <th>...</th>\n",
       "      <td>...</td>\n",
       "      <td>...</td>\n",
       "      <td>...</td>\n",
       "    </tr>\n",
       "    <tr>\n",
       "      <th>22094</th>\n",
       "      <td>'498237715629219841'</td>\n",
       "      <td>You Asked Questions About Ebola — And We Have ...</td>\n",
       "      <td>other_useful_information</td>\n",
       "    </tr>\n",
       "    <tr>\n",
       "      <th>22095</th>\n",
       "      <td>'522576362511802369'</td>\n",
       "      <td>RT @gretawire: This is @foxnewsalert: Nurse #2...</td>\n",
       "      <td>affected_people</td>\n",
       "    </tr>\n",
       "    <tr>\n",
       "      <th>22096</th>\n",
       "      <td>'523750004637573120'</td>\n",
       "      <td>We know people are contracting the disease, an...</td>\n",
       "      <td>other_useful_information</td>\n",
       "    </tr>\n",
       "    <tr>\n",
       "      <th>22097</th>\n",
       "      <td>'526607457930330112'</td>\n",
       "      <td>Thinking about telling leadership to make indi...</td>\n",
       "      <td>not_related_or_irrelevant</td>\n",
       "    </tr>\n",
       "    <tr>\n",
       "      <th>22098</th>\n",
       "      <td>'526426738931138562'</td>\n",
       "      <td>RT @UNICEF: #Ebola symptoms. Early treatment m...</td>\n",
       "      <td>treatment</td>\n",
       "    </tr>\n",
       "  </tbody>\n",
       "</table>\n",
       "<p>22099 rows × 3 columns</p>\n",
       "</div>"
      ],
      "text/plain": [
       "                   tweet_id  \\\n",
       "0      '511962276383825920'   \n",
       "1      '511733855871438848'   \n",
       "2      '511493520952393728'   \n",
       "3      '511547268701646848'   \n",
       "4      '511710044044677121'   \n",
       "...                     ...   \n",
       "22094  '498237715629219841'   \n",
       "22095  '522576362511802369'   \n",
       "22096  '523750004637573120'   \n",
       "22097  '526607457930330112'   \n",
       "22098  '526426738931138562'   \n",
       "\n",
       "                                              tweet_text  \\\n",
       "0      Prayers for Cabo: Hurricane Odile Roars Throug...   \n",
       "1      Sammy Hagar's Home Damaged in Hurricane: Sammy...   \n",
       "2      Residents, Tourists Sent to Shelters as Hurric...   \n",
       "3      Our thoughts go out to all of our friends in L...   \n",
       "4      Does anyone have information on emergency serv...   \n",
       "...                                                  ...   \n",
       "22094  You Asked Questions About Ebola — And We Have ...   \n",
       "22095  RT @gretawire: This is @foxnewsalert: Nurse #2...   \n",
       "22096  We know people are contracting the disease, an...   \n",
       "22097  Thinking about telling leadership to make indi...   \n",
       "22098  RT @UNICEF: #Ebola symptoms. Early treatment m...   \n",
       "\n",
       "                                     label  \n",
       "0           sympathy_and_emotional_support  \n",
       "1      infrastructure_and_utilities_damage  \n",
       "2         displaced_people_and_evacuations  \n",
       "3           sympathy_and_emotional_support  \n",
       "4                 other_useful_information  \n",
       "...                                    ...  \n",
       "22094             other_useful_information  \n",
       "22095                      affected_people  \n",
       "22096             other_useful_information  \n",
       "22097            not_related_or_irrelevant  \n",
       "22098                            treatment  \n",
       "\n",
       "[22099 rows x 3 columns]"
      ]
     },
     "execution_count": 3,
     "metadata": {},
     "output_type": "execute_result"
    }
   ],
   "source": [
    "frame"
   ]
  },
  {
   "cell_type": "code",
   "execution_count": 4,
   "metadata": {},
   "outputs": [],
   "source": [
    "# frame= frame.drop(frame.columns.difference([\"tweet_text\",\"label\"]), axis=1)"
   ]
  },
  {
   "cell_type": "code",
   "execution_count": 5,
   "metadata": {},
   "outputs": [],
   "source": [
    "frame=frame[[\"tweet_id\",\"label\",\"tweet_text\"]]\n",
    "frame.columns=[\"id\",\"Informativeness\",\"text\"]"
   ]
  },
  {
   "cell_type": "code",
   "execution_count": 6,
   "metadata": {},
   "outputs": [
    {
     "data": {
      "text/plain": [
       "22099"
      ]
     },
     "execution_count": 6,
     "metadata": {},
     "output_type": "execute_result"
    }
   ],
   "source": [
    "len(frame)"
   ]
  },
  {
   "cell_type": "code",
   "execution_count": 7,
   "metadata": {},
   "outputs": [],
   "source": [
    "### Keep only english tweets\n",
    "\n",
    "def is_english(text):\n",
    "\n",
    "    try:\n",
    "          language = detect(text)\n",
    "    except:\n",
    "          #These will be removed\n",
    "          print(\"This row throws and error:\", text)\n",
    "          return False;\n",
    "    if(language=='en'):\n",
    "      return True;\n",
    "    else:\n",
    "      return False;\n",
    "\n",
    "frame=frame[frame.apply(lambda x: is_english(x['text']), axis=1)]"
   ]
  },
  {
   "cell_type": "code",
   "execution_count": 8,
   "metadata": {},
   "outputs": [
    {
     "data": {
      "text/plain": [
       "20101"
      ]
     },
     "execution_count": 8,
     "metadata": {},
     "output_type": "execute_result"
    }
   ],
   "source": [
    "len(frame)"
   ]
  },
  {
   "cell_type": "code",
   "execution_count": 9,
   "metadata": {},
   "outputs": [],
   "source": [
    "frame['Informativeness']=frame['Informativeness'].map(lambda x: 0 if(x=='not_related_or_irrelevant') else 1)"
   ]
  },
  {
   "cell_type": "code",
   "execution_count": 10,
   "metadata": {},
   "outputs": [
    {
     "data": {
      "text/plain": [
       "1    17776\n",
       "0     2325\n",
       "Name: Informativeness, dtype: int64"
      ]
     },
     "execution_count": 10,
     "metadata": {},
     "output_type": "execute_result"
    }
   ],
   "source": [
    "frame.Informativeness.value_counts()"
   ]
  },
  {
   "cell_type": "code",
   "execution_count": 14,
   "metadata": {},
   "outputs": [],
   "source": [
    "frame[\"id\"]=frame[\"id\"].apply(lambda x: int(x[1:-1]))"
   ]
  },
  {
   "cell_type": "code",
   "execution_count": 15,
   "metadata": {},
   "outputs": [],
   "source": [
    "frame.to_pickle(\"./../dataset6Cleaned.pkl\")"
   ]
  },
  {
   "cell_type": "code",
   "execution_count": null,
   "metadata": {},
   "outputs": [],
   "source": []
  }
 ],
 "metadata": {
  "kernelspec": {
   "display_name": "Python 3",
   "language": "python",
   "name": "python3"
  },
  "language_info": {
   "codemirror_mode": {
    "name": "ipython",
    "version": 3
   },
   "file_extension": ".py",
   "mimetype": "text/x-python",
   "name": "python",
   "nbconvert_exporter": "python",
   "pygments_lexer": "ipython3",
   "version": "3.7.6"
  }
 },
 "nbformat": 4,
 "nbformat_minor": 4
}
