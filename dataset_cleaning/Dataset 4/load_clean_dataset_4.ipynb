{
 "cells": [
  {
   "cell_type": "code",
   "execution_count": 1,
   "metadata": {},
   "outputs": [],
   "source": [
    "import pandas as pd\n",
    "from langdetect import detect\n",
    "import glob\n"
   ]
  },
  {
   "cell_type": "code",
   "execution_count": 7,
   "metadata": {},
   "outputs": [],
   "source": [
    "part1= pd.read_table(\"./train.tsv\")\n",
    "part2= pd.read_table(\"./valid.tsv\",header=None)\n",
    "part2.columns=part1.columns"
   ]
  },
  {
   "cell_type": "code",
   "execution_count": 8,
   "metadata": {},
   "outputs": [
    {
     "data": {
      "text/html": [
       "<div>\n",
       "<style scoped>\n",
       "    .dataframe tbody tr th:only-of-type {\n",
       "        vertical-align: middle;\n",
       "    }\n",
       "\n",
       "    .dataframe tbody tr th {\n",
       "        vertical-align: top;\n",
       "    }\n",
       "\n",
       "    .dataframe thead th {\n",
       "        text-align: right;\n",
       "    }\n",
       "</style>\n",
       "<table border=\"1\" class=\"dataframe\">\n",
       "  <thead>\n",
       "    <tr style=\"text-align: right;\">\n",
       "      <th></th>\n",
       "      <th>Id</th>\n",
       "      <th>Text</th>\n",
       "      <th>Label</th>\n",
       "    </tr>\n",
       "  </thead>\n",
       "  <tbody>\n",
       "    <tr>\n",
       "      <th>0</th>\n",
       "      <td>1241490299215634434</td>\n",
       "      <td>Official death toll from #covid19 in the Unite...</td>\n",
       "      <td>INFORMATIVE</td>\n",
       "    </tr>\n",
       "    <tr>\n",
       "      <th>1</th>\n",
       "      <td>1245916400981381130</td>\n",
       "      <td>Dearest Mr. President @USER 1,169 coronavirus ...</td>\n",
       "      <td>INFORMATIVE</td>\n",
       "    </tr>\n",
       "    <tr>\n",
       "      <th>2</th>\n",
       "      <td>1241132432402849793</td>\n",
       "      <td>Latest Updates March 20 ⚠️5274 new cases and 3...</td>\n",
       "      <td>INFORMATIVE</td>\n",
       "    </tr>\n",
       "    <tr>\n",
       "      <th>3</th>\n",
       "      <td>1236107253666607104</td>\n",
       "      <td>真把公主不当干部 BREAKING: 21 people on Grand Princess...</td>\n",
       "      <td>INFORMATIVE</td>\n",
       "    </tr>\n",
       "    <tr>\n",
       "      <th>4</th>\n",
       "      <td>1239673817552879619</td>\n",
       "      <td>OKLAHOMA CITY — The State Department of Educat...</td>\n",
       "      <td>UNINFORMATIVE</td>\n",
       "    </tr>\n",
       "  </tbody>\n",
       "</table>\n",
       "</div>"
      ],
      "text/plain": [
       "                    Id                                               Text  \\\n",
       "0  1241490299215634434  Official death toll from #covid19 in the Unite...   \n",
       "1  1245916400981381130  Dearest Mr. President @USER 1,169 coronavirus ...   \n",
       "2  1241132432402849793  Latest Updates March 20 ⚠️5274 new cases and 3...   \n",
       "3  1236107253666607104  真把公主不当干部 BREAKING: 21 people on Grand Princess...   \n",
       "4  1239673817552879619  OKLAHOMA CITY — The State Department of Educat...   \n",
       "\n",
       "           Label  \n",
       "0    INFORMATIVE  \n",
       "1    INFORMATIVE  \n",
       "2    INFORMATIVE  \n",
       "3    INFORMATIVE  \n",
       "4  UNINFORMATIVE  "
      ]
     },
     "execution_count": 8,
     "metadata": {},
     "output_type": "execute_result"
    }
   ],
   "source": [
    "part1.head()"
   ]
  },
  {
   "cell_type": "code",
   "execution_count": 9,
   "metadata": {},
   "outputs": [
    {
     "data": {
      "text/html": [
       "<div>\n",
       "<style scoped>\n",
       "    .dataframe tbody tr th:only-of-type {\n",
       "        vertical-align: middle;\n",
       "    }\n",
       "\n",
       "    .dataframe tbody tr th {\n",
       "        vertical-align: top;\n",
       "    }\n",
       "\n",
       "    .dataframe thead th {\n",
       "        text-align: right;\n",
       "    }\n",
       "</style>\n",
       "<table border=\"1\" class=\"dataframe\">\n",
       "  <thead>\n",
       "    <tr style=\"text-align: right;\">\n",
       "      <th></th>\n",
       "      <th>Id</th>\n",
       "      <th>Text</th>\n",
       "      <th>Label</th>\n",
       "    </tr>\n",
       "  </thead>\n",
       "  <tbody>\n",
       "    <tr>\n",
       "      <th>0</th>\n",
       "      <td>1241728922192142336</td>\n",
       "      <td>For those saying Pakistan isn’t Italy; After 3...</td>\n",
       "      <td>UNINFORMATIVE</td>\n",
       "    </tr>\n",
       "    <tr>\n",
       "      <th>1</th>\n",
       "      <td>1235713405992030209</td>\n",
       "      <td>Second case DR 🇩🇴 The Canadian woman has not b...</td>\n",
       "      <td>INFORMATIVE</td>\n",
       "    </tr>\n",
       "    <tr>\n",
       "      <th>2</th>\n",
       "      <td>1245941302367305728</td>\n",
       "      <td>Kill Chain: the cyber war on America's electio...</td>\n",
       "      <td>UNINFORMATIVE</td>\n",
       "    </tr>\n",
       "    <tr>\n",
       "      <th>3</th>\n",
       "      <td>1245913002840391681</td>\n",
       "      <td>Town hosts FIRST #Virtual #TownCouncil meeting...</td>\n",
       "      <td>UNINFORMATIVE</td>\n",
       "    </tr>\n",
       "    <tr>\n",
       "      <th>4</th>\n",
       "      <td>1240543259299987457</td>\n",
       "      <td>Report suggested that the actual number of und...</td>\n",
       "      <td>UNINFORMATIVE</td>\n",
       "    </tr>\n",
       "  </tbody>\n",
       "</table>\n",
       "</div>"
      ],
      "text/plain": [
       "                    Id                                               Text  \\\n",
       "0  1241728922192142336  For those saying Pakistan isn’t Italy; After 3...   \n",
       "1  1235713405992030209  Second case DR 🇩🇴 The Canadian woman has not b...   \n",
       "2  1245941302367305728  Kill Chain: the cyber war on America's electio...   \n",
       "3  1245913002840391681  Town hosts FIRST #Virtual #TownCouncil meeting...   \n",
       "4  1240543259299987457  Report suggested that the actual number of und...   \n",
       "\n",
       "           Label  \n",
       "0  UNINFORMATIVE  \n",
       "1    INFORMATIVE  \n",
       "2  UNINFORMATIVE  \n",
       "3  UNINFORMATIVE  \n",
       "4  UNINFORMATIVE  "
      ]
     },
     "execution_count": 9,
     "metadata": {},
     "output_type": "execute_result"
    }
   ],
   "source": [
    "part2.head()"
   ]
  },
  {
   "cell_type": "code",
   "execution_count": 10,
   "metadata": {},
   "outputs": [],
   "source": [
    "main_df=pd.concat([part1,part2])"
   ]
  },
  {
   "cell_type": "code",
   "execution_count": 11,
   "metadata": {},
   "outputs": [
    {
     "data": {
      "text/plain": [
       "7929"
      ]
     },
     "execution_count": 11,
     "metadata": {},
     "output_type": "execute_result"
    }
   ],
   "source": [
    "# main_df=main_df.drop(columns=[\"Id\"])\n",
    "main_df=main_df.drop_duplicates()\n",
    "len(main_df)"
   ]
  },
  {
   "cell_type": "code",
   "execution_count": 12,
   "metadata": {},
   "outputs": [
    {
     "data": {
      "text/html": [
       "<div>\n",
       "<style scoped>\n",
       "    .dataframe tbody tr th:only-of-type {\n",
       "        vertical-align: middle;\n",
       "    }\n",
       "\n",
       "    .dataframe tbody tr th {\n",
       "        vertical-align: top;\n",
       "    }\n",
       "\n",
       "    .dataframe thead th {\n",
       "        text-align: right;\n",
       "    }\n",
       "</style>\n",
       "<table border=\"1\" class=\"dataframe\">\n",
       "  <thead>\n",
       "    <tr style=\"text-align: right;\">\n",
       "      <th></th>\n",
       "      <th>Id</th>\n",
       "      <th>Text</th>\n",
       "      <th>Label</th>\n",
       "    </tr>\n",
       "  </thead>\n",
       "  <tbody>\n",
       "    <tr>\n",
       "      <th>0</th>\n",
       "      <td>1241490299215634434</td>\n",
       "      <td>Official death toll from #covid19 in the Unite...</td>\n",
       "      <td>INFORMATIVE</td>\n",
       "    </tr>\n",
       "    <tr>\n",
       "      <th>1</th>\n",
       "      <td>1245916400981381130</td>\n",
       "      <td>Dearest Mr. President @USER 1,169 coronavirus ...</td>\n",
       "      <td>INFORMATIVE</td>\n",
       "    </tr>\n",
       "    <tr>\n",
       "      <th>2</th>\n",
       "      <td>1241132432402849793</td>\n",
       "      <td>Latest Updates March 20 ⚠️5274 new cases and 3...</td>\n",
       "      <td>INFORMATIVE</td>\n",
       "    </tr>\n",
       "    <tr>\n",
       "      <th>3</th>\n",
       "      <td>1236107253666607104</td>\n",
       "      <td>真把公主不当干部 BREAKING: 21 people on Grand Princess...</td>\n",
       "      <td>INFORMATIVE</td>\n",
       "    </tr>\n",
       "    <tr>\n",
       "      <th>4</th>\n",
       "      <td>1239673817552879619</td>\n",
       "      <td>OKLAHOMA CITY — The State Department of Educat...</td>\n",
       "      <td>UNINFORMATIVE</td>\n",
       "    </tr>\n",
       "    <tr>\n",
       "      <th>...</th>\n",
       "      <td>...</td>\n",
       "      <td>...</td>\n",
       "      <td>...</td>\n",
       "    </tr>\n",
       "    <tr>\n",
       "      <th>995</th>\n",
       "      <td>1245955124222099456</td>\n",
       "      <td>Coronavirus took hold in UK earlier than thoug...</td>\n",
       "      <td>UNINFORMATIVE</td>\n",
       "    </tr>\n",
       "    <tr>\n",
       "      <th>996</th>\n",
       "      <td>1241768801210904576</td>\n",
       "      <td>I talked with a man who is Rowan County’s seco...</td>\n",
       "      <td>INFORMATIVE</td>\n",
       "    </tr>\n",
       "    <tr>\n",
       "      <th>997</th>\n",
       "      <td>1241172153040502795</td>\n",
       "      <td>Governor Wolf delaying enforcement of non-life...</td>\n",
       "      <td>UNINFORMATIVE</td>\n",
       "    </tr>\n",
       "    <tr>\n",
       "      <th>998</th>\n",
       "      <td>1239740620194766848</td>\n",
       "      <td>The Sheriff's Department has reduced the jail ...</td>\n",
       "      <td>UNINFORMATIVE</td>\n",
       "    </tr>\n",
       "    <tr>\n",
       "      <th>999</th>\n",
       "      <td>1236131066596986882</td>\n",
       "      <td>BREAKING NEWS: 2 possible cases of #COVIDー19 i...</td>\n",
       "      <td>INFORMATIVE</td>\n",
       "    </tr>\n",
       "  </tbody>\n",
       "</table>\n",
       "<p>7929 rows × 3 columns</p>\n",
       "</div>"
      ],
      "text/plain": [
       "                      Id                                               Text  \\\n",
       "0    1241490299215634434  Official death toll from #covid19 in the Unite...   \n",
       "1    1245916400981381130  Dearest Mr. President @USER 1,169 coronavirus ...   \n",
       "2    1241132432402849793  Latest Updates March 20 ⚠️5274 new cases and 3...   \n",
       "3    1236107253666607104  真把公主不当干部 BREAKING: 21 people on Grand Princess...   \n",
       "4    1239673817552879619  OKLAHOMA CITY — The State Department of Educat...   \n",
       "..                   ...                                                ...   \n",
       "995  1245955124222099456  Coronavirus took hold in UK earlier than thoug...   \n",
       "996  1241768801210904576  I talked with a man who is Rowan County’s seco...   \n",
       "997  1241172153040502795  Governor Wolf delaying enforcement of non-life...   \n",
       "998  1239740620194766848  The Sheriff's Department has reduced the jail ...   \n",
       "999  1236131066596986882  BREAKING NEWS: 2 possible cases of #COVIDー19 i...   \n",
       "\n",
       "             Label  \n",
       "0      INFORMATIVE  \n",
       "1      INFORMATIVE  \n",
       "2      INFORMATIVE  \n",
       "3      INFORMATIVE  \n",
       "4    UNINFORMATIVE  \n",
       "..             ...  \n",
       "995  UNINFORMATIVE  \n",
       "996    INFORMATIVE  \n",
       "997  UNINFORMATIVE  \n",
       "998  UNINFORMATIVE  \n",
       "999    INFORMATIVE  \n",
       "\n",
       "[7929 rows x 3 columns]"
      ]
     },
     "execution_count": 12,
     "metadata": {},
     "output_type": "execute_result"
    }
   ],
   "source": [
    "main_df"
   ]
  },
  {
   "cell_type": "code",
   "execution_count": 13,
   "metadata": {},
   "outputs": [
    {
     "data": {
      "text/plain": [
       "7929"
      ]
     },
     "execution_count": 13,
     "metadata": {},
     "output_type": "execute_result"
    }
   ],
   "source": [
    "### Keep only english tweets\n",
    "\n",
    "def is_english(text):\n",
    "\n",
    "    try:\n",
    "          language = detect(text)\n",
    "    except:\n",
    "          #These will be removed\n",
    "          print(\"This row throws and error:\", text)\n",
    "          return False;\n",
    "    if(language=='en'):\n",
    "      return True;\n",
    "    else:\n",
    "      return False;\n",
    "\n",
    "main_df=main_df[main_df.apply(lambda x: is_english(x['Text']), axis=1)]\n",
    "len(main_df)"
   ]
  },
  {
   "cell_type": "code",
   "execution_count": 14,
   "metadata": {},
   "outputs": [],
   "source": [
    "main_df=main_df[[\"Id\", \"Label\",\"Text\"]]"
   ]
  },
  {
   "cell_type": "code",
   "execution_count": 15,
   "metadata": {},
   "outputs": [
    {
     "data": {
      "text/html": [
       "<div>\n",
       "<style scoped>\n",
       "    .dataframe tbody tr th:only-of-type {\n",
       "        vertical-align: middle;\n",
       "    }\n",
       "\n",
       "    .dataframe tbody tr th {\n",
       "        vertical-align: top;\n",
       "    }\n",
       "\n",
       "    .dataframe thead th {\n",
       "        text-align: right;\n",
       "    }\n",
       "</style>\n",
       "<table border=\"1\" class=\"dataframe\">\n",
       "  <thead>\n",
       "    <tr style=\"text-align: right;\">\n",
       "      <th></th>\n",
       "      <th>Id</th>\n",
       "      <th>Label</th>\n",
       "      <th>Text</th>\n",
       "    </tr>\n",
       "  </thead>\n",
       "  <tbody>\n",
       "    <tr>\n",
       "      <th>0</th>\n",
       "      <td>1241490299215634434</td>\n",
       "      <td>INFORMATIVE</td>\n",
       "      <td>Official death toll from #covid19 in the Unite...</td>\n",
       "    </tr>\n",
       "    <tr>\n",
       "      <th>1</th>\n",
       "      <td>1245916400981381130</td>\n",
       "      <td>INFORMATIVE</td>\n",
       "      <td>Dearest Mr. President @USER 1,169 coronavirus ...</td>\n",
       "    </tr>\n",
       "    <tr>\n",
       "      <th>2</th>\n",
       "      <td>1241132432402849793</td>\n",
       "      <td>INFORMATIVE</td>\n",
       "      <td>Latest Updates March 20 ⚠️5274 new cases and 3...</td>\n",
       "    </tr>\n",
       "    <tr>\n",
       "      <th>3</th>\n",
       "      <td>1236107253666607104</td>\n",
       "      <td>INFORMATIVE</td>\n",
       "      <td>真把公主不当干部 BREAKING: 21 people on Grand Princess...</td>\n",
       "    </tr>\n",
       "    <tr>\n",
       "      <th>4</th>\n",
       "      <td>1239673817552879619</td>\n",
       "      <td>UNINFORMATIVE</td>\n",
       "      <td>OKLAHOMA CITY — The State Department of Educat...</td>\n",
       "    </tr>\n",
       "    <tr>\n",
       "      <th>...</th>\n",
       "      <td>...</td>\n",
       "      <td>...</td>\n",
       "      <td>...</td>\n",
       "    </tr>\n",
       "    <tr>\n",
       "      <th>995</th>\n",
       "      <td>1245955124222099456</td>\n",
       "      <td>UNINFORMATIVE</td>\n",
       "      <td>Coronavirus took hold in UK earlier than thoug...</td>\n",
       "    </tr>\n",
       "    <tr>\n",
       "      <th>996</th>\n",
       "      <td>1241768801210904576</td>\n",
       "      <td>INFORMATIVE</td>\n",
       "      <td>I talked with a man who is Rowan County’s seco...</td>\n",
       "    </tr>\n",
       "    <tr>\n",
       "      <th>997</th>\n",
       "      <td>1241172153040502795</td>\n",
       "      <td>UNINFORMATIVE</td>\n",
       "      <td>Governor Wolf delaying enforcement of non-life...</td>\n",
       "    </tr>\n",
       "    <tr>\n",
       "      <th>998</th>\n",
       "      <td>1239740620194766848</td>\n",
       "      <td>UNINFORMATIVE</td>\n",
       "      <td>The Sheriff's Department has reduced the jail ...</td>\n",
       "    </tr>\n",
       "    <tr>\n",
       "      <th>999</th>\n",
       "      <td>1236131066596986882</td>\n",
       "      <td>INFORMATIVE</td>\n",
       "      <td>BREAKING NEWS: 2 possible cases of #COVIDー19 i...</td>\n",
       "    </tr>\n",
       "  </tbody>\n",
       "</table>\n",
       "<p>7929 rows × 3 columns</p>\n",
       "</div>"
      ],
      "text/plain": [
       "                      Id          Label  \\\n",
       "0    1241490299215634434    INFORMATIVE   \n",
       "1    1245916400981381130    INFORMATIVE   \n",
       "2    1241132432402849793    INFORMATIVE   \n",
       "3    1236107253666607104    INFORMATIVE   \n",
       "4    1239673817552879619  UNINFORMATIVE   \n",
       "..                   ...            ...   \n",
       "995  1245955124222099456  UNINFORMATIVE   \n",
       "996  1241768801210904576    INFORMATIVE   \n",
       "997  1241172153040502795  UNINFORMATIVE   \n",
       "998  1239740620194766848  UNINFORMATIVE   \n",
       "999  1236131066596986882    INFORMATIVE   \n",
       "\n",
       "                                                  Text  \n",
       "0    Official death toll from #covid19 in the Unite...  \n",
       "1    Dearest Mr. President @USER 1,169 coronavirus ...  \n",
       "2    Latest Updates March 20 ⚠️5274 new cases and 3...  \n",
       "3    真把公主不当干部 BREAKING: 21 people on Grand Princess...  \n",
       "4    OKLAHOMA CITY — The State Department of Educat...  \n",
       "..                                                 ...  \n",
       "995  Coronavirus took hold in UK earlier than thoug...  \n",
       "996  I talked with a man who is Rowan County’s seco...  \n",
       "997  Governor Wolf delaying enforcement of non-life...  \n",
       "998  The Sheriff's Department has reduced the jail ...  \n",
       "999  BREAKING NEWS: 2 possible cases of #COVIDー19 i...  \n",
       "\n",
       "[7929 rows x 3 columns]"
      ]
     },
     "execution_count": 15,
     "metadata": {},
     "output_type": "execute_result"
    }
   ],
   "source": [
    "main_df"
   ]
  },
  {
   "cell_type": "code",
   "execution_count": 16,
   "metadata": {},
   "outputs": [],
   "source": [
    "main_df.columns=[\"id\", \"Informativeness\",\"text\"]"
   ]
  },
  {
   "cell_type": "code",
   "execution_count": 17,
   "metadata": {},
   "outputs": [],
   "source": [
    "main_df['Informativeness']=main_df['Informativeness'].map(lambda x: 1 if(x=='INFORMATIVE') else 0)"
   ]
  },
  {
   "cell_type": "code",
   "execution_count": 18,
   "metadata": {},
   "outputs": [
    {
     "data": {
      "text/plain": [
       "0    4187\n",
       "1    3742\n",
       "Name: Informativeness, dtype: int64"
      ]
     },
     "execution_count": 18,
     "metadata": {},
     "output_type": "execute_result"
    }
   ],
   "source": [
    "main_df.Informativeness.value_counts()"
   ]
  },
  {
   "cell_type": "code",
   "execution_count": 19,
   "metadata": {},
   "outputs": [],
   "source": [
    "main_df.to_pickle(\"./../dataset4Cleaned.pkl\")"
   ]
  },
  {
   "cell_type": "code",
   "execution_count": null,
   "metadata": {},
   "outputs": [],
   "source": []
  },
  {
   "cell_type": "code",
   "execution_count": null,
   "metadata": {},
   "outputs": [],
   "source": []
  },
  {
   "cell_type": "code",
   "execution_count": 2,
   "metadata": {},
   "outputs": [],
   "source": [
    "main_df=pd.read_pickle(\"./../dataset4Cleaned.pkl\")"
   ]
  },
  {
   "cell_type": "code",
   "execution_count": 3,
   "metadata": {},
   "outputs": [
    {
     "name": "stdout",
     "output_type": "stream",
     "text": [
      "[(1, -3)]\n"
     ]
    }
   ],
   "source": [
    "from sentistrength import PySentiStr\n",
    "senti = PySentiStr()\n",
    "senti.setSentiStrengthPath('/Users/gerald/Workspaces/MA3/Semester Project/sula_master/SentiStrenght_files/SentiStrength.jar') # Note: Provide absolute path instead of relative path\n",
    "senti.setSentiStrengthLanguageFolderPath('/Users/gerald/Workspaces/MA3/Semester Project/sula_master/SentiStrenght_files/SentStrength_Data_Sept2011/')\n",
    "result = senti.getSentiment('stupid idiot', score='dual')\n",
    "print(result)\n",
    "\n",
    "def get_sentiment_score(x):\n",
    "    result = senti.getSentiment(x[\"text\"], score='dual')[0]\n",
    "    x[\"positive_score\"]=result[0]\n",
    "    x[\"negative_score\"]=result[1]\n",
    "    x[\"emotional_devergence_score\"]=(result[0]-result[1])/10.0\n",
    "    \n",
    "    return x"
   ]
  },
  {
   "cell_type": "code",
   "execution_count": 4,
   "metadata": {},
   "outputs": [
    {
     "name": "stderr",
     "output_type": "stream",
     "text": [
      "/opt/anaconda3/lib/python3.7/site-packages/tqdm/std.py:703: FutureWarning: The Panel class is removed from pandas. Accessing it from the top-level namespace will also be removed in the next version\n",
      "  from pandas import Panel\n",
      "100%|██████████| 7929/7929 [38:16<00:00,  3.45it/s]  \n"
     ]
    }
   ],
   "source": [
    "from tqdm import tqdm\n",
    "tqdm.pandas()\n",
    "main_df = main_df.progress_apply(get_sentiment_score, axis=1)\n",
    "main_df.to_pickle(\"./../dataset4Cleaned.pkl\")"
   ]
  },
  {
   "cell_type": "code",
   "execution_count": null,
   "metadata": {},
   "outputs": [],
   "source": []
  }
 ],
 "metadata": {
  "kernelspec": {
   "display_name": "Python 3",
   "language": "python",
   "name": "python3"
  },
  "language_info": {
   "codemirror_mode": {
    "name": "ipython",
    "version": 3
   },
   "file_extension": ".py",
   "mimetype": "text/x-python",
   "name": "python",
   "nbconvert_exporter": "python",
   "pygments_lexer": "ipython3",
   "version": "3.7.6"
  }
 },
 "nbformat": 4,
 "nbformat_minor": 4
}
