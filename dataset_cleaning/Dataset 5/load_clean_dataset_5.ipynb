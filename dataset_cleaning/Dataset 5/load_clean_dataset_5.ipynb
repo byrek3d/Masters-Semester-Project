{
 "cells": [
  {
   "cell_type": "code",
   "execution_count": 1,
   "metadata": {},
   "outputs": [],
   "source": [
    "import pandas as pd\n",
    "from langdetect import detect\n",
    "import glob"
   ]
  },
  {
   "cell_type": "code",
   "execution_count": 3,
   "metadata": {},
   "outputs": [
    {
     "data": {
      "text/html": [
       "<div>\n",
       "<style scoped>\n",
       "    .dataframe tbody tr th:only-of-type {\n",
       "        vertical-align: middle;\n",
       "    }\n",
       "\n",
       "    .dataframe tbody tr th {\n",
       "        vertical-align: top;\n",
       "    }\n",
       "\n",
       "    .dataframe thead th {\n",
       "        text-align: right;\n",
       "    }\n",
       "</style>\n",
       "<table border=\"1\" class=\"dataframe\">\n",
       "  <thead>\n",
       "    <tr style=\"text-align: right;\">\n",
       "      <th></th>\n",
       "      <th>_unit_id</th>\n",
       "      <th>_golden</th>\n",
       "      <th>_unit_state</th>\n",
       "      <th>_trusted_judgments</th>\n",
       "      <th>_last_judgment_at</th>\n",
       "      <th>choose_one</th>\n",
       "      <th>choose_one:confidence</th>\n",
       "      <th>choose_one_gold</th>\n",
       "      <th>nil</th>\n",
       "      <th>text_no_rt</th>\n",
       "      <th>tweet</th>\n",
       "      <th>user</th>\n",
       "    </tr>\n",
       "  </thead>\n",
       "  <tbody>\n",
       "    <tr>\n",
       "      <th>0</th>\n",
       "      <td>221934923</td>\n",
       "      <td>True</td>\n",
       "      <td>golden</td>\n",
       "      <td>3</td>\n",
       "      <td>11/13/2012 02:06:24</td>\n",
       "      <td>Personal Only</td>\n",
       "      <td>1.000</td>\n",
       "      <td>Personal Only</td>\n",
       "      <td>NaN</td>\n",
       "      <td>......................Ã¤Ã³Ã¬@Brains_x_Beauty: ...</td>\n",
       "      <td>RT @TheHolyKaron: ......................Ã¤Ã³Ã¬...</td>\n",
       "      <td>____DatPMF</td>\n",
       "    </tr>\n",
       "    <tr>\n",
       "      <th>1</th>\n",
       "      <td>221934924</td>\n",
       "      <td>True</td>\n",
       "      <td>golden</td>\n",
       "      <td>2</td>\n",
       "      <td>11/13/2012 02:16:03</td>\n",
       "      <td>Informative (Indirect)</td>\n",
       "      <td>0.515</td>\n",
       "      <td>Informative (Indirect)</td>\n",
       "      <td>NaN</td>\n",
       "      <td>At least 39 dead millions without power in San...</td>\n",
       "      <td>At least 39 dead millions without power in San...</td>\n",
       "      <td>_3091004140882</td>\n",
       "    </tr>\n",
       "    <tr>\n",
       "      <th>2</th>\n",
       "      <td>221934925</td>\n",
       "      <td>True</td>\n",
       "      <td>golden</td>\n",
       "      <td>2</td>\n",
       "      <td>11/13/2012 02:06:50</td>\n",
       "      <td>Personal Only</td>\n",
       "      <td>1.000</td>\n",
       "      <td>Personal Only</td>\n",
       "      <td>NaN</td>\n",
       "      <td>Clearly no one wants to look good for sandy la...</td>\n",
       "      <td>Clearly no one wants to look good for sandy la...</td>\n",
       "      <td>_JordanDawn_</td>\n",
       "    </tr>\n",
       "    <tr>\n",
       "      <th>3</th>\n",
       "      <td>221934926</td>\n",
       "      <td>True</td>\n",
       "      <td>golden</td>\n",
       "      <td>1</td>\n",
       "      <td>11/11/2012 01:44:50</td>\n",
       "      <td>Other</td>\n",
       "      <td>1.000</td>\n",
       "      <td>Informative (Indirect)</td>\n",
       "      <td>NaN</td>\n",
       "      <td>Hurricane #Sandy hits the Statue Of Liberty ht...</td>\n",
       "      <td>RT @ImJay_wbu: Hurricane #Sandy hits the Statu...</td>\n",
       "      <td>_k4typerry</td>\n",
       "    </tr>\n",
       "    <tr>\n",
       "      <th>4</th>\n",
       "      <td>221934927</td>\n",
       "      <td>False</td>\n",
       "      <td>finalized</td>\n",
       "      <td>3</td>\n",
       "      <td>11/10/2012 12:38:04</td>\n",
       "      <td>Informative (Indirect)</td>\n",
       "      <td>1.000</td>\n",
       "      <td>NaN</td>\n",
       "      <td>NaN</td>\n",
       "      <td>Watch Hurricane #Sandy prowling the East Coast...</td>\n",
       "      <td>RT @NASA: Watch Hurricane #Sandy prowling the ...</td>\n",
       "      <td>_KieranJD_</td>\n",
       "    </tr>\n",
       "  </tbody>\n",
       "</table>\n",
       "</div>"
      ],
      "text/plain": [
       "    _unit_id  _golden _unit_state  _trusted_judgments    _last_judgment_at  \\\n",
       "0  221934923     True      golden                   3  11/13/2012 02:06:24   \n",
       "1  221934924     True      golden                   2  11/13/2012 02:16:03   \n",
       "2  221934925     True      golden                   2  11/13/2012 02:06:50   \n",
       "3  221934926     True      golden                   1  11/11/2012 01:44:50   \n",
       "4  221934927    False   finalized                   3  11/10/2012 12:38:04   \n",
       "\n",
       "               choose_one  choose_one:confidence         choose_one_gold  nil  \\\n",
       "0           Personal Only                  1.000           Personal Only  NaN   \n",
       "1  Informative (Indirect)                  0.515  Informative (Indirect)  NaN   \n",
       "2           Personal Only                  1.000           Personal Only  NaN   \n",
       "3                   Other                  1.000  Informative (Indirect)  NaN   \n",
       "4  Informative (Indirect)                  1.000                     NaN  NaN   \n",
       "\n",
       "                                          text_no_rt  \\\n",
       "0  ......................Ã¤Ã³Ã¬@Brains_x_Beauty: ...   \n",
       "1  At least 39 dead millions without power in San...   \n",
       "2  Clearly no one wants to look good for sandy la...   \n",
       "3  Hurricane #Sandy hits the Statue Of Liberty ht...   \n",
       "4  Watch Hurricane #Sandy prowling the East Coast...   \n",
       "\n",
       "                                               tweet            user  \n",
       "0  RT @TheHolyKaron: ......................Ã¤Ã³Ã¬...      ____DatPMF  \n",
       "1  At least 39 dead millions without power in San...  _3091004140882  \n",
       "2  Clearly no one wants to look good for sandy la...    _JordanDawn_  \n",
       "3  RT @ImJay_wbu: Hurricane #Sandy hits the Statu...      _k4typerry  \n",
       "4  RT @NASA: Watch Hurricane #Sandy prowling the ...      _KieranJD_  "
      ]
     },
     "execution_count": 3,
     "metadata": {},
     "output_type": "execute_result"
    }
   ],
   "source": [
    "main_df= pd.read_csv(\"./data.csv\")\n",
    "main_df.head()"
   ]
  },
  {
   "cell_type": "code",
   "execution_count": 4,
   "metadata": {},
   "outputs": [],
   "source": [
    "main_df.drop(main_df.columns.difference(['_unit_id', 'text_no_rt','choose_one']), 1, inplace=True)"
   ]
  },
  {
   "cell_type": "code",
   "execution_count": 5,
   "metadata": {},
   "outputs": [
    {
     "data": {
      "text/plain": [
       "1000"
      ]
     },
     "execution_count": 5,
     "metadata": {},
     "output_type": "execute_result"
    }
   ],
   "source": [
    "main_df.columns=[\"id\",\"Informativeness\",\"text\"]\n",
    "len(main_df)"
   ]
  },
  {
   "cell_type": "code",
   "execution_count": 6,
   "metadata": {},
   "outputs": [
    {
     "data": {
      "text/plain": [
       "839"
      ]
     },
     "execution_count": 6,
     "metadata": {},
     "output_type": "execute_result"
    }
   ],
   "source": [
    "main_df=main_df[main_df[\"Informativeness\"]!=\"Other\"]\n",
    "len(main_df)"
   ]
  },
  {
   "cell_type": "code",
   "execution_count": 7,
   "metadata": {},
   "outputs": [],
   "source": [
    "### Keep only english tweets\n",
    "\n",
    "def is_english(text):\n",
    "\n",
    "    try:\n",
    "          language = detect(text)\n",
    "    except:\n",
    "          #These will be removed\n",
    "          print(\"This row throws and error:\", text)\n",
    "          return False;\n",
    "    if(language=='en'):\n",
    "      return True;\n",
    "    else:\n",
    "      return False;\n",
    "\n",
    "main_df=main_df[main_df.apply(lambda x: is_english(x['text']), axis=1)]"
   ]
  },
  {
   "cell_type": "code",
   "execution_count": 8,
   "metadata": {},
   "outputs": [
    {
     "data": {
      "text/plain": [
       "826"
      ]
     },
     "execution_count": 8,
     "metadata": {},
     "output_type": "execute_result"
    }
   ],
   "source": [
    "len(main_df)"
   ]
  },
  {
   "cell_type": "code",
   "execution_count": 9,
   "metadata": {},
   "outputs": [],
   "source": [
    "main_df['Informativeness']=main_df['Informativeness'].map(lambda x: 0 if(x=='Personal Only') else 1)"
   ]
  },
  {
   "cell_type": "code",
   "execution_count": 10,
   "metadata": {},
   "outputs": [
    {
     "data": {
      "text/plain": [
       "1    535\n",
       "0    291\n",
       "Name: Informativeness, dtype: int64"
      ]
     },
     "execution_count": 10,
     "metadata": {},
     "output_type": "execute_result"
    }
   ],
   "source": [
    "main_df.Informativeness.value_counts()"
   ]
  },
  {
   "cell_type": "code",
   "execution_count": 11,
   "metadata": {},
   "outputs": [],
   "source": [
    "main_df.to_pickle(\"./../dataset5Cleaned.pkl\")"
   ]
  },
  {
   "cell_type": "code",
   "execution_count": null,
   "metadata": {},
   "outputs": [],
   "source": []
  }
 ],
 "metadata": {
  "kernelspec": {
   "display_name": "Python 3",
   "language": "python",
   "name": "python3"
  },
  "language_info": {
   "codemirror_mode": {
    "name": "ipython",
    "version": 3
   },
   "file_extension": ".py",
   "mimetype": "text/x-python",
   "name": "python",
   "nbconvert_exporter": "python",
   "pygments_lexer": "ipython3",
   "version": "3.7.6"
  }
 },
 "nbformat": 4,
 "nbformat_minor": 4
}
