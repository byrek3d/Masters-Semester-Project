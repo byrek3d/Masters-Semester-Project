{
 "cells": [
  {
   "cell_type": "code",
   "execution_count": 1,
   "metadata": {},
   "outputs": [],
   "source": [
    "import pandas as pd\n",
    "from langdetect import detect"
   ]
  },
  {
   "cell_type": "code",
   "execution_count": 2,
   "metadata": {},
   "outputs": [],
   "source": [
    "main_df = pd.read_pickle(\"./datasetCrisisLexT26_no_extra.pkl\")"
   ]
  },
  {
   "cell_type": "code",
   "execution_count": 3,
   "metadata": {},
   "outputs": [
    {
     "data": {
      "text/html": [
       "<div>\n",
       "<style scoped>\n",
       "    .dataframe tbody tr th:only-of-type {\n",
       "        vertical-align: middle;\n",
       "    }\n",
       "\n",
       "    .dataframe tbody tr th {\n",
       "        vertical-align: top;\n",
       "    }\n",
       "\n",
       "    .dataframe thead th {\n",
       "        text-align: right;\n",
       "    }\n",
       "</style>\n",
       "<table border=\"1\" class=\"dataframe\">\n",
       "  <thead>\n",
       "    <tr style=\"text-align: right;\">\n",
       "      <th></th>\n",
       "      <th>Information Source</th>\n",
       "      <th>Information Type</th>\n",
       "      <th>Informativeness</th>\n",
       "      <th>orig_id</th>\n",
       "      <th>annotated_id</th>\n",
       "      <th>text</th>\n",
       "      <th>event</th>\n",
       "      <th>user_id</th>\n",
       "      <th>created_at</th>\n",
       "      <th>retweet_count</th>\n",
       "      <th>...</th>\n",
       "      <th>user_tweet_count</th>\n",
       "      <th>user_friend_count</th>\n",
       "      <th>user_description</th>\n",
       "      <th>default_profile_image</th>\n",
       "      <th>is_verified_user</th>\n",
       "      <th>user_location</th>\n",
       "      <th>user_join_date</th>\n",
       "      <th>user_url</th>\n",
       "      <th>reply_to_user</th>\n",
       "      <th>reply_to_tweet</th>\n",
       "    </tr>\n",
       "  </thead>\n",
       "  <tbody>\n",
       "    <tr>\n",
       "      <th>0</th>\n",
       "      <td>Not labeled</td>\n",
       "      <td>Not labeled</td>\n",
       "      <td>Not related</td>\n",
       "      <td>211040709124440064</td>\n",
       "      <td>211040709124440064</td>\n",
       "      <td>#Intern #US #TATTOO #Wisconsin #Ohio #NC #PA #...</td>\n",
       "      <td>2012_Colorado_wildfires</td>\n",
       "      <td>601864285</td>\n",
       "      <td>2012-06-08T10:23:20.000Z</td>\n",
       "      <td>0</td>\n",
       "      <td>...</td>\n",
       "      <td>402</td>\n",
       "      <td>19</td>\n",
       "      <td>Traveling http://goo.gl/97yT2</td>\n",
       "      <td>True</td>\n",
       "      <td>False</td>\n",
       "      <td>None</td>\n",
       "      <td>Thu Jun 07 13:14:27 +0000 2012</td>\n",
       "      <td>None</td>\n",
       "      <td>NaN</td>\n",
       "      <td>NaN</td>\n",
       "    </tr>\n",
       "    <tr>\n",
       "      <th>1</th>\n",
       "      <td>Not labeled</td>\n",
       "      <td>Not labeled</td>\n",
       "      <td>Not related</td>\n",
       "      <td>210864180218167296</td>\n",
       "      <td>211111710294163457</td>\n",
       "      <td>Get in on the fun every Thursday with the @csi...</td>\n",
       "      <td>2012_Colorado_wildfires</td>\n",
       "      <td>245545247</td>\n",
       "      <td>2012-06-07T22:41:52.000Z</td>\n",
       "      <td>2</td>\n",
       "      <td>...</td>\n",
       "      <td>3327</td>\n",
       "      <td>35</td>\n",
       "      <td>Director of Marketing &amp; Promotions for the Col...</td>\n",
       "      <td>False</td>\n",
       "      <td>False</td>\n",
       "      <td>Coloado Springs, CO</td>\n",
       "      <td>Mon Jan 31 23:05:46 +0000 2011</td>\n",
       "      <td>http://www.csindy.com/colorado/Home</td>\n",
       "      <td>NaN</td>\n",
       "      <td>NaN</td>\n",
       "    </tr>\n",
       "    <tr>\n",
       "      <th>2</th>\n",
       "      <td>Not labeled</td>\n",
       "      <td>Not labeled</td>\n",
       "      <td>Not related</td>\n",
       "      <td>211157222699433985</td>\n",
       "      <td>211157222699433985</td>\n",
       "      <td>Welcome to our newest STUDENTathlete- Reagan B...</td>\n",
       "      <td>2012_Colorado_wildfires</td>\n",
       "      <td>487854217</td>\n",
       "      <td>2012-06-08T18:06:19.000Z</td>\n",
       "      <td>0</td>\n",
       "      <td>...</td>\n",
       "      <td>268</td>\n",
       "      <td>2</td>\n",
       "      <td></td>\n",
       "      <td>True</td>\n",
       "      <td>False</td>\n",
       "      <td></td>\n",
       "      <td>Thu Feb 09 20:26:05 +0000 2012</td>\n",
       "      <td>None</td>\n",
       "      <td>NaN</td>\n",
       "      <td>NaN</td>\n",
       "    </tr>\n",
       "    <tr>\n",
       "      <th>3</th>\n",
       "      <td>Not labeled</td>\n",
       "      <td>Not labeled</td>\n",
       "      <td>Not related</td>\n",
       "      <td>211162553659830272</td>\n",
       "      <td>211162553659830272</td>\n",
       "      <td>Denver Post: #Colorado governor signs bill cre...</td>\n",
       "      <td>2012_Colorado_wildfires</td>\n",
       "      <td>17602802</td>\n",
       "      <td>2012-06-08T18:27:30.000Z</td>\n",
       "      <td>0</td>\n",
       "      <td>...</td>\n",
       "      <td>4392</td>\n",
       "      <td>188</td>\n",
       "      <td>The Reporters Committee for Freedom of the Pre...</td>\n",
       "      <td>False</td>\n",
       "      <td>False</td>\n",
       "      <td>Arlington, VA</td>\n",
       "      <td>Mon Nov 24 22:14:23 +0000 2008</td>\n",
       "      <td>http://www.rcfp.org</td>\n",
       "      <td>NaN</td>\n",
       "      <td>NaN</td>\n",
       "    </tr>\n",
       "    <tr>\n",
       "      <th>4</th>\n",
       "      <td>Not labeled</td>\n",
       "      <td>Not labeled</td>\n",
       "      <td>Not related</td>\n",
       "      <td>211216962162933761</td>\n",
       "      <td>211216962162933761</td>\n",
       "      <td>Pretty sure I'm going to live in Manitou Sprin...</td>\n",
       "      <td>2012_Colorado_wildfires</td>\n",
       "      <td>348495572</td>\n",
       "      <td>2012-06-08T22:03:42.000Z</td>\n",
       "      <td>0</td>\n",
       "      <td>...</td>\n",
       "      <td>3687</td>\n",
       "      <td>203</td>\n",
       "      <td>free-spirited, ever thinking, world citizen</td>\n",
       "      <td>False</td>\n",
       "      <td>False</td>\n",
       "      <td>Chillwater, OK</td>\n",
       "      <td>Thu Aug 04 14:41:31 +0000 2011</td>\n",
       "      <td>None</td>\n",
       "      <td>NaN</td>\n",
       "      <td>NaN</td>\n",
       "    </tr>\n",
       "  </tbody>\n",
       "</table>\n",
       "<p>5 rows × 28 columns</p>\n",
       "</div>"
      ],
      "text/plain": [
       "  Information Source Information Type Informativeness             orig_id  \\\n",
       "0        Not labeled      Not labeled     Not related  211040709124440064   \n",
       "1        Not labeled      Not labeled     Not related  210864180218167296   \n",
       "2        Not labeled      Not labeled     Not related  211157222699433985   \n",
       "3        Not labeled      Not labeled     Not related  211162553659830272   \n",
       "4        Not labeled      Not labeled     Not related  211216962162933761   \n",
       "\n",
       "         annotated_id                                               text  \\\n",
       "0  211040709124440064  #Intern #US #TATTOO #Wisconsin #Ohio #NC #PA #...   \n",
       "1  211111710294163457  Get in on the fun every Thursday with the @csi...   \n",
       "2  211157222699433985  Welcome to our newest STUDENTathlete- Reagan B...   \n",
       "3  211162553659830272  Denver Post: #Colorado governor signs bill cre...   \n",
       "4  211216962162933761  Pretty sure I'm going to live in Manitou Sprin...   \n",
       "\n",
       "                     event    user_id                created_at  \\\n",
       "0  2012_Colorado_wildfires  601864285  2012-06-08T10:23:20.000Z   \n",
       "1  2012_Colorado_wildfires  245545247  2012-06-07T22:41:52.000Z   \n",
       "2  2012_Colorado_wildfires  487854217  2012-06-08T18:06:19.000Z   \n",
       "3  2012_Colorado_wildfires   17602802  2012-06-08T18:27:30.000Z   \n",
       "4  2012_Colorado_wildfires  348495572  2012-06-08T22:03:42.000Z   \n",
       "\n",
       "   retweet_count  ...  user_tweet_count user_friend_count  \\\n",
       "0              0  ...               402                19   \n",
       "1              2  ...              3327                35   \n",
       "2              0  ...               268                 2   \n",
       "3              0  ...              4392               188   \n",
       "4              0  ...              3687               203   \n",
       "\n",
       "                                    user_description default_profile_image  \\\n",
       "0                      Traveling http://goo.gl/97yT2                  True   \n",
       "1  Director of Marketing & Promotions for the Col...                 False   \n",
       "2                                                                     True   \n",
       "3  The Reporters Committee for Freedom of the Pre...                 False   \n",
       "4        free-spirited, ever thinking, world citizen                 False   \n",
       "\n",
       "  is_verified_user        user_location                  user_join_date  \\\n",
       "0            False                 None  Thu Jun 07 13:14:27 +0000 2012   \n",
       "1            False  Coloado Springs, CO  Mon Jan 31 23:05:46 +0000 2011   \n",
       "2            False                       Thu Feb 09 20:26:05 +0000 2012   \n",
       "3            False        Arlington, VA  Mon Nov 24 22:14:23 +0000 2008   \n",
       "4            False       Chillwater, OK  Thu Aug 04 14:41:31 +0000 2011   \n",
       "\n",
       "                              user_url  reply_to_user  reply_to_tweet  \n",
       "0                                 None            NaN             NaN  \n",
       "1  http://www.csindy.com/colorado/Home            NaN             NaN  \n",
       "2                                 None            NaN             NaN  \n",
       "3                  http://www.rcfp.org            NaN             NaN  \n",
       "4                                 None            NaN             NaN  \n",
       "\n",
       "[5 rows x 28 columns]"
      ]
     },
     "execution_count": 3,
     "metadata": {},
     "output_type": "execute_result"
    }
   ],
   "source": [
    "main_df.head()"
   ]
  },
  {
   "cell_type": "code",
   "execution_count": 4,
   "metadata": {},
   "outputs": [
    {
     "data": {
      "text/plain": [
       "<pandas.core.groupby.generic.DataFrameGroupBy object at 0x122c5e2d0>"
      ]
     },
     "execution_count": 4,
     "metadata": {},
     "output_type": "execute_result"
    }
   ],
   "source": [
    "main_df.groupby(by=\"event\")"
   ]
  },
  {
   "cell_type": "code",
   "execution_count": 16,
   "metadata": {},
   "outputs": [
    {
     "data": {
      "text/plain": [
       "Related and informative          15314\n",
       "Related - but not informative     6857\n",
       "Not related                       2619\n",
       "Not applicable                     457\n",
       "Name: Informativeness, dtype: int64"
      ]
     },
     "execution_count": 16,
     "metadata": {},
     "output_type": "execute_result"
    }
   ],
   "source": [
    "main_df[\"Informativeness\"].value_counts()"
   ]
  },
  {
   "cell_type": "markdown",
   "metadata": {
    "colab_type": "text",
    "id": "e3o-pmvgLW4N"
   },
   "source": [
    "### Remove all features except the text, and make labels only relevant/not relevant"
   ]
  },
  {
   "cell_type": "code",
   "execution_count": 17,
   "metadata": {
    "colab": {},
    "colab_type": "code",
    "executionInfo": {
     "elapsed": 704,
     "status": "ok",
     "timestamp": 1600867951466,
     "user": {
      "displayName": "byrek",
      "photoUrl": "https://lh3.googleusercontent.com/a-/AOh14GhAvHM_OBXbApiIG8MkYPz0OhB3fW-xzyqHesPi-w=s64",
      "userId": "17956107666140341860"
     },
     "user_tz": -120
    },
    "id": "RQDQXUm7do-p"
   },
   "outputs": [],
   "source": [
    "main_df.drop(main_df.columns.difference(['Informativeness','text']), 1, inplace=True)\n",
    "main_df['Informativeness']=main_df['Informativeness'].map(lambda x: 1 if(x=='Related and informative' ) else 0)\n",
    "# main_df['Informativeness']=main_df['Informativeness'].map(lambda x: 1 if(x=='Related and informative' or x=='Related - but not informative') else 0)"
   ]
  },
  {
   "cell_type": "code",
   "execution_count": 18,
   "metadata": {},
   "outputs": [
    {
     "data": {
      "text/plain": [
       "1    15314\n",
       "0     9933\n",
       "Name: Informativeness, dtype: int64"
      ]
     },
     "execution_count": 18,
     "metadata": {},
     "output_type": "execute_result"
    }
   ],
   "source": [
    "main_df['Informativeness'].value_counts()"
   ]
  },
  {
   "cell_type": "code",
   "execution_count": 19,
   "metadata": {},
   "outputs": [],
   "source": [
    "main_df.drop_duplicates(inplace=True)"
   ]
  },
  {
   "cell_type": "code",
   "execution_count": 20,
   "metadata": {
    "colab": {
     "base_uri": "https://localhost:8080/",
     "height": 68
    },
    "colab_type": "code",
    "executionInfo": {
     "elapsed": 582,
     "status": "ok",
     "timestamp": 1600867961781,
     "user": {
      "displayName": "byrek",
      "photoUrl": "https://lh3.googleusercontent.com/a-/AOh14GhAvHM_OBXbApiIG8MkYPz0OhB3fW-xzyqHesPi-w=s64",
      "userId": "17956107666140341860"
     },
     "user_tz": -120
    },
    "id": "1mMGuj33eCRp",
    "outputId": "c9bcea2a-e7cc-4859-e3bf-21f9bf0ec20a"
   },
   "outputs": [
    {
     "data": {
      "text/plain": [
       "1    15193\n",
       "0     9895\n",
       "Name: Informativeness, dtype: int64"
      ]
     },
     "execution_count": 20,
     "metadata": {},
     "output_type": "execute_result"
    }
   ],
   "source": [
    "main_df['Informativeness'].value_counts()"
   ]
  },
  {
   "cell_type": "code",
   "execution_count": 21,
   "metadata": {
    "scrolled": true
   },
   "outputs": [
    {
     "data": {
      "text/plain": [
       "25088"
      ]
     },
     "execution_count": 21,
     "metadata": {},
     "output_type": "execute_result"
    }
   ],
   "source": [
    "len(main_df)"
   ]
  },
  {
   "cell_type": "markdown",
   "metadata": {
    "colab_type": "text",
    "id": "0nFcMtumLOZh"
   },
   "source": [
    "### Keep only english tweets"
   ]
  },
  {
   "cell_type": "code",
   "execution_count": 22,
   "metadata": {
    "colab": {},
    "colab_type": "code",
    "executionInfo": {
     "elapsed": 578,
     "status": "ok",
     "timestamp": 1600868015501,
     "user": {
      "displayName": "byrek",
      "photoUrl": "https://lh3.googleusercontent.com/a-/AOh14GhAvHM_OBXbApiIG8MkYPz0OhB3fW-xzyqHesPi-w=s64",
      "userId": "17956107666140341860"
     },
     "user_tz": -120
    },
    "id": "Aoc4b7EeK1Fz"
   },
   "outputs": [],
   "source": [
    "def is_english(text):\n",
    "\n",
    "    try:\n",
    "          language = detect(text)\n",
    "    except:\n",
    "          #These will be removed\n",
    "          print(\"This row throws and error:\", text)\n",
    "          return False;\n",
    "    if(language=='en'):\n",
    "      return True;\n",
    "    else:\n",
    "      return False;"
   ]
  },
  {
   "cell_type": "code",
   "execution_count": 23,
   "metadata": {
    "colab": {
     "base_uri": "https://localhost:8080/",
     "height": 105
    },
    "colab_type": "code",
    "id": "yQ-8xqV_K_eT",
    "outputId": "beca08d6-7ec5-4aeb-b49a-de335cf600bb"
   },
   "outputs": [],
   "source": [
    "main_df=main_df[main_df.apply(lambda x: is_english(x['text']), axis=1)]"
   ]
  },
  {
   "cell_type": "code",
   "execution_count": 26,
   "metadata": {},
   "outputs": [
    {
     "data": {
      "text/plain": [
       "18028"
      ]
     },
     "execution_count": 26,
     "metadata": {},
     "output_type": "execute_result"
    }
   ],
   "source": [
    "len(main_df)"
   ]
  },
  {
   "cell_type": "code",
   "execution_count": 27,
   "metadata": {},
   "outputs": [],
   "source": [
    "main_df.to_pickle(\"./../dataset1Cleaned.pkl\")"
   ]
  },
  {
   "cell_type": "code",
   "execution_count": null,
   "metadata": {},
   "outputs": [],
   "source": []
  }
 ],
 "metadata": {
  "kernelspec": {
   "display_name": "Python 3",
   "language": "python",
   "name": "python3"
  },
  "language_info": {
   "codemirror_mode": {
    "name": "ipython",
    "version": 3
   },
   "file_extension": ".py",
   "mimetype": "text/x-python",
   "name": "python",
   "nbconvert_exporter": "python",
   "pygments_lexer": "ipython3",
   "version": "3.7.6"
  }
 },
 "nbformat": 4,
 "nbformat_minor": 4
}
