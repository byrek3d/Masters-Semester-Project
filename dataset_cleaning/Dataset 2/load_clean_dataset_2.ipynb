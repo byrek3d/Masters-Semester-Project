{
 "cells": [
  {
   "cell_type": "code",
   "execution_count": 1,
   "metadata": {},
   "outputs": [],
   "source": [
    "import pandas as pd\n",
    "from langdetect import detect\n",
    "import glob\n",
    "\n"
   ]
  },
  {
   "cell_type": "code",
   "execution_count": 2,
   "metadata": {},
   "outputs": [],
   "source": [
    "all_files = glob.glob(\"./annotations/*.tsv\")\n",
    "\n",
    "li = []\n",
    "\n",
    "for filename in all_files:\n",
    "\n",
    "    df = pd.read_table(filename, index_col=None, header=0, sep='\\t')\n",
    "    li.append(df)\n",
    "\n",
    "frame = pd.concat(li, axis=0, ignore_index=True)"
   ]
  },
  {
   "cell_type": "code",
   "execution_count": 3,
   "metadata": {},
   "outputs": [
    {
     "data": {
      "text/html": [
       "<div>\n",
       "<style scoped>\n",
       "    .dataframe tbody tr th:only-of-type {\n",
       "        vertical-align: middle;\n",
       "    }\n",
       "\n",
       "    .dataframe tbody tr th {\n",
       "        vertical-align: top;\n",
       "    }\n",
       "\n",
       "    .dataframe thead th {\n",
       "        text-align: right;\n",
       "    }\n",
       "</style>\n",
       "<table border=\"1\" class=\"dataframe\">\n",
       "  <thead>\n",
       "    <tr style=\"text-align: right;\">\n",
       "      <th></th>\n",
       "      <th>tweet_id</th>\n",
       "      <th>image_id</th>\n",
       "      <th>text_info</th>\n",
       "      <th>text_info_conf</th>\n",
       "      <th>image_info</th>\n",
       "      <th>image_info_conf</th>\n",
       "      <th>text_human</th>\n",
       "      <th>text_human_conf</th>\n",
       "      <th>image_human</th>\n",
       "      <th>image_human_conf</th>\n",
       "      <th>image_damage</th>\n",
       "      <th>image_damage_conf</th>\n",
       "      <th>tweet_text</th>\n",
       "      <th>image_url</th>\n",
       "      <th>image_path</th>\n",
       "    </tr>\n",
       "  </thead>\n",
       "  <tbody>\n",
       "    <tr>\n",
       "      <th>0</th>\n",
       "      <td>917791044158185473</td>\n",
       "      <td>917791044158185473_0</td>\n",
       "      <td>informative</td>\n",
       "      <td>1.0000</td>\n",
       "      <td>informative</td>\n",
       "      <td>0.6766</td>\n",
       "      <td>other_relevant_information</td>\n",
       "      <td>1.0000</td>\n",
       "      <td>other_relevant_information</td>\n",
       "      <td>0.6766</td>\n",
       "      <td>NaN</td>\n",
       "      <td>NaN</td>\n",
       "      <td>RT @Gizmodo: Wildfires raging through Northern...</td>\n",
       "      <td>http://pbs.twimg.com/media/DLyi_WYVYAApwNg.jpg</td>\n",
       "      <td>data_image/california_wildfires/10_10_2017/917...</td>\n",
       "    </tr>\n",
       "    <tr>\n",
       "      <th>1</th>\n",
       "      <td>917791130590183424</td>\n",
       "      <td>917791130590183424_0</td>\n",
       "      <td>informative</td>\n",
       "      <td>1.0000</td>\n",
       "      <td>informative</td>\n",
       "      <td>0.6667</td>\n",
       "      <td>infrastructure_and_utility_damage</td>\n",
       "      <td>1.0000</td>\n",
       "      <td>affected_individuals</td>\n",
       "      <td>0.6667</td>\n",
       "      <td>NaN</td>\n",
       "      <td>NaN</td>\n",
       "      <td>PHOTOS: Deadly wildfires rage in California ht...</td>\n",
       "      <td>http://pbs.twimg.com/media/DLymKm9UMAAu0qw.jpg</td>\n",
       "      <td>data_image/california_wildfires/10_10_2017/917...</td>\n",
       "    </tr>\n",
       "    <tr>\n",
       "      <th>2</th>\n",
       "      <td>917791291823591425</td>\n",
       "      <td>917791291823591425_0</td>\n",
       "      <td>informative</td>\n",
       "      <td>0.6813</td>\n",
       "      <td>informative</td>\n",
       "      <td>1.0000</td>\n",
       "      <td>other_relevant_information</td>\n",
       "      <td>0.6813</td>\n",
       "      <td>infrastructure_and_utility_damage</td>\n",
       "      <td>1.0000</td>\n",
       "      <td>severe_damage</td>\n",
       "      <td>1.0</td>\n",
       "      <td>RT @Cal_OES: PLS SHARE: Weâ€™re capturing wild...</td>\n",
       "      <td>http://pbs.twimg.com/media/DLudaaZV4AAjT7x.jpg</td>\n",
       "      <td>data_image/california_wildfires/10_10_2017/917...</td>\n",
       "    </tr>\n",
       "    <tr>\n",
       "      <th>3</th>\n",
       "      <td>917791291823591425</td>\n",
       "      <td>917791291823591425_1</td>\n",
       "      <td>informative</td>\n",
       "      <td>0.6813</td>\n",
       "      <td>not_informative</td>\n",
       "      <td>1.0000</td>\n",
       "      <td>other_relevant_information</td>\n",
       "      <td>0.6813</td>\n",
       "      <td>not_humanitarian</td>\n",
       "      <td>1.0000</td>\n",
       "      <td>NaN</td>\n",
       "      <td>NaN</td>\n",
       "      <td>RT @Cal_OES: PLS SHARE: Weâ€™re capturing wild...</td>\n",
       "      <td>http://pbs.twimg.com/media/DLudaZXUMAABAEZ.jpg</td>\n",
       "      <td>data_image/california_wildfires/10_10_2017/917...</td>\n",
       "    </tr>\n",
       "    <tr>\n",
       "      <th>4</th>\n",
       "      <td>917792092100988929</td>\n",
       "      <td>917792092100988929_0</td>\n",
       "      <td>informative</td>\n",
       "      <td>0.6727</td>\n",
       "      <td>informative</td>\n",
       "      <td>0.6612</td>\n",
       "      <td>other_relevant_information</td>\n",
       "      <td>0.6727</td>\n",
       "      <td>infrastructure_and_utility_damage</td>\n",
       "      <td>0.6612</td>\n",
       "      <td>severe_damage</td>\n",
       "      <td>1.0</td>\n",
       "      <td>RT @TIME: California's raging wildfires as you...</td>\n",
       "      <td>http://pbs.twimg.com/media/DLwNe-NXUAE0XCw.jpg</td>\n",
       "      <td>data_image/california_wildfires/10_10_2017/917...</td>\n",
       "    </tr>\n",
       "    <tr>\n",
       "      <th>...</th>\n",
       "      <td>...</td>\n",
       "      <td>...</td>\n",
       "      <td>...</td>\n",
       "      <td>...</td>\n",
       "      <td>...</td>\n",
       "      <td>...</td>\n",
       "      <td>...</td>\n",
       "      <td>...</td>\n",
       "      <td>...</td>\n",
       "      <td>...</td>\n",
       "      <td>...</td>\n",
       "      <td>...</td>\n",
       "      <td>...</td>\n",
       "      <td>...</td>\n",
       "      <td>...</td>\n",
       "    </tr>\n",
       "    <tr>\n",
       "      <th>18077</th>\n",
       "      <td>916105333872918528</td>\n",
       "      <td>916105333872918528_0</td>\n",
       "      <td>informative</td>\n",
       "      <td>1.0000</td>\n",
       "      <td>not_informative</td>\n",
       "      <td>1.0000</td>\n",
       "      <td>rescue_volunteering_or_donation_effort</td>\n",
       "      <td>1.0000</td>\n",
       "      <td>not_humanitarian</td>\n",
       "      <td>1.0000</td>\n",
       "      <td>NaN</td>\n",
       "      <td>NaN</td>\n",
       "      <td>Carlos santana donates $100k to mexico earthqu...</td>\n",
       "      <td>http://pbs.twimg.com/media/DLao8g8W4AAKoPV.jpg</td>\n",
       "      <td>data_image/mexico_earthquake/6_10_2017/9161053...</td>\n",
       "    </tr>\n",
       "    <tr>\n",
       "      <th>18078</th>\n",
       "      <td>916105374134042624</td>\n",
       "      <td>916105374134042624_0</td>\n",
       "      <td>informative</td>\n",
       "      <td>1.0000</td>\n",
       "      <td>not_informative</td>\n",
       "      <td>0.6412</td>\n",
       "      <td>rescue_volunteering_or_donation_effort</td>\n",
       "      <td>1.0000</td>\n",
       "      <td>not_humanitarian</td>\n",
       "      <td>0.6412</td>\n",
       "      <td>NaN</td>\n",
       "      <td>NaN</td>\n",
       "      <td>Seth troxler donates 10k to earthquake relief ...</td>\n",
       "      <td>http://pbs.twimg.com/media/DLao-2GWsAA97vC.jpg</td>\n",
       "      <td>data_image/mexico_earthquake/6_10_2017/9161053...</td>\n",
       "    </tr>\n",
       "    <tr>\n",
       "      <th>18079</th>\n",
       "      <td>916112796194021376</td>\n",
       "      <td>916112796194021376_0</td>\n",
       "      <td>informative</td>\n",
       "      <td>1.0000</td>\n",
       "      <td>informative</td>\n",
       "      <td>0.6337</td>\n",
       "      <td>rescue_volunteering_or_donation_effort</td>\n",
       "      <td>1.0000</td>\n",
       "      <td>other_relevant_information</td>\n",
       "      <td>0.6337</td>\n",
       "      <td>NaN</td>\n",
       "      <td>NaN</td>\n",
       "      <td>Entercom/San Francisco Stations Raise Funds Fo...</td>\n",
       "      <td>http://pbs.twimg.com/media/DLavu1YV4AAgSJ_.jpg</td>\n",
       "      <td>data_image/mexico_earthquake/6_10_2017/9161127...</td>\n",
       "    </tr>\n",
       "    <tr>\n",
       "      <th>18080</th>\n",
       "      <td>916164076484653056</td>\n",
       "      <td>916164076484653056_0</td>\n",
       "      <td>informative</td>\n",
       "      <td>0.6580</td>\n",
       "      <td>informative</td>\n",
       "      <td>0.6374</td>\n",
       "      <td>other_relevant_information</td>\n",
       "      <td>0.6580</td>\n",
       "      <td>rescue_volunteering_or_donation_effort</td>\n",
       "      <td>0.6374</td>\n",
       "      <td>NaN</td>\n",
       "      <td>NaN</td>\n",
       "      <td>Mexico Earthquakes | International Medical Cor...</td>\n",
       "      <td>http://pbs.twimg.com/media/DLbeXxlWsAEl9xu.jpg</td>\n",
       "      <td>data_image/mexico_earthquake/6_10_2017/9161640...</td>\n",
       "    </tr>\n",
       "    <tr>\n",
       "      <th>18081</th>\n",
       "      <td>916167674673156096</td>\n",
       "      <td>916167674673156096_0</td>\n",
       "      <td>informative</td>\n",
       "      <td>0.5635</td>\n",
       "      <td>not_informative</td>\n",
       "      <td>1.0000</td>\n",
       "      <td>injured_or_dead_people</td>\n",
       "      <td>0.5635</td>\n",
       "      <td>not_humanitarian</td>\n",
       "      <td>1.0000</td>\n",
       "      <td>NaN</td>\n",
       "      <td>NaN</td>\n",
       "      <td>Napa school employee Valentin Fuentes Villanue...</td>\n",
       "      <td>http://pbs.twimg.com/media/DLbhpNXW4AAGqC1.jpg</td>\n",
       "      <td>data_image/mexico_earthquake/6_10_2017/9161676...</td>\n",
       "    </tr>\n",
       "  </tbody>\n",
       "</table>\n",
       "<p>18082 rows × 15 columns</p>\n",
       "</div>"
      ],
      "text/plain": [
       "                 tweet_id              image_id    text_info  text_info_conf  \\\n",
       "0      917791044158185473  917791044158185473_0  informative          1.0000   \n",
       "1      917791130590183424  917791130590183424_0  informative          1.0000   \n",
       "2      917791291823591425  917791291823591425_0  informative          0.6813   \n",
       "3      917791291823591425  917791291823591425_1  informative          0.6813   \n",
       "4      917792092100988929  917792092100988929_0  informative          0.6727   \n",
       "...                   ...                   ...          ...             ...   \n",
       "18077  916105333872918528  916105333872918528_0  informative          1.0000   \n",
       "18078  916105374134042624  916105374134042624_0  informative          1.0000   \n",
       "18079  916112796194021376  916112796194021376_0  informative          1.0000   \n",
       "18080  916164076484653056  916164076484653056_0  informative          0.6580   \n",
       "18081  916167674673156096  916167674673156096_0  informative          0.5635   \n",
       "\n",
       "            image_info  image_info_conf  \\\n",
       "0          informative           0.6766   \n",
       "1          informative           0.6667   \n",
       "2          informative           1.0000   \n",
       "3      not_informative           1.0000   \n",
       "4          informative           0.6612   \n",
       "...                ...              ...   \n",
       "18077  not_informative           1.0000   \n",
       "18078  not_informative           0.6412   \n",
       "18079      informative           0.6337   \n",
       "18080      informative           0.6374   \n",
       "18081  not_informative           1.0000   \n",
       "\n",
       "                                   text_human  text_human_conf  \\\n",
       "0                  other_relevant_information           1.0000   \n",
       "1           infrastructure_and_utility_damage           1.0000   \n",
       "2                  other_relevant_information           0.6813   \n",
       "3                  other_relevant_information           0.6813   \n",
       "4                  other_relevant_information           0.6727   \n",
       "...                                       ...              ...   \n",
       "18077  rescue_volunteering_or_donation_effort           1.0000   \n",
       "18078  rescue_volunteering_or_donation_effort           1.0000   \n",
       "18079  rescue_volunteering_or_donation_effort           1.0000   \n",
       "18080              other_relevant_information           0.6580   \n",
       "18081                  injured_or_dead_people           0.5635   \n",
       "\n",
       "                                  image_human  image_human_conf  \\\n",
       "0                  other_relevant_information            0.6766   \n",
       "1                        affected_individuals            0.6667   \n",
       "2           infrastructure_and_utility_damage            1.0000   \n",
       "3                            not_humanitarian            1.0000   \n",
       "4           infrastructure_and_utility_damage            0.6612   \n",
       "...                                       ...               ...   \n",
       "18077                        not_humanitarian            1.0000   \n",
       "18078                        not_humanitarian            0.6412   \n",
       "18079              other_relevant_information            0.6337   \n",
       "18080  rescue_volunteering_or_donation_effort            0.6374   \n",
       "18081                        not_humanitarian            1.0000   \n",
       "\n",
       "        image_damage  image_damage_conf  \\\n",
       "0                NaN                NaN   \n",
       "1                NaN                NaN   \n",
       "2      severe_damage                1.0   \n",
       "3                NaN                NaN   \n",
       "4      severe_damage                1.0   \n",
       "...              ...                ...   \n",
       "18077            NaN                NaN   \n",
       "18078            NaN                NaN   \n",
       "18079            NaN                NaN   \n",
       "18080            NaN                NaN   \n",
       "18081            NaN                NaN   \n",
       "\n",
       "                                              tweet_text  \\\n",
       "0      RT @Gizmodo: Wildfires raging through Northern...   \n",
       "1      PHOTOS: Deadly wildfires rage in California ht...   \n",
       "2      RT @Cal_OES: PLS SHARE: Weâ€™re capturing wild...   \n",
       "3      RT @Cal_OES: PLS SHARE: Weâ€™re capturing wild...   \n",
       "4      RT @TIME: California's raging wildfires as you...   \n",
       "...                                                  ...   \n",
       "18077  Carlos santana donates $100k to mexico earthqu...   \n",
       "18078  Seth troxler donates 10k to earthquake relief ...   \n",
       "18079  Entercom/San Francisco Stations Raise Funds Fo...   \n",
       "18080  Mexico Earthquakes | International Medical Cor...   \n",
       "18081  Napa school employee Valentin Fuentes Villanue...   \n",
       "\n",
       "                                            image_url  \\\n",
       "0      http://pbs.twimg.com/media/DLyi_WYVYAApwNg.jpg   \n",
       "1      http://pbs.twimg.com/media/DLymKm9UMAAu0qw.jpg   \n",
       "2      http://pbs.twimg.com/media/DLudaaZV4AAjT7x.jpg   \n",
       "3      http://pbs.twimg.com/media/DLudaZXUMAABAEZ.jpg   \n",
       "4      http://pbs.twimg.com/media/DLwNe-NXUAE0XCw.jpg   \n",
       "...                                               ...   \n",
       "18077  http://pbs.twimg.com/media/DLao8g8W4AAKoPV.jpg   \n",
       "18078  http://pbs.twimg.com/media/DLao-2GWsAA97vC.jpg   \n",
       "18079  http://pbs.twimg.com/media/DLavu1YV4AAgSJ_.jpg   \n",
       "18080  http://pbs.twimg.com/media/DLbeXxlWsAEl9xu.jpg   \n",
       "18081  http://pbs.twimg.com/media/DLbhpNXW4AAGqC1.jpg   \n",
       "\n",
       "                                              image_path  \n",
       "0      data_image/california_wildfires/10_10_2017/917...  \n",
       "1      data_image/california_wildfires/10_10_2017/917...  \n",
       "2      data_image/california_wildfires/10_10_2017/917...  \n",
       "3      data_image/california_wildfires/10_10_2017/917...  \n",
       "4      data_image/california_wildfires/10_10_2017/917...  \n",
       "...                                                  ...  \n",
       "18077  data_image/mexico_earthquake/6_10_2017/9161053...  \n",
       "18078  data_image/mexico_earthquake/6_10_2017/9161053...  \n",
       "18079  data_image/mexico_earthquake/6_10_2017/9161127...  \n",
       "18080  data_image/mexico_earthquake/6_10_2017/9161640...  \n",
       "18081  data_image/mexico_earthquake/6_10_2017/9161676...  \n",
       "\n",
       "[18082 rows x 15 columns]"
      ]
     },
     "execution_count": 3,
     "metadata": {},
     "output_type": "execute_result"
    }
   ],
   "source": [
    "frame"
   ]
  },
  {
   "cell_type": "code",
   "execution_count": 4,
   "metadata": {},
   "outputs": [
    {
     "data": {
      "text/plain": [
       "Index(['tweet_id', 'image_id', 'text_info', 'text_info_conf', 'image_info',\n",
       "       'image_info_conf', 'text_human', 'text_human_conf', 'image_human',\n",
       "       'image_human_conf', 'image_damage', 'image_damage_conf', 'tweet_text',\n",
       "       'image_url', 'image_path'],\n",
       "      dtype='object')"
      ]
     },
     "execution_count": 4,
     "metadata": {},
     "output_type": "execute_result"
    }
   ],
   "source": [
    "frame.columns"
   ]
  },
  {
   "cell_type": "code",
   "execution_count": 5,
   "metadata": {},
   "outputs": [],
   "source": [
    "frame = frame.drop_duplicates(subset='tweet_id', keep=\"first\")"
   ]
  },
  {
   "cell_type": "code",
   "execution_count": 6,
   "metadata": {},
   "outputs": [
    {
     "data": {
      "text/plain": [
       "16058"
      ]
     },
     "execution_count": 6,
     "metadata": {},
     "output_type": "execute_result"
    }
   ],
   "source": [
    "len(frame)"
   ]
  },
  {
   "cell_type": "code",
   "execution_count": 7,
   "metadata": {},
   "outputs": [
    {
     "name": "stderr",
     "output_type": "stream",
     "text": [
      "/opt/anaconda3/lib/python3.7/site-packages/pandas/core/frame.py:3997: SettingWithCopyWarning: \n",
      "A value is trying to be set on a copy of a slice from a DataFrame\n",
      "\n",
      "See the caveats in the documentation: https://pandas.pydata.org/pandas-docs/stable/user_guide/indexing.html#returning-a-view-versus-a-copy\n",
      "  errors=errors,\n"
     ]
    }
   ],
   "source": [
    "frame.drop(frame.columns.difference(['text_info','tweet_text']), 1, inplace=True)"
   ]
  },
  {
   "cell_type": "code",
   "execution_count": 8,
   "metadata": {},
   "outputs": [],
   "source": [
    "frame.columns=[\"Informativeness\",\"text\"]"
   ]
  },
  {
   "cell_type": "code",
   "execution_count": 10,
   "metadata": {},
   "outputs": [
    {
     "data": {
      "text/plain": [
       "informative        11503\n",
       "not_informative     4555\n",
       "Name: Informativeness, dtype: int64"
      ]
     },
     "execution_count": 10,
     "metadata": {},
     "output_type": "execute_result"
    }
   ],
   "source": [
    "frame.Informativeness.value_counts()"
   ]
  },
  {
   "cell_type": "code",
   "execution_count": 11,
   "metadata": {},
   "outputs": [],
   "source": [
    "### Keep only english tweets\n",
    "\n",
    "def is_english(text):\n",
    "\n",
    "    try:\n",
    "          language = detect(text)\n",
    "    except:\n",
    "          #These will be removed\n",
    "          print(\"This row throws and error:\", text)\n",
    "          return False;\n",
    "    if(language=='en'):\n",
    "      return True;\n",
    "    else:\n",
    "      return False;\n",
    "\n",
    "frame_en=frame[frame.apply(lambda x: is_english(x['text']), axis=1)]"
   ]
  },
  {
   "cell_type": "code",
   "execution_count": 12,
   "metadata": {},
   "outputs": [
    {
     "data": {
      "text/plain": [
       "15738"
      ]
     },
     "execution_count": 12,
     "metadata": {},
     "output_type": "execute_result"
    }
   ],
   "source": [
    "len(frame_en)"
   ]
  },
  {
   "cell_type": "code",
   "execution_count": 14,
   "metadata": {},
   "outputs": [
    {
     "data": {
      "text/plain": [
       "informative        11357\n",
       "not_informative     4381\n",
       "Name: Informativeness, dtype: int64"
      ]
     },
     "execution_count": 14,
     "metadata": {},
     "output_type": "execute_result"
    }
   ],
   "source": [
    "frame_en.Informativeness.value_counts()"
   ]
  },
  {
   "cell_type": "code",
   "execution_count": 15,
   "metadata": {},
   "outputs": [
    {
     "data": {
      "text/html": [
       "<div>\n",
       "<style scoped>\n",
       "    .dataframe tbody tr th:only-of-type {\n",
       "        vertical-align: middle;\n",
       "    }\n",
       "\n",
       "    .dataframe tbody tr th {\n",
       "        vertical-align: top;\n",
       "    }\n",
       "\n",
       "    .dataframe thead th {\n",
       "        text-align: right;\n",
       "    }\n",
       "</style>\n",
       "<table border=\"1\" class=\"dataframe\">\n",
       "  <thead>\n",
       "    <tr style=\"text-align: right;\">\n",
       "      <th></th>\n",
       "      <th>Informativeness</th>\n",
       "      <th>text</th>\n",
       "    </tr>\n",
       "  </thead>\n",
       "  <tbody>\n",
       "    <tr>\n",
       "      <th>0</th>\n",
       "      <td>informative</td>\n",
       "      <td>RT @Gizmodo: Wildfires raging through Northern...</td>\n",
       "    </tr>\n",
       "    <tr>\n",
       "      <th>1</th>\n",
       "      <td>informative</td>\n",
       "      <td>PHOTOS: Deadly wildfires rage in California ht...</td>\n",
       "    </tr>\n",
       "    <tr>\n",
       "      <th>2</th>\n",
       "      <td>informative</td>\n",
       "      <td>RT @Cal_OES: PLS SHARE: Weâ€™re capturing wild...</td>\n",
       "    </tr>\n",
       "    <tr>\n",
       "      <th>4</th>\n",
       "      <td>informative</td>\n",
       "      <td>RT @TIME: California's raging wildfires as you...</td>\n",
       "    </tr>\n",
       "    <tr>\n",
       "      <th>5</th>\n",
       "      <td>informative</td>\n",
       "      <td>Wildfires Threaten Californiaâ€™s First Legal ...</td>\n",
       "    </tr>\n",
       "  </tbody>\n",
       "</table>\n",
       "</div>"
      ],
      "text/plain": [
       "  Informativeness                                               text\n",
       "0     informative  RT @Gizmodo: Wildfires raging through Northern...\n",
       "1     informative  PHOTOS: Deadly wildfires rage in California ht...\n",
       "2     informative  RT @Cal_OES: PLS SHARE: Weâ€™re capturing wild...\n",
       "4     informative  RT @TIME: California's raging wildfires as you...\n",
       "5     informative  Wildfires Threaten Californiaâ€™s First Legal ..."
      ]
     },
     "execution_count": 15,
     "metadata": {},
     "output_type": "execute_result"
    }
   ],
   "source": [
    "frame_en.head()"
   ]
  },
  {
   "cell_type": "code",
   "execution_count": 16,
   "metadata": {},
   "outputs": [
    {
     "name": "stderr",
     "output_type": "stream",
     "text": [
      "/opt/anaconda3/lib/python3.7/site-packages/ipykernel_launcher.py:1: SettingWithCopyWarning: \n",
      "A value is trying to be set on a copy of a slice from a DataFrame.\n",
      "Try using .loc[row_indexer,col_indexer] = value instead\n",
      "\n",
      "See the caveats in the documentation: https://pandas.pydata.org/pandas-docs/stable/user_guide/indexing.html#returning-a-view-versus-a-copy\n",
      "  \"\"\"Entry point for launching an IPython kernel.\n"
     ]
    }
   ],
   "source": [
    "frame_en['Informativeness']=frame_en['Informativeness'].map(lambda x: 1 if(x=='informative') else 0)"
   ]
  },
  {
   "cell_type": "code",
   "execution_count": 17,
   "metadata": {},
   "outputs": [
    {
     "data": {
      "text/plain": [
       "1    11357\n",
       "0     4381\n",
       "Name: Informativeness, dtype: int64"
      ]
     },
     "execution_count": 17,
     "metadata": {},
     "output_type": "execute_result"
    }
   ],
   "source": [
    "frame_en[\"Informativeness\"].value_counts()"
   ]
  },
  {
   "cell_type": "code",
   "execution_count": 18,
   "metadata": {},
   "outputs": [],
   "source": [
    "frame_en.to_pickle(\"./../dataset2Cleaned.pkl\")"
   ]
  }
 ],
 "metadata": {
  "kernelspec": {
   "display_name": "Python 3",
   "language": "python",
   "name": "python3"
  },
  "language_info": {
   "codemirror_mode": {
    "name": "ipython",
    "version": 3
   },
   "file_extension": ".py",
   "mimetype": "text/x-python",
   "name": "python",
   "nbconvert_exporter": "python",
   "pygments_lexer": "ipython3",
   "version": "3.7.6"
  }
 },
 "nbformat": 4,
 "nbformat_minor": 4
}
