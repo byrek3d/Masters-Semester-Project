{
 "cells": [
  {
   "cell_type": "code",
   "execution_count": 4,
   "metadata": {},
   "outputs": [],
   "source": [
    "import pandas as pd\n",
    "from langdetect import detect\n",
    "import tweepy"
   ]
  },
  {
   "cell_type": "code",
   "execution_count": 30,
   "metadata": {},
   "outputs": [],
   "source": [
    "main_df=pd.read_table(\"./dataset3.tsv\")"
   ]
  },
  {
   "cell_type": "code",
   "execution_count": 31,
   "metadata": {},
   "outputs": [
    {
     "data": {
      "text/html": [
       "<div>\n",
       "<style scoped>\n",
       "    .dataframe tbody tr th:only-of-type {\n",
       "        vertical-align: middle;\n",
       "    }\n",
       "\n",
       "    .dataframe tbody tr th {\n",
       "        vertical-align: top;\n",
       "    }\n",
       "\n",
       "    .dataframe thead th {\n",
       "        text-align: right;\n",
       "    }\n",
       "</style>\n",
       "<table border=\"1\" class=\"dataframe\">\n",
       "  <thead>\n",
       "    <tr style=\"text-align: right;\">\n",
       "      <th></th>\n",
       "      <th>id</th>\n",
       "      <th>label</th>\n",
       "    </tr>\n",
       "  </thead>\n",
       "  <tbody>\n",
       "    <tr>\n",
       "      <th>0</th>\n",
       "      <td>1006567084833329152</td>\n",
       "      <td>0</td>\n",
       "    </tr>\n",
       "    <tr>\n",
       "      <th>1</th>\n",
       "      <td>948268958054080512</td>\n",
       "      <td>1</td>\n",
       "    </tr>\n",
       "    <tr>\n",
       "      <th>2</th>\n",
       "      <td>1386191114</td>\n",
       "      <td>0</td>\n",
       "    </tr>\n",
       "    <tr>\n",
       "      <th>3</th>\n",
       "      <td>942069796765683713</td>\n",
       "      <td>0</td>\n",
       "    </tr>\n",
       "    <tr>\n",
       "      <th>4</th>\n",
       "      <td>942151866380582912</td>\n",
       "      <td>0</td>\n",
       "    </tr>\n",
       "  </tbody>\n",
       "</table>\n",
       "</div>"
      ],
      "text/plain": [
       "                    id  label\n",
       "0  1006567084833329152      0\n",
       "1   948268958054080512      1\n",
       "2           1386191114      0\n",
       "3   942069796765683713      0\n",
       "4   942151866380582912      0"
      ]
     },
     "execution_count": 31,
     "metadata": {},
     "output_type": "execute_result"
    }
   ],
   "source": [
    "main_df.head()"
   ]
  },
  {
   "cell_type": "code",
   "execution_count": 32,
   "metadata": {},
   "outputs": [
    {
     "name": "stdout",
     "output_type": "stream",
     "text": [
      "Authentication OK\n"
     ]
    }
   ],
   "source": [
    "# Authenticate to Twitter\n",
    "auth = tweepy.OAuthHandler(\"ZbcylrnqHEgkBqwKaiTYgYNL0\",\n",
    "    \"EpBfljAfXaG4V9isnXLRQWk1fAL8pZ5iZnyKX4yfUxHmeFuErQ\")\n",
    "auth.set_access_token(\"1276163142087827460-mYhybK15AhqqKOzTUM4xBGMT8mNOqN\",\n",
    "    \"vku1KbNkhQmSVUQPrVj6ReMhnLTsJlsNuJRwyg6DgZAFH\")\n",
    "\n",
    "api = tweepy.API(auth,wait_on_rate_limit=True,\n",
    "    wait_on_rate_limit_notify=True)\n",
    "\n",
    "try:\n",
    "    api.verify_credentials()\n",
    "    print(\"Authentication OK\")\n",
    "except:\n",
    "    print(\"Error during authentication\")"
   ]
  },
  {
   "cell_type": "code",
   "execution_count": 33,
   "metadata": {},
   "outputs": [],
   "source": [
    "def get_tweet_text(tweet_id):\n",
    "    try:\n",
    "        tweet = api.get_status(id=tweet_id)\n",
    "    except Exception as e:\n",
    "        print(e)\n",
    "        print(\"Error with tweet:{} \".format(tweet_id))\n",
    "        return \"\"\n",
    "    return tweet"
   ]
  },
  {
   "cell_type": "code",
   "execution_count": 34,
   "metadata": {},
   "outputs": [],
   "source": [
    "main_df['APIdata'] = main_df[:20].apply (lambda row: get_tweet_text(row.id), axis=1)\n",
    "main_dfBackup=main_df"
   ]
  },
  {
   "cell_type": "code",
   "execution_count": 39,
   "metadata": {},
   "outputs": [
    {
     "data": {
      "text/plain": [
       "'Off we go #NintendoE3 https://t.co/WtBVsQlDcK'"
      ]
     },
     "execution_count": 39,
     "metadata": {},
     "output_type": "execute_result"
    }
   ],
   "source": [
    "main_dfBackup"
   ]
  },
  {
   "cell_type": "code",
   "execution_count": 18,
   "metadata": {},
   "outputs": [],
   "source": [
    "main_df= main_df[main_df[\"text\"]!=\"\"]"
   ]
  },
  {
   "cell_type": "code",
   "execution_count": 25,
   "metadata": {},
   "outputs": [
    {
     "data": {
      "text/plain": [
       "0         Off we go #NintendoE3 https://t.co/WtBVsQlDcK\n",
       "1     Maryland high school student Liza Goldberg has...\n",
       "2     Doing some research into 'the internet of thin...\n",
       "3     Thank you everyone for the amazing #AGU17! Poe...\n",
       "4     #agu17 - where you think the meeting is over a...\n",
       "5                   It's happening! #NintendoE3 #E32018\n",
       "6     Visitors ‘screened for Ebola’ - News - http://...\n",
       "7     MT @NHC_Atlantic A Hurricane Hunter plane find...\n",
       "8            All the same love kills faster than ebola.\n",
       "9     It looks like #Harvey is making a comeback. ht...\n",
       "10    UPI World News: Hurricane Irma expected to bul...\n",
       "11    This powerful short film highlights the stigma...\n",
       "12    No immediate threat from Hurricane Irma\\n\\nhtt...\n",
       "13    Hurricane Irma path LIVE UPDATES as CATEGORY 3...\n",
       "14            Mechs? I'm in.\\n\\n#NintendoE3 #E3 #E32018\n",
       "15    #PrayForStockholm pray for Syria too. Hundreds...\n",
       "16    Thanks @theAGU for a great conference. It was ...\n",
       "17    @weatherbell Is distribution of your Online ch...\n",
       "18    #Harvey degenerates to a tropical wave - GFS a...\n",
       "19    BBC News - @Italy drive-by attack targets immi...\n",
       "20    We had a nice time at #AGU17 last week. Thanks...\n",
       "21    Hurricane Irma heading across Atlantic Ocean t...\n",
       "22    More brilliant inspiration to help us envision...\n",
       "23    Oh great, now I can't feel safe in my own coun...\n",
       "24    Looks like I missed the latest Harry Potter in...\n",
       "25    Harris: Rolling out 'the Internet of things' (...\n",
       "26    Latest 0Z Calibrated GFS Ensembles bullish on ...\n",
       "27    I wish @narendramodi had followed back and rep...\n",
       "28    Morning Report- Houston begins recovery, Hurri...\n",
       "29    Police arrested a man suspected of opening fir...\n",
       "Name: text, dtype: object"
      ]
     },
     "execution_count": 25,
     "metadata": {},
     "output_type": "execute_result"
    }
   ],
   "source": [
    "main_df.text[:30]"
   ]
  },
  {
   "cell_type": "code",
   "execution_count": 27,
   "metadata": {},
   "outputs": [],
   "source": [
    "main_df=main_df.text.apply(lambda x: x.split(\"\\n\"))"
   ]
  },
  {
   "cell_type": "code",
   "execution_count": 28,
   "metadata": {},
   "outputs": [
    {
     "ename": "AttributeError",
     "evalue": "'Series' object has no attribute 'text'",
     "output_type": "error",
     "traceback": [
      "\u001b[0;31m---------------------------------------------------------------------------\u001b[0m",
      "\u001b[0;31mAttributeError\u001b[0m                            Traceback (most recent call last)",
      "\u001b[0;32m<ipython-input-28-f4db563b3929>\u001b[0m in \u001b[0;36m<module>\u001b[0;34m\u001b[0m\n\u001b[0;32m----> 1\u001b[0;31m \u001b[0mmain_df\u001b[0m\u001b[0;34m.\u001b[0m\u001b[0mtext\u001b[0m\u001b[0;34m[\u001b[0m\u001b[0;34m:\u001b[0m\u001b[0;36m30\u001b[0m\u001b[0;34m]\u001b[0m\u001b[0;34m\u001b[0m\u001b[0;34m\u001b[0m\u001b[0m\n\u001b[0m",
      "\u001b[0;32m/opt/anaconda3/lib/python3.7/site-packages/pandas/core/generic.py\u001b[0m in \u001b[0;36m__getattr__\u001b[0;34m(self, name)\u001b[0m\n\u001b[1;32m   5272\u001b[0m             \u001b[0;32mif\u001b[0m \u001b[0mself\u001b[0m\u001b[0;34m.\u001b[0m\u001b[0m_info_axis\u001b[0m\u001b[0;34m.\u001b[0m\u001b[0m_can_hold_identifiers_and_holds_name\u001b[0m\u001b[0;34m(\u001b[0m\u001b[0mname\u001b[0m\u001b[0;34m)\u001b[0m\u001b[0;34m:\u001b[0m\u001b[0;34m\u001b[0m\u001b[0;34m\u001b[0m\u001b[0m\n\u001b[1;32m   5273\u001b[0m                 \u001b[0;32mreturn\u001b[0m \u001b[0mself\u001b[0m\u001b[0;34m[\u001b[0m\u001b[0mname\u001b[0m\u001b[0;34m]\u001b[0m\u001b[0;34m\u001b[0m\u001b[0;34m\u001b[0m\u001b[0m\n\u001b[0;32m-> 5274\u001b[0;31m             \u001b[0;32mreturn\u001b[0m \u001b[0mobject\u001b[0m\u001b[0;34m.\u001b[0m\u001b[0m__getattribute__\u001b[0m\u001b[0;34m(\u001b[0m\u001b[0mself\u001b[0m\u001b[0;34m,\u001b[0m \u001b[0mname\u001b[0m\u001b[0;34m)\u001b[0m\u001b[0;34m\u001b[0m\u001b[0;34m\u001b[0m\u001b[0m\n\u001b[0m\u001b[1;32m   5275\u001b[0m \u001b[0;34m\u001b[0m\u001b[0m\n\u001b[1;32m   5276\u001b[0m     \u001b[0;32mdef\u001b[0m \u001b[0m__setattr__\u001b[0m\u001b[0;34m(\u001b[0m\u001b[0mself\u001b[0m\u001b[0;34m,\u001b[0m \u001b[0mname\u001b[0m\u001b[0;34m:\u001b[0m \u001b[0mstr\u001b[0m\u001b[0;34m,\u001b[0m \u001b[0mvalue\u001b[0m\u001b[0;34m)\u001b[0m \u001b[0;34m->\u001b[0m \u001b[0;32mNone\u001b[0m\u001b[0;34m:\u001b[0m\u001b[0;34m\u001b[0m\u001b[0;34m\u001b[0m\u001b[0m\n",
      "\u001b[0;31mAttributeError\u001b[0m: 'Series' object has no attribute 'text'"
     ]
    }
   ],
   "source": [
    "main_df.text[:30]"
   ]
  },
  {
   "cell_type": "code",
   "execution_count": 29,
   "metadata": {},
   "outputs": [
    {
     "data": {
      "text/plain": [
       "0         [Off we go #NintendoE3 https://t.co/WtBVsQlDcK]\n",
       "1       [Maryland high school student Liza Goldberg ha...\n",
       "2       [Doing some research into 'the internet of thi...\n",
       "3       [Thank you everyone for the amazing #AGU17! Po...\n",
       "4       [#agu17 - where you think the meeting is over ...\n",
       "                              ...                        \n",
       "2986    [@alexislloyd The Internet of Things in 2020 -...\n",
       "2987    [#GoodParticipatoryPractice has become a centr...\n",
       "2989        [MECHAS AND METAL!!! #E3 #E32018 #NintendoE3]\n",
       "2990    [Over 100,000 steps for science, diversity (pa...\n",
       "2991    [Irma’s power levels off, but not expected to ...\n",
       "Name: text, Length: 2731, dtype: object"
      ]
     },
     "execution_count": 29,
     "metadata": {},
     "output_type": "execute_result"
    }
   ],
   "source": [
    "main_df"
   ]
  },
  {
   "cell_type": "code",
   "execution_count": null,
   "metadata": {},
   "outputs": [],
   "source": []
  }
 ],
 "metadata": {
  "kernelspec": {
   "display_name": "Python 3",
   "language": "python",
   "name": "python3"
  },
  "language_info": {
   "codemirror_mode": {
    "name": "ipython",
    "version": 3
   },
   "file_extension": ".py",
   "mimetype": "text/x-python",
   "name": "python",
   "nbconvert_exporter": "python",
   "pygments_lexer": "ipython3",
   "version": "3.7.6"
  }
 },
 "nbformat": 4,
 "nbformat_minor": 4
}
